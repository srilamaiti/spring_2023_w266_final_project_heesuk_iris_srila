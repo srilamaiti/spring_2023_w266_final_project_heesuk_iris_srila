{
  "nbformat": 4,
  "nbformat_minor": 0,
  "metadata": {
    "colab": {
      "provenance": [],
      "collapsed_sections": [
        "7KEXkejkI7tk",
        "sjrm1a84QMVM",
        "3fpxoKBywieJ",
        "_KeKQmlyxvNm",
        "0RxLdSc1yYOj",
        "MXmeI1vhz7KC",
        "rv7WCZF31zg6",
        "fS2RzaGi2zS-",
        "ni3sz9wxa1nR",
        "NUMZkNvJcufY",
        "kndLU2phLRns",
        "LbgDBdUTFIa7",
        "hhWJgI2QONaS",
        "A1TQQfdIPNn0",
        "FQzHk9gJTpGF",
        "QTjC60_xP1gv",
        "KXwT00dRHxGN",
        "R-EOY4qnIcUW",
        "FPKsmw8oIlLy",
        "Lm57jeEsN-Vf",
        "v1l2yTGnKzsy",
        "wAW3Z-BxX9qi",
        "kdda-LBvO-Qd",
        "_AGO4SrlYcZQ",
        "Blag-pumPIgu",
        "gEfySDbNOTJN",
        "4e-8H751RROi",
        "rcB_ojpNXh4r",
        "x08cEWvzKdEF",
        "C-wgt-ouU3it",
        "bILNga0wabjS"
      ],
      "private_outputs": true,
      "include_colab_link": true
    },
    "kernelspec": {
      "name": "python3",
      "display_name": "Python 3"
    },
    "language_info": {
      "name": "python"
    },
    "gpuClass": "standard",
    "accelerator": "GPU"
  },
  "cells": [
    {
      "cell_type": "markdown",
      "metadata": {
        "id": "view-in-github",
        "colab_type": "text"
      },
      "source": [
        "<a href=\"https://colab.research.google.com/github/srilamaiti/spring_2023_w266_final_project_heesuk_iris_srila/blob/main/heesuk/W266_Regression_with_BERT.ipynb\" target=\"_parent\"><img src=\"https://colab.research.google.com/assets/colab-badge.svg\" alt=\"Open In Colab\"/></a>"
      ]
    },
    {
      "cell_type": "markdown",
      "source": [
        "# **Update the version of tensorflow to 2.11.0**"
      ],
      "metadata": {
        "id": "SITfG-PPCctj"
      }
    },
    {
      "cell_type": "code",
      "source": [
        "!pip uninstall tensorflow              # uninstall the current version of tf that Colab automatically installs\n",
        "!pip install tensorflow==2.11.0        # install 2.11.0 version, which the model worked at that point with a GPU\n",
        "# Next step: go to \"Runtime\" and \"Restart runtime\"\n",
        "# then confirm if the version is properly updated to 2.11.0 by running the followin print statement - \"import tensorflow as tf | print(tf.__version__)\""
      ],
      "metadata": {
        "id": "_YybQCRZo7Sx"
      },
      "execution_count": null,
      "outputs": []
    },
    {
      "cell_type": "markdown",
      "source": [
        "# Check the version of tensorflow"
      ],
      "metadata": {
        "id": "Q-uHgs_j5r3T"
      }
    },
    {
      "cell_type": "code",
      "source": [
        "import tensorflow as tf\n",
        "import keras\n",
        "print(tf.__version__)\n",
        "print(keras.__version__)"
      ],
      "metadata": {
        "id": "D_MzdaKXpl0G"
      },
      "execution_count": null,
      "outputs": []
    },
    {
      "cell_type": "markdown",
      "source": [
        "# Install New Libraries"
      ],
      "metadata": {
        "id": "6e9-ObmNw2XJ"
      }
    },
    {
      "cell_type": "code",
      "execution_count": null,
      "metadata": {
        "id": "6qOq60doCAwZ"
      },
      "outputs": [],
      "source": [
        "!pip install nltk\n",
        "!pip install wordcloud\n",
        "!pip install transformers"
      ]
    },
    {
      "cell_type": "markdown",
      "source": [
        "# **Importing Libraries**"
      ],
      "metadata": {
        "id": "KvNGnUjZCg62"
      }
    },
    {
      "cell_type": "code",
      "source": [
        "import random\n",
        "\n",
        "#NLP related libraries\n",
        "import transformers\n",
        "print(f'transformers version: {transformers.__version__}')\n",
        "from transformers import logging as hf_logging\n",
        "from transformers import BertTokenizer, TFBertModel\n",
        "hf_logging.set_verbosity_error()\n",
        "import nltk\n",
        "from nltk.tokenize import sent_tokenize\n",
        "import spacy      \n",
        "from spacy import displacy\n",
        "from wordcloud import WordCloud\n",
        "from wordcloud import STOPWORDS\n",
        "from wordcloud import ImageColorGenerator\n",
        "from sklearn.model_selection import train_test_split\n",
        "nltk.download('punkt')\n",
        "\n",
        "# Other required libraries\n",
        "import os\n",
        "import pandas as pd\n",
        "pd.set_option('display.width', 180)    # increase pandas display output in Colab\n",
        "import numpy as np\n",
        "import re\n",
        "import copy\n",
        "import sys\n",
        "import datetime\n",
        "import time\n",
        "from keras.utils.layer_utils import count_params\n",
        "import locale\n",
        "locale.getpreferredencoding = lambda: \"UTF-8\"\n",
        "import warnings\n",
        "warnings.filterwarnings(\"ignore\")\n",
        "# import logging\n",
        "# logging.getLogger().setLevel(logging.NOTSET)\n",
        "\n",
        "# Data visualization libraries\n",
        "import seaborn as sns\n",
        "import matplotlib.pyplot as plt\n",
        "\n",
        "# Tensorflow libraries\n",
        "import tensorflow as tf\n",
        "# tf.keras.backend.set_floatx('float16')\n",
        "from tensorflow import keras\n",
        "from tensorflow.keras import layers\n",
        "from keras.utils.layer_utils import count_params\n",
        "from tensorflow.keras.layers import Input\n",
        "from tensorflow.keras.layers import Dense\n",
        "from tensorflow.keras.layers import Flatten\n",
        "from tensorflow.keras.layers import Dropout\n",
        "from tensorflow.keras.models import Sequential\n",
        "from tensorflow.keras.layers import BatchNormalization\n",
        "from keras.callbacks import ModelCheckpoint\n",
        "from keras.callbacks import EarlyStopping\n",
        "from keras.callbacks import ReduceLROnPlateau\n",
        "from keras.callbacks import LearningRateScheduler\n",
        "from tensorflow.keras.losses import mae\n",
        "from tensorflow.keras.losses import sparse_categorical_crossentropy\n",
        "from tensorflow.keras.losses import binary_crossentropy\n",
        "from keras.models import Model\n",
        "from tensorflow.keras import regularizers\n",
        "from tensorflow.keras.regularizers import l1\n",
        "from tensorflow.keras.regularizers import l2\n",
        "from tensorflow.keras.optimizers import Adam, SGD\n",
        "from keras.models import load_model\n",
        "\n",
        "from google.colab import drive\n",
        "drive.mount('/content/gdrive')"
      ],
      "metadata": {
        "id": "rTT4UBIqCRxT"
      },
      "execution_count": null,
      "outputs": []
    },
    {
      "cell_type": "markdown",
      "source": [
        "# **General Functions**"
      ],
      "metadata": {
        "id": "CM7dVhGpQF-Z"
      }
    },
    {
      "cell_type": "markdown",
      "source": [
        "## **Set Config Parameters**"
      ],
      "metadata": {
        "id": "7KEXkejkI7tk"
      }
    },
    {
      "cell_type": "code",
      "source": [
        "def set_config_param(seed = 99):\n",
        "    np.random.seed(seed)\n",
        "    tf.random.set_seed(seed)\n",
        "    tf.keras.backend.clear_session()\n",
        "    os.environ['PYTHONHASHSEED'] = str(seed)\n",
        "    os.environ['KAGGLE_CONFIG_DIR'] = \"/content/gdrive/MyDrive/Kaggle\"\n",
        "    pd.set_option('display.max_columns', None)\n",
        "    pd.set_option('display.max_columns', None)\n",
        "    \n",
        "    \n",
        "set_config_param(20230214)"
      ],
      "metadata": {
        "id": "52YR9iGODH8P"
      },
      "execution_count": null,
      "outputs": []
    },
    {
      "cell_type": "markdown",
      "source": [
        "## **Count Plot**"
      ],
      "metadata": {
        "id": "sjrm1a84QMVM"
      }
    },
    {
      "cell_type": "code",
      "source": [
        "# def plot_count(df, labels):\n",
        "#   sns.set_style('whitegrid')\n",
        "#   plt.figure(figsize=(18,10))\n",
        "#   for idx, label in enumerate(labels):\n",
        "#       plt.subplot(2, 3, idx+1)\n",
        "#       sns.countplot(x = label, data = df)"
      ],
      "metadata": {
        "id": "E-XKyBFhQO3t"
      },
      "execution_count": null,
      "outputs": []
    },
    {
      "cell_type": "markdown",
      "source": [
        "## **Adding Feature Columns**"
      ],
      "metadata": {
        "id": "3fpxoKBywieJ"
      }
    },
    {
      "cell_type": "code",
      "source": [
        "def add_feature(df):\n",
        "\n",
        "    # Cleaning up full_text : Removing tabl and carriage return characters\n",
        "    df['full_text'] = df[\"full_text\"].replace(re.compile(r'[\\n\\r\\t]'), ' ', regex=True)\n",
        "\n",
        "    # Adding word count, sentence count, total score and full text length\n",
        "    df['word_count'] = df['full_text'].apply(lambda x: len(x.split()))\n",
        "    df['sentence_count'] = df['full_text'].apply(lambda x: len(sent_tokenize(x)))\n",
        "    df['total_score'] = df['cohesion'] + df_train['syntax'] + df['vocabulary'] + df['phraseology'] + df['grammar'] + df['conventions']\n",
        "    df['full_text_len'] = df['full_text'].apply(lambda x: len(x))\n",
        "\n",
        "    # Adding mean, median score per label and indicator column \n",
        "    # whether the label value is below or above mean or median value\n",
        "    for label in label_cols:\n",
        "        df[label + '_avg_score'] = np.mean(df[label])\n",
        "        df[label + '_above_or_below_avg_flag'] = np.where(df[label] > np.mean(df[label]), 1, 0)  \n",
        "        df[label + '_median_score'] = np.median(df[label])\n",
        "        df[label + '_above_or_below_median_flag'] = np.where(df[label] > np.median(df[label]), 1, 0)  \n",
        "        df[label + '_rounded_val'] = np.round(df[label])  \n",
        "    \n",
        "    return df"
      ],
      "metadata": {
        "id": "ZuDGICk6wlrZ"
      },
      "execution_count": null,
      "outputs": []
    },
    {
      "cell_type": "markdown",
      "source": [
        "## **Getting Unique Values for Each Label**"
      ],
      "metadata": {
        "id": "_KeKQmlyxvNm"
      }
    },
    {
      "cell_type": "code",
      "source": [
        "# def get_unique_values_for_labels(df, col_list):\n",
        "#     print('Unique Values in Each Metric:\\n==================================================')\n",
        "#     for col in col_list:\n",
        "#         print(f'{col}: {df[col].unique()}')"
      ],
      "metadata": {
        "id": "dmV_f0MpxzcY"
      },
      "execution_count": null,
      "outputs": []
    },
    {
      "cell_type": "markdown",
      "source": [
        "## **Getting Value Counts for Each Label**"
      ],
      "metadata": {
        "id": "0RxLdSc1yYOj"
      }
    },
    {
      "cell_type": "code",
      "source": [
        "# def get_value_counts_for_labels(df, col_list):\n",
        "#     print('Counts for Each Metric:\\n==================================================')\n",
        "#     for col in col_list:\n",
        "#         print(f\"Column: {col}\")\n",
        "#         print(f'{df[col].value_counts().sort_values()}')\n",
        "#         print(\"*****\")"
      ],
      "metadata": {
        "id": "yX2dg3dFydT1"
      },
      "execution_count": null,
      "outputs": []
    },
    {
      "cell_type": "markdown",
      "source": [
        "## **Getting Histogram for a Column**"
      ],
      "metadata": {
        "id": "MXmeI1vhz7KC"
      }
    },
    {
      "cell_type": "code",
      "source": [
        "# def get_histogram_for_col(df, col_list, col_name):\n",
        "#     sns.set_style('whitegrid')\n",
        "#     plt.figure(figsize=(18,10))\n",
        "#     for idx, label in enumerate(col_list):\n",
        "#         plt.subplot(2, 3, idx+1)\n",
        "#         sns.histplot(x=col_name, hue = label, data = df)\n",
        "#         plt.xlabel('Word Count', fontsize=10)"
      ],
      "metadata": {
        "id": "a3jN8_D-z-32"
      },
      "execution_count": null,
      "outputs": []
    },
    {
      "cell_type": "markdown",
      "source": [
        "## **Getting Count Plot for Indicator Columns**"
      ],
      "metadata": {
        "id": "rv7WCZF31zg6"
      }
    },
    {
      "cell_type": "code",
      "source": [
        "# def get_count_plot_for_ind_col(df, search_string, col_list):\n",
        "#     fig, ax = plt.subplots(1, len(col_list), figsize=(50,10))\n",
        "#     for idx, label in enumerate(col_list):\n",
        "#         sns.countplot(x = df[label + search_string], ax = ax[idx])\n",
        "#         ax[idx].set_title(label)"
      ],
      "metadata": {
        "id": "zZ6f_gYB1-BB"
      },
      "execution_count": null,
      "outputs": []
    },
    {
      "cell_type": "markdown",
      "source": [
        "## **Getting Bar Plot for Each Label**"
      ],
      "metadata": {
        "id": "fS2RzaGi2zS-"
      }
    },
    {
      "cell_type": "code",
      "source": [
        "# def get_barplot_for_each_label(df, col_list, search_string):\n",
        "#     avg_score_cols = [col + search_string for col in col_list]\n",
        "#     plt.figure(figsize=(8,5))\n",
        "#     ax = sns.barplot(x=col_list, y=np.array(df[avg_score_cols].drop_duplicates())[0], palette='rocket')\n",
        "#     plt.xlabel('Scoring Metric', fontsize=12)\n",
        "#     if search_string == '_avg_score':\n",
        "#         plt.ylabel('Average Score', fontsize=12)\n",
        "#         plt.title('Average Score in Each Metric', fontsize=16)\n",
        "#     elif search_string == '_median_score':\n",
        "#         plt.ylabel('Median Score', fontsize=12)\n",
        "#         plt.title('Median Score in Each Metric', fontsize=16)"
      ],
      "metadata": {
        "id": "uheekcFB223E"
      },
      "execution_count": null,
      "outputs": []
    },
    {
      "cell_type": "markdown",
      "source": [
        "## **Label Processing**"
      ],
      "metadata": {
        "id": "ni3sz9wxa1nR"
      }
    },
    {
      "cell_type": "code",
      "source": [
        "def get_cat_label_cols(col_list):\n",
        "    return ['cat_' + col for col in col_list]"
      ],
      "metadata": {
        "id": "Q0wGK-_1cIpG"
      },
      "execution_count": null,
      "outputs": []
    },
    {
      "cell_type": "code",
      "source": [
        "def apply_label_map(df, label_map, col_list):\n",
        "  for col in col_list:\n",
        "      df[col + '_map'] = df[col].map(label_map)\n",
        "  return df"
      ],
      "metadata": {
        "id": "rMwmH1dUfOLd"
      },
      "execution_count": null,
      "outputs": []
    },
    {
      "cell_type": "code",
      "source": [
        "def get_label_values(df, col_list):\n",
        "    return [np.array(df[col]) for col in col_list]"
      ],
      "metadata": {
        "id": "yvaG7kEHpI7M"
      },
      "execution_count": null,
      "outputs": []
    },
    {
      "cell_type": "code",
      "source": [
        "def get_label_dict(df, col_list_1, col_list_2):\n",
        "    return dict(zip(col_list_2, get_label_values(df, col_list_1)))"
      ],
      "metadata": {
        "id": "UPdesUBqpLW-"
      },
      "execution_count": null,
      "outputs": []
    },
    {
      "cell_type": "markdown",
      "source": [
        "##**[MCRMSE (Mean Column-wise Root Mean Squared Error)](https://www.kaggle.com/competitions/feedback-prize-english-language-learning/overview/evaluation)**<br>\n",
        "![Screen Shot 2023-03-27 at 9.25.56 PM.png](data:image/png;base64,iVBORw0KGgoAAAANSUhEUgAABV4AAAFGCAYAAACSd4RuAAAK2GlDQ1BJQ0MgUHJvZmlsZQAASImVlwdUk8kWx+f7vvRCCyCd0DvSCSAl9AAC0kFUQhJIKDEmBBEbKosruBZURFBZ0UUQBVelyFoQCxYWxYb9BVkE1HWxYEPlfcAj7O47773z7jk38zs3d+7cmcyc8w8AVH+2SJQFKwGQLcwRRwX50hMSk+j4QYAAbUADasCOzZGImJGRYQC16fGv9v4ugCbGWzYTtf79+/9qKlyehAMAlIxyKlfCyUa5HfUhjkicAwBSi8aNluaIJrgLZVUx2iDKsglOn+J3E5w6yRjCZE5MlB/KOgAQKGy2OB0Aijkap+dy0tE6lGCU7YRcgRDlPJS9OHw2F+VWlK2zsxdP8G8om6P5IgCoFJQZqX+qmf6X+qny+mx2upyn9jVpBH+BRJTFXvZ/Hs3/tuws6fQapqhT+OLgKHREf03oXubiUDkLU8MjplnAncyfZL40OHaaORK/pGnmsv1D5XOzwsOmOU0QyJLXyWHFTDNPEhA9zeLFUfK10sR+zGlmi2fWlWbGyuN8HkteP58fEz/NuYK48GmWZEaHzuT4yeNiaZS8f54wyHdm3UD53rMlf9qvgCWfm8OPCZbvnT3TP0/InKkpSZD3xuX5B8zkxMrzRTm+8rVEWZHyfF5WkDwuyY2Wz81BL+fM3Ej5GWawQyKnGYSBQOAIHEAMiAUM4JrDy8uZ2ITfYtEysSCdn0Nnoi+NR2cJObbWdAc7B0cAJt7t1FV4e2/yPULqhJlY1gAAbqjDHTOxReiZnjiKXpvfZ2KWNQAoZwJwfhVHKs6dimEmPrCABBSBKtAEesAImAMbtDsX4AF8QAAIARFop4lgIeAAPsgGYrAUrABrQBEoAVvADlABqsB+UAuOgGOgBZwC58AlcA3cAHfAQyADA+AFGAHvwRgEQXiICtEgTUgfMoGsIAeIAXlBAVAYFAUlQilQOiSEpNAKaB1UApVCFdA+qA76GToJnYOuQD3QfagPGobeQJ9hBKbAqrAubArPhhkwEw6FY+AFcDq8BM6HC+FNcDlcDR+Gm+Fz8DX4DiyDX8CjCEDIiDpigNggDMQPiUCSkDREjKxCipEypBppQNqQTuQWIkNeIp8wOAwNQ8fYYDwwwZhYDAezBLMKsxFTganFNGMuYG5h+jAjmG9YKlYHa4V1x7KwCdh07FJsEbYMW4Ntwl7E3sEOYN/jcDh1nBnOFReMS8Rl4JbjNuL24Bpx7bgeXD9uFI/Ha+Kt8J74CDwbn4Mvwu/CH8afxd/ED+A/EsgEfYIDIZCQRBAS1hLKCIcIZwg3CYOEMaIS0YToTowgconLiJuJB4htxOvEAeIYSZlkRvIkxZAySGtI5aQG0kXSI9JbMplsSHYjzyMLyAXkcvJR8mVyH/kTRYViSfGjJFOklE2Ug5R2yn3KWyqVakr1oSZRc6ibqHXU89Qn1I8KNAVbBZYCV2G1QqVCs8JNhVeKREUTRabiQsV8xTLF44rXFV8qEZVMlfyU2EqrlCqVTir1Ko0q05TtlSOUs5U3Kh9SvqI8pIJXMVUJUOGqFKrsVzmv0k9DaEY0PxqHto52gHaRNqCKUzVTZalmqJaoHlHtVh1RU1FzUotTy1OrVDutJlNH1E3VWepZ6pvVj6nfVf88S3cWcxZv1oZZDbNuzvqgoa3ho8HTKNZo1Lij8VmTrhmgmam5VbNF87EWRstSa57WUq29Whe1Xmqrantoc7SLtY9pP9CBdSx1onSW6+zX6dIZ1dXTDdIV6e7SPa/7Uk9dz0cvQ2+73hm9YX2avpe+QH+7/ln953Q1OpOeRS+nX6CPGOgYBBtIDfYZdBuMGZoZxhquNWw0fGxEMmIYpRltN+owGjHWN55rvMK43viBCdGEYcI32WnSafLB1Mw03nS9aYvpkJmGGcss36ze7JE51dzbfIl5tfltC5wFwyLTYo/FDUvY0tmSb1lped0KtnKxEljtseqxxlq7WQutq617bSg2TJtcm3qbPlt12zDbtbYttq9mG89Omr11dufsb3bOdll2B+we2qvYh9ivtW+zf+Ng6cBxqHS47Uh1DHRc7djq+NrJyonntNfpnjPNea7zeucO568uri5ilwaXYVdj1xTX3a69DFVGJGMj47Ib1s3XbbXbKbdP7i7uOe7H3P/wsPHI9DjkMTTHbA5vzoE5/Z6GnmzPfZ4yL7pXitePXjJvA2+2d7X3Ux8jH65Pjc8g04KZwTzMfOVr5yv2bfL94Ofut9Kv3R/xD/Iv9u8OUAmIDagIeBJoGJgeWB84EuQctDyoPRgbHBq8NbiXpcvisOpYIyGuIStDLoRSQqNDK0KfhlmGicPa5sJzQ+Zum/so3CRcGN4SASJYEdsiHkeaRS6J/GUebl7kvMp5z6Lso1ZEdUbTohdFH4p+H+MbsznmYax5rDS2I04xLjmuLu5DvH98abwsYXbCyoRriVqJgsTWJHxSXFJN0uj8gPk75g8kOycXJd9dYLYgb8GVhVoLsxaeXqS4iL3oeAo2JT7lUMoXdgS7mj2aykrdnTrC8ePs5Lzg+nC3c4d5nrxS3mCaZ1pp2lC6Z/q29GG+N7+M/1LgJ6gQvM4IzqjK+JAZkXkwczwrPqsxm5Cdkn1SqCLMFF5YrLc4b3GPyEpUJJItcV+yY8mIOFRcI4EkCyStOaqoQOqSmku/k/bleuVW5n5cGrf0eJ5ynjCva5nlsg3LBvMD839ajlnOWd6xwmDFmhV9K5kr962CVqWu6lhttLpw9UBBUEHtGtKazDW/rrVbW7r23br4dW2FuoUFhf3fBX1XX6RQJC7qXe+xvup7zPeC77s3OG7YteFbMbf4aoldSVnJl42cjVd/sP+h/IfxTWmbuje7bN67BbdFuOXuVu+ttaXKpfml/dvmbmveTt9evP3djkU7rpQ5lVXtJO2U7pSVh5W37jLetWXXlwp+xZ1K38rG3Tq7N+z+sIe75+Zen70NVbpVJVWffxT8eG9f0L7matPqsv24/bn7nx2IO9D5E+OnuhqtmpKarweFB2W1UbUX6lzr6g7pHNpcD9dL64cPJx++ccT/SGuDTcO+RvXGkqPgqPTo859Tfr57LPRYx3HG8YYTJid2N9Gaipuh5mXNIy38FllrYmvPyZCTHW0ebU2/2P5y8JTBqcrTaqc3nyGdKTwzfjb/7Gi7qP3lufRz/R2LOh6eTzh/+8K8C90XQy9evhR46Xwns/PsZc/Lp664Xzl5lXG15ZrLteYu566mX51/bep26W6+7nq99YbbjbaeOT1nbnrfPHfL/9al26zb1+6E3+m5G3v3Xm9yr+we997Q/az7rx/kPhh7WPAI+6j4sdLjsic6T6r/YfGPRpmL7HSff1/X0+inD/s5/S9+k/z2ZaDwGfVZ2aD+YN2Qw9Cp4cDhG8/nPx94IXox9rLod+Xfd78yf3XiD58/ukYSRgZei1+Pv9n4VvPtwXdO7zpGI0efvM9+P/ah+KPmx9pPjE+dn+M/D44t/YL/Uv7V4mvbt9Bvj8azx8dFbDF7UgogqMNpaQC8OYjq4kQAaDcAIM2f0tWTBk39F5gk8J94SntPmgsA1QUAxKMe0Q5QmYDKbpQVUY70ASDGB8COjnL/l0nSHB2mapFbUGlSNj7+FtWNeAsAvvaOj4+1jI9/RXUM8gCA9vdTen7CwmwAEGXaMcMYxVtSC8DfbErr/2mPfx/BRAdO4O/jPwH6LBoxImQDPwAAAIplWElmTU0AKgAAAAgABAEaAAUAAAABAAAAPgEbAAUAAAABAAAARgEoAAMAAAABAAIAAIdpAAQAAAABAAAATgAAAAAAAACQAAAAAQAAAJAAAAABAAOShgAHAAAAEgAAAHigAgAEAAAAAQAABV6gAwAEAAAAAQAAAUYAAAAAQVNDSUkAAABTY3JlZW5zaG90tJvSjQAAAAlwSFlzAAAWJQAAFiUBSVIk8AAAAddpVFh0WE1MOmNvbS5hZG9iZS54bXAAAAAAADx4OnhtcG1ldGEgeG1sbnM6eD0iYWRvYmU6bnM6bWV0YS8iIHg6eG1wdGs9IlhNUCBDb3JlIDYuMC4wIj4KICAgPHJkZjpSREYgeG1sbnM6cmRmPSJodHRwOi8vd3d3LnczLm9yZy8xOTk5LzAyLzIyLXJkZi1zeW50YXgtbnMjIj4KICAgICAgPHJkZjpEZXNjcmlwdGlvbiByZGY6YWJvdXQ9IiIKICAgICAgICAgICAgeG1sbnM6ZXhpZj0iaHR0cDovL25zLmFkb2JlLmNvbS9leGlmLzEuMC8iPgogICAgICAgICA8ZXhpZjpQaXhlbFlEaW1lbnNpb24+MzI2PC9leGlmOlBpeGVsWURpbWVuc2lvbj4KICAgICAgICAgPGV4aWY6UGl4ZWxYRGltZW5zaW9uPjEzNzQ8L2V4aWY6UGl4ZWxYRGltZW5zaW9uPgogICAgICAgICA8ZXhpZjpVc2VyQ29tbWVudD5TY3JlZW5zaG90PC9leGlmOlVzZXJDb21tZW50PgogICAgICA8L3JkZjpEZXNjcmlwdGlvbj4KICAgPC9yZGY6UkRGPgo8L3g6eG1wbWV0YT4K8jjEYwAAABxpRE9UAAAAAgAAAAAAAACjAAAAKAAAAKMAAACjAACNExyF6TQAAEAASURBVHgB7J0FuBbF28YfEQMVA2xEVOzu7gREurukUwREQTqku7tTUmzsDuz8qyAqCoognwl6vrkHnmXePbtvn+Lcc13nvBuTv9mdnb135pn9MowTOhIgARIgARIgARIgARIgARIgARIgARIgARIgARIggbQR2I/Ca9pYMiISIAESIAESIAESIAESIAESIAESIAESIAESIAESsAQovPJCIAESIAESIAESIAESIAESIAESIAESIAESIAESIIE0E6DwmmagjI4ESIAESIAESIAESIAESIAESIAESIAESIAESIAEKLzyGiABEiABEiABEiABEiABEiABEiABEiABEiABEiCBNBOg8JpmoIyOBEiABEiABEiABEiABEiABEiABEiABEiABEiABCi88hogARIgARIgARIgARIgARIgARIgARIgARIgARIggTQToPCaZqCMjgRIgARIgARIgARIgARIgARIgARIgARIgARIgAQovPIaIAESIAESIAESIAESIAESIAESIAESIAESIAESIIE0E6DwmmagjI4ESIAESIAESIAESIAESIAESIAESIAESIAESIAEKLzyGiABEiABEiABEiABEiABEiABEiABEiABEiABEiCBNBOg8JpmoIju519+kSOOOEIOKFgwC2KPHeX//d//SUZGhhQuXDi2Z/ogARJImMDOXbtk27ZtcszRRycclgFIgARIgATiJ/Djjz/K8ccfH38A+iQBEiABEiABEiABEiCBXEQgrcLrl1/+Tz78+GP5/PMv5PMvv7SixLnnnC1nnHGGXHXF5XLAAQektegzZs2WrVt/lRtvuF4uv+zStMadbGQzZs2RqdNnyCGHHCLz58yUIkcdlWxUSYV7+513pcP9nW3YoYMHypWXX55UPAxEAjlB4K+//pJxEybZpCuUu0dOO+3UnMhG1DS3/vqrNGh0r/xqhNfGDetLg3p1o/rP6ZMff/KpPPnU0zYb5517jtx15x1xZ2nTph9l/sJF1v/RRxeVenVqRw37wYcfydrnnpeN330nm4xYcoIRS04pUULOP+9cuenGG6RAgQKB4Z9d+5y8/8GHgeeOOeZoOefss+WsM88I/Zj01NPPyEcff2LDo3woZ7wObeaLL71svV96ycVy8003Bgb9afNmWffe+/LZ55/LJ4ZpwYIHCJ5vZ5p8XXH5ZXLUkUdmCoePYFOmzZD//vsv07mgA/Xr1pGiRYsEneKxPE4A1zeu84MOOkhatWiWx0uTfdlv37GTvPPuOrnk4otk1PCh2ZcwUyIBEshVBJ5/4UV5d917cuwxx0id2jVzVd6YGRIgARIgARKIRSAtwiteKmfNmWsEx5mh6Z1z9lnSr3dPOcY8MNPl7rq7nPzxxx/SpmULqVa1crqiTSmeBk2ayldffW3j6GvKe5MRhbPTTZsxS6bPnGWTrFKporRr0yo7k2daJJASgd927JC7y1W0cQwe2F+uvurKlOLLisAvv/qadH2ou426ePGTZN6sGVmRTNriXP3YGnlkyDAbHz4IrVq2RA488MC44p84eYrMmbfA+i1Z8jSZMWW3KO4PjBFpD/fqI59+9rn/lLeP8O1at7ICindwz0bvvv3l6WfX+g9n2r/t1lvkoa5dMs0mcMNfd+01MrBfn0xhww40bdHKy3eNalUDRTG3zoPigeiK9v7CC86POL3h241Sp37DiGPRdubMnC4lTi4ezQvP5VECS5ctlxGjxtiPsk8+tjKPliJ7s719+3YpW2Fv327F0kVSpAg/TCRaCx9+9LHsMM/Wk03bclKxYokGp38SyBUExo6fKAsWLZYzzWCeqZPG54o8MRMkQAIkQAIkEC+BlIXX/8yU9oe695CXX3nVpnniiSfYUZYnnVTMCpAvmJFEEEfh8NI/bfIEKXbiiXY/1X+5UXjFyKkRo8eajsHp0vPhbnKwGd2SnW7Dhm+ld78BNkkIFKedekp2Js+0SCAlAnlBeP3777+lZ59+8vkXX0rbVi1CR0imBCKNgV3hFdH26Pag3H7brTFTQDnLVarqtd9hwitmOrRuf5/nD+38DddfZ0elbN26Vda9/7788MMmL70xI4fLRRde4O1jQ4VThL315pu8czDp8PkXX8j69Ru8Y9dfd6307tE9YgaFhldPixfMleOPO053Q38Rd5NmLb3zQcLrwsVLZMy4CdYP8of0S5qR2L/8slVee+MN2bjxOy/8gL697Xk94AqvGBV73LHH6qnA3yaNGnLEayCZvH+QwmtydYiPyctXrJSyd5eRpk0aJRdJPg/Vul0HO6OgQvl7pGP7dvmcBoufVwlQeM2rNcd8kwAJkAAJgEDKwisE167dHrY0McXz/g7t5OCDD/boQphda6bX9TIjmuDSOTU3NwqvXsG5QQIkkDCBvCC8JlyoHA7gF14vOP98GTd6RMxcPWNGoGq7Dc9BwutfRpxtdG8zT3ysXLGCNG/aJOIZ8O+//wri6jvgEZsmxMtZ06dEiJAqnAalgUAwQdGn/0DPJECHdm2kUoXyNj780/B6oGH9etKoQT3dDf0dPHS4rFz9mHfeL7zCXnfFKtXteYyy6durh5xwQqStyf999ZW0atvBCs8QlCEsq3OFV4zCxWhcuvxJgMJr/qz33FBqCq+5oRaYh1QJUHhNlSDDkwAJkAAJ5CSBlIXXkWZ055JHl9kyPLVmlRQqVCiwPAMeGSxrnnhSMCJ24dzZnh+8lOOvgLH9VzBkMap//vnH+sd5+FMXJLziBR2jq44qcpQcaRa42m+//dR7xC8Wn9q5c6c9r7ZnkY/vvvveLOJwnLXDFhHA7GD01XfGduHRRYuG2hrUeBE22nTe7b/9Jr/8/IsUPbqoHHH44f6kAvchcqBshx9e2NqOdVm4AZQXyhWt/L8aW5WwU3nkEUdaXgVCWCHuoDgxDXCHsWGIEcxh6bj5wna8ZfCHC9tHnW3ZskX++PMvy+TII48I8yq7TP3BLIZ7HX33/feyfftvVlQKGp2M6XlbTD2hjtJlexF5/v6HH2w+sDiTXn+hGTcncF2hvrZt2y4nFjsxoZHUWoZDCh0sR5v0wu4zpJ+djHAt/PTTZhROMGUf13OywiuY4i+ZdsTlDs6bzfX0119/mxGbR4e2Z8pp//33F/yp0+PuNYZyYip+MTPFM94F9xAP8vHnn3/aqaGwCwmn5fSnq+kH/fqFV/iZMXWSGbV5WpB371jLNu3lw48+8vZLGlMBflMDrmkT2Nru0/PhiDbaC2w2Xn/jTen0wIP2kP8DnAqnQWloHGBSr1ETK/JiVGwvM+pVnYbXfUz9X7p4QVTeuC/K7DFroeH8witmbHR7uKc9DfuSsDMZ5B43z7b+5hkH9+ii+Z5JnZwSXoPaa7Q5WHDx8IBFF3Hdf//9D3Iw2gjzfIvHuW3ScccdK4ceemg8wawf3BObjc1cOKQHMT7IIQ3/cxr+cD8VNM+3ePMaFLd7DPcVniN//7PT3G8nRtzTrj//tg33889GdP/T2LQP7xcgXJjwqmWEn7A+A/oeGebZ5b/vtT1w2z30gX7avGV3mxrwTP/999/NM+1na39Z2xWk7bpk2zG97lA3Qf0JPe8vh6at5dzPPAu0rQwqo/p3f5PpU2m943o88YQTQvm76QRtB+URfSv01/ChJsjWv3sPHGtGwgf1P4LSwrF4wyrPFq3byRdm3YUype6SjmZwBFxYHdiTzj+9PtHH074KyptqX9lJwm5qmZAv2AbHNR2PQ/6w1sO27dtM39j004wpirCwQfWEPuFG0+8/2ty/h4a0Q/HkQ/0gP/H0IdS//qLv8/OWn82z4+iI9wu9Z9y2QesEYd3jGhd+te5j1bPtH5p00fZH649qmu51gDr7+uuvzTPlcMEsR79L9v7CgB3MltEFTLFYMVw6hFeUQ/vSsZ5b8ZY5qL2M9m6heUj2/Qtcv1m/3vTX/5WzzzrTj537JEACJEACuZRAysJrD2PXb+3zL9hOfjRbhxg5hJel/fYrELHwib4w+1+klRdeIu4oXdbu+m2musIrXogHDh5qO5caFiJvIzPyKWgxmVWr18igocOsEDxlwjgZMmyEvP7mW950WdiWbN+2tRUVsTjNtBkz5c233taozWIvZ0mXTh0ziRcaL14k/Xbc0EmZPGWaPGcMxOMlTx1Ep+b3NrGLhOkx93eZmWb36PIVEdNtEX+dWjWkds0aEZ1MmBqo02D3dLyZ06ZkMjWABzamzi5YuNiKrpoOhIqqVSpJzerVMglzbpzLliy0C4Q8/uRTni1b5OW6a66W+9q3lcMOO0yjjPhNpAwRAUN2ML15xuw53gg49YZRaeByizNdWc/p9YJpyujkzluw0JsC7ReiYDJimrGVq/Z6EQfKWbVyRRN/zYgRfRp/rN/33v9AJpn6d8UshLmn7N3SzEyh1M6lGw/qa9HipXaBI3TS1EGgKmfCVSxfLlT0DioDwmPRKiwIFSQkZwejbzdulImTp0bUHdjWr1tb7i5TWsqWr2SLmYiN11TaESSGhZNGjRknWGhJTaPgOKaHYyEcv0ipnPASC57q9DiuMXyEwjWGBZnUXXbpJdLGmCfwx6fnsRgTbGXrxyw9jjbsPjPKEyYOXnv9DXvfY2RpPM4VXsEZ5cPIVLRvYe4r8zLVoHFTe1rD4JpzhVe8sFaoXM22I7jvxppRtLHEA10oB7a+ly6c5127Wn/+NPz5GzF6jCx9dLldyGqlsVWrTsNrXnEcInDYQlk4jzZp2IhR2LT3Nrj4hdcVq1bbZwP8RLMvibb9f//7H7zJ6SVLeu1DTgivbnsNEXjZilXyhFlcTZ85eHY1alDf2k/GQnFjxo6XV1573bvu8SzoeF/7UPvkYW0S6hTt2B133B4ouuFl+lWTznQzdRwikOswEhgjlHEduU6fp3iW43k2dvwEeeXV172y4Pidt99uw8b78c+NH23qTLMgJkRR12HkMvJz6SWXuIe97bBwp5xSwratt91ys+dXN8KEVy0jrl1/n0HDNm/VRtAP8dtt1+sez4F7zFT8sRMm2oWoEA7xoV+F+xwCKz4O4Jp37TDfaeoKNvL9HyyTacfQrteut9uecc/uDwnsMbvOPX+HMXXysDF54nflKlax7Yl7XssY1EdMtk8VVn9YlK91y+ZmMcDz/FmLuq95RD2g3LhOlTP6RTiuDn0X9C3UPJcev+bqq+x9GU1ISTRsrXoNvNkImo7+1q1dKy7TDXp94l5LZ19Z84EZA1iA8BVjO911qO+W5tkbZp4F7xTox6I/6zq0X1VMPw19Y4iOrnPrCetCjJ84OeKZH63/6MYTtJ1oH0LjeMO8d6Bf6LaJeCfAfVv4sMICG+RwT6xe4X3c0jpJps1AXLhvHlvzuG373H4lzqE/08gsGgqOrtM0cR2MGzXS2I0favsi8IP+Nvo86pK9vyBIou8ze868iPcTzNJ5qGtnY3JkVdI2XpN5bsVbZre9jPZuker7F0wo4ZrH+xf6K27941356WfWmve3/eVW8/wJ+6imdcRfEiABEiCB7CeQsvA6Y9Zsb1GtCWNHR4iq8RTnITOaCAJRUKca4eMRXtFJj7YwC2ydljLChev0JQgvi6cbQQFiht/hJQr2sLo82M17KXX94KGH0bvuS4vG6z4QEQZfb+/r/ECEkOfGhW0/P7yo9u03IGrZ8JJQvWoVLyp0zBs1bW73MZ331FNO8c5hA0IDXr7C3N2lS1lB2X2JdeOEMAHj9kEOnaNhgwd6ogP8JFOGoLjdYy+8+JJ069HLPZRpu/uDDwheKl13wy279zEyD9ec61zh9TnzIQELBYU5XDMw7O/vmIb5x3F0GIeOGBnqBcID7EO63OEZi7H4RQE3Elz7+ADg72Q9a1aW79m7r+s1YhsC11gzJdo/Si2rGcEuZkOzAJ2/s6+ZK2uE19XmhQAuEeE1lXbko48/lo6duwbe48gH6nnurOkRo1CU0/1GoCp/T1l4s06PQ9gMqze0DVMnjs80QgSd8s5dH4r4wKPx4heCWcGCB1jhHi+ViQqvSBdivd6/EHlwLMjpdYfzFcqVNQLyokymBj748CMzxb69De6f+h8UJ459/c16+dKIbrjOIVDoi7G+EMcSXvGCOnvuPBv9C88+5X100vB4jmwwAhA+mERbBR0veLXNolcbjX1WfGTDyGKsOu8XXrGCcrv77rfptWh2r9SqsdvsgD0Qx7+cEF7d9hqCT1h7jxG8I8eMDX0mjRw2OFB41GsjrPhoy/qbtsw/4lFF87BwuNbGjx4pp512qudFn6d42T/rzDMFbXOQwzMQz8JEHMSHtsY2sQpkQWH9z1f4wbWCayJauGh9DpTTFVi1jP7jbn7ChFdt92B3+OOPPwlsV0vfdae9F3REthsvtiEyjx4xLOLZk0w7hnuqvLEJjbYdIyu7dukUkZT7DERZH1+13Lt/4XH9hg1St0FjG8YVbrWM/j5iMn0qRB5Pvbds3tR+hLaZieOf5hFtDmx/ux/vXOEV7QGENPe8P3q3L+KeSyZs3YaNIz7Yu/HFK7zq9ZnuvjLyAjH+3ubReeDavPiiC92s2xlDje5tHpUjnnV4Prt9Kq0n9AEh+Lq2x90EsBAw/MTrkulDIG58jG9j2qAwV6tGNfvsxXlXeNU6SabNwAyC5q3aRgi9/vQhQI8aPiSif6hpoj+E9hgfgtS5wmsq99ecufNl4pSpGm3EL8p6+WWX2r478pfo4lrJPLfiLbO2l7HeLVJ9//LH79b/JMNttuEH18wM5MEAFDoSIAESIIHcRSBl4dUdGYWiYXQYxDtMaYzHaUfI36nWsPEIr+q3bu2adlEXdBAxcg0Cg45YHGde6C44f+8oBn2galgsalLqrjvkZzOtfMXKVfaLop7Dww1C3iWXXGw7sRhBpuIQRukhrDqN130g4tz8hYtk3IRJ1hte5vByiqltWDSm38BBthOEzgxGlKm5hk8+/VSatWxjw2BUJEa0YNEuvNhMMiMG8dUTzu2ouy/dfuEVo+/whR/u5htvsCOBzzvvXPn008/kSTMiCiOX4fzTgN04cR6j9jBiCoL1FjNFCaNsVLjGV3qITuqSKYOGDfrdtOlHaWCEO/3a26RRA5OfS+3ozdeNeI6RJNqZfv6ZJz1hB3Fp5wjb6DxCuDrv3HNlf/OF+ERjLgFCATqTeMmFg5CMEa4Xm5cpTAHDSGUVfdwROdZzlH+YKnbbXWWsD8SJkVTnm2vxXzN9FOY3MNISrlPHDlYYszvm36IlS2W0GY0Ghw4X6v8sM60IL9iwS6nMIbxCsFQHAQk23eDQQa1UsbxcecXlZlr/T2aUzWsyd/7uVeoxmvORAf28KZ3wn5WM/B1yXGfXmpHSqIs3335HZs2Z69Ud8pJdwiumv2MaPPLRzly/l5lRboceeogdOdbDiNe41iASQgxQp5zChFf4Q3yoG9Q1XnaWmpEcc+btZo/6xMud69xOOdpQLICF0ZN4qYN49uZbb3vekxVeJ40fK3WM4AjX5f777II1XqR7Nn435S119+4RWnjxQ3uEUbh+UXS5aSeHDt/9McHfvvrjjLWvwqk/DX84HTGLa3fY4N02Y+FHw+M5coW51h8xsx/g5syYJiVKnGy33X/vf/CBuUd2v/A+0r+vHZkcJLzi+VPLjOLT0aIQMqtXqxL3ApE5LbyizGBSzzyn8HHm2bXPm9Fl010U9pld6s47BaOtnzcftSZOnmLPY/QfPga6bvHSR732CoIePm6deeYZZrTvV/ZDg37Q6tzxPjOSf3ebh/AvvfyKPGgW4YTDB8065sPBpeY5gvsCYTCFFA6j/gaZNkmdPk91v3KlCrYdxLPzs8+/kMHDhnsj+qZNmiBnmOdjPA6jtbv37G3Thn/cT1gQDlNP0RZgFJ0u6IaPLicXL26jxccR9Fl0dB7uj+uvu85OJ3/L3J+4T1WQHT5kkBUKND9aFn/fIOy4hsNvLOFV/WJBT4h/eKbPnb8wYnYFngV4xhQ/qZj9yID+AK55uKHmg+mVl1+u0WR6DsTbjqnpKZTRL6w+8FB3jxsSQluEj0nq3Gtr9YpHPRNMYX3EZPpUqHfM0sJ1Dte4YQNzzV0pmOr/ofmQNNncG1rvM6dOjvgIoPkM+tU86rl7Gze0syWKmGnvMO2BNhRCcRMjMqItwbOhRvWqZqbQNbJfgf3sSPB5pr7Qt8M5iErox6pLNiymm+OabWXMxmBEpV2HwYiRcAXNaNBoZoc0bb0+dT9dfWWYqmrasrV95qPMjU1fDsIahNJ3311nRlQOs0miX4zR7jqbAmVq1aadd5/hHrzu2mttfxQfA3Ed6bPSf4356wkDK66+6gorMGLUf789dsiR8Atrn8708UgZ+H+T6UNgKnrjpi1s/wJ1jfeXq680HwHNM+cN0waNm7j7fUHTSpfwOnrceDuLCvHigw36lRdecL41t4D3ANQ3nP+jk/86wMeVO26/TUqcXNz0oQtacxqp3F+uWR98DKpobLijLcPH0WfWrrWDF2zGzL9EhVe3bUnkuRVPmZEn7Q9iG9dy0LtFut6/8FyuaT4An3n66VJg/wLeiHCdfYo84D7vZgYc0ZEACZAACeQyAmaUQspu1WNrMq6/+baIvw73d84wHeMMI3xGjd+8jNlwD/fsHejPjC7x4jWd5Qg/d5a5xztnBMWIc9gx9iMz1E/9xvdGnDfTWbywRlSIOPfPzp1eOJTLCLgR503nIqNZy9Y2vBkNG3FO40W6rlP/pmPnHrbbxt5axr3NW2ZMmDQ5w0z99M5PnjrNpnFPhcrGvJsZO+o405nOQNqDhgzL+OKLL70z2Na6+Pqbb7zjm3780TtuRutkILzrEP/9Xbp6fjZ8+6132o3TjDLIQJ24zogTGRWr1rBhzQI47qmMZMoQEYFvZ/2GbzMGDhpi6+edd9/1nc3IWPP4E14ZjA2kiPPKBXWz8bvvIs7pTrVadWx4Y64hwwgRetj7nTl7jhf/Rx9/4h2PtvHGW295YYLSNWYsMowdyQwjQHjR+OvL2JDyzmHDrDifUbNufRuv/9rWukA5f9m6NSIcdswLnpcf3Luuy0pGRqjz0l2ydJmbrN02I1C888iHEZYz+Qk7kGw7gjrWMuPa8TszNTrDjEixbZl7D2oYlMl1etxeYxszX2O9+w2w6eGedh3aSQ1rBCH3lN024q9X3/AX1N5lCrTnwKrVj9m4tU3C/Y84/NeNhl+5ard/+EE7MH3mrED/aDc1z//3++8aPKnfXn36BabhRmY+GHjpIU+u0/B4jhgblp4/8+HC9eZtq3/UA+4tM3LXhhkzboLnRzc++fSziOeBskPb9t7779vw6tf/i/ZKGSFN8yIX+mdMUviDJ7Xvtteo653meeY6XF+aJyMYuKfsthFevfP/Os+dH3/6yTvef+CgTM8kpOM+Q/BcUIc2EGmhbcLzzu/wXESe9BrV8/o8xbnhI0frYe8XbbyWxUyd9Y7H2jCLvXnh/M9/hMV1r/GOmzDRi+7Jp5/xjvuvQXgydkYzcE0hrP8e17KEldF/3EvUbGj/wYzacg9naLuH9MzH5ohz/vYU17HrkFct48JFS9xT3nHkyQgfEeewE9aOvfX2O17Yzz7/3AuH55Wmpb9mdJZ3Hhv3depi/aC9dZ2WEfe265RJIn0qt96D2ntjm9Pry+BajtdpHlE29znuhjdCosfgnXfXuafstjFB5J0HX9elEhbxaPs2ZPgIN9q4tvW6Rdn890oqfeUhw0Z45cW16nfo3+m1gj6LOmOT1PYrcX/NmDVHD3u/6GNpuBWrVnvHseHW09rnno84hx33XSbous8UwBxItg+B61nz6b83bV72PLfVj9sf1TpJps0wZssy0I/H/ebvV6K91/bLfHSOKK6mifyMGjsu4pzuJHt/oW+FsiBuPCNQx36nz2z4Qf7jdak8t+IpM/KhdWTby4B3C39/Ptn3L2OrOdP7l3LAcx/3OdgE3U/qj78kQAIkQAI5RwCL9qTFodF3X7r0QYRfCERPP/NsJrEPCWtHyN+p1kzFI7yio4AOYJAzI1O9h6L7Iug+UIPEMLyAaxnMIiCZotbzKJvrNF5/hwjCKuJDpyIsr2482IYQq3lwhVC/P3cf9aBhXOEVorUehyAd5MxoX88PXjDVuXEGCWbwZ0bz2rB+HsmUQdON9uuKYK4/lE3LiU6g6/Q4RIMgB9Fb/ZiRukFerIihfszopkA//oMQEDVMvOKAW19B4inSwDXxzNrn7Iue8oBfTSvoxQLh0OnT6xEvdK7TsFnBSF8ekbYr6LjpQ4TWPGS38Br0Au/mzd3WPIYJr2Z0l+vd24aQq2FdAeqJJ5/yjv9mBJEgB2FOw6YivLrXVtDHAwiySAcfz+AgMGHfL9TqizPatFSd+1LlipP46IUPLZon5APp4WXKdRpenyMQqOAX7bAZQeR6zfjll73tnLElZ8+pMBEkvMID2gZ85EKc/j+kgQ8yEHz9zhVe/eH8+35RzR9XvPtuex0kLhnbkl4Z0H74nXvebXuMiRcvXNgzDNeTluurr7/xR51JrFUP6B9oOPf5pM9TnEO5ghxeNHE+SJgN8o9jen3guvK/BGsYMxrUtq9mFJ0e8sLhw5xftFBPZjSsVxa8cKvTsvj7BmHHNRx+VWT0XyPaf/KLvBpW7xt8UAxyet4fr9ZFou2YK7C6wiqERsSJskMswzbuOXX4sKRp+vsYWka9tzWMPsMS6VOZ2SU2naAPDhqvfpj015OeD/rVPIbVA8Loh9Jo1ylEfnDwt6mphEXa2r6lKryms6+MewhlxQCNMKfvFP66D/Ovx8EPceMZ5TqtJ9Rt0H2PZ69eh2H9Jzc+bLvCayJ9CM0j+shhTusNeUqX8KppaZ9R9/VXn3P+NkPbKeQl6DpA+GTvL1eYDOv34eOu1k0iwmsqz614yoxya77C+s1un8t9viGsunjev4Ke5xqevyRAAiRAArmfQMqmBvwDeGFgHosGYBENne6jfjDdeWC/Pt7KqDiuU39SMTUQNG1X03Snek42i2jpwgXm5d7az4S/l557Rr17v5j2PHnq9Ajj5d5Js6G2bTENCnZe1Wm8/umEmN45c/Zc6w1TUaoZm3SYZo1pl35beBrXm2+/LR07PaC7dgr/7bfdYqfZhK1k6poFcE0NYPoopjnHmsqrUxqrValsFwFC4m6cY0YOMzbhIu1twQ8W/zIvFNiM4JlMGWwkcf7DCs2wE2Y6M/LDpk12Kr0uXuWfgq/TgcLsUbp5xTTRsGl45iXATgn0L3QSluVt27bLPRUre6d1ehdMX4SZ5ND6Km4WWYi2aJ0X6Z4Nd+V4d7qm359ej7j+Zk/fa1MrKxnBRARMf0SbJu/mP7tMDeg1D0aYwlalUgVrvuLYY/dO9fTzU05hpgYwHRNmSPzONc3iTo3WKbqYeovpkUEOJg+wiANcNIb+sLq4lrZJRjCSSlVrBNpidE1tqJ07bev8bcd4MxUStl/h/GY9/HmIta+mAmL5Q3s7xtj8c6fhIoyG1+fI18aWbP1GTWx0Dxpbk6XNtEh17pS/5UsWWTMlMM0RZGpAw+gv2htMSYVZE3dBKpxHnsaPGelN/cMx9/mDvKPtD3OlzNR9d6G2MH+xjrvttXuNaTiUU02RuNPo9bxr1xaLKR5dtKg95drXhd3FIAfTDJh2C+dfDNP1D1vP333/nW23zUu8PPXMs56ZETdP+jxF2OeefiKwTe5u7H2bF1trjsVvvsNN092GnU2YBIi3DdewGi6aTVnYgDXCjg2i9xB2tCx6H2qcYcf1PH61jfLnV/tPYX0gNc0BkxAwl+R3et3DhAZskarT9i3RdgzhdcrrBcaszrjRI2yU+jzD/YnFKdUOPcwRYEFOt92fP2emnFSsmGYltI+ozzB4jLdPpfUHc0lYYDLIrXvvPbOY6ix7asWji+0U6iB/7jGtB5hw6tNrt0kN9zzajVJly9tDA0wf+HpjairIuX0QLB6IcqUSVtPQeq5Q/h67boEej+dXr0/4TVdf2TVn09QsyIdrJcjBXBjMekTrB+005kowHd2Id3aRzI8++thbF8F/3Ws9RbP/rde+32xWUP70mN6f2I+nD2FGm3uLiMK0CkysBLkJk6Z4pqHSZWrATceIr5bb9z/8IJs3b7F2bx9/IvPCTQij14G//XLjS/b+etnUcVdjigRO2wQ3Xt2GaQaYzEjE1EAqz614yoy86TUT9m6h7Z+/D6Xl0l+9jsLev1yzchqGvyRAAiRAAnmHQNqFV7fo5gut7TS5djdhq7SzsTOmTjtC+sKsx/UXL3J3lN69eI3/RU5XkoRtpKZNdi/KoOH0FyLDLXeUsruuEBfrgZpu4RWiCWycuSucI1PoxKDsd5cpFbiSLmzfofPpd+iowVbRTTfdGCHcui/drvDatkNHm3Ys2z+Dhw639kNdASgsTjdPrr1Hf+c80TK48QZtY9XQlStXy5onn7Qd7iA/OObWN/a1c+QXy3AObrZZtAedtHgdPiQMHTQwLu/PG/uwsCnod+CMOoHocqi5FtTFW1/qX38h7uOFFC9s7qrvel5/zWhg6dW3v911F1nKKkaw73pHqbttekELz2i+8AJQo3Y9u5tdwisWdbnPfOBQO56aFwhlsOV7d+nS1oajHsdvGKew4xrWFQRdUUw73LDVi+s2zFWqVtPmMxXhFXGrmIptV6Af8Mhga3cY18+jixdYoUv9+l8aYAfTjBBFFKG2VO3JOP6pcAqv+BigTu0t6n7YS5mGd58jKja4bZkZ5SRVa9axDF27verXv7iWphv0C1uD7xhb4rAfpx8ZIRDAHuEBxuYdnCu84qMjbHtntYvVXicrvKqIF2/+/YuRgcVyYwMVdq3xPAxzQcJrtJd9FfrCxEd/Oq7N7Qc6329t0vv9BO274bqacGWMHeYwp/epu4BRWJ8j7Lgbt7YPYcKre9274bTO/AKU+tHrPkx4DXtWhrVjiNd9tqxZucx+XKy7Z5EntP3IS4U9i3CpCKkfnnD/+D80hvURE+1TQaC79c69ttCVQbRf/4KnYX7D8qj+XZvS82cbYdnY2Q1yGLhQpXote0rt7qYSVtPQek5FeA27B5PpK7sLM2oeY/26iymiHYc9UrQlaM/CnP+6j1VPiEffKxIRXhPtQ7gftxbMnRVqM/wJU0YzitYWL53CK9bAMCaIvHUdgvj56ztWO5XK/aV9jFj9Vu2fJCK8ahsYVMagY+5zK1aZNXysfl+8/flk3780H/wlARIgARLI3QSyVHjVokM8RYdHX07dkSuxOkKpCq94Ob51j/DqLvgR64GaTGcS5Y0WLzqLWEjETOOPWGRCOTWoV8cu9qD7+ovFdR5b84QN418NHovM4IVeR8CGvXS3NIsrYCQoFu3By2aY0wV+3I5NWJxuHNGEV/hLpAxuvP7tn3/5RdCJwQgHdeisQawpcfLJ9kv4oKG7R2MlKrwa+2VWkEK8rvij6fh/L7nooohRQv7z/n2Iio+bFwUsYubmH/4wWg6ryOpIH62vWEK5Pw2M1JluFhiL1YHF6uAPm0VG4PTlGNuxOpDJMnKFV/8IRKSrDgtO1KxT3+5ml/CKxPCRCKPunnn2uYgFaTRfftEsjFPYcY0nTLDQlwNXDNQw7q++FKYqvEJkhjgE16ZVC6lmRrhjsZOyFXaPzMaiM2iP4PSlyC+8uh8T3FXIbaCQf8ZStZj55vbs/mZxF3UqnPrTwPmhI0Z6C2v4P775w7sClHuNT5k4Ts4688yIkXXuatkqTCQivGraZmKLGSGHtmOOPTRp/BizaNDZdntfEl61TULB4mkfa1Wv5o00dsVeC8b8w4cNLFqFdhsOQj5cVguvbluUiPDqhsPCJWibw1z12nXtCF73Pg3rG4Qdd+POS8KrO5oP9+u555xtR9ijPPiYc8zRR9vF77BAKRbihMClQrV/sVKEidZHTKRP5fYlEW8813Cv7t3iWmArWh6RljG1IGjj4RbOm20XVrU7vn/o31SsUt0e1ZGQqYTV6LV9yy3CK4Q/Y8rGZg8CX7TZJfBU6OCDzWyCUXaxVPTp+/YbkEk0xAe2k01bUvK0UwX9USyyml3CK/KYSB/i3XXrpN19u68H/whvxKUO/cX+5mMoXLqEV3fRVk0Hz93iZpT5KaecYke9YtZiosJrKvcX+qzou8bqt5qp/HZRYff9RMsQ9pvKcyuethnpxur3aR6y6v0rrOw8TgIkQAIkkMsIpGINATaCYOcMf2H2gjT+lxy7cp9/8YUe9my8YnGhIAdbQmo/B3ZyXAc7TTgXZocMft3FN1y7nWq7J8yOly6iFHbedBRs2mF2kMLCaf7B7Atjs27i5Kle+VAWLLAQzYEHjOOrfSiEmTNv7yIViFN5uTZe1SZtLNtIMN6O8Ga1ci8bYXF6HswG7J1quu7xoO1YZQgKo8ewuIOmA1tpmzZt0lP2F9ehng9bOMpvl1MjMCtve2HNaBo9nCW/sBlphKsM5Y08Y7EDdVi8AMdgBy0R59pndG2C+eNQW6r+61fZZQUjtenmLlbjz5drAzXM1pc/DPbVdlsy7Yg/PtiVNiNSMtRuKJjgfjZTPj2vYZzCjmtA2L1UP7iv1Gk74LeRrOfx69omTcXGq8apzHANwOYuFtjRvGGRGXXa1sEepOtce3iwwxqPwz2raezcudcut7L2p4E4YQtXwyCvQfZFNfzDzgI8ZoSit2AH7NbBYUFCxAXO7jNLben5bbzq8y3MJrGN1Pzbtn27l0fzYquHM1wbr7g3s8PFaq/fe/8DL69BtsPVHic4uXaItU2CvdFEndvOmZdZuwiVG8fHn+y1DevmKdZzGnGgzpFXXM/xOm2LYJMwEac2UaPdf7AprNeraycyrCx6HGHCnC5447fFqvewe927cehCev7FmtSPXvfu8x7nNP9hz4GwdkzjxQJZiAP3ndqvdu9t81HEnkc/BvWt6QX1f2KVUdOMp0+l9W5mhWiwtPzGyqO7kFm055q7oJTee6mE1cJpPadi4zWsT5tMX3nbtm1enWNBtkQcFpHT6wXXNxZxMwJ8RBRqG9Z/3ceqJ0SCciJ+3JfJulh9iF9/3Vt+2IQOc7p2AvLj9ueSbTPcNTPwLEXafhvoxhSPLb+/vjVN/3E378neX1iQTus0zMY90lF73rHeY9w8pfLciqfMSEvzHtZeZvX7l1tebpMACZAACeReAiktroWXc33gRBNTUHyIYOrXjPzziOiLOB7YQc4NFya8Rltcyw3vdjBiPVCT6Uwi/9HiNV+Eg4qY4b50YuVu1+mLv3sM2yiLdhBdwS7spRuLqCh/dHqDnCukuEbcw+J044gmvCZaBjde/7a+QOBFPshBbNZyou5dp8fDOkfu6qfugipuHNhGeZJxYfWPhT40bxq3u9gMRJ0gh/sPq4XjT8O592TYCx4EJ+XoXwxA85EVjMw0MVtOLIriil5u2VxhPSz/rn/dTqUdQRxu26Bx4ldfQsDFFQXCOIUd1zjDBAv3xQP3W5BzFwqMJvz4w5ophZa7/4XJXYEc1xBexJB/v3gdJrwiHX2RRTgILNGc+7Ldp//ACK8qnLrijOthyrQZ3j2ybHnmRe00vF+AcsO57RjEP9fp/eAXXpVJWL40Dlc8cjnsS8Kr2yZB1A5z2hbpedxbel/gg0+QQ3ujfrJDeNUFZPACH9YWYWVo3BfuAnQQrpDPaAsEusI1PjKqC+sbqAiJeIOeze61lVeEV3x8QHnQN8Pq6NiePHWaorDCO47hT9tutE/+awcBtI3x39s4F/ZMDetTab3rwoGIw+8g4oVdE36/uh8tj+pH25Jobbe2tf5FulIJi/S1fRviW2xK8xbtN+y61TDJ9pV18IAucKjxub9B14MywrWDBZf8Dh/JtG+cncJron0I/ZgS7XpwP1i5wmuybQY+KOt9B5E/yOE+gx9/fyHWdYC4kr2/8E6o+Qrr96H86icR4TXZ5xbKE0+Z4U/zFdZvzur3L+SBjgRIgARIIPcTSEl4RfG0Q4eHNEbxBTl83dWRIv4RXVjlXR9aZjpiRHCM8NIvqPATJrzinDFeHhEWOxChtAPmF3ZjPVCT7UwGxYtRt9qBwihHv3MFTxUEMKpLR2cNHzXaH8Tu69dfVyhxxQV3xKs7chgvCUFOxQvwNIsgeV7C4vQ8mI0g4TXZMrjx+rchMiN/yGuQAyucx1+iwivi084w2LodXU3LTF+zceO6x0t5PA6jaxAv7oGdzig/DaujGnCt6ouG+7INYdY/ogNhlYV/9J6WAS82O3bs0GS83xWrVnuM/CKWsgvrQCISjT9RRhiprfHrde5lymy4oiT8hXXA3TC6nWw7gvsR/JAe6tbv3BG4EGLUaTn8nMKOazi3jLiv1LmCOeoNo5xc9+X//uexQxrRXtbccNgOE17xgqov9FqniBsjilynL7pB4qM7owBh8WIX5NDGaXsFf/5RTtr2BKWB+HAvaluOX/8Lt4bHS6PrMCIe6eHPLaN/VI0+x/zCq5Y9KM+aDu5pjPjVdLA6sbp9SXh12yS8YAeJUxjhCQ54xqjoCJFW2axc9Zii8X4hWOgK9fCXHcKr+0HW/7ETGcP1pdcbhEF1+CCpZVmyNPOIOIyK13sK4V1GQX0DxGvMznhxGhNHmpT9xbWl1zbSzSvCq1sm5YWR1q7TPpGeDxs1HyRqJtOnQtpuvRsboW52vG3UN9qKR8w1HvS89jw6G0F5dE7bTax4r2X95NPP/Kcz8HzR88YefMT5VMIiIh35jN9EXdh1q/Ek21eGKIry4j5x+5saL9jjeYC+uzFDooczcL9qOPf+Ug94pivH7BBek+1DoI41nxi163fuh1b4c/uj7v2VSJuBj0iaprGf7k/Sttna7uHXdbGuA/hN9v5CPWq66P+4ZdU84GOt5h19iXhdss8txB9PmeFP8+XvD+IcXFa/f+1OZXcf2u2n6nH+kgAJkAAJ5A4CKdt4XbV6jahNTdgEate6pVx44QXWjtePP/4kxqyAXYBFbZM2blg/YjVZ134owrds3lROL1lSvvnmG5k2c3bEgjd++35q71CtN2B11BtvuMGkXVRgQ8pMwbcrF+O8LlSgfo3wI+YlJpMdIz2fThuvsH1UvnI1u6AIyti7R3e58ILdq7h+aOy3zpu/0NoAQ9qL58+R448/3majY+cHPLu4ncyCZNddc40ceeQRlukTTz4tRuy0/rBaMWxZwbk83cW1cE5X1sR2ObPIGcLALhZWCX3G2LYEEzjYe4TdR3XR4lQ/psMhZrqi3XUX10qmDBpn0K9rn6pj+3Zy3XXXmFXJi8pGs3DLspUrZemju8uAsInaeEUYd3XVi8x1jJWPYaMONnQ/NKvlDh423LPPOmfmdGOfsDiCRXXmRUGwOi0cbNpVqlheip90kpjOmLzx5lsyasw4e86/sJK7GmsZsyr7PWXLWNuR5gOHTJ02Qx57/Akbzr+SqhEspXPXh+w5rN6L+sQqzpu3/CyvvvaaGKHXnjvv3HNkxLAhcvBBB9l9/Itlqwp+kmWExVCatWojumBS65bN7WJDRx5xhBghTiabRcFc27eJ2Hh1r9FE2hHYHjYCAIolqG+0P7AFCnun697/QLAwHOyhwgbv0oXzZL/99rN+wziFHbeBzL8wG684/+xzz0vP3n3Vq9xiFt0redpp1j4yVv12nWs70j0etL36sTViRITAts69nxAWdjfnz5kVsWBfmI1XTWvR4qUyetx43RUs1HPzTTeY+/JoMSP4xAguYkYOewsq1apRXbCAheui2XhVf7i3R4weY3cb1q8njRrsXoQNBzS8a+NVw2FRQ6yMra5CObOyd4fdda7H1Aai38brhg3finnxV2/W7u3NN91oF0OBLctvvllvbeB+/Mmn1g+uoTEjh3v+XRuvzcwCkBdddKF3LmijRImT5fDChb1TqHfwh4MdXX02eB4CNtx7wf8MgHfX3qprT1Wjchd+WbZkoRxt2ld1RvC3dYl9cCxT+i454/TTxYgkYgQIUz9jbT3jOpo9fapne1zrADb8YFcVnNCmmg8Ktm10F5108xTrOY18JLq4FsIgv3g2abrNmzaR66+7zrTLxcSIetYG6aeffQ6vMn3KRNsnwTYW2DIfvLwFfRDu2muulhPMMxu2OM3HJe+Z7e+vhJXlP2MjuLRZ8V4XHMO9fb15rm0x7bX5SOb1DZB+XlhcC/mEq1WvQUR77tr2x/k58xbYPgm24XShrd17e/8H2U9Ntk/1t1nkscP9XTw73ujnXH3VlfZ5bGaWyCJjZxj5gsPipQ8+sNsO6d7cBG8F5dHvc9OmH8WY6RD0hfE8QV/4qiuvkAIFCsgbuM9nz7F2SfH8mjpxfMQCXKmERT7U9ju20S9Cvw/3YpEiRXAoqgu7bjVQsn1l2Lw3Apq97pEX9GMuvOACOarIUfa6GT9xktduu3bh8U7RpFlLmzz6U+XLlZVTSpQQ2Mc1H0plyLARmrVssfGabB/C7QugvWzcwFwP5lrEtf3aa29Y2+ZeQcyGa+M12TYDNpHLlKtomaNviHems846S/42aRpRVmBDVd/VcB1i4VV1sa4D+Evl/sJiaX33LCSGtSvQb73Y5PE70082o1bNc2eRZsWu5TB10t4+h3ciZCPZ51Y8ZUaSsfp98JOV71+I3+0fufcLztGRAAmQAAnkDgIpC6/mS6Wg44VFd2K5OrVqyL2NG9mOpus3bNV7+LmvfVsZNmKU9e5/kVHhFS+AEP7CHDp0lSqUjzgd64GabGcyLN6VZgVRrFgZzfnFlM8+/0LMSKBoQayg1r9PLyuqwGO0l2501rBC6lNmca8wd/ONN0gvIwzjZUBdtDjVT5jwmkwZNM6g382bt0jz1m0jBHnXHzqwWFQBLhnhFeHcjwnYD3LN7m0iuJ7jcb/t2CFmRJ0nOAaFwYvY8MGPCIQXdaivXkaIw2JcYe6aq6+yQv7BZvEJ18W63sBp4tgxVsh3w8XTgYT/ZBn9+OOPUr9xU09kcNPGduVKFTzxPBHhFWGTbUdUtEMcYc7f9oRxCjuu8bovW9MmTZAzzjhdT9lfbT8iDu7ZwYeG5atWiRkdJP62Isi/HosmvEI8LFu+knqVtubDWdXKe/dxIpbwCj/u/Y/9MHeP+eCDldIL7BGw1Z/WQdDiWuoHolcNs/AahHA4VxTU8EHCK8RLM2pcoxG8sGFxDteFCa/w435ocMP4t6+84nLp9XA3Oeyww7xTrvDqHYyy4b/m3Y82j69aHhF3WDSx2utUhNd4niHI18hhg+XSSy7xsvjm229Lx04PePv+DQgv+sKfHcIr0ke7jOerPi/8ecI+xH2I/K4zswjsByT3I5F7Htvt27S2bZl7XO9tv6ABP1jMpmu3h13v3jY+yEEMhrifl4RX98MhPiLhg7Pr8MG3cdO9H3ifWrNKChUq5Hqx22GiZqxnHAIHtZPx1B+ex5PHjzUfj4pkyk/QgbA8+v36y+w/j/0JY0cLPor6XSph3TZB4w1bzFXP62+06xZ+ku0rI2w8ZYIw/siAft4zA+8c+PiBDx1hDvcYPmRk1+Ja+vwJyw+O+/sQOOZ+JMe+391x263y9LNr7WFXeMWBZNsMfZ7709J9bYv97VSs60DDp3J/YYACnnlBDvnB+8kas+BYIotrIa5kn1vxljlWvy/ePCT7/oX49eMmtoP6QThORwIkQAIkkLMEUhZeNfvoQMyeO98bSaDH8bDE1/UypUvJnbffpocjfvFQnG5Whcaq4voShC+e6DThAXLbXWWsf//K4iq89uj2oJxwwglipu54L+UIgLSbNGqQSUjAOX2gopOxctnu1ZRxXN1883V1nPniHnZ+9tx5ghcLCFgL5+4ekYSw0eJ94cWXZMr0GZkEuFNOKSGNzMsdXk78Dh1mjAQEX9fhxQAvZFgF2F0d3O1guy+wGhYjfSCSY7SsjrDRcxjt1djwckdA4lysOOFHhRd/Z03DJ1IGhInmfvllq/TpPyBTxxsiZCcj6uhq7Q+ZladLOStPa+conpWssZqsjkBx8wJhCC/VF8cYueaGwTZEhWmGu/8DAXhdd83V0t58HHBHuml4rKQ93az2ihGDrkP9Y4VUvDy59e/6MdNizfU2M+KewHlcZy2a3mvumeNd73Y7OxjhZWvEqLGZ2goIHPXq1JJb7ihl8zJ8yCC5/LJLM+Ux7ECy7QhGgeB+x+hPFX80DYzMw4cbjDx1XRinsOMa1hVeg0Yjwh8+Lrz3/vv2+sbolxJmNA9GRuFlvEGTpgkLr7gOBgwaEjjiFemZKb7e6OnHVi7LdB1qWxdNFEU8X3/9jSxe+qhgtXK/w8szRKxzzj7bf8ru64trrDTwjOhjVrSGq1bVjMxv2cJuY6QMRswEvXDgRb1Kjdr2PsCzaJIRVPwOK47jRd4/4lX9fbtxox0pjhGS/nYTcaLtqVcnsi1G2ESFV/81j491EJiKFz9J5s2aodmJ+hurvYaA19yMPIdbMHeWHb3rRmjsW9sPRTjmitvqB8+Q6WY2Cp51fhbXXXuNmfXSKrBtQbq9+/X3nvEaH0ZA33D9td7IczdP0Z6nGl5HvAbVvfoJ+8VIwgmTJmf6uIVnMmY73HbLzYFBcY8inIoi6gntMp7J5e8pq4e831hleXbtc2KmVHuzdHAv3HTD9VKndi3pYK5PCOb+61MFv7vMc66bed75HT444MND2Graet1jlDo+cqtLRzvmjgQMGoGF9lpH+uK6Qf8uyEUrYzJ9KqSBjzcTTf8NbYbr8Dwue3dpadKwQaAI7Pp1t6Pl0fWHbcycwQg8YzM84hTakRbNmgpGIoa5VMLi/hs4eIjX/0Qfe5j52BvLxbpuk+0ra7q4TtCX1tHnehx97yaNG5r6KOOJrnpu565dMtrMFNJZX3oc7SSutfkLF4uxmy6YKdTV7KuLp570vQIfCIPuY43L/U2mD6HhMdNl0pSpEe0iyo5ZbgXMAAgIanB+4RXHkmkzEA4fzseMnxDRfuPax4xFY/rFzgb0v/vEug4Qr7pk7y88q2fMmmPbQffZgrawV/du8uLLL9trBX0hfKBIxCXz3Iq3zLHaS81nVr1/IX68I/bs08/Wqf8DrqbPXxIgARIggZwlkDbhVYuBB+cPmzYJzAwcf/xxRpg8MVOnSf0G/WK60CFm1AM6Acm4777/XoyNPTOF6igrxh5QsGAy0WRZGGNhQn7ZutV2/NGpgqjiFzqDEsfonM2bN9tpSCefHDkdNch/rGMYPbbJ1NG2bb/KkUccaevqoIMOihUspfPpLgNEKYwEMuah5GTT4S7sTNFNKaN7AuPF8Gcz3RNT+/c3dVXcmBWIp66ipQ0h9aefNtsp2Lg/jjv22GjevXOYwvWTqf9t27bLScVOjGuKIALjfsR1AzMDhcyoWKSZTk6pMMK9jnv14IMPslM9wwRkD0ICG8m0I8a+ruG0RSDsQwQ/yUw7TmeeEsh+qFd9KYx3tFJoRFl4Ai+hW00b97PhiHYYYpR/hGsWJp/lUeP62PDtBjn88MNt+52Vz5i2HTpaQSJMOMvywkZJAOLHTz/9ZMxy/GbalMOsgBvP/YI2DEI22qN0tKlRshj3KWNTUMziirJr17/2WRJv/0PD/f33P3LUUUfa9jweBtEyZuzEyt/m+VzkqKOieeO5PQSS7VMhOMQdPFf/+ONPax7rmGOO9szJZDVgtCNoJ3fu2inHmn6Aa9IjVtqphEU/DKMSkV5W9/lilcM9j3Zh85bNtj+Hj8JHmPY1lsOzZv2GDfJ///e7HQSBMqk5oFhhs+J8sn0IlAPtD+r1uOOO9fqFMJETTXjVMiTTZuC+wXsarn88p4uZd7VU2y7Nj/4me3+hv4v3SPTxixUrluljsMafzG+yz61k0goLk1XvX3i/MIbFE/poFJZHHie6oT6TAABAAElEQVQBEiABEkg/gbQLr+nPImMkARIggX2fAF4gZ82ea0eeudPVteRm0QRp2KSZ3e3c8T5r81fP8XffI4AX41J7bH/Cvuttt96y7xWSJSIBEiABEggkEK/wGhiYB0mABEiABEiABHIVAQqvuao6mBkSIIH8SAAj9Wsa+6VwmFb38INd5bTTTvVQYKGfnn36etMRF82bEzid2wvAjTxPANPZK1evacuxevlSOcIsQkdHAiRAAiSQPwhQeM0f9cxSkgAJkAAJ5A8CFF7zRz2zlCRAArmcgH9xMNhYO9mYt9jy88+e4IoitG7ZXKpXrZLLS8PspUpAF1657NJLZMTQwalGx/AkQAIkQAJ5iACF1zxUWcwqCZAACZAACcQgQOE1BiCeJgESIIHsIAB7uc+ZhTbGTpiUaUE0pA9bqT26dZWLLrwwO7LDNHKYAOygYmGk8849N3CV8xzOHpMnARIgARLIQgKvvva6dHmwm03hicdWyqFJrn2RhVlk1CRAAiRAAiRAAnESoPAaJyh6IwESIIHsIIAFOr7//ge7ABEW78FiG1hQL5HFV7Ijn0yDBEiABEiABEggawhgESbMeMGCYSeecELWJMJYSYAESIAESIAEsoUAhddswcxESIAESIAESIAESIAESIAESIAESIAESIAESIAE8hMBCq/5qbZZVhIgARIgARIgARIgARIgARIgARIgARIgARIggWwhQOE1WzAzERIgARIgARIgARIgARIgARIgARIgARIgARIggfxEgMJrfqptlpUESIAESIAESIAESIAESIAESIAESIAESIAESCBbCFB4zRbMTIQESIAESIAESIAESIAESIAESIAESIAESIAESCA/EaDwmp9qm2UlARIgARIgARIgARIgARIgARIgARIgARIgARLIFgIUXrMFMxMhARIgARIgARIgARIgARIgARIgARIgARIgARLITwQovOan2mZZSYAESIAESIAESIAESIAESIAESIAESIAESIAEsoUAhddswcxESIAESIAESIAESIAESIAESIAESIAESIAESIAE8hMBCq/5qbZZVhIgARIgARIgARIgARIgARIgARIgARIgARIggWwhQOE1WzAzERIgARIgARIgARIgARIgARIgARIgARIgARIggfxEgMJrfqptlpUESIAESIAESIAESIAESIAESIAESIAESIAESCBbCFB4zRbMTIQESIAESIAESIAESIAESIAESIAESIAESIAESCA/EaDwmp9qm2UlARIgARIgARIgARIgARIgARIgARIgARIgARLIFgIUXrMFMxMhARIgARIgARIgARIgARIgARIgARIgARIgARLITwQovOan2mZZSYAESIAESIAESIAESIAESIAESIAESIAESIAEsoUAhddswcxESIAESIAESIAESIAESIAESIAESIAESIAESIAE8hMBCq/5qbZZVhIgARIgARIgARIgARIgARIgARIgARIgARIggWwhQOE1WzAzERIgARIgARIgARIgARIgARIgARIgARIgARIggfxEgMJrfqptlpUESIAESIAESIAESIAESIAESIAESIAESIAESCBbCFB4zRbMTIQESIAESIAESIAESIAESIAESIAESIAESIAESCA/EaDwmp9qm2UlARIgARIgARIgARIgARIgARIgARIgARIgARLIFgIUXrMFMxMhARIgARIgARIgARIgARIgARIgARIgARIgARLITwQovOan2mZZSYAESIAESIAESIAESIAESIAESIAESIAESIAEsoUAhddswcxESIAESIAESIAESIAESIAESIAESIAESIAESIAE8hMBCq/5qbZZVhIgARIgARIgARIgARIgARIgARIgARIgARIggWwhQOE1WzAzERIgARIgARIgARIgARIgARIgARIgARIgARIggfxEgMJrfqptlpUESIAESIAESIAESIAESIAESIAESIAESIAESCBbCFB4zRbMTIQESIAESIAESIAESIAESIAESIAESIAESIAESCA/EaDwmp9qm2UlARIgARIgARIgARIgARIgARIgARIgARIgARLIFgIUXrMFMxMhARIgARIgARIgARIgARIgARIgARIgARIgARLITwQovOan2mZZSYAESIAESIAESIAESIAESIAESIAESIAESIAEsoUAhddswcxESIAESIAESIAESIAESIAESIAESIAESIAESIAE8hMBCq/5qbZZVhIgARIgARIgARIgARIgARIgARIgARIgARIggWwhQOE1WzAzERIgARIgARIgARIgARIgARIgARIgARIgARIggfxEgMJrfqptlpUESIAESIAESIAESIAESIAESIAESIAESIAESCBbCFB4zRbMTIQESIAESIAESIAESCC/Enj/gw/l7Xfejbv4hx12qFSvWiVu//RIAiRAAiRAAiRAAiSQOwlQeM2d9cJckQAJkAAJkAAJkAAJ7CMERowaI0uXLY+7NIULF5a2rVvG9L9z5075/PMvJCMjw/o9pcTJUvjww2OGg4cvvvxS/v7rbznv3HOkwP77xxUGnrZv3y7ffrtREkkL4TSvBx98sJx+ekkcitt9//0PsnXr1oTzqmkefXRROf744+NODx6zk4+mhXQLFSoUN598UxdfmGv1b3OtnneuFChQAJgScpddcrEcc8wxCYWhZxIgARIgARJIFwEKr+kiyXhIgARIgARIgARIgARIIICAK7wedeSRAT52H9pmRE0VUUM98QQJkEBCBIY8MkCuuvKKhMLQMwmQAAmQAAmkiwCF13SRZDwkQAIkQAIkQAIkQAIkEEBAhddTTikhs6dPDfCx+9C8BQvljz/+CD3vP/H33//IJ59+6h0+vWRJKVz4MG8/2sZHH38iu3btkgsvOD+hUYS//LJVvt24URJJC/nQvB566KFy5hmnR8tapnMbNnwrv27blnBeNU2Mdj3h+OMyxRvtQHbyQVoYnQuXCB/WRbQa3HuudKm7pNiJJ+49wC0SIAESIAESyEYCFF6zETaTIgESIAESIAESIAESyH8E4hVe8x8ZlpgESIAESIAESIAE9m0CFF737fpl6UiABEiABEiABEiABHKYAIXXHK4AJk8CJEACJEACJEACOUSAwmsOgWeyJEACJEACJEACJEAC+YMAhdf8Uc8sJQmQAAmQAAmQAAn4CVB49RPhPgmQAAmQAAmQAAmQAAmkkQCF1zTCZFQkQAIkQAIkQAIkkIcIUHjNQ5XFrJIACZAACZAACZAACeQ9AhRe816dMcckQAIkQAIkQAIkkA4CFF7TQZFxkAAJkAAJkAAJkAAJkEAIAQqvIWB4mARIgARIgARIgAT2cQIUXvfxCmbxSIAESIAESIAESIAEcpYAhdec5c/USYAESIAESIAESCCnCFB4zSnyTJcESIAESIAESIAE8hmBN99+W5YsXSafffa5V/IG9etKpQrlvX1sfPLppzJ77nz5/IsvZdfOnfbceeedK+ecfZbUq1M7wm9e2KHwmhdqiXkkARIgARIgARIggfQToPCafqaMkQRIgARIgARIgARIIAqBZStWyrARo6yPQw45RJYvWSiFChXKFGL5ilUydMRI6durh9x04w2ZzueVAxRe80pNMZ8kQAIkQAIkQAIkkF4CFF7Ty5OxkQAJkAAJkAAJkAAJxCDwxptvyf1dunq+WjZrKjVrVPP2dWPCpCny4ssvy7xZM/RQnvyl8Jonq42ZJgESIAESIAESIIGUCVB4TRkhIyABEiABEiABEiABEkiEwKQp0+SJp56WLVu22GAY9fro4gVyqPl1XeOmLeSCC86T9m1au4fz3DaF1zxXZcwwCZAACZAACZAACaSFAIXXtGBkJCRAAiRAAiRAAiRAAvESaN6qjZx/3nnWvMCMWbNtsGZNGkud2jW9KHbs2CFlylXM82YGUKD8KLzuNLZ5/zF/Kqbv2rVLfv/9dzniiCO8OuYGCZAACZAACZAACezrBCi87us1zPKRAAmQAAmQAAmQQC4i8Psff0ipu8tJ/z695OKLLpQqNWrLH+YYRr0uXThPDjvsMJvb115/Qzp3fUhWLF0kRYoUyUUlSDwr+UV43bZtuwwbOcosivaF/PDDJmlQr640blhfli5bbsVnkOvSqaOULVM6cYgMQQIkQAIkQAIkQAJ5kACF1zxYacwyCZAACZAACZAACeRVAm+/8650uL+zrHh0sRQ56iiZM2+BTJw8xRanccMGRqyrY7f3FfuuKEx+EV5R1oyMDClVtrwV00cNHyrvf/CBPPvc8/Lvv//Kxo3fSZlSd0nXLp3glY4ESIAESIAESIAE9nkCFF73+SpmAUmABEiABEiABEgg9xCYOn2mEeKe8xbM+vPPP6VClereqNclC+ZK4cKFBfZdL7zgfGnXplXuyXySOclPwuvPv/wiFU19wrVp2UKef/ElGTpogCxcvERQ9664niROBiMBEiABEiABEiCBPEOAwmueqSpmlARIgARIgARIgATyPoGWbdpLyZKnSsf27bzCuFPRG9avJ1UrV9xt37V3T7nphus9f+7GX3//LQcULCj777+/ezhXbrdt31HWvf++FZTXrFyWK/OYrkxhdGvP3n1tdEcdeaRMnzJJihYtIp0eeFBef+NNGTSgn1xz9VXpSo7xkAAJkAAJkAAJkECuJkDhNVdXDzNHAiRAAiRAAiRAAvETgI3NhYsXS0EjSGJkYW5zGN16Z5l7pGf3h+S2W2/xsve3EVGrGluvv27bZo917Xy/DBg0xDNH4Hncs4Hp7A/37C0dO7SXI4/M/Ys1tbvvfnl33Xty+OGHy2MrHvUXJ+X9b9avl9lz5smtt9ws1193bcrxpRLB0OEjZfnKVTaKoYMHypWXXy5YaOvWO3fbdYXwjBHNdCRAAiRAAiRAAiSQHwhQeM0PtcwykgAJkAAJkAAJ7NMEftuxQxYvWSozZs2x5bzjtlvl4W4P5royv7tunbS7r5MsNuYEjj/uuIj8Pfb4EzLQiK3qihc/yTNHoMfw+/U362XhosXylrEVO3n8WDua0j2fG7ezytTAtxs3yoyZs+XpZ9faYne5/z4pe3eZHEVQvXZdu7DWXXfeId26drF5+ejjj6VF63ZyztlnySRTZ3QkQAIkQAIkQAIkkF8IUHjNLzXNcpIACZAACZAACexzBHYYwRXT9GE703W5VXidPnOWrHrscXl00Xw3u3Z7165dUrt+Qyva4UC1KpWlTasWEf7gZ8iwEQKRtmTJ0+Su22+XmjWqRfjJjTvpFl6/+/57O8J1zRNPRhQ3p4XXnzZvlirVa9k8oY6POeYYuz177jyZNGWa1K1dU5o2aRyRZ+6QAAmQAAmQAAmQwL5MgMLrvly7LBsJkAAJkAAJkMA+TWCBGfn566+/ymWXXWpGPs6RDz/6yJY3twqvrdt1kGInnhi6qv2za5+Tnn362TL0M/Zdbwyw77p161YpX7ma9O3VQ2668YY8Ub/pFl77DnhESp56qpx66inSw9hT/eOPPyyHnBZen3rmWenTb4DccvNN0rtHd69u2nYwNm7fe19geuC7776Xu0uXkoMOOsg7zw0SIAESIAESIAES2FcJUHjdV2uW5SIBEiABEiABEshXBBYZUwOjx463Zc6Nwuunn30mTVu0lmb3NpE6tWoE1s1///0n9RvfK+vXb5CVy5YIFmfyuxdefEm69egly5csyhNmBpD/dAuvLpMHHuour7z6mj2U08LrI4OHyuo1j0vnjvfJPWV3mzxAnd502502fxecf75cecVl0qBeXbcI3CYBEiABEiABEiCBfZYAhdd9tmpZMBIgARIgARIggfxEwLWRmpuE10eXr5B33l0nL770sq2OQw45RC695GKpWrmi+b0kUxW9bETEiZOnyOzpUzOdwwGImK+98YYsnDs78HxuPJiVwitGvz751NO22DktvKp91/mzZ8pJJxWzeYLwWvqeCnZUboN6daRRg/qy33775cZqYp5IgARIgARIgARIIO0EKLymHSkjJAESIAESIAESIIHsJ5Bbhdd0k6hVr4FcZgTbjh3apTvqLIsvvwivYQBhCuHff/+VwoULh3nhcRIgARIgARIgARLYJwlQeN0nq5WFIgESIAESIAESyG8E8oPwutXYsy1fqapUqVRRTj65uFQsXy5PVHN+F17zRCUxkyRAAiRAAiRAAiSQBQQovGYBVEZJAiRAAiRAAiRAAtlNID8Irz9s2iTVa9WVq6+6UrD41oEHHpjdmJNKj8JrUtgYiARIgARIgARIgATyPAEKr3m+ClkAEiABEiABEiABEhDJD8Ir6nnHjh15bso6hVfeoSRAAiRAAiRAAiSQPwlQeM2f9c5SkwAJkAAJkAAJ7GME8ovwmherjcJrXqw15pkESIAESIAESIAEUidA4TV1hoyBBEiABEiABEiABHKcAIXXHK+C0AxQeA1FwxMkQAIkQAIkQAIksE8ToPC6T1cvC0cCJEACJEACJJBfCOQW4bV9x07yzrvrcgT7gH595Pprr8mRtKMlmleF1+3bt0vdBo3l123bohUvS84dcsghMnfWdDm6aNEsiZ+RkgAJkAAJkAAJkEB2EKDwmh2UmQYJkAAJkAAJkAAJZDGB3CK8frtxo9Su1zCLSxscfZdOHaVsmdLBJ3PwaF4VXoHsmWfXSq++/XOEHoTXk4sXz5G0mSgJkAAJkAAJkAAJpIMAhdd0UGQcJEACJEACJEACJJDDBHKL8AoMjz/xpPR/ZHC2E6Hwep+UvbtM2rkPMHW5xtRpdjsKr9lNnOmRAAmQAAmQAAmkmwCF13QTZXwkQAIkQAIkQAIkkAMEcpPwiuL3NqMknzajJcPckEcGSKFChcJORxzPyPhPdu36V37//Xf5+Zdf5K2335GXX3k1wg92KLxmjfD6xx9/SMN7m8kPP2zKxBwHihc/SR7odH/guaCD//2H+twlO3bskB82bZK1z70gX3z5ZSavFF4zIeEBh8B3338v33yzXv799185+6wz5fjjj3fOcpMESIAESIAEcgcBCq+5ox6YCxIgARIgARIgARJIiUBuE14hkjZq2jxUrKtQ/h7p2L5d0mX+5NNPpcP9XQSioDoKr1kjvIIvhNHGTVso6ky/PR/uJrfdcnOm4/EcyMjIsCNqBw4aEuGdwmsEDu7sIfB///d/MnzUGHnq6WcimFx5xeXSr3dPOfjggyOOc4cESIAESIAEcpIAhdecpM+0SYAESIAESIAESCBNBHKb8IpiffrZZ9K0RevQEkIkufGG60PPxzrxtRntVr9RE88bhdesE14BefHSR2XUmHEeb3cDi2HNmDJJTjgh+VGH7jWMuCm8uoS5rQR0NH3F8uUE192769aZtuZze/qKyy+TYYMfUa/8JQESIAESIIEcJ0DhNcergBkgARIgARIgARIggdQJrFq9RgYNHWYjuuO2W+Xhbg+mHmkaYpi/YJGMmzgpMCaIJrOmT5Hjjj028Hw8B6dOnykzZs22XnOr8Nq2fUdZ9/77UrhwYVmzclk8xYrbj4pQCNDl/qwVXv8zI1MfeLCbvPb6G4H5O+/cc2TMyOFSsGDBwPOxDmLka6u2HeTDjz6yXim8xiKW/87rSPepE8fLSScVswBwXU6cNFnmmbYGbsWji6XIUUfZbf4jARIgARIggZwmQOE1p2uA6ZMACZAACZAACZBAGghMmTZdZs6ea2O67tprZGC/PmmINfUoYM+z0wMPyptvvR0Y2QXnny+jRwyV/fffP/B8rIOwE1qmXEXrLbcKry3btpcPP/xICh92mKxZtTxWkRI637xVG/n4k09tmDatWki1KpUTCp+o51+3bZP6DZsIfoNc3dq1pGmTRkGn4jr2xptvyf1dulq/FF7jQpavPE2dPkOOPPJIqVyxQkS5//r7b7mj1N322CP9+8q111wdcZ47JEACJEACJJBTBCi85hR5pksCJEACJEACJEACaSCAUYLr3ntPunbrEWHvdNzokXLB+eelIYXUo/jll61Sq16DiPy5sTZqUE8a1q/nHkpoG8Lu62+8ma8W19q5c6esemyNDB852mNVsuRpAtEplRHEXmRRNt55d52079gp1MeIoYPlsksvCT0f7cQ///wjt91Vxnqh8BqNVNafgy3VvgMekb/++steU53NiOpkP5CkK7cfmA8YZ555hhx80EGZoqxUraZs2bJFZs+YKqeUKJHpPA+QAAmQAAmQQE4QoPCaE9SZJgmQAAmQQEIEvlm/Xr7831eBYWDP7Sgz+iVR9/wLL8o/RrjwO4xIu+bqq/yHvX2IAu998IG89dY7djXuX8wK6wUK7C8nFTtRTjzxBPtyet5558rJxYvLtxs3Sq8+/WX40EFyuJlivO6992XLzz97cQVtFDKLghQtWsT8FZWiRYrEnLILsek3M+LP7xA2GeEDef7s8y/80dn9iy+8UI499piIczvNyuRPPvmUHXGHesIU4+OOO06uMoucXHXVlXLE4YfLw736yO233uLZ8sQK1M8+93xEPMns3HDdtVKoUKFkgu4zYV586WV56OGeoeXBVP4ype6Sdm1ahfrJrhPuSMagNMeMHCYXmWssGbdsxUoZNmJUvhFexxvTDTqtOogX2kTU+W3mvssqN2nKNJk9d15g9Eh/pjEhkUzbjAjRZjz3/AtJ23iFUDhy9FipXKmCnF6yZGAeeTA2gR6mHtaaelDXuGF9aVCvru7mql88B+82I99xzcHUwH777Zer8sfMkAAJkAAJ5F8CFF7zb92z5CRAAiSQZwi8+fbbsmrVY/Lm2+9kGjFXq0Z1adHs3oTKgmm5mJ7rdxBxIfzUr1vbf0ogFq55/EkZM35CpjzgRc8/7dY9tmThPCvIQix5+511dnXwTAmEHLjrzjukXNm75cILzg/0MWjocPn666+9qcaup5XLliQsfOjIQTcelOXKK6+QmtWrSsnTTvNOfWXS7dmnn6xfv8E75t9QDph6jCnIcBipN2TYCPnw449l48bv/EHi3p8/e6Zn4y/uQPSYowSiCYa4VmbPnGbF+kQz+f4HH0rrdh3yjfCaKJ+s8L/LfHQBczVz4E8DH7AGmtG3BZIQwGbNmSuTp05PSnj97vvvzejvhwUfsbDI0mHmYxpd4gRWrn5MBpvni9+NHDZYLr0kudHM/rh0f/PmLTJk+Ahp1aK5lDi5uB5O6BcfIfH8qlypgrRv0zqhsPRMAiRAAiRAAllJgMJrVtJl3CRAAiRAAmkl8Oeff0rjZi0yiXVYrAaL1sTr3MVoNEzb1i2lauVKuhvxCxuSGFWIEavqSt91p9x6y812yiMW8YB9uc/NSNFn1q6V5StWqTf7O2fm9IiXSf9IsTPPOEPatm5hRoseIFu3bjXC7P9k0ZKlEQLvPUZ87XRf+9BRPGsef0IGDBoSkW6io5PWb9ggdRs0jogDYtjCebMzjSxFebGa/A8/bLL+H+raRbCgExxGzL7y6qtmNNx8u49/WH36vvZtvX1sYEGUvv0GyNPPrvWOly1T2r44u9NZYSMUdb9166/y4suvyJNPPW39z5w6WU477VQvLDdyPwGI7s1btQ39+HC9GcXcv0+v0Os8rIS4RxcuXiLXXXutnHP2WWHecuz4iFFjZOmy5XLKKSVk9vSpOZaPdCf8w6ZN0rBJs4i2yk0jWrvq+vNvf2nawBdeekmqVKpk7Hke4T8dug/xrUfvvmYGQjEZYWYaJPJcCI00H57AR7UGjZvakteuWUPq1akljwweake/4pkwY+okKWJmVaTL4XnyoBHLIeIPGtA3qZHveK6//c67MmfWdDvDJF15YzwkQAIkQAIkkCoBCq+pEmR4EiABEiCBbCXgLiCkCbds1lRq1qimu1F/f9q8WapU3z3y0vUIcfHEE05wD9ltCH5NW7aOGNXZqWMHOwo1k+c9B2DGoHvP3t7paZMmyBlnnO7tf2RGerZo3c7b79CujVSqUN7bx8bf5kW0txElMZVcXccO7aRCuXt0N+IXU2vvKF024himmS9fsjCTaBrhydkZOmJkJtH47tKl5IHO9zu+dm/OX2hWqp8wye40adQwcJTwy6++Jl0f6m79QFAb0HcvE43QzyqeRVHGjp8oCxYtlikTx8lZZ56pUfE3jxDAiMSadeqH5hYCPYT6fcntq8Ir6ghmQ3oasTPM+du/MH+pHodpApgogJ3bUcOHUnxLEqj7gRNtP54BcPhQNn3GTJkxa441Y4PRxAUKFEgylczBIL4+1L2HXYSvb++ectMN12f2FHJEzZhMGDtazjv3nBBfPEwCJEACJEACOUOAwmvOcGeqJEACJEACSRKA4AbhzXUYgYPp/AceeKB7OHB74uQpMmfegkznHjOjZmGH1e8mTZkaMXJz6OCBcuXll/u9Zdr/4ssvpXHTFvb4+DEj5fzz9i5y5I4mgocHu3SS0sYOp9/9/scfUrN2vQgzBi+sfTp06u4Nt9zuj0KCRN1MnsyB7du3S9kKmVdDr1Gtqpn+2SxTEIwAVlF49IhhcvFFwbY59YUYo3qnThqfKR6YkejY6QHv+OCB/eVqYxs2mlPhzs81Whiey10Ennr6GenTf2BopjCizjVrEeoxj5zYl4VXVAFGQ65e83hgbcD29fTJEwUfgrLKuYu3ZZfQm1Vlyel4MWNj/qJF0sUspBVkUgD37oTJU6WdmSVy0403pDW7+OD4oIqvvXrEFT/skt/bvJV9jqY7P2ktHCMjARIgARLItwQovObbqmfBSYAESCBvEsAU/NFjx9uX+D+MMKmuqxmZU2bPyBw95v/FSJ4KVarbabGY0u4KBY+vWp7JFuCGbzdKnfoNvWiuu/YaGdivj7cfawMjg6ZOnyHDhwySyy+71PP+9dffSP3Ge+3ShgmvCKCLzGjgBXNnSbETT9TdiF8IrxA3XC7HHHOMLJ4/J+ZK1BCjIUpjRO3ylXtNJWCaafOmTSLSwU712nU9MwOxxN0HzKhXmGl48rGVmeLxr44ej/CKSOYvWCRl7y7NqcSZiOadA1gtXc1G+HNdvPhJMs2IdUErl/v95oX9fV14xYj7Rk2bZzIDo3WDBd66mg9MWeVg0/XlV16VCuXvkY7t984myKr0GG/WEcAClJWq1rDPsrnGbMDRZqHJMPezWdyyVdv2xhRCbW9kbphfHicBEiABEiCBnCJA4TWnyDNdEiABEiCBpAio8Nq6ZXMZM26CFweEmjkzpkWd+ghBcejwkQLR9bjjjjWi6EwvfJDw2r5jJ4EwqC7Rqe1YMKRy9ZpWrIVoqy4R4dU/kizawiYQXi84/3w55uiiEStR93y4m9xm7NGGuZ1mkZzK5kUXC4TNMiuR12u4V2iNR3jFiONJ48fI8ccfH5jEC8ZcQjczQnbt00/IAQULRvhJVHj9/fffpZARl5NZsCciYe7kOAGM6G50bzNPwPdnCIvKwazHvuD2deEVdfS/r76y9l7D6qtHtwfl9j12oMP8JHPcHT29evlSOeKII5KJhmFyEYFpM2bJ9JmzBAu0wfzMfgELtG3/7Te7uNs9ZcpItaqRszUgyMJeOmZa0JEACZAACZBAThOg8JrTNcD0SYAESIAEEiKgwuuIoYPtYjqvvf6GFx6jUV2B0zthNrBAU8269a3Ig2nML5lFmqIJrz/+9JNUrVHbiwKC5rjRI7z9eDcg9N5+2y0Ri4UkIrzWbdg4wr6sf6EuNx8qvLZp1UKatmjlnYLNQ0z1DXp5hadnzOJWvczCJLfcfJN0f/ABufXO0l7YMOG1e49e8vyLL3n+MJ24b88eEbZs9SSmj378ySeB01YTFV6bt9ptD/fOO27X6Pmbhwl8/sUX0qRZy9AS9O7R3V6XoR7yyIn8ILyiKh5dvkKGjxwdWivz58y0C1+FekjwxL///isVzSwGfDS68orLZeigcPMVCUZN7zlIAB9lMOoVsze6P9RV7rz9tojc4HwH82H06quukkYN6kWc+/HHH+1MkWb3NrG2aCNOcocESIAESIAEcoAAhdccgM4kSYAESIAEkifgCq8FC+5vRrzc50UWTRyFQNu560NyxeWXCRYFmTFrdlThVW2TauTpnMIar/DqFyUxsvTRxQukoG/UqOZRhVcIxG07dLTT+/Wc39yBHscvbNHCJi1spmKxqniEV6we3eH+zm40drtFs3ulapXKmUa2ZvK454C/jNFMDWz99VcpX6mqtT1Y9u4yYVHyeB4jsGixMR8yLrP9XxQDpjNmmg8lYaOp80pR84vwmmEWYMK0/1fMwnpB7pyzz5Kxo0fG3T4ExeEee/+DD+2oRxyDSRR8KIrHQbjbuPE7OeCAgplsCWMRqc8++8x+rHNtc8cTb173gw+UP/20WTZ+/51cctFFhs8BEUWCLfBPP/tczjrrTMHzKCsdbEBjNDOumUnjx3pJYRGuzg88GPF8807u2YCJHdh958wIPxnukwAJkAAJ5AQBCq85QZ1pkgAJkAAJJE3AFV4vu/QSO7ITL4LqwhZcUrMBQx4ZIFddeUVM4XXh4iURpgywwBQWmkqHiyW84uX3zbfelk7m5dJ1sUb/ucLr62+8GRFeBWc3Pmx/8OFH1kaevtzu3LkzLuEVYVVMwrbrYPYBdhZRP7GcX3jFatZXmZFr6iDkwDbvD5s2yZRpM6zpByz6korw+vgTT8onRlhJh7vLjLzNb+JMOri5cUDo6mI+iuCaDXL4oDJq+JDQDw5BYXLbMb1XTjmlhMyePjW3ZS+t+YE4V7dB44hFAd0EwkbRu37i3YZgD+EeLqzt17ief+FFeeKpp81Hpv/Jli1b7GEIdAvnzY4QgjETAh/m4Bo3rC8N6tW12/vqP4wqhd10LProPku7dOpozfJouXfs2CFlylW0u/ggMn/2DClSpIieTvsvFvkaOmKkjXf2jKlySokSdnvE6DGy9NHlUdNLRISPGhFPkgAJkAAJkEAaCFB4TQNERkECJEACJJB9BPzCq9oP1RzceMP10s+Id67DC2WDxk3F2oGdOd2Ogok14nXAI4NljRHo1CFOxJ0O5xdeK5YvZ23ZwWbd+vUbZM3jT0SIFnjJfeiBzjHTd4VXiFn1GzWJMFMQtNq3mgxQUTcR4RXTfCdPnS5z5y8IxIIFdWCLt3DhwoHncdAvvIZ6dE6kKrz2HzhIHn/yKSfG5DejLYyWfKz5LyRGMzdodG/Ede9SaFCvjhHBGriH8tR2fhJeUTFYTA+j7sPc0MED5crL935gCfMX67hriuXRRfMFQmqY+2b9etm2bbtglCwWPVQ3oG9vuf66a3VXho0YJctW7F4IECZUFs7dLcJ6HvaxDbTj76xbJ//8s1OmG9uqmP0A5/9IoDbLtfg9uz8kt916i+6m/Rf5wGwMuDq1aghMB9CRAAmQAAmQQF4kQOE1L9Ya80wCJEAC+ZiAX3jFS2Oteg0iFujx20HVBaoe6Hy/t/JxLOG1dbsO9gVdUWel8Kpp+H/vuvMOudqMzoXge+CBB/pPZ9p3hVecdBedwT7sosKGqzqMIq1eq64VKxbPnyP777+/JCK8ajwQWQYPGx64ojmmo44eOVxKnFxcvUf8+oXXq6+6Uk7wLdL1B0a8/rBJPvzoIxs2VeF15uy58szatRH5SHandYvmdgR1suEZbi+BMPMV6mPMyGERtpL1eF74zW/CK+rEHTnqryN8TFpkRpqmuhDWXXeXs3ZAEX/QAon+dHW/t7Fp/bSxbQ1Xt3YtadqkkZ6yo2Hv6/yA/WgF+9gzpkzyzu3rGxs2fCt1Guxl8eRjK625Dy23OxMkmk119Z/KL0wK3FHqbhsFFsmaOinYHEkqaTAsCZAACZAACWQHAQqv2UGZaZAACZAACaSNgF94RcQrVz8mg4cO99JwV0PHysblK1ezL48rH10sBx10kPUXS3h94KHuEXYKsWBVNWO7NB3OP+IVU2+xejMWuNIpsEinf59ecsP118WdpF943blrl1Q2C5Rg4Rl1EFjVXubY8RNlwaLF4pYtGeEVcSPcwkVLZOKUzNOoIb5OGDdaTjzhBM2G9+sXXqPZeFUhOVXh1UucG7mOwMTJU2TOvOAR1BPGjpbzzj0n1+U5ngzlR+EVH8XatO/ofTBxOaFNmDNruhweZTS86z9o2xXmcP75Z560H4+C/PqPPWZmFQwcNMQexqKCGPHvuo8+/lhatG6X7SMt0R7C9myq7pKLL5ISJU5OKppyFat4zwwsRFnytNMi4uloRGmYwlm94lE54vDDI86lcwdmZm689Q4bJYR6iMB0JEACJEACJJAXCVB4zYu1xjyTAAmQQD4mECS84gUciy7BVp26ZUsWytFFixpbfXPstFJMU8Z0ZXWxhFcIuRB01VWuVEHat2mtuyn9+oVXna7+pbE92Khp84i4/aN3I076dvzCK077Fy6qVrWytGnZQn7//XcpVba8jeGJ1Svk0EMPtdvJCq82sPmHUbRY1dxvrxNTgOfOnCaFChVSr/Y3EeEVASAKYHRaKjZeIzKQwzuos9zsXnrumWzNHj4W3Nu8pXz11dcR6cJkRfWqVSKO5aWdZIXXdF8f2V2fWGG+as297a7WWTpEdH/ciZRNzc8gP0GjWucvWCTjJk4ydkxnykknFdNs299d5hotUKCA/Ys44dv5559/4pqp4AaDGAxROFXXrWsXwYyJZJyan0HYR/r3lWuvudqLBva2K1SpLjffeIN07dLJO55VG8mOaM6q/DBeEiABEiABEkiGAIXXZKgxDAmQAAmQQI4RCBJekZlZc+Zae6Oasfp1a9sppOX2CLIrzGjXIkcdpadjLq7lLuyBQBiROmhAPy98KhthwividEdiYR92aSdPGCeHmhE/sVyQ8AqBtVK1mhGiNEYqPfPMWsEiJbVqVJMWzZp6UacqvCIiLA42acq0TLZfg0azJiq8op7PPeccufyyS7085+WNdAtr6WaRiJiVjrSxgE99Y4/ZHfkNUxt9e/WQ/fbbLx1J5Egc+VV4/dQsYte0ReQHq/ZtW0vlihVSrgeM5MeHGHWJXKvuhyf/aEp8wKtoZgrcakbCYoEp1/1mrs869RrKEUceYU0QwDxLkFu95nGBiZuOHdpJhXL3BHkJPObalw30EOfBVITXCZOmeG33fe3bCmyQq8MMCcyUmD/HCNLFIgVp9ZPOX3f07cxpU+S0U09JZ/SMiwRIgARIgASyhQCF12zBzERIgARIgATSRSBMeMVK2mUr7DUFgJfpJo0ayKgx48Q1PaD5iDXi9duNG6W2ecFWh/gg3h68x1SBHk/mN5rwivjUJq3GjdFFvXs+HFN4ChJeEcckM/1/9tz5Gp1dqXvl6jVW3HJND8BDPMIrRFUIn5decrEXZ9CG+wKP8zra1vWbqPDqhk12G3YMXfMLycaDcMVPOkmKFs26lb1TyVteC4upxQ927yEvv/Kql3UsbjR14ng57LDDvGN5cUNtisJ+8SJj7iM/OIiUWNTQFdEhZvZ8uFvMtiwePrhedCo6/D/9xP+zdx7QUVR7GP/TLIcDqCgK6hNp6hP1PUEsqCg9VOmdEBIgAQIhIfTeIdKRGggdgpTQmyL2AkoHpSNdBEXx2fHdb/CuM7uzJckmmw3fPQdm5s4tM7/ZbE6++d/vvz5V38/maEpz1D++3xYsWiwrkpdIoULWZF3mKNutG9fJbbfdZnupc1SSqqR586Vh/XrSNbqTbRu7StwT/qW34CVFWl9UmF86wgYnsv2NpFZIgNesZaiEVK/qdvWHr1G+vrYzC692tgfp5cT+JEACJEACJJAZBCi8ZgZlzkECJEACJOA3Alp4Hf/6GJeox8lvTBOcdy7zkxLl4aJFLdXehFc0ju/Vx7JkPqpDOxUh2sQyTloOjh8/oaL62jm6aqsBXQHrhMhO0Zbl1sjojMzOnoo74fXby5elnloe6lwgggx28jb0RXjtO2CQXLhwURJnTPX4x72zB2O5Z8rK2DGjLJeRHuF1g1qSe+DgIYmP62YZ09vBiFFjZOPmLd6a+XTe+dn51ImNbAmYE/foBkmJM6RE8eL6MGi3ECCxvD1PnjyybcvGoL0PXy/8uhIP+/QbYPHJTk30vq/ztAoLN5Jgof2aVcsF3rG+lvD2UXL4yBGjuf4dcebsWUNcxHctvnPtCvrgRZyniE989x04cFAef/zfqRKD7ebL7LqPP/lUevTua0xr/h0xRtnvrFX2O86rR/T17d6zV3n6xoo3W55hI0fL5i1bZc7M6VKyZAnd3XZrFsfdzWvbkZUkQAIkQAIkkIUIUHjNQg+Dl0ICJEACJOCdwEIVuYkETs7ec+gJf9EmzVtZBnnu2XKCJe7OBdFIiErSxS4jtjm6Sbdbu2qF3KGWmfpa9u7bL7lz5zKWx+s+3oRXtDt77py0bRdpsQgYmzBKypUtq4exbCF0VFCJSOz8CtHQOYoWdXY+i4hEqlStBk4bxRzxpOt0JKuddYBuo7ewOdARb3ZjpVV4RTRdo6Yt0uQ1OHJ0gmzYtFlfYrq26VnSm66Js1lnnczIfFu9e3SXGiHVzVVBu98pOkb27t9vRO7iuya7lyXJyiN1+kzLbc6bPUuKFXvYUpfeA3MSxEUqWde/HnzQ5yHNXqb4bi1bpozEdu8h+H7GWPncJP6Czyk8XnWiRncTws7gdiXQ5gwyiwyz/+1jjz4iM6e9IV/s2i1dY7tLx8j20qxJY9tbfvud7TJoyDBBYq9J48fatkFlR/WzsE/9LAwbMkgqKBsRdwWRv+aI5tQkT3M3JutJgARIgARIIBAEKLwGgjrnJAESIAESSDMBvWx+YL8+UrlSRZdx9JJefcIuMhbnpqnEKYtVAhVdVq9YJnfd5bpkfMXKFMMLVbeD32SfXj188lzdqMS9EUrke61ubYmL6aqHEGffw+6xMVK3di3Heb3z0cefSM8+/fShEWU1N3GmFC58n6NO78CXENFBSGK1ctk/tgL6/MlTp6RVm3B9aGSHh/DqXOCxWaNOPUe1XfQSko4h+Riiy2bPnGbM6ehg2vlVRX1Vrl7TUYPM4cggbi5IwoXIYl18EXORLX2kSkKDqKlB/ftKpYqv6u4+bWEz8L3654+CpePulhv7Y/ybYYzvv78qrVXkotn+oVaNEBd/zWBmkVaP12C85337Dyhx7Z/vO9xD/z69pGqVyn6/nZUpq41kfhg4td8F8CqFZylKz+6x8qt66YTnZCcIQozEi7p96kUaPqd232UY59PPdhhJGQ99+ZXxwil58QIpUrgwTgVNwUutmn//DkBkL36ftAqLkPz580mi8hvPnTu37b3g5d/u3bulRIkSkt+NaI2OWIFx/vwFIxrYkyj9yy+/SJWQG78XYTmSvGiB7bysJAESIAESIIGsToDCa1Z/Qrw+EiABEiABC4Eu3eJk1+49br3zvjp8WCI6dDT6FC36kMxXCTnsvO56q2WwZi9Ju+hPDAKRD8suP9ux03EdEDf7KvG1zNP/ddSZdxDhOXnqdHln+7uC5fWjhg81lhjrNu++9770GzhYH0qb1i2V72obx7F5R/sN6jpEtCKayPkPW73ME+1Sli+z9R01R4fZiQvoe+TIUWnbPhK7RrGLGN75+RfSTUWGoeB6EH18b6FCxrH5v8Q5STJvwSKjCu1mTp3ikuV73foNMvr1cY5u3bpGS/3X6jqOnXfgvTtLeTBuVwxR3N2rcz8eZ00CSMSGlwsQ4HXBZwU/j/7wU9ZjBnp7swivECVDlUhnFtGRXApJpjKiXP3hB6lVt74xNJJAIRmUr2XFKvVSTQmtKC+Wf8H4fYDtyGFDbIcwC4GrlifL3QULurRDG3w/4vcLXkzB/iAYiznpH+wGtqnfZbCWeaRUKY+3A6/1/Pnz2/7ONXfECz53EcW6nTnytmnjRtIpqoM+xS0JkAAJkAAJBBUBCq9B9bh4sSRAAiRwcxJAJM3lb7+VLW+9LVjmrgsinCBsOv8BFxMXL1jCbue/iei6jz7+2IiY1ONg+0Tp0tJNZduGWAsfRnOBOJS8bLlMVVGy5lKqZEl55JFSUrJEccmbN698p5KP4I9uLSI1b9pYwtqEOgQkLOM/cfKkjHl9vMNbEOMhqmjo4AEqCvXfLpG0EH7jevQy7kfPDa/E+Nhu6o/gksYfuPgD9fXxEx2esOVfeN5YEnp/kSJizroN24NOXWKMCFUk1TKfg7crRE345IKduSBat0KFlxz+idoH0dwmLLS1kWwLAuzlK5clZc06IyIVbXB/s6a/YVkGDA/Eo0ePGhHBp0+fMQ9lRMUikvSWW/IYwve1az/JtWvX5MixYw4/R3SAQIcIYJbgJYAkRni5oAs+K4ii9uSfqdsG0/ZmEF7xPYnodfNLKnxHTp08weuy/PQ8y6EjRsmWrW8JvhcXz5/r81B48QaBVBd89hbOmyP33H23rrJs9cstb9GXy95coV68TZNgjto2e+cCgp1NjIaDF4yr165TKzm+Mqxx3InS8F/H70b4cuP3pd3KDD0mtqtWr5FxEyYZVVMmjpOnnnzSfJr7JEACJEACJBA0BCi8Bs2j4oWSAAmQwM1LwBw5aUfBOQHPZzt3Sv+BQ2Stija65ZZbHF0g3A4dPtJxbLfj6Y93iKabNm+VrW9vc/iWOo+BP96rVq4kdevUckkKZPY7de6nj+GnB189c0E26TZt21miyHD+biUQfKsEaXcFtgjDlY+euSBpF5b8OkeV+nJtennt73/8IRWrVDeixJC0bOfnnxt/dJvn0fsQH9pFtJW77rxTV4mzj6zjRCp3PCXASeVQbB4AAohcRwS7ueDzis9tVirwn500ZarxGU/rZ+5mEF4R3Y7val3wXYjv5oxear9n7z7p3PVGgr0pE8crge4JfQket0iShQRbuvTv29v47tbHzludkLFBvdckRr2kc1ewQgIJqjLKXsHdvP6sN68IwctIWAx48rTF79y4+F7iSZT+SdnhzF+w0LD4qam8m3spD2dPZeDgoUakLcaEoG5+UeipH8+RAAmQAAmQQFYjQOE1qz0RXg8JkAAJkECWJ4CkH8dPnJCLF78xxFD41MEftmDBuwRC5M3wB+Lb296Rp5XVApbTosC37+jRY/K9WmqK8uADD6gI1wdcopGNk/zPJwL4nGmezh1uUVHZiBpzV7CU9w8VLe2p3FGggNclwZ76p+fc5ctXJCyiveVlAiLEozq0T8+wfu178ZtvZIaKsMeLFl3weU9RftA5c+bUVT5ts7vw+sWuXSr5UryFBSxWEH2fGUXzxUur6crSxJN3qL4e2CHUqdfQOAypVtXw7tbn7LYQdyHyDh00QF6p8LJdE/lDvZR6Vb2UQnlz6SK57957bdtl9UqsfECEKso8ZddT7OGi2HVb5s5fKLOT5oo3uwdtd+NNlIZlQWOVKBPe5Yx2dYudJ0iABEiABIKEAIXXIHlQvEwSIAESIAESIIGbi8AlFc3ct/9A22hiCIDLlLDjzgcVSeaOqwjtY8eOu0BDVHch5VM8LmF0qgVEl8HSUAH7DHgEI+JVF1h9TBr/utvEPbqdL1sI1pcufSsFCuT3GKXnbiz4dCLp0uykebZN4LGMzO2pKVoYRPTggqTZqema5dvipUuL1mGGSKYvNq2Rwbq/eYsIeVjE3HPP3W5fFMC6pF1kR8OKZNCAflLp1VfMQ9jua7EYz2SWWmngKUkexq/yd6JAT77SBw8dkg4do90mObS9kCxWaf759CaQ6kvXorReFaHrzVuLKK2sbu5TdjLuCiwGYDXgLbrYXX/WkwAJkAAJkEBWIkDhNSs9DV4LCZAACZAACZAACTgRgMfxW7DJUF6W5tKlc0dp1OBGYiFzvXkfvr0QxVCeKVtGBvbrowTJAuYmmb4PQRPLtnXx5q2p2/m6PXLkRoK4duFh0rplC1+7CThvU5HcsBUwJ4dyHiAtyaKyq/BqFuk0J4jS418f47fIf50Ey5uNAKxgWqvEXvg8TZkwTkqWLKEvyWV74cIFCQ2/EV3ti6fwnr17lZ1BrFcf2SVLlxle4Gn5jLhcZIAqps2YpewAkn0WPc2itDt/V9zKoS+/lPZRnb2K0vrnF0ksF8yd7eJ7HiAsnJYESIAESIAE0kyAwmua0bEjCZAACZAACZAACWQegTZqab45ghUC02q17N1TpB6SplWsGmJcZPLiBRnut+mNhvaCNLebOC5BJWb7r7kqXfvai9PXyEc9mRbXcPz8c88ay8Q/3bFDzp07r5sYW3Bfl7LCJQmfpZHTQXYVXp39txGJnaQS3sF2xV9FR1OufHOp28RXei4keOqpPFZ/VVGy06ZMciyRRwKorw4fUYn7Xpa7C94tMd3jjejYsQmjpFzZsrq72+2iJUuNxI4N69eTShVfkdtvv12KFyvm0h7JxZBACokfK1V81eV8VqtAtHKKiiy9U3lw16ldS9aoJFn4rJZRNjIJo0dKnty5vV6y9mr25I+OQZYkK1F6+kypU6umxMfd8OR1HhxR/njeiHAeO2aklH78cecmPCYBEiABEiCBoCNA4TXoHhkvmARIgARIgARI4GYjgOXvVUJqudx2p6gO0rRxI5d6XYHEUFGduxpCyoSxCbo6INtLly5JyzbhliXp7VXitVYtmvv1enRGdl+8KZ0n3rxlq5GcSS+DRiK5SLV0HImYzCW1/qXZUXiFwAih0Vwmq0jT/zzlv+zzV65ckboNGhtRrJvXrzFP5XYf0cpIzAShda4SgXPnziVIHqgLhHN4h8bGdDE8SXW9p+0ANR7EWyTuQsLGEUMHu7zwML/k8EUk9jRfZp3Tn0vMp7kgmdUslUwrf758Pl2GTqrWoL5KOhbtPumYN1H6m28uSXS3WIPvyGFD5IH77/dpfjYiARIgARIggaxOgMJrVn9CvD4SIAESIAESIIGbnsAXu3ar5EXdHeKIBgKxZJWKBMTWrixcvFRmzEqUDhHh0rLFP+KTXduMrIO/Y5du3WXf/v2OaRBVOmrEMJ8SITk6ednRnNBs29ZNPkXseRnSEF3D20dZmlWpVFEGKNsGX4sWuLKLxysSj2FZPwRMXaI6tJPmTZvoQ79sdfQyIjBT8+IAn7fkN5dL9apVlUB6qyG8mq+1R1ys1K5Vw+drHDZytECUf/zfj8lIlTQMkb3OZd/+A9IxuqtXOwLnfoE8XrhoicxI/MdzGMnJ8FIBySJ9LXE9eslnO3bKsCGD5Ff1gujF8i+4fB/hBUbFv5OOrVy2xLAbMI9/5bvv1AuiLlKieHHp26uHS39zW+6TAAmQAAmQQLARoPAabE+M10sCJEACJEACJHDTEdACVPfYGLUceL0lAjOyfYS0aNbUlklsfE/ZsfNzmTp5ojxROnDLdrVvpL5I+DcmJc6QAvnz66p0b39SImArFVGLyNrixYsZ0Y7pHvTvAXQUrXm8TSoCM68bwdvcDvvZSXiFiBatloMfOHjIcZsQ24arKNCcOXI46tK7gyhjLXg3adRQOneMTPOQH3z4kaxMWS3/evBBqVa1sjz26KOpGutXlVzrrLKcKPrQv9wmpNO2C3Hdugo8XoOh4Gdm6rQZcuHiRUMwDakGofq2VF16tZp1DAEeL1KKFC4sMV1co17xWYnsFC2Ipk1e9I+/s57o6tWrskX5WDdQVg7+/Azp8bklARIgARIggUASoPAaSPqcmwRIgARIgARIgAR8IKB9LucnJQqW5Hbv2dvRC9GuiCLLmzevow47yAZfqdqNqL63N28wlvBaGmTSwQcffSy9+/a3zDZTZZFHdJ2/CqIZRyeMlW1qOTgKBKQ+KnLOX2XpsjflDSVQmQsSlVVWka++lIwQXn/++Wc5d/68XL36g/LI/Y/jMiCMHlbL7GFPgURXOXPmdJzzxw44gIcuENHnzZ4p+Xxcmq77edrivvAZP336jNGsT894CalezVOXTD+HZGxrjQP+qgAADMdJREFU162XewsVkrJlnpb6jZoa3rLefJcz/UIzeMI69RoayeggNkN0zZUrl8uMOrLWmx2BS0dWkAAJkAAJkEA2IEDhNRs8RN4CCZAACZAACZBA9iWgs4ZDYN24brUREdYxOsaybL9deJi0btnCAkEvfX6mbBkZlzDaci6zDs6fvyBICmZe5h0XoyIC6/onIhARe/AanagSAsHbUxdERyJK0l8FEYGNmlr5IsJvzMjhPk3hL+EVkYOzZs+R48dPOO4Xy97XrFpuXMfOz7+QEaMTjKhfVEDchsjtr/L+Bx9Kn/4DLcPNnjlNSpUsaalL6wGeIcTMWbOTLEP4W6i3DJ7Gg5OnThkR1k+ULi0vv1TeEOY7tIuQls3to8/TOE2W74Zn9svPv0jhwve5vVZEu+KzO2/2LClW7GG37XiCBEiABEiABLIjAQqv2fGp8p5IgARIgARIgASyDYHde/ZKdEysEndelOHKRxFlz959RvZv40D9B1F2+dJFlqhDHWUWKH9XRNwiUheZ5s0FgmV6C6I5T5485RAfncfzNVu9cz9Px126xQkyuJsLBE87v09zG+z7S3iF0PyN8ledmThHsHwepVaNEOkZHyfb331P+g8aYtSZ/0tZvkwKFvTds9Pc17x/9tw5adsu0iKi47w/nuf3Srw79fVpl7H1/Eis5c7HWLfJ7K3Z2gLX1qxJYwlt1UJy+NFuIbPvyV/zXbt2zbB2qPjKK/Ln9evSMjRMnnu2nCSMGuGvKTgOCZAACZAACQQNAQqvQfOoeKEkQAIkQAIkQAI3IwGdNRwZw7FUVxed1EYfh4eFSpvWrfShBNrfdcLkKbJiZYrjejJzxy6BT3rnX79xk4wa87plGHju1q1dy1Jnd+Av4VWPPVJFtW7YtNk4HDSgn+E1i6zxWO5dt04tCYvooJvKhjWrLIK840QqdiCiR3XuavEWTkX3dDV15wuarkH91Pn333+Xixe/MaI97ZbY+2maoBtmjYpaThg7Xn0ftZQjR4/Jh8pu5I1JE+TJJ0oH3b3wgkmABEiABEggvQQovKaXIPuTAAmQAAmQAAmQQAYSiImLl8+/2CWJM6bKI6VKOWb68qvD0i6yo+MYO+uVyJZfeW2a/V23bdkoefLksbTL6IN3lNfqgMFDM3oa2/ERfbhJWTL4O/Lwhx9/lJp16lnmxDLzqZMnWOrsDvwtvGpfTcyFKEKIro0bNZDOUZHyl6qrULGKcRlmGwKjIo3/6etPY/d0dXv1lQoyZKDVIzhdA7JzhhMwfzfhM9irR3d54fnnMnxeTkACJEACJEACWZEAhdes+FR4TSRAAiRAAiRAAiSgCCCbeuXqNQ0W29/a7JK4pv/AwbL9vfcdrBDxisjXvfv2S6cuMRIIf9czZ85Ks1ahjmvK7B0klJo0fmyGTNt3wCB57/0PLGO/uWSh3Hefe39LNNbCZdGiD8mCpNmW/qk9OHNW8W15gy8SW912261yf5EiMmr4UOPzcfzESQltG2EMW/6F54361M5hbv/2O9tl0JBh5qpM3Y9oG2Ys4c/USTlZugn89NNP8sMPP3r0fk33JByABEiABEiABIKAAIXXIHhIvEQSIAESIAESIIGbk4AWUN35I5pFNk1oXcoKwVJf+IBmdrIfJAJDIp1jx47ry8n0LSI/oztGZci87yrRtZ8SX82lY4f20qxpY3OVy74/hdcNyvJgpMnyABG+yYsWyB13FDDmXbV6jYybMMnYj+4UJY0bNnC5Hl8rvj59Wlq0DvO1eYa0GzF0sLz0YvkMGZuDkgAJkAAJkAAJkEBGE6DwmtGEOT4JkAAJkAAJkAAJpJGATpAV2T5CWjRrajvKsJGjZfOWrY5zrVo0k4OHvjTsCaZNmSilH3/ccS6jd8YoX0dkpQ9k6a2WNdcIqZ4hlwBhucrfEch6Al+iWP0pvDo/byRcQ+I1XcxRuXNmTpeSJUvoU6na4l5hZYEkZoEsSxbMkwceuD+Ql8C5SYAESIAESIAESCDNBCi8phkdO5IACZAACZAACZBAxhLQCbI8JaYxLz13vhpf/F2RgXx0wlgZOnigc/dUHSPREBJQBbqUV16SWIKfUQWs1m3YaBl+3uxZUqzYw5Y684G/hNe//vpL6tZvJN99/70xvLOVwJ9//ik1lA/t//73P0EkLBJrpTXp04ULF+STz3aYbyMg+7Vr1kjzPQTkgjkpCZAACZAACZAACZgIUHg1weAuCZAACZAACZAACWQVAhAyK1YNMS7nrU3r5dZbb3V7aWMnTJSU1Wst58s9U1bGjhllqXM+gFA3ZNgIuf/+ItI+Itz5NI9tCHyxa5d0jY23nEH29vCwNpY684G/hNdTX5+WlqH/LP1ftnihxUPzq8OHJaLDjYRriIJFNCwLCZAACZAACZAACZBA4AhQeA0ce85MAiRAAiRAAiRAAm4J7D9wQKI6d5WnnnxCpkwc77YdTly6dEnqN25maePJngCi7gcffiTJby6XAwcPSf8+vaR8+Rckr4qSZPFMAGJ1vYZNHFGnaI0I2+XJiyVnjhy2nf0lvK5dt0HGjB1nzFGrRoj0jI+zzIfnOWXqdKMuNqaL1Ktbx3KeByRAAiRAAiRAAiRAAplLgMJr5vLmbCRAAiRAAiRAAiTgE4HFS5Nl2oxZEhbaWtq2ae21z7QZM2Xx0mWOdp78XQcOHirbtr/raIud2rVqSo+4bpY6HtgTwHPB8zEXT7z9JbwOGjpc3t72jjGtnf1EfK8+8smnnxnnYX/wk7Ic2LNnr7RUvr8sJEACJEACJEACJEACmU+AwmvmM+eMJEACJEACJEACJOCRACJSQ8PbyenTZyRh1Ah57tlyHtvjJHw/69Rr6Gjnyd/1+vXrsv/AQenUJUZKlSwpM6ZOlpw5cxr/HANwxy2Bw0eOSHj7KMv5hvXrSdfoTpY6feAP4fW68ncNqVXX8G/FuM7PF+crVKyip5QhA/vL+ImTZUC/PlK2zNOOeu6QAAmQAAmQAAmQAAlkHgEKr5nHmjORAAmQAAmQAAmQgFcCP/z4o8xJmicrVqUYbeEf2qZ1K58SDM2ZO1+S5s0XX/xdl6jo2KkqSrZ50yYS1aGd1+vKyg1+/vln2bN3n08Ctb/uo3nrNoYwrsdDMqv1q1dK7ty5dZVj6w/h9fiJkxLaNsIY8/nnnpUxI4c7xsfO5ctX5LWGjS11sJCoWqWypY4HJEACJEACJEACJEACmUeAwmvmseZMJEACJEACJEACJOCWwPSZibJq9RpHRKNzwyJFCsv0NybLnXfc4XzKcfyjEm0bNm0hoa1aGIKq44TNjl6WPnrEMHnh+edsWvi3Ct6oKLly5fLbwL/8+qusWbtOZiuhulChe2RB0my/je1toIWLlsiMROt8YxNGSbmyZV26+kN43bL1LRk64kaytJgunaVBvdcs8yDitWGT5obfL0Tg3j26yysVXra0yeoHgRDQszoTXh8JkAAJkAAJkEBwE6DwGtzPj1dPAiRAAiRAAiRAAqkmACuDilVDjH7rUlZIgQIFUj1Gajr89ttv0iosXH7//Q9ZvGCu3Hbrranpbtv23fc/kORly+XMmTOGzULRog9lqvB65uxZadYy1HJtNapXk9494y11OPCH8OoyqE0FOJ869bUUfbio5LGJvLXpkuoqfHby5MmT6n6eOgRSQPd0XTxHAiRAAiRAAiRAAuklQOE1vQTZnwRIgARIgARIgASCjMD+AwckqnNXySyxEvYJNevUMyilLF8mBQvelW5iV69eNQTjjZs2y4jRCVK8eDGZmzgz3eOmZoDITtFy4OAhS5etm9a7CMuZJbxaLiQDDnSUdPLiBVKkcGG/zBBoAd0vN8FBSIAESIAESIAESMANAQqvbsCwmgRIgARIgARIgASyK4GFi5fKjFmJ0rhhA4nuZE0SlVH3fPz4CcmRM4c8XLSoX6d4T0W+9h0wKCDCa8qatTJ2/ETL/QwbPFAqvPySpS47CK9/KSuDpi1by7lz52XyhHHyn6eetNxjWg+ygoCe1mtnPxIgARIgARIgARLwRoDCqzdCPE8CJEACJEACJEAC2YxAbHxP2bHzc4FICCHttbq15fbbb8/Qu7x+/brAwzNv3rx+nSeQwuuV776TuvUbWe7n5ZdelOFDBlnqsoPwihu6cPGiXLlyRR579FHJkSOH5R7TexDI55jea2d/EiABEiABEiABEnBHgMKrOzKsJwESIAESIAESIIFsSqBazTpGEi8sz3/+2XLSoV1EhtwpEmpBdDxy9KixJL9mSHXppZI++bMEWrDr0buvfPzJp5Zb2rBmleTLl89Rl12E19//+EN+UwnN/C2eA1Sgn6PjYXGHBEiABEiABEiABPxI4P8AAAD//0K5kwIAAEAASURBVO2dB7gURdaGj5hQVgWUpKCuOSvquiq6RhSQDCZEJElGEEQFEUEQBSTnnLMoUUAF9d8157xmFBNJQdcc+Our62lreronz2Xu3K+e597prlxvVVc4XX1qt53GCA0JkAAJkAAJkAAJkECxIdCkWXPZuPEzadSwvtzUsYOUKFEia2X/9rvv5JZbb5d3/vuu9O55m1x+WXWZM3e+zJ43P6k0Kx9yiEydND4qzP/9+z9yR5++cuSRR8iMKZOi3LNtsW7949K3/z0RyfS6rYfUrHG5Zzdi1BhZ8tBSOfzww2T29KmefVG4+Pnnn2Xw0OHy5ltvyRdffCkN6tWVbl1vynjWd3U9ZrxAjJAESIAESIAESIAEDIHdKHhlOyABEiABEiABEiCB4kXghx9+kJ9/+UXKlC6d9YL//vvvcuGlBULIRfPmSKVKFWX5ylWybPnKpNI+4ID9ZdiQQVFhdrXA7scff5TLatWJyNcZp1eVEUOHeHZFWfCqhWjXsbO89fY70rdPb7nkogutdT4J0LWc/CUBEiABEiABEiCBTBKg4DWTNBkXCZAACZAACZAACZBABAHsdG3TvqOUK1dOHlyU3C7XiIhCbna14BXZGnDvIFn7yKMROXzogYVy0IEHWruiLnj9yex6rV7jClsWt1z5JECPqDzekAAJkAAJkAAJkECGCFDwmiGQjIYESIAESIAESIAESCCawIJFi2Xs+IlSp/YVcmv3m6M9pGmTC4LX555/QW65rWdESbp27mRVOcCyqAteX3n1Nbnp5u5SpUplmTdrRkQ5M3WTC/WYqbIwHhIgARIgARIgARJQAhS8Kgn+kgAJkAAJkAAJkAAJZJxAj9t7ybPPPS939e4ll15ysY3/7XfekQ8+/CiptPbeay+rH9YfKBcEdr/99ptcUa+hQIWDmmOOPtrTSVvUBa8zZs2WqdNnSqMG9aXrTZ20iBn9zYV6zGiBGBkJkAAJkAAJkAAJGAIUvLIZkAAJkAAJkAAJkAAJZIXAr0YgeXH1GjbuJQvnS/ny5ez1lGnTZebsuUmlue+++8raVcujwuSKwG702PGy6IElEfmbO2u6HFqlSpHf8dqpy83y2utvSP++feTCC/7llTHfBOhewXhBAiRAAiRAAiRAAhkiQMFrhkAyGhIgARIgARIgARIggUgCOIwJhzIdfHAlWTh3tuf4+RdfCP6SMXvsvoecXvW0qCDr1j8uffvfI0ceeYTMmDIpyr2wLLSsbnqtW7aQG66/rkgLXn82+l0v/VO/67Ili6Rs2bJeEfNRgO4VjhckQAIkQAIkQAIkkAECFLxmACKjIAESIAESIAESIAESiCYwb8FCGT9xstSvV0e6d+0S7SEDNvcOGiIPr1lrY1qzcpmUKlUqA7EmH8XOnTul0dVNZMuWLV5g1YlalFUNvPnWW9K+Uxer33XMiGECAfP551WzZcxHAbpXebwgARIgARIgARIggQwQoOA1AxAZBQmQAAmQAAmQAAmQQDSBbj1ukxdefEkG9LtLLvjX+dEe0rB5+ZVXZMasOYKDn9QcfvhhckbVqlnTQ6rphP2qLlTXfcrEcbJ6zSOy5KGlgvzNnj7Vdc7566XLVsjQESPtruUypUtLr9tvteoTMp3xXBGgZ7pcjI8ESIAESIAESKB4E6DgtXjXP0tPAiRAAiRAAiRAAlkh8P3330uN2vUEwroli+bLnnvumZV0cinSTz75VJo2bxmRpSbXXC34XL+oCl5XrV4j9w2+39bjoHsHyPHHHRdRvnRvclGAnm6ZGJ4ESIAESIAESIAElAAFr0qCvyRAAiRAAiRAAiRAAmkR+HTjRnn0sXXStMm19nfQ/cOkQ9s2cu01V6UVb1EK3KpNe3nv/fe9LEPwjN2+S5evKJI7Xv8wKhQ2fLxBDjnkYNl77729cvGCBEiABEiABEiABEggPgEKXuMzog8SIAESIAESIAESIIEECOCQK3vYVZ/eMnLUGPn5l1/kgQVzZb/99ksgdH54WfLgUhkxekxEYcqVK2d1vxZFVQMRBeENCZAACZAACZAACZBAUgQoeE0KFz2TAAmQAAmQAAmQAAmEEXho2XIZNmKUdT7+uGOlT+9eUvmQQ8K856X91m3bpEHjqwPLRsFrIBZakgAJkAAJkAAJkEDeEqDgNW+rlgUjARIgARIgARIggcInAMFjiRIlpGyZMoWfeI6kqIeK+bNDwaufCO9JgARIgARIgARIIL8JUPCa3/XL0pEACZAACZAACZAACRQygbWPPCoD7h0UlSoFr1FIaEECJEACJEACJEACeU2Agte8rl4WjgRIgARIgARIgARIoLAJ/O9//5OadepHJUvBaxQSWpAACZAACZAACZBAXhOg4DWvq5eFIwESIAESIAESIAES2BUE7urXX9Y/8WRE0hS8RuDgDQmQAAmQAAmQAAnkPQEKXvO+illAEiABEiABEiABEiCBwibw1NPPyO133BmRLAWvETh4QwIkQAIkQAIkQAJ5T4CC17yvYhaQBEiABEiABEiABEigsAn88ssvUqdBY/nhhx+8pCl49VDwggRIgARIgARIgASKBQEKXotFNbOQJEACJEACJEACJEAChU1g6IiRsnTZCi9ZCl49FLwgARIgARIgARIggWJBgILXYlHNLCQJkAAJkAAJkAAJkEBhE3jt9TekU5ebvWQpePVQ8IIESIAESIAESIAEigUBCl6LRTWzkCRAAiRAAiRAAiRAAoVN4I8//pD6ja6Sb7Zvt0lT8FrYNcD0SIAESIAESIAESGDXEqDgddfyZ+okQAIkQAIkQAIkQAJ5TGDSlGkye+48W0IKXvO4olk0EiABEiABEiABEgggQMFrABRakQAJkAAJkAAJkAAJkEAmCHz40UfSvFUbGxUFr5kgyjhIgARIgARIgARIoOgQoOC16NQVc0oCJEACJEACJEACJFAECVzfopVs2PCJUPBaBCuPWSYBEiABEiABEiCBNAhQ8JoGPAYlARIgARIgARIgARIggXgEFi1eIqPHjZdTTzlZxowcHs873UmABEiABEiABEiABPKEAAWveVKRLAYJkAAJkAAJkAAJkAAJkAAJkAAJkAAJkAAJkEDuEKDgNXfqgjkhARIgARIgARIgARIgARIgARIgARIgARIgARLIEwIUvOZJRbIYJEACJEACJEACJEACJEACJEACJEACJEACJEACuUOAgtfcqQvmhARIgARIgARIgARIgARIgARIgARIgARIgARIIE8IUPCaJxXJYpAACZAACZAACZAACZAACZAACZAACZAACZAACeQOAQpec6cumBMSIAESIAESIAESIAESIAESIAESIAESIAESIIE8IUDBa55UJItBAiRAAiRAAiRAAiRAAiRAAiRAAiRAAiRAAiSQOwQoeM2dumBOSIAESIAESIAESIAESIAESIAESIAESIAESIAE8oQABa95UpEsBgmQAAmQAAmQAAmQAAmQAAmQAAmQAAmQAAmQQO4QoOA1d+qCOSEBEiABEiABEiABEiABEiABEiABEiABEiABEsgTAhS85klFshgkQAIkQAIkQAIkQAIkQAIkQAIkQAIkQAIkQAK5Q4CC19ypC+aEBEiABEiABEiABEiABEiABEiABEiABEiABEggTwhQ8JonFclikAAJkAAJkAAJkAAJkAAJkAAJkAAJkAAJkAAJ5A4BCl5zpy6YExIgARIgARIgARIgARIgARIgARIgARIgARIggTwhQMFrnlQki0ECJEACJEACJEACJEACJEACJEACJEACJEACJJA7BCh4zZ26YE5IgARIgARIgARIgARIgARIgARIgARIgARIgATyhAAFr3lSkSwGCZAACZAACZAACZAACZAACZAACZAACZAACZBA7hCg4DV36oI5IQESIAESIAESIAESIAESIAESIAESIAESIAESyBMCFLzmSUWyGCRAAiRAAiRAAiRAAiRAAiRAAiRAAiRAAiRAArlDgILX3KkL5oQESIAESIAESIAESIAESIAESIAESIAESIAESCBPCFDwmicVyWKQAAmQAAmQAAmQAAmQAAmQAAmQAAmQAAmQAAnkDgEKXnOnLpgTEiABEiABEiABEiABEiABEiABEiABEiABEiCBPCFAwWueVCSLQQIkQAIkQAIkQAIkQAIkQAIkQAIkQAIkQAIkkDsEKHjNnbpgTkiABEiABEiABEiABEiABEiABEiABEiABEiABPKEAAWveVKRLAYJkAAJkAAJkAAJkAAJkAAJkAAJkAAJkAAJkEDuEKDgNXfqgjkhARIgARIgARIgARIgARIgARIgARIgARIgARLIEwIUvOZJRbIYJEACJEACJEACJEACJEACJEACJEACJEACJEACuUOAgtfcqQvmhARIgARIgARIgARIgARIgARIgARIgARIgARIIE8IUPCaJxXJYpAACZAACZAACZAACZAACZAACZAACZAACZAACeQOAQpec6cumBMSIAESIAESIAESIAESIAESIAESIAESIAESIIE8IUDBa55UJItBAiRAAiRAAiRAAiRAAiRAAiRAAiRAAiRAAiSQOwQoeM2dumBOSIAESIAESIAESIAESIAESIAESIAESIAESIAE8oQABa95UpEsBgmQAAmQAAmQAAmQAAmQAAmQAAmQAAmQAAmQQO4QoOA1d+qCOSEBEiABEiABEiABEiABEiABEiABEiABEiABEsgTAhS85klFshgkQAIkQAIkQAIkQAIkQAIkQAIkQAIkQAIkQAK5Q4CC19ypC+aEBEiABEiABEiABEiABEiABEiABEiABEiABEggTwhQ8JonFclikAAJkAAJkAAJkAAJkAAJkAAJkAAJkAAJkAAJ5A4BCl5zpy6YExIgARIgARIgARIgARIgARIgARIgARIgARIggTwhQMFrnlQki0ECJEACJEACJEACJEACJEACJEACJEACJEACJJA7BCh4zZ26YE5IgARIgARIgARIgARIgARIgARIgARIgARIgATyhAAFr3lSkSwGCZAACZAACZAACZAACZAACZAACZAACZAACZBA7hCg4DV36oI5IQESIAESIAESIAESIAESIAESIAESIAESIAESyBMCFLzmSUWyGCRAAiRAAiRAAiRAAiRAAiRAAiRAAiRAAiRAArlDgILX3KkL5oQESIAESIAESIAESIAESIAESIAESIAESIAESCBPCFDwmicVyWKQAAmQAAmQAAmQAAmQAAmQAAmQAAmQAAmQAAnkDgEKXnOnLpgTEiABEiABEiABEiABEiABEiABEiABEiABEiCBPCFAwWueVCSLQQIkQAIkQAIkQAIkQAIkQAIkQAIkQAIkQAIkkDsEKHjNnbpgTkiABEiABEiABEiABEiABEiABEiABEiABEiABPKEAAWveVKRLAYJkAAJkAAJkAAJkAAJkAAJkAAJkAAJkAAJkEDuEKDgNXfqgjkhARIgARIgARIgARIgARIgARIgARIgARIgARLIEwIUvOZJRbIYJEACJEACJEACJEACJEACJEACJEACJEACJEACuUOAgtfcqQvmhARIgARIgARIgARIgARIgARIgARIgARIgARIIE8IUPCaJxXJYpAACZAACZAACZAACZAACZAACZAACZAACZAACeQOAQpec6cumBMSIAESIAESIAESIAESIAESIAESIAESIAESIIE8IUDBa55UJItBAiRAAiRAAiRAAiRAAiRAAiRAAiRAAiRAAiSQOwQoeM2dumBOSIAESIAESIAESIAESIAESIAESIAESIAESIAE8oQABa95UpEsBgmQAAmQAAmQAAmQAAmQAAmQAAmQAAmQAAmQQO4QoOA1d+qCOSEBEiABEiABEiABEiABEiABEiABEiABEiABEsgTAhS85klFshgkQAIkQAIkQAIkQAIkQAIkQAIkQAIkQAIkQAK5Q4CC19ypC+aEBEiABEiABEiABEiABEiABIoMgdFjx8uHH30ku+++u/S67VY58MCyRSbvzCgJkAAJkAAJFAYBCl4LgzLTIAESIAESIAESIAESIAESIIE8IrB0+QoZOnykV6IzTq8qQwffZ4WwniUvSIAESIAESKCYE6DgNccawM6dO2X7jh2Budprzz2lVKlSgW6w/O677+S3338PdYdD6QMOkN122y2mHzqSAAmQAAmQAAmQAAmQAAmQQBiBDz78UFq0bhvl3KrFDdK82fVR9rQgARIgARIggeJKgILXHKv5LVu3yh133iXv/PfdqJyVKV1aFi2YKyX33jvKDRZ3DxgoH23YIB9++FGUe5UqlaV8uXIybMggKVGiRJQ7LUiABEiABEiABEiABEiABEggHoEffvhBWtzYVr744kv5x5lnSL8+vWXlqtUybuIkG3TksCFyetWq8aKhOwmQAAmQAAkUCwIUvOZoNf9hdr4+9tg66T/wvogc3tSpg1zZqGGEnf/m040b5bpmLaw1JkN39e4lB5idrpk0X331lVSsWDGTUTIuEshJAr/88ou89/778oF5oYFd53//+9/l+OOOzcm8MlMkQAIkQAIkQAIkkG0CA+4dJGsfeVTq160jXTp3lD322MMm+Z+nnpaevfsINovMmDpJypalvtds1wXjJwESiCawdds2K//Y88++KdoHbUigcAnknOD1rbffsQP53mZXZ8f20Z+vFC6eXZ9a89ZtInaw7rvvvrJsySIpWbJkaOZ+/fVXufiymtZ94bzZcnClSqF+U3Ho2r2HvPTyK1L1tFNl1PChqUSR0TBTpk2Xb7/9Ti6+6EI57dRTMho3IxOZMWu2fP31N/Kv88+TM884vVgh+fyLL+T2O+6UDRs+8coN/WUjhg7x7nmRPoFZc+bK1q3b5AzTvi4w7YwmewTwaejyFatsAh3MGBv2BUX2cpDdmDmHyC7fohL7qtVr5N1335Njjj5Kal9Rq6hkm/lMgQDHj+SgZYLXu++9Jz1u6yVNrr1arrnqyqgMvP/+B3L3wHvl7LPOKvZrOQinMS6xL4pqJrvcYvzEyfLjjz/mxfox3+d2YY0lrD+bMWuOTJ0+QyA3mT9nppQtUyYsiiJjXxTqeNu2r2Xm7DmWabPrr5ODDjywyPAtjIzmnOB1yUNLZcSoMfZBWbtqeWEwyNk0fvrpJ6les3ZU/iCQDproqMc333pL2nfqItkQEO0w+mdr12+kSVkhcDbfZn/y6Ub5/PPP7RurE0843kvXvTj/okvt7S3dukq9OtG8XL+8Tp7A5VfUFXxS1rlDe7nqyr/qPvmYil4I/4uPgw+uJNdde43UrX1F0StMDudYOYNtuzatczinRT9rTz39jH2ZgJKsWbkspt5wt7T4CuPZZ5+zViefdKLst99+rnOhXCeSh2zOIRIZjwoFRCEnkgj3Qs5S3OTu6NNX/u/f/5GLL7xA+t11Z1z/9FB0CXD8SK7uyCs5XrF8b9++Q95+5x2rwu2sf5wZqMqNfZFIro4h+bR+THVuF6t9FwW3sP5M7VGGAXf3zcimjl09BywKdYyXbi3btLNNZ9b0KfL3ww+31/xXQICC1xxuCS+/8qp06XaLFUJD8KUGb28eWrzA2qud+ztn3gKZOHmKtG3dSpped63rlJHraTNmydJly+0ukjatW2YkzrBIsNty6vSZAoHXwrmzA73l08AZWMBdbFlcBa/Qt9zwymss/UYN6kuHdm1kr7322sW1kZ/J6wSJgtfs12+qEzf3S4q+RpffJeYLg8I2ieQhm4LXRMajwmZSGOklwr0w8pFMGhR2JEOraPvl+JFc/ZFXcrxi+dZ1Gvw8aNZl5Q46KMo7+yKRXB1D8mn9mOrcLqrBFjGLsP4ML15HjB5rd5pjzpqJr7t29RywKNQxBa+xHyAKXmPz2aWu+oBjJyc+DYWeSTXYFQYhRZDp1uM2eeHFl2Tc6JGCnUlF2SgDCl53XS0WV8GrO6GeNH4s9bpmsQmGTZyymGSxjTrViVsuLJwSyQMFr5lv2olwz3yq6cVIYUd6/IpSaI4fydUWeSXHK5Zvd55IwWs4qVwdQyh4Da+zouJSmP1ZIjKJbHJLdf6ezTz546bg1U8k8j4twevvv/8u+NutRAkJUlys7kgyaKcYPj34zegjhdnDHFpTYrfdJGzRhN1niK9ihQrWfyL/4H/Lli3y088/Wz2nQXnQeDSvJUxZVEH8N9u329M6K1WqGKgb5LvvvpMtRi/hAfvvLwcemHnl8Z263Cyvvf6GYKv25s1b5Jbbemp27W7XBxfNj/pMFAcBXXJ5gT6zdWsfDuTuRZLiRRCroKh2fPutbDN8DjzoQMsoyE+YnaaB3bVz5y+wSvofWDjPeve3t6CBE4M89HPiALBE33LtNO3xm2++EXw6VKFC+Si2YXn12yMepL+bac97mnatBgeSoZ3H0nei5XbboYbXX9QxDNop/Kn57bff5I8//oiwRxv+2bT/sOcGiseh0qKS4bT77rtrVBG/QYJXhMFJtmXKlpHS5uA2lDURg/Jl85mMlQebtulHfvjhR7Mr4cDQT6W1DqDH+Naed9gooR+ofLly9lr7qlhp+d0QJ9oj6gw7Itx24ffr3msfg/4F/UyiRsPtu09JOcikp31aUPigdvOZUe+xY8e3cuSRRwQ+Pxp/sn0f0tps+mTo1DrkkEO8uDMxcUKb3GT6STHPX5Uqlb1n41eT5k7fcwEO+hyhLtB+UUcfb9ggv/32uxx37DFRqLR/wDNV+oDStu1jzAoz/vj9/rSd+fuJdPoPfxrfmjFq65atUq7cQV57T2XihrLgr2ad+jaJXrf1kEsuvsheu/1QIm1Jy4fAYWOy1hn6JO2XEs1DJucQtoDmn9ZVIuORhsEvwqG/++HHn+wconTp8EMuE2Hnxu0+S5XNswS9+Jom0nXZueH0GvOizZs3W3/o/92xRP3gN1Hubph415o26j9sbAqKQ8PBrXz58l7/EeQ3TPCqdZnKGAsWMNpn4Br9OtRu7B+gegNt/fPPv5CS6Idj6DkLihdqnb773//kkIMPTnh8BR+My/vvv59tb2F1inyna9Jt28gr5kQYB4LWD0H5c9t8psePr83cb6M5mBbx+usKc6g33nzLtLlycmiVKkFZi2tHXnERRXhIl1e25jCaSV2/Bs0T/WN6UF+E8J999pmUNgeQBfUdmo7/N9W5lz8e9z4Z1m44XGt+Ys1REx1DkA/8pdI3u/lCv4tzKbbv2G76QrM+N4e7hfWFQetHN65Eri0DM89CPx9rfq9zH3/7SGRt6M9HpuZ2iDdo/EF/iDEI42wp85VtmAmqs3iyEx3HMUeJNffwp5ls/6+8EU/YXBNu2v5//uVXqXzIwd6cE25qtJypzgFRZpy3Eysfmpb+ZqqOg+bTmob7q+0gbO6o9YYwGCPx9XWQiSV41TTcOZQbh3L2PyOuH1xrnSXLFW0Ca9CffvrZrOkPkn322ccfddbv0xK86omWYbsR1R2lmDNzuhx2aOSEZY1ROH6PORXTdXcXTSuXPSjjxk+Up5991k4m4Q+nZF7wr/Plpk4dQoUXeOhnGqXKiMs10BHaqUM7OenE6F2gdw8YKI+uWy8N6tW1C8qx4yfIO/991wbv1vUma69xYfv6tJmzog69urJRA2na5NqYB19pHPF+0Ziq17jCNuzVRg8fFvgdOnc1k783vaA3tmohzZpe593jApPDDp27yD/OPEOGDSlgG+EhAzfKKkh3GvI9eco0efzJ/7MLTk0OgpB2N7a2BzSpXazfkebzgAcefCjQC06Uxw5ENe7AiUnx7Lnz7I5fdUe939iqpdV5q3buLx7gRYuXyPyFiwRtR005I2hra1QpVK9+qeWv9vF+V6x8WAYPHWbVI8ycNkXQlp56+lmPB56Xyy69VFo2bxa1oIrFFum6en/9OmtUQHq30WcHAezsefO9Noo0cfLstVdfZTusyVOnmzp60nuuEDfa07XXXB21CNJ4oeMVB6rdN2RoxO5rxN3yhmZy+WXVEU2gyfYzGZjon5ZhaR9++GHSvNn14v9kGoL+CZOmhEaJU3qPPOKIUHfX4dXXXpdJ5nlwn1u41zE6YtG2DjBC6yAT1MegPeLgqbZmt3vYy4SgcIgfdY+yBr0g0vpFu8FAP2/BQq9d+MsaFD8G33h93/fffy+YsCx6YElEcWtefpmgf23X6SbbVlNRNQCdSxMmTRacpKwGebre9MXXXnOVXHjp5dZ6yH0D5ex/nmWvP/nkU2navEBNyuIFc2XBwsWyeu0jVpcxwrr6xdE/LFz8gPXj9g8Yi65s3NA+U37Bths/+oAj/n64Tdf9h0MBZ86ea4XE82bN8JzS6T80kueef8G2O/crCfTBXW/qJL+aySUOjINJRMcrJuD1GkYfnqJpDR1yn5x15pn2NpG2pOXzc9b48NuuY2d7GEnjhg3sadnJ5CETcwg3L7hOZjyCf0w8Z5jDBfC8uOaYo482c4Rr5CKjd9RvEmGHMP8zwjio3/GPj+h/u3XpLH373yPPGF28Yc8SDmeYMm2GGZOeicgCxnMctlbBLLTUJMNdw8T6DUob7QCHNnY2czO8KA0y4Ik5l/uMw985Z//TjKM3BL4oCRJ2IEyqY6z7TOOl90PLVgjmsBCsw2BegrygjwG3MWPHy1PPPGv7FLijv+huvl7yHx7oxvvQAwtl3frHbV/04YcfIZidA1Y752zbT/7tb3+zdv5/DxnVTw8uXRZxCCS4oq2hHYQJHfzxJHKfbtvGQgdjzCuvvuYlh/MIOndsHzquZmv8wO4l7Fh89733vXq6zMz37ux1u5c3XLhz7+H3D07qkFHyKlxe2ZrDRDQIc/Ok6dt7Gz3SYebRNau8eZrbF3Vs307GmDUBxmhVIVfFjM1Ye17ZqGFYdHYsyfS6M5W2qRkMmgsGzVGTGUNS7Zs1T9hIgrkc5muuQd/b2KzP0Rfqi1x1d9ePyZwRgrXuqodXW1mDOy9EvJhvt2xxg+3zNR386twHa6Zk14YaTybndojTP/48b9rlFDO/0HENfiBPaGNUFwZtSNA6S0R2EjT+I/6guQfs1aTa/yvvsLlm2Nrw1FNOtuvz06tW1SwkPQcMizuWHEoTy3Qd123Q2Mo2MF8afO89mkzE74cffSTNW7Wxdq7MCy+InjbzmOlm/eauJ+Cx2rnnWE6Y17oG/UqQjle3rSW7LtL4U+W6yWwyGDVmnLz40stev4s40bZxblKia3rNRzq/aQleV69ZKwMHDbHpY0cYdl2ogeAHu2N0YLnZLAga1q+nzvYXCwRMMtEJqf5Od9GEh3Gl6diCDE5Y79end9ROLnSGN3Xt5glNg8JCVyMEUK7RgRGCJXcSBj9uI3z8iSelT7/+btCIaww8UyeNj+pwIzwlcAOBTWdTDpTznrv72hDY/YpdsGrQmTxghAbuISdz5s6XiVOmZk2/K9JWVn7B69dffy3dbr3dE/ZpPt3fCWNHS9ghWa6/0WbR4hfSqHuY4BUHHi1fuUq9Rf2OGTlc0KH6DQ5z8wvpXT/oXAYOuDth4au2YbTrY485RtBmgszVVza2LwJctzC26ieW4FUnELE43HZLN3nzrbcFJz4HGQiDWxghqmtUIFD9kovtywnXzb2+o+dtUiNA+JrtZ9LNg/8aOyuhJ1lfovjdce/P9+IlD9oOOsgv7PzCyDB/S83CfOiIkWHOdtC617QrvNlzTbw+5kizC/W+e/pH7RRb9/gT0vfuAW5UEdcIN9Y8A6VKlYqw13aDvsYvKHLLGi9fYX0fBJcQ9D373PMR6erNySedZHcmbNz4WaiwSP36fzHRbtm6bcQLE9cPBHcqoHIFr+7EwF9u/yRt2IhRRsgSftDjFTVryG09ukfUoxt/mHL5MMFrOv0Hyq5jh8vBvUZ+9flPRPCKiQ4mbmHGFbwm0pa0fH7Obvx+wWsyeXDjT2UO4eZDr5MZj578v39L77v6adDAXwh2IOBxTSLs8CxhF/7zL7zoBvWuMTbuscee9kVPkOD1U7Oj78Z2Hb15mRfQuRg9Ypicduop1iYZ7k4UgZfx0kZ7uHdAP3EXO4gIL1batI+dZ7ef0sTDxtIwew0XNsa6zzQWmWF9wqjhQ2XkmLGh86CRw4ZElNGNF4emLli0WLMS8Yt+cph5yVGyZEnPHouiAffcG3NcxmYDzDUyYdJt29CVjuczyKD+p04cL5Ur/7WOgL9sjh+vv/Gm3e2FdQbWImqWP/RAxBz+6uuu915GQqjS/eYu6jXmL3kVCKEKi5d/LEfluH1DqnOYoErGXAl9SZh55OEV3m4q7XOwyIcgUl+q+MOGHZycyXxrmqm2TYSPlx93jprMGKKc/GtLzXNY3wx3fHnQ8sZ2Mcc2rI2gus+dc+u4m8zhzPiisV3Hm6IEUZpP/EIYNWr4/RHzbZ2bpLI2RJyZntshTnf8wZwBG0+CDPrnyRPGRu341zqLJzuJN/4jTXfuoXlIp/9X3kFzzUTWpe7YmcwcMJG4g+RQKHM26nj8xMn2ZSfiX7l0SeCGn6nTZ8gMs2ERBi+A9auPEaONfOTB4DEbfsF2vFFrecQRf8etNW6bctc/YfYaDr9h6yK4pcoVB853v7VnaN+AFzNzZ02PkKUhvWyZtASvELTVa1QgwPR3Wv999z0zwe/g5dsvacfDVKtuAwuiidll177tjdavPigaEDvD6tetbR92PLgjRo31do8N6HeX3f2qfiHsvcsIRZ8wCx+YVi2amx0RZ9mt8m+YCdZks8Now4ZPrNvMqZMjGop2HtbR/MPuPwySZc0nCvgMBG/p33r7HbsTB34wCcYur9OMoBafcmKH52yz0xIGAqo+vXvZ61T/YScUGmDXzp2kUcP6XjTdjWDTXXS1Mm/VsJNNTWHod1VW/sERO0bHTZhks4IOCwJLbK0H83vuG2wHKQw4M6ZM8iYkmm//L9oHtsfjLQt2R+DBWGSEzDDY/etu19eBE27oBHrdfqvVbVtitxJmQbLOE6JVMW+V3Z1l8O8K2bD7DovhY445Wj744EO7QFBB1K3du5ldirUQJK7xt2HUX50ralkWeC6GDBsuEDLBTJs0QY4++igvzjC26iHWxMPlgN2c3bt2kSqVK5vdT8/a3W+YAKnB7qhWZncOPo15xrzNct9wPrz8oYgOSAWvGvZ6c2Db+edVM58vl7Nvj7BQ1ImkX69wtp9JzVPQL9oQeOrOriZm9+N51aoJVIe8YAQXWDirQNbdxYLFLD6HeMXshPFUDcyeKQeZzxJg0PbQBmMZhFeVH+grINA+yehb/t206YfNCyu8eYPp0f1mwWRQDQaI9p0KFnWYvDYxL4hON7uBvvzyK1lvBKsqRPTvynFfymDC17BBPcEJu5s2bTK7xJ7xJlPo0waZN57up51uu8FzBv3RJ55wguy+x+7mpdjBtqzp9H3uhKVWjcul+qWXyFFHHmleALxld2lBH7WaIGGRuvl/8Sx0vOlmb/KL/v7cc/5p+wrEOXPOXG+xjLBhgle44WUQdnsfc9RRUmL3Et6uP/Q9mLTAXGi+tMBzc+KJJ8g77/xX1prdbuv/fKni74fTmWCk03/g88pWbdrbcRXPJ57Vs886S340rJ4zgu9xEwv6Z1sg8y8RwSv8oj3jc1uM2TA9b71FLr74Inu9F9QElShhrxNpS1q+oMmwjcT88wteYZ9oHjR+jSuZOYSG8f8mOh7hOYXaDLxwRvlat2xuvrQ43e40f9bsQsWOJXwKDvPEY2sjdt8kws59CQAB+qVmrqHPEvozd27gf5bw2WCbDp1s+njOW5m8YacpFqEvv/yKDLp/mM0XxmjsRtBd9Ylyt4FD/kF9T9uOBWmDS5tWLeUf/zjDqADZKf82O9UxdwIz5AuTft2VhDlmayMoxu4buF1z9ZVS7ZxzjHqr3ewujHnzF9qXLnDDC2+0eTVhY2mYvYYLG2PdZxp+Mf9pdv11VsXDuvVP2PmaxoFfCFFqXHaZ3aGMOSkOPIVBX4MX0Gr88WL3J3bOHmX6/y1mbjl2wkS7gxn+sWMdwks1OE29bYfO9hbtHPOMY8x8AmP9pMlT7c5ZOLrCJw2b7G8m2zZeVGE8hABjifmyCQfCwrgbDTR/2Ro/NH784hNWHKSpcyT3ZRLcsTsXLw/RRiEcR93GM+S163hleg4TVNf4ZPXnGPNE7T8RVvscjQe7u881u9jLliljBS33Db7fa3vLliyy6071m87cS+Pw/6bTNlOZoyY6hign/9pS8x/WN2Ot2NF86anzecz1q517ru1D8XIF6zwdG/3nNei465dhaJpBv6PHmY1B5itJmPOqnWv73VNOPkk2fva5nRdiDgLjCu5w75+bNGqY+NowW3M7//iDsbSFWa9g/YB6e/bZ5+3XO+j7MDeYPGFchGoMrTOUDyZIdpLq3APxpdP/K2//XBPr0jv73u1tNMFcCWtaqBjEBhHsmFZZEQRy+JI20TlgOmvebNWxu5sVm69qm3mCa9CXNbq6iZ1nubK6f//nKel1513WK2QKTQ0nrEcxbkM2MtZ8kQ7jhsG926YyJXhNh2uP23vZekXb7mLmUGeYncylSu0rUBNzl9mshLYN1Wl977wD2c++McDTMm07dNp53oWX7LytV++IeGbPnW/t4aZ/ZuHm+TGf3nr2r772mmdvBAue/eD7hxnVfEYM4pjtO3bsvKxWHetn4uSpjsvOnY+tW++FfXj1mgg33Bi9DjsbXHmN9WP0pUa4m8blhTUNKsJNb65q0tT6MZ+o7jSf+6m19ztz9hwvDrOr0LNP5cLs0rNx/ffddyOCm4HFS0O5Gl2q1g/4qp3pMCPCZfJGWfXpe3dEtNoWjPqICHvcGB29O40gfqf5JHineeMb5R5mMX3mLFsmsA8zWmb8ms4yypvGAff/ff+95/7Vpk0er4H3DY5qa6Zz2Yl2ovGbQd8LG+vCbcPDR46O8mr0SHpxmk9VItzD2Kons4PTC2sWc2ptfzWfeD7A2zXmM0QvHNzdZxH+zGDjuaONuUafN8RvhFCuk73etGmz90ze0OrGCPdsP5MRiflu1j76mFcmtAG/wXNTp34j6we/fmM6ZS88+o5kzHMvvOCF3fjZZ1FBp82YudN8prbT39doH4P8BKVpJuhevO5zpP0a6mrb119HpWcEFF64FasejnB3201QXuFZ85Vs3/fRxx976aJt+/tz8wmRF3dY+4rIrHPz0NLlXtxmguW4FFx++NFfaSNu8/m15+e99973whpB9048V37z5VdfeX7QH5uJV4QXlMXtHz759FPP3Y0fDILM5KnTbPzXXn9DhHM6/Qf6ZK3Pt9/5b0S8uFmxcpXnDn9B41hUoD8tMKZo3I+tfzzQm7qjHYa1JS0f/IQZHUvM1wgRXhLJg8aPvCQ7h4hILOBGx5Kw8WjDJ5/uxDOKsr308stRMWBeoowwDrhG7cPYmZdbXlizaHCD2mszedyJtqTx+Pvq+4eN8NzMJ39R4ZFfDYv+wjWJcHf9+6/dtM1LEb/zTvMSw0vbvCjz3I0w2LNHf+w37jzy7nvujXAOG0vD7DVw2BjrPtPoDzA/cA3qRPmZib7rZK+N4NVz/92Z17rxmh1bUX0R5h3av/cfeF9EvNqHYLzw963orzAvxzOANNI1GWvbG6PHQ9Qd2PnH4WyOH34eYKv1h/mS38yZV7CmcccRvx/3nrx2Ea+A+RbqJdU5jFunQdeJzBO1z0H7wrzUb4y6C6/tYe7ommzkO522qflJdo6ayBiinDCPCTJhfbPRsboTfSHyZHbtRQXFXESf7WUrVka4q/3S5Ssi7GPdoH9AX202Ou00L20ivKJvRz4QrxHqRLi5c5Nk14bZmtu54w/yHDRvMTucPX5GTVFEmbTOENa/nlGP7vifzNwj3f5fefvnmu661Kht0mx6v5jLa7sYN2GiZ4+LeHNAN+5k5VDZqmPkG2tzlMl8SY3bCPPW22975TUbfDw39EWYy2D+4ZcpwBNkPYjTz9dtU+76J8zeS9Bc6JzGvy5KlSvWOFqXQfVh1ChYJmbjYNQcys1XJq/NOSTpGXdB7wpzOt7U1RZ29px5XqHdiTMED1phvzoTWH1Q4OYXOmpO+/W/x4a9+ZZb1cr+ml1k1j5o0qseNb/+hqKdh3/ip+Eg5NDKM7sM1DriF+VQP2b3SYRbMjeYaGs8/k4d8UBgo+741Y7Q7Hqz9n4uyaSdiF9l5R8cIVhFfvCQ/uLUaSJxhvmJ18khnLLwC/81Tghj1Y95+6nWO82nNp59WH4hQNewEOQkYtw2jI4myGDQRrz+wTeMrcYRNvGAu+YzSPCNFxbqfv/wERqd9wshpLr7Bbp4VuCGZyOMk/lUzwvvCqiz+Ux6mQ+5gNAG+YawMOg5QjAs8rXcELS5JpEJtevfvcbiTOP1C9ddf+41BKYaJmwC862pJwi98IdrGDecO2i6cWMRrs8nhBmu0TTx8iHIpNP3YZGh8aMNBhlX4OMXFgX5V7t7Bw2xcUNw6hc6qJ/pM2d76bsLZncCEDQYIzyeA807Xi4Ema1bt3l+3AWVG7878XDjCJtgpNN/qIAGL7jCjI7NKFu2BK9hbQl50vL5x2A3v5kSvCY7h3DzEHSdyHiEcGHtEe1I2xQmkq5R+zB2a9Y+4oXVZ98Nj2uzM8/z43+W0A8iDUwww4y+SPCP7YksmsPihL0KhEeNHRfoDbwwHqNfM1+DeH40nH+c9DyYCyyMUC60fdeEjaVh9ho2bIx1n+mgPsPon/XYoxx+47q7L8fceB9Y8pA/mL03XxLZuP2LETzn2m7cFz+BkWTIMp22bXaNBuYCix8th7vAy+b44c8IXt5pHvyLbfjFs4E2FjaX8Men9+T1m6JI6DcdXmF9ZzpzmHiZTmSeqH0O2ldY+9F5NtbMarKZb6SRLGt3rpnMHBVpJTKGKCf/+IPwMGF9c4Fr7P86N4IQ0DX6zCcjeNXwYfzwsgvx+l/Q6twHbuj3g0zY2lDzn+m5nTv+4KVxmFG5A/pB12idhclO4DfVuUe6/b/y9s81dW0IYaR/Q4WWDfIUjOOuzABu8eaA6ax5s1XHyDfmFtrW/Zt6zK5i6wZO5us4eI8wYe380cfWeXG6ayS3TbnrnzB7N7GwdVGqXF3Ba5BsxE27sK7TFrwCqlamvinB2ye1g7s+mHjjr0Y7Fz8IfVAQ/tcQ4Z1ONv2TUBUsYDcCFiBBfyrwRfzu5FfziM4lyLg72LBjIyhu2OmbLv9OnaA4w+xUgOrv4NT/hx/9xVw5b9++feesOXMtd+w2zqZRVv7BUR8Y5AkckA/k9Xdnd0ey+YrXySE+ZQAhS5DBLlf14woVsWNa7cPq0xWguWGD0lG7RNqwDmJg6Zowtuon1sRDy4L0/QaTPXVf4dvxCL/upMgvvNMJoT+vbhp4g67xuztms/lMuukHXWvaGFTCDHaJab6x8HdNIhNq1797/c032714ET8WnBDyhglMENZta27f5MYbdO2GCxNuIpw+n5gEuUbLj4VnkEmn79MBHf19mHEHRr+wKCwM7FUo444rfv9u3sMEr0Fv4BGPjjP+Xdz+NFRIiImBmnQmGKn2H+7LFQgywgwYa51nS/Aa1paQJy2ffzLs5leZ+sdRt58KEm658aOMyc4h3DwEXScyHrnhwBcvarFjxOhO24mXBMre3w+rfRg7XSygXwsz2EGu8bjPkjsGYp4QNt7h5SXC++dWiXAPy5P7fCc6hiIuN5xRRxAW/U73GYegQk3YWBpmr+HCxlj3mca13xjdbB77ICGoO564wkU3XvfrLzd+tAmtV9feLTvcIaDGLmB3E4TrP5PXqbTtoN1oyBP6YC2fyzab44efhTuO+neU4xlG/rAzO1VDXsmRS4VXWN/pPieZXr+5z7VfoKEl1j4naLeZ+tH5qjvmZTPfmi5+E2XtPiPJzFGRRiJjiHLyry0RHiasby5w/es/0sIXInjZhTahm7XwDPu/jNB+JxXBK1KE4M58Im7HIYzpw0eN9r4A9M9xdO6DNH8NkW8ErQ2zObdzxx//nOQvon8J7lAmVxCndRYmO0ln7pFu/6+8/fUQ9Ky5ZY11HW8OqHEnK4fKZh2jPNu2/bVJBFzUQDagcqv7fS8l1I/+YqMJ5igYB40qTO8rArRnd87jtqlMCV5T5Yq863oC+cRaFC/OXUGxlq+wftPS8aqKEFTxvOoUw8mzPXv3sTq5lj24WFauWm1PeYfOQuj3NJNj75TkAT49raaTNHpcx1j9aO7J0poWflUJcBVHZ6fpxOTiy2q63uJeuwc9qZ6SMN0y0EGG08kTNdCPMnTwfYl6j/CnB2RBTxGYBpkB9w6yumTUDbr8zKelVmfF+DEj5aQTT1SnjP+GsYKeDOjBMou6iDShXwVcr6hVI+l84dRZnOAM3TJ6AFtE5OYmno4eKGSuXqNAj+YAc1CZnirctXsPy8sfX9g99BBDH3E8k0gbhi5i6If06zQLY6tpmt2kUr1mbXvrlgUWsTiYyYF3ujv0q9WuFfmsuM8PTrd3T91WHa9oYzjZMsiYzlsuql7DOmn8bpxBYYLsknkmg8KrnZl4eTpWoY+yltGHGGYaXnWt1W1z/XVNTPlaet5w2rEZPO39g4sXSLmDCnS8eh7iXDxh9D5Dj5Df4AAc6AqtYXQKlzLPhhrV6ww9NDjcI1GTaDizw076DRhoo0XfiucSJla7gXs6fR8OA4T+Weh27XlbD0QXaPTUTR1DAj05lu5zEHRQkXqFLjOz68Dehul4dXUQaTj83nRzd9uXoa56m4PjwsyQocPtoX7uoX9hOo7cOKDDG3XnjmNwT7X/cNvrgrmz5BCjnzfI4CR288LTOiWq4xWe3ee5rznY8pKLLrRxuP/itSX4TaR8QTpeETaRPCQSf9AcAvHHM4mMRzhVe/nylfLw2rWeLu+geLWfVLd47JQJ+m6EDTPan7nPEvTcmZ3OYUEC7Z9c94inuzcR7oGRGMvXXn/dHArazTqrvrQwv669G26+0bFduXLkoUvqF6fVNjb6yWBc3ZxhY2mYvcbn9i3uGBvvmUY/p4efBpXTfT7dwyvixYt8GaGADB1ecFDjvx9/TLNqf6FnLehALuhdg976Cy74V1yd5BERxrjJVtv+6OMNckPL1jZlV+99tsaPoCJ+9NHHYl6yWSfoSYfOYJg/jP67Dp1uku/N/BZnQ6g+a+sY5x955QavdOYwcapY3Oc6bJ4Yr89BGtq/40DQLp072mSzme9U2maic80gZomMIfE4hfXNSA9rHCMQsmcooC8OM/7zEeKNu2Hx4HR0o7rJ0/Mf5M+vWzSRuUnQ2tBtY5me27njT9DhVloulNd8TWtvF5vzVipWqGCv49VZOnOPdPv/IN7u2vB2szaErvxkTKw5oNvGE41T17zZrGPNC+QzOPPEXatAXoO1Doz/jBbY4XDTpeb8AJxNAhlPmHHnPG6bctdXYfZunEHronS4Iu4Nn3wi3Xrcbtf5blqQK+FMpitq1rRnv7hu2bzOiOB1/MRJ5gCkRd4CUg+AwMmv3breZA+G0cUvJpyvmopWAYB/4Rf0oPgBBC2a3A4Z/qEIOJ7pd2dv74CteJ0HhH944GASibvqqafassfLQ5C7HpA1dtQIgcLuIAMlzNc2vSHISdY/slr2NAeexDLmDacMGjJU+hvBd7ImFisMfuYTFDGfCHiHGrnxN2/W1B565trFuo7VyWm4eANnmOC1Q+eu3kFtidQpDjqqaQRI8UwibThocEW8sdjC3W3n7qIQbrE4ZFvwCuX2F/8peNWDyNy8In+JME7mmUScYcatcwjNIDwLM/4XR+rPHQjDJtTqN+wXJ62uNgMWhOx6oJr6xUEwOPW08iEFAoVp5iA58zbVvrBKRvCaaDj3JFr3ALVY7QZ5Tafv02cMAgAcehdmkhW8ugOx/4AyNw0MuNc3L3hZkKzgVfOOiRkmaGFGxzt3sZ7qBANppNp/vPzKK+ZFQYFwe/4cI6j6s1358432OHDQEGvtH3/9ft17lzkFr8EvArdu22Ynse6zjhcp6PsOO/RQe9Lx4KEFh1glK3jVF4XxDgHQF2Wu4NVdNGExWL78X4dQuXWs1/uULCnjx4zyDrlKpO41rP/X7AgT5B3GnZz7/fnv3XAL5822h1P6/eAezBs0LnghOtgcHAiBI0zYWBpmbwOZf+645Y6x8Z7pXSV4Rb5x4M2qh9fYOZceEKXlwYGK993TP+JAUnVL5jebbTtM8Kp9cKbHj6Bymy/1vMMDXYHJI4+tk/733BtxOGNQeL8deQ2Us/95lh9L6H02eaUzhwnN8J8OicwT4/U5iCpI8JqtfKfKOtG5ZhCzRMaQeJzC+masPwaYZ1QPO9X0IWA61Iy7R5oT1/HyCgdbZkLwuuiBJfbQJ00Hv9hYVsXMuQ4//HAxO/jNobZPR20gy8W5nTuuxRK8Pv/ii9LdCK9gFs2b4wmq4tVZOnOPdPv/IN7u2jDTgle3fYJTMmvebM/fkR/zVaf0vqsfLkXXCHihi2cDQsgFc2bZw1atB/PPndOoHfzhsDHMZ2FwEBmMO7dz21QmBK/pcLWZM/8g88JY/ti6xz25j7rhF3MkHAhfKCYTW2vx2Zpu14eeRNVTgW3+avSzUOjsUCX2UEztN2Fbw11/2OKM9Pyfw6keEbgna3S7fNgnDuZ0N6+M+Dw5W8b9HMM0tpjJQFenctffIKb+SLC1HOWM9YmuP4x7H4+V+kU675lP8txP+pFPfAqXqIm3rR/xaNnDPhWBzhL1437qCH1zsMc29EyaRNow+CNtsHSNsg37bMNVEu+WBXFoGYM4oC7UPehzErfdhakaCNPPhrTdA8NcHcjZfCaRbiyjysTdT279/t224S93Ip+Q+eOLdY/PYM0u2IjPjd3n1e1j3E9mY8UJN/SzWrf4ZCzMqJoVv94pDRvUbhCXm69k+z59xmJ9rg/1C5qHWHXlL5d+ehJL/yN4a9xhqgbcT2HcNMaMm2DDxlKTAP/6+biZwHjB0e9pumGqDKBmB37841iq/Yer3sI9oMjL1J8Xqi8SacdqL/5wbh8R9pm/ljmsLSFOLR/8hhn99Mn97BJ+E8mDxu//vMxNK2wO4foJuo43HpmFslfvaJdffvllRDT4RE8Z+fthtQ9jp+Oov724Cbifk7nPElQRafxBh1u5cQRdJ8I9KBzs3LT96lzCwsDe1TvuPrv+MK6OaPcTfh1LMda6Ru2THWPdZzqoz8iEqoGgeJF3nBmg9eeWJegacwQc/qLzcITDwVDpmmy2bVd9Fjiryeb4oWm4v+gzlDPGOozDsAtT++WG9V+Tl59I7Pts8kpnDhM71zvNYUTxD2HVPsffF7lx6+ew7piXrXynytrNTzJzVJQzkTFEOSXbNxvhnvfc4hNv6HY3m01cvN5BqOmqGnDVHWAujbmWXy/mvAUFh9n65yCJzE2C1obZnNu549ryFasimLk3RsBmGaNMQaoGwtq2O/4nO/dIt/8P463r0lGOejC3rLGup8+cZTn411EaRuNOVg6VzTrWvEGmpGMc5gQ4s0Xvg9QA6doGY6IRYts5mcaFX/dQrmRVDSS7LkqVq5tfvcYzbF6YRaggAQeo6ioMk7aOV2TyV6fy9EFBRbknyOtiD7pWtKJxKrXfhD0orr+wRZMqtI51uBQ6Y7fT0Hi1ww/rPL7atMnr2P3KljUO/ELAlY7RU3pxAEo8s3nzXwd16GQx1gQbAx+ESzrAQ0+HW0fx0lP3WKzChMXuAwpdd4maeJ0c4tGyhy1YXeGaK6x0FUODTZhJtk4TacNoZ8g3WLoGi3XYo5MJMlisa3ndssCv2gdxyITgFcKQsMO13Hy5k5BsPpNBfFw7fTEBAV2YnmF30uw/hd11C9Pd5aYXdB32POAAQK0vbV9uHxMmOANb6P3CHwZqGOSwMKspAAAty0lEQVRN4woTUKDP00OV/AdQaNigdoP43Xwl2/e5BwKF6Z91J82usAhpxzI61kDAECZA1Jd8KKPLxp1shgk7IFxUNpg8BhlXaOweuOMeuoXFit+gPlS46BekpdN/aJyxOLqTqTBu/vziPmLhtG59kBePV1hbQiD3hNwgrpjAKXd3EYqwieQhEX5hcwikEcvEG4/0GQPjIIO2pmVLVvCKw0w0rCucctNxDzn0twEVxLmHt7hhca19kd8+Ee7+MO69ph10aJH6wwt89GvuBB6LG5TZXxYNg1+tE7R914TNU1IdY+P1GbtK8Io6C6o3jBU613Zf8LmMkrnOZtsOE7xmc/wIKru+rEWbg956bUP+gzeDwvrtyMtPJPZ9NnmlM4eJnWuf4NWsyYKMtiPM+8OMrsvcMS9b+U6VtZufZOaoKHMiY0iqfbOOAXhug9a0mP9rX5iu4BUCGx2H9Vwbf52inuEHabomkbmJhvWvDbM1t3PHtViHa2kb9stX1D5W29bxP9m5R7r9fxhvXZdiU0WQPAh1BsEg5iM4YNs12tbCBK8at5+TG0eYHCpbdeymjQ0iaJuQMWBNpG3ZfJ3perMvE9QNm3aCDOb56sedt7ltyl1fpbMuSocr8u7KJdyy6EsSlCOZTYFuHMleZ0TwikTdBS4KgLdOrnEX11pR/t0g8B/2oLhxhS2aXOFPmBJ8dOxo3DjZ+1cjMFaTSOehDwUe1qAFq/mMwTZCDGp4YFMxEEqCD95IJmL0RF9lGqvhaIeufvHrP+E8kTSDWGHHoy7oscvMb1wBBd6cJGr0wDDkFQN3kNHyhC328cCpH1dY6S7w8VAHdcAQVCMsyuwXzAXlBXaJtGGtC8TrmlUPr/byarb5u05WOba+9UGe3LLAo5YxiAMWZuruX/AjrDsp8u/81AkLwgftkobgT/34BcbZfiaR9zADQZiW+YElfykTV/94u6ULe+TfX//pCF7RR6G/wELO7Wc0bX0RhXTdRbP2MfhVwaqGwa/2DyiXKwzWcJjg4HBDv1m2YqXHwv/CSxkFtRuNR+NPtu/D5EXjD9rFgDePEDyqn1gCFs2L/rq7WfEc+YXrRv+WFy/iT1bw6u4u9z+nmgf30AYc5uAaZYYJmL9toQ/UMmdS8IpDYTRe7PrwG1cwB39B45g/jN67fcjM2XPUOuJX047VlnBqvfpD/+4aPCsuU3cRCn+J5CGR/jdsDuHmJeg63ngEARfKhjIEGRy8oWX398NqH8bOfcGC5xw7Ql3z/gcfeHEjLv+zhAUn7NHn+Nsq4gF79Ffow7G7xTWJcHf9+681baQf9PIGixstvzv+6K5wuBkd9v5oIw5l8h+IhGcW4fwLwlTH2Pfe+2sXu7uY0EwVtuAVL0H1MDS0qyCD/hoMgvreIP+x7LLZtsMEr9kcP4LKqm1G2w1+g+YOQWH9duTlJxL7Ppu8kLKOx8nOYWLneudOzNPRTvCHPiDIaLvy90Wu3yDBK9yzke90WGt+8JvMHDWRMSTVvlnnxUHzeDB054rpCl7dsWrDhk8QfYTBvBH5QHvAr2sSmZuErQ2zNbdzxzXkGYJlv8FaU9s4vrxxTSJtW8f/ZOce6fb/YbzddWnQRjAI77UOITNyTbw5oBt3snKobNWxm3+3/ao8ATIrv3FlAkE7oSFX0a8O0TYSEbwiDe0/kl0XpcoVz76uMSGj8xscRKxtG+2tMExGdLxCJ4IpXMRBMp06tJOrr2zsqUswp6zKpX8ecARLPWjL8/DnRZBODr+fIB2v8IM0br7lNk9/Q+eO7a2OoSqVK4vZbSWLjC6KOfMW2Oj8OqPi6SlBoP8YpcQ9jXJimFNPOVmaN7teTjj+OKs7640335Ihw4Z7ehznzJxudGBUsX4T/WcWPla5P/TDufoIY4WHPi/oR1QTS7+rWfwbXWBv20M2oI9w4rjR9qCAZA4LQDpBrMzOPqnX6CqrfBn6sXBAk+qnfcPoH5s3f6F3kNXi+XOkYsWKmuWYv0b45emHu+rKRvaQnr333jtCf2E8HZWuThdXZxsSNotTo594oc1D/bp1zCFMl8vRRx1lD3FBmx4xeqwtE/SazJ4+NSE9aYm04TAdr65uFHDs0K6NHHXkkfLxxx/LtJmzI5RD+8sSi0MmdLxqReEAqn+df745bOpAgf4es8ta3vnvu9bZPdwEFtl+JjVPQb9m4DAKtW+zemrgjsPqzj3nbKlk2h7alfkcU55/4UUb1M8Slono7rKBA/6ZwVwmTJpiXRo1qC8NG9QT9ENmUibPPf+CjBozzrr5D8p59rnnxeyGtW4nn3SS4ECzqqedKmbSKqvXPuKF8x/KZoSKcmvPO2w4+L+qcSM54/SqsnnLVnn6mWfECHqt24knHC8jht0vJc0zpCZWu1E/6fR95i26rFq9xkYFFpdVv8S2aeglXPTAgxG6oF29lJp2rF/Vrwo/0KV5wb/Ol9KlD7CMtU1qeLdPdZ8zVweR+tVf86LBGzPq1r7C6geD3rD33n/f6grCsw4D3hhvXKP9JOzOq3auXNmogfxmdGD/+99PWZ1K6reKc0gk7NLpP1xdieizWjW/Qf5p9Oyhf37mmedk6IiCA3o07WR0vCKM6twC69533C5lDihtdKhVEfTJMIm0pT/MYTU1a9fzFPWjzs+rdo7p27aKeUHgjROIzz1oBPcw8fKQCL+wOURBCuH/441Hru637l27SDVTrgMPPFA2mgMKHlq+XJY8WNBekEKyOl4RZt3jT0jfuwfg0hocgnjkEUdYHZ/oO1zjf5agb9oIHSx31N/NXTqbMfpkKVO2jJ23QFe/2cVko+hlDsLz6zOPx91N239tdkpJm3YdBfMVpN2xfVuB7tG//e1vtr7vNTqH4YYxb+XSJZ6OehyOZwQS1g06sVu1MO35rH/YectzprwzZs+xevsQburE8REHcOnz5z8w1X32kxlj3XBBfYarD83Vd6Ys3PEkU4drdb/1dm8Mg67rauecY/u/d997T9asfVSMigKbvP8AQrQVPbOg7513JDQfy2bbdvst93AtZD6b44fWjf6OHjferBOW6K09hMTVdew5JHBBXglAcrxkkxeSSWcO42Qz6tK8PBYjpLH2mHO1vbGV7b8wb1cT1hepO36DdLzCPhv5Tod1qnNUlCXeGOL2scn0zejvWrftgCQEc8x6dWvL4YcdZvV/G8GK3D9shHXDv3R1vGItVatuAzuOYq6N9dCxxx4rP5s5FtbX5osyO14hLZTBPSQ8kblJ2NrQ7SMzObdzmSPPGJ8hvznrH/8w6+Bf5CnDD+tkHKwEtxlTJ0nZsmXh1ZpE2nY6c490+v8w3pC1YOzUg8CxNjyvWjWzRjtEzCYye/6Nrh+mT5lo1yta3nhzwHTWvNmqY807fo1gUa5p2szOm9Q+aL4HNz2MC/UOfbiQe+21115iXvLb9a3yg193zuO2Kf9cSdsLwiSzLkqVK9aZZlMgkrP5h0zl2GOOkR1GJvjKa68LDifdsmWLYH65ZOG8CB23PXv3kW+++cY+Cy2bN7NxZOJfxgSvZueM1KxT38sTTv88wii0dg0KAYXTMJhAQ3DpN2EPiusv1qIJCvLbduzsCUDdcHoNwJPHjzULouQ6D4RfsfJh0cMxND7/b9sbW0vTJtf4rWPe44TJaeYAL5QfBodQgc/uu+8eMxwcVeH5Wf84U4YOvi+m//nmELRxZoHV5JqrpX3bghNcYwYIcNQHx7+gWW5OeMQJ37GMfzEYyy/c8LBdec113kAGOwiPcBKgmniL/ViCVwgBcML3I+YwsFhm5LAhcnrVqrG8eG6JtOGwwRWRhJ1SDDccVgdhE4xfWBiLQyYErxBMm91YNu2gf1jIN6xfL8op289kVIKORSJpd+3cSRo1/Kvv0uDuQjnZw7XwPJu3iGLeiGt0Ub/oh4YPGSSHHVagpFw9QCBs3rLqbdQvJl14zv2HJ8V7/hBu4tgxdmHuRhqr3bj+Uu37MMnBoU9mN74bnXcNQeYee+xp3ZPtH/AyqW//ewQHh/kNJr197uhpJw9wS0Xwmkj/cKER9vYzL5r8L7BwAGKrNu09AaObP7x4PO2UU2x/XyWDglek4Qrh3TT1Gm1dBYDJCl7x/Ovp6hrf8PsHy5lnnG5vE21LmAdgPhBk8DICk9+33n4nUPAaLw+J9L+x5hBBeVK7eOPR5s1bpJ05AR0TuSCDZxAHfMCkInhFOC0frv0Gwt6lK1aI2dEqQc8SXhigTcYyOBBnkDmkqsRuu0V4i8c9wnPADRYybdoXnNYd4Gyt3MOx1E8iedaTgTUMfsPmKXBLZYyNtZhAnLtC8Prfd98Ts+sEyYcaCIMG9u9nhQDqyX0xuHrFUisAV7ew32y2bXfB6Re8ZnP88Jd18ZIHvZebcHMXk36/8e7JKx6hSPds8tKUUp3DaPiwX53Pu+4QuGEOAhOrL9IwYYJXuGc63+mwRn5SnaMmMoak0jdjHohNFhCKhRnUBYSH6QpeEb8e+hyWFgRV+iIxU4JXpJWNuZ07ruGE90fXrQ8rlviFkPCYSNuGv0TG8aC5Rzr9v86V/AJw5AdrNIydOh+Dnd9A2NbihkiBW7w5IOJIZN0ZJIdC2GzUMeJ1zZy582XilKmeVdg6wD1QzfPsXGg7h5U7Vrptyi94TXVdhDRS5Xr3gIEx2zXi9stTXJlJ0FwaYVI1GRO8IgP69h2VsezBxRGSY7i7goHJE8bJccceA+sIow8K4gg72VsXTWG7ZrHomThlmpht3hFx4+GrfUVNad2iueyzzz4Rbtp54PRznIIey+BUaN1p4fpDfiDEOe3UU1zrmNfYFYddCRgQggwWalhUgEeYQWNsbISTN1x/nRWohvmDPXbT4Y3loIED7O6/WH7D3GKxModnyJTpM6IEToebU51bmg4MO3SSNdu2fW1O4R7s7exA+McfXWOENXvYqHSxH3ZCoSt4DTq5Dh37dLObFG3PXw845a5Lp47eCY6J5D2RNqwTNb/wGvFD2DN9xkx7Ap8OCtgdhAkD/F9yeS2bDX9ZYnHAxOSCSy6z4dC+0c5dgx2VF1WvYa2wW9mtJz0l+67evQyHSnZnuytYwHPVumVzs6OvoRtlxHW2n8mIxHw3mGROmDQ5quPFwIdnpl6d2r4QBbfYxd6hc8GbsmQFr4gBEy+8TMFk0zXgVe2cs6WrEVTvv99+rpN3jb7SKDuPEOAkEs6oVzDP38yIcIgU9dm+zY2B7ThWu/Ey9OdFqn3f9u07ZMz4CVF9MoSWEEDhpE1MmvHCqZXpn5MxeF42fLzBvL18Td4yOw5wf+wxR9syg9kVZncCTJjg1Z0wBKWL/sGofgnsp6+56kppZdq+u4PYjQMTkAlm16zurEabO8/0KU2bXCsPr1lj4/WPY+n2H0h/ndkZOclMrLT/gB3GEOyKO+CAA+xLAdg9unqllDQn2CdjVq562MQ9zXsZht0CmJjAJNOW1q1/3J6IqjsLwOGC88+Tptc1kZu797CCLPDF7ki/iZWHRPjFm0P403Pv441HcO8/8N6oReA5Z/9TenTrKg2vutZGd4fph2s4/XAy7NCnvWraO54Z7GY+zOzuwU5QvJRs3rpNqOAVCWMHAOrP3a0Ae7SP1q1amDlSrSihK9xhYnEv8BH7P9LELnII1V2DnRR4cYfdu0EGfTF23fhf3uClTfu2bexXAf5wseYpqYyx7mIiqM9AmSA8gVkwd5YccvDBEVkyKha85y5sx2tQvIhEBRboz9yFPNyQr8nTptsFG+7VoK/BSwyMcf4X+HhBjjGmiu+lj4YN+81W23YFr/6FGvKSzfHDLavRo2wFCbAL2wXk+o93TV7xCEW6Z4uXm0qqcxg3Dv/1r2b+PNbMb/SFJtzHjxkpJ514ovUaqy/SuFTwGjbmZTrfqbLW/KY6R403hqTSNyNPqIPR5ksy3eWv+UQfh2d5/sLFgue7Vo3Lpae5V5PMuKth8AthOOa07poR/XOXTh3EfIYtRk2SHVNdOUYic5NYa0Okm+m5nTuuzZw2xc4r/Bs/MDe7qWMHs/noNGQhwiTStjVAqnOPVPv/eLzxRQ3Whut9Gzcgr8DGt0suulCzHvGLZyeWTAKeU1nzaiKZrmONV3+/+uorufLapvbW/yJC/egv5jV33zMwYi0BN2zeO/+8c73dpO6cx21TQXMauCe7LtL8pMIVQlRsOsROf6zLXRM299y0ebM0vrqJ9eqXibjhU7nOqOA1lQxkMww6RMD74YcfzWfRB5mtxAdFCYNTTR+Dw1bzaaQ52VF2L1FCqpjPLcMW36mmkelwECBcfFlNGy0+58MCPBsGW9m3ff217XhKGDZYFGaCDd40mVOL7WBWqlSpjGcdA/cm80nkjh3fyn77/c0unPwLlownGifCrdu2yb7mJQEG9FwyeGtlFGWbT07KWGHsnn8KwePlMZvPZLy0sSsfn7z+/PMvUqZMaalQvnzUgjReHKm4Q/C/adNms3jcbj7prGDTTSQeDBYYZLYYzsgvFvK7+XahBcUDIbs5eM+qGdjHCNWQ5n4hAt6g8PHs0un78JLoq6822SQKo8/85JNPxegxsum5OzPjlTHIHaorvjR53779GyltPrEHV/3EPsi/a4e+xZw4LxUrVHCts3qN9oP2jknrQQcdmHC7SzRTaJtoCxhb0c+naoyuZfnZsC1bpkzSUWQqD0knbALEG48gEMXOXXOuhxxqFn+ZfAZj5VdflMV7iYF2sXnLZpu/SpUqygH77x8r2gi3dLlj4fK1mSPAHP73wyXR8UPD/frbr1Le9N8HGTUO6ZpcHWOTLRd28KDfR7s79NBDQ1/qId6bbu5uBe9X1KxhPyFMNq1d1bazPX7gBRt2s/lVACXLx++fvPxEYt9nm1c6c5hYOcfcyxzEZjf2pDKexYobbtnIdzqsU52joiyJjCGp9M3I04ZPPpH//e97wcYljBGJzJuRp2QN1rqYz0LOgLUQ5uiFsWbM5NzOFZLpSy/E/+FHH9m1Uvny5aS8eYmXSYapzj2y1f/r2vC33363c7VE19vx5oBoT6mueTNZx8m26yD/qLNPN24UrCkztXZLZ12UCldsMDNnJZi12Nd2flS58iGhz6vR1y2du3azKBbOmy0Hm01nmTJ5LXjNFKR8iUd1XeBtDvSV0pAACZBAUSYAnZQvv/qqdGrfLnBi6H4SN2fGtCi1DkW57Mx78SOABeWs2XOtyhnoR/UbcziAtGhdsEP41u7dpE7tgq8j/P54X3wJQFhQ408dy9DvesnFFxVfGE7JoQvSHFYmOP9g3OgRCb9Uc6IoVpfkVayqm4XNUwJBgtc8LSqLRQIJE1i6zKhVM2di4OXNwrmzEw6XiEcKXhOhlCd+cLAYPvMLOggmT4rIYpAACRQTAo+tWy/9jO4eGKjggP5j3cWPnSdQe9KnX3/rjsFz/uyZae3MtBHxHwnsIgL4yuDapjfY1PHpX59ePSP06ENlQ9/+A7xPwhbNmxOoWmQXZZ/J5ggBqKlodHWBuotsfvmUI8UNzAZ2vkCfK3b7QdXQF19+aT+ZhLqNKeaQNuzyovmLAHn9xYJXJJBPBCh4zafaZFkyRQBnWUDFU5jql3TSoeA1HXpFLCyUj7/w4ksyoN9ddnFWv16dKF23RaxIzC4JkEAxJYDPfG6+5bYIvY8QsOLT90/NKfKqywefDd074O5A/VTFFB2LXUQJ+A8egaDoUKPmCCp4XH2+OJX46isbF9FSMtvZJKCHd+DQrRFDh2QzqZyNG4cx6ks5jA/4bBFmkjl0F3qDaSIJkFckD96RQL4QoOA1X2qS5cgkARxCiwPhxo4aIaecfFImoxYKXjOKM7cjU91v2C1zjjm5uO2NrXM7w8wdCZAACcQggB1LUJg+eer0QF9QnH7nHT0zrt80MDFakkCWCUDH3+Pm4LSxEyZZHXn+5HCg0l29e8qppyR+wKc/Dt7nNwHoacMBqyeecII9jC2/SxtcOvfgTPiA8HX4/YPkhOOPDw5QzG3Jq5g3ABY/bwm4gtfZM6bK4eZMFhoSKO4EcJjh/8z5E40a1M/4l5IUvBaj1tWkWXPZuPEzadSwvj2hMJ0DUYoRNhaVBEggxwn8+OOPVvE7+jccIojDZQ4zOwGD9GDmeFGYPRKISwCf/n7++Re2zeNgiAoVyts2n4nDpuImTg8kkAcE5sydL88+/7ycecbpUtOcdI7DNmnCCZBXOBu6kEBRJYD5Mg4cgqlUsWLGhUxFlQvzTQLZIkDBa7bI5mC8+JwKp0fj80QaEiABEiABEiABEiABEiABEiABEiABEiABEiCB7BGg4DV7bBkzCZAACZAACZAACZAACZAACZAACZAACZAACZBAMSVAwWsxrXgWmwRIgARIgARIgARIgARIgARIgARIgARIgARIIHsEKHjNHlvGTAIkQAIkQAIkQAIkQAIkQAIkQAIkQAIkQAIkUEwJUPBaTCuexSYBEiABEiABEiABEiABEiABEiABEiABEiABEsgeAQpes8eWMZMACZAACZAACZAACZAACZAACZAACZAACZAACRRTAhS8FtOKZ7FJgARIgARIgARIgARIgARIgARIgARIgARIgASyR4CC1+yxZcwkQAIkQAIkQAIkQAIkQAIkQAIkQAIkQAIkQALFlAAFr8W04llsEiABEiABEiABEiABEiABEiABEiABEiABEiCB7BGg4DV7bBkzCZAACZAACZAACZAACZAACZAACZAACZAACZBAMSVAwWsxrXgWmwRIgARIgARIgARIgARIgARIgARIgARIgARIIHsEKHjNHlvGTAIkQAIkQAIkQAIkQAIkQAIkQAIkQAIkQAIkUEwJUPBaTCuexSYBEiABEiABEiABEiABEiABEiABEiABEiABEsgeAQpes8eWMZMACZAACZAACZAACZAACZAACZAACZAACZAACRRTAhS8FqGK/+qrr6RixYpFKMfMKgmQAAmQAAmQAAmQAAmQAAmQAAmQAAmQAAkUTwIUvBaReu/avYe89PIrUvW0U2XU8KG7LNerVq+Rd999T445+iipfUWtXZYPJkwCJEACJEACJEACJEACJEACJEACJEACJEACuUyAgtccqJ0/du6UZ599zubk5JNOlP322y8iVzt27JDa9Rt5dsuWLJKyZct694V5cUefvvJ///6PXHzhBdLvrjsLM2mmRQIkQAIkQAIkQAIkQAIkQAIkQAIkQAIkQAJFhgAFrzlQVb/++qtcfFlNm5O+fXrLJRddGJWraTNmydJly+0u0zatW0a5F5YFBa+FRZrpkAAJkAAJkAAJkAAJkAAJkAAJkAAJkAAJFGUCFLzmQO0lInjNgWzaLFDwmis1wXyQAAmQAAmQAAmQAAmQAAmQAAmQAAmQAAnkMoG0Ba+///674K9EiRKyxx572LJ+s327fPHFl1KpUkUpW6ZMVPm/++472bJ1mxyw//5y4IGJfzKPdD7/4gubTrmDDpI999wzKm5Y/Pbbb/LHH39Yf8gXzI8//ihffvmV/US/dOkDrF0i/376+WfZvHmz7L777lLJHGyl8SUSVsuJMqKsQeaXX34R/NWsU98697qth1xy8UX2Gjw1vSDOarebKeOef7IPSuNXw2On4eHWketvp1F18M0338j27TukQoXyUqpUKdc54jpI8JpsPuLlNyJB3pAACZAACZAACZAACZAACZAACZAACZAACZBAESSQtuD17gED5dF166VBvbpWYDh2/AR557/vWhTdut5k7ZULdINOmzlLPvzwI7WSfffdV65s1ECaNrlWSpYs6dm7F6++9rpMmjJN3njzTdda6tS+Qtqaz+4POCBSkHr5FXXlhx9+kLuNDtKKFSvIoPuHRaRZpUpladX8Bk/AGRHpnzcffPihTJk2Q556+pkIZ+g27dC+rVQoXz7C3r0JKme5cuXkgvPPk7ZtWkvJvfe23r82ws56Da90g0ZcDx1yn5x15pnWTjm7ulXvG3y/4LArMFzx0AOy1157RYTHDYSiteo2sDwuMnkHEzVwW7R4icxfuEggLFeDvIJr9eqXSonddlNr+xskeE02H+dVO1fuHXB3RLy8IQESIAESIAESIAESIAESIAESIAESIAESIIF8IpC24FUFcVVPO1Xefe99K+BTQK7g9fEnnpQ+/fqrU9QvhH1TJ42XMqVLR7gtXbZCho4YGWHn3lQ79xwrxNvNERCef9Gl1stVjRvJogeWuN4jriGEhDDSbz7duFFubNcxoix+P6NHDJPTTj3Fby3xynnkkUfIfff0l4oVKlhhZ90GjaPiUAtX8KqcXcHrM+ZArlt73mG9Dxo4QM4952wN6v2++NLLcvMtt9r7Af3ukgv+db7nNmLUGFny0FLv3n8BtgONgNQVvmYjH/50eU8CJEACJEACJEACJEACJEACJEACJEACJEACRZ1AxgSvCuLGVi3kH2eeYT/p33+//WSfffaRt95+R9p17Gy9nHzSSXaH62lGULt1y1Z5/Mn/k9lz51m36pdcLH1699Ko7Cf4l1xeywvXsnkzOemkE+V38+n8w2vWyqgx46xbj+43S12z+1WNCl71vsUNzaTauWfbPL3wwosyf9Fi2bDhE+s8afxYOf64Y9Wr7NixQ9p06GRVJUAI3KplcznzjNMFgt2XX37F7p6F54MPriQzp03xdq/C7s233pL2nbrgUiBgbXL1VXL66VWtioP1jz8hDzz4kHW7zOwkvbPX7fYaagZ+NuoMsCsVpuett8jFf6oa2MuoUlBVA0ECT6gQqF2voRUQ+9nZyMy/QUOGysqHV9tdscsfXCx7/7nbdvGSBz1+NS+/TJCnY445Wj744EMrjMWuXZhbu3czO4sL6gD3mc4H4qQhARIgARIgARIgARIgARIgARIgARIgARIggXwjkFHB68D+/eT886pFMbr6uuutIPPwww+TCWNGRekQnTVnrkyeOt2GmzB2tJx4wvH2+vkXX5TuPQoElPPnzJTKhxwSEfd0o7bgo48+tkJDN11X8NqqxQ3SvNn1EeGgJ/aa65pZOwiCx40e4bkPHT5Sli5fYe9nTJ0kRx5xhOeGi5dfeUW6dOth7Tq0bSPXXnOV567lhMB26uQJAj20rlEhKOyWG9UAurs3kcO1ggSeiGfMuAmycPEDuJRHHl5hBd32xvyDQLeuUWUAtQtQBYEdyDCbjM7axlc3sde1alwutxthr7tjGDpye/buI88+97z189iaVZ7ANiwfo8eNt2oLECBWPho1qC9db+pk4+U/EiABEiABEiABEiABEiABEiABEiABEiABEshXAhkTvEKICGGi30B3qH5OP2n8GLO79Di/F3sY1kXVa1j77jd3kfp169hrCP563F6wAxY7QWvVLPATFYHPQgWv2JU6b9YMezCWz4s8uHSZDB852lo/8dhaz8/1LVrZ3bAdjR7Xa64K1r+KPCFv7mf/rr7WMAE0Dtt6/sWXbJpnmV3B+5kdwTDpCF7ff/8DadmmnY3HrzrhP0Y/bc87CnS6ugJt7GaFABVm/aNrAg/mcncpY2fvEX8/HN4Dd7zC/t333pPWbTvg0uqRdVU4hOXDeuY/EiABEiABEiABEiABEiABEiABEiABEiABEshDAhkTvF5odIf2NzpE/cbdtTr8/sGyxx57+L3Y+z5977Y6Txs3bCBdOne0dtu375A6DRp5/nEoU50rasnJRt2ACi09R+dCBa/uJ/2Os710BZYqWPze7AytYQ7mgmljDpfCbtggs8CoKsChWzikC4JdGFdIvMx80l+2TBlrn8i/dASviF+Fxf8yh3fdc3dfL0k9kAsC6AVzZnm7WnFQmap3gK7aIPPTTz95Qu8BJk4cDAYTtuMVbk2aNZeNGz+TRPOBMDQkQAIkQAIkQAIkQAIkQAIkQAIkQAIkQAIkkI8EMiZ4dXd/uqAg4IOgL1Fz1j/OlKGD7/O8P2F0wN5phLJ+A72sl19WXWoY/aSl9t03wlkFr61aNDdqBppGuOkNBIvVa9a2t3fe0VMuu/QSef2NN6XjTV3VS0K/T657xOphnTl7rkyZNt2qDwja+RsrsnQFr4sWLxF86g/z8PKHrFAa6gUu/1OI3LZ1K2l63bVeFrp27yEvGX21iZr2bW+UJtdcbb3HErzOX7hIxk2YZP0F5uPG1tK0yTWJJkt/JEACJEACJEACJEACJEACJEACJEACJEACJFBkCWRd8Dp1+kyZMWu2BQQdr/FM1VNP9XSRql/oZF1tDtNa/8STdkel2uO3XLlyMmr4/RH6XxMRvP74449yWa0ClQY46Aq7Y1986WW5+ZZbbfT7GmFu+fLl3KSirvcpWVLGG521u+++u0ybMUugczZM5UJUYMciXcHr1m3bpEHjAsFor9t6SE2jt3Xd+selb/97bCqL58+RihUreil26NxV3njzTXufSJ3gkDDECRNL8LplyxZpeFWBgDcwHwvmSsUKFWw8/EcCJEACJEACJEACJEACJEACJEACJEACJEAC+Uwg64LX/zz1tD2oCRD9hy6lAhY6Y19//Q1zoNQST3jo3yWrgtfql1wsfXoX6Ij1p+XqJNVDtHbs2CG16xeoNoBahDPPON0fLPTeLad7cFZoAMchXcErolK9s8oCh2MhT1VPO9UIpoc6qYndHYtdsjjEDLpfkzGxBK+Ip1uP2+QFo8fWn48zTq8qI4YOSSYp+iUBEiABEiABEiABEiABEiABEiABEiABEiCBIksg64LXTZs3S+Orm1hA40aPtPpZg2j9/vvv3gFXfveff/5Z9t57b7+13NrzDnnm2eesvXtAlgpeYx2uteShpTJi1Bgb9nFzwJTqnsWOTezc9H+e7yYelFe3nIMGDpBzzznbDWKvfzLleP2NN+z1MUcdLaVLH2CvIwSvd94hl1x8UVTYeALPx81u4D79+ttw0Fl7Q8vW9rp3z9usSgY3wsfWrZd+AwZaq/WPrJY999zTdfaug8oZLx9u3G4+dFexFzkvSIAESIAESIAESIAESIAESIAESIAESIAESCCPCWRd8Ap2dRs0tgdnHXP00VYtQKlSpSKQfvnlV3JVk6Zy6iknS7Prr5OzzjzTuk+dPkOWLV8pZQ8sK1MmjPOEoxp4/MTJMm/BQoFaAOgUxSf/MCp4xXWQnldND+7QFTtp/FhcWtN/4H3yyKOP2TjHG0HxEUf8XZ3s72+//Sat23UQCCVx0NdVjf86/EvLCXUDs6ZP9QSrGgHyijzDPLh4gZQ76CB7jbguvLTgU/4bW7WQZk2vs/buv3gCTwh1q9e4wgaB+oANGz6x12tWLY/Sgfvpxo1yXbMW1r1u7Svklm5dvYO3NE0V5OKgLOh4rXzIIdYpXj5cFQ5uPtaafKCe/OarTZvkC6NK4jSjYqJEiRJ+Z96TAAmQAAmQAAmQAAmQAAmQAAmQAAmQAAmQQJEkUCiC1/88/Yz0vONOCwjC1ebNrpcTjj9O9tprL6Mu4C0ZMmy4p7t1zszpctihVazfufMXyIRJU+x1owb1pWGDelKlcmXZ+Nln8tzzL8ioMeOsW+1aNeW2Ht3tNf65glfcd2jbRs4/r5qUKVtGXnjhRZkxe458+OFHcJIxI4cZge8p9hr/oE+25Y3tBIdTQYB6c5fOcsrJJ9uwGzd+ZgSnk+QpUx4Y1WNqb8y/Z5973n7yj/uTTzpJrjcHWuFTfwhrV699xMsvhJn33N0X3jyjeleRZu87bpcyB5SWQw0H3ekbT+CJiIYOHylLl6/w4qxpDh7rdXuBzlrP8s8LFVrjtn7dOlKr5uVy9FFHCXbf4kCzEaPHWgbYNTzbCJFRVzCJ5OO+wffLqtVrrH/8q2X0w/Y0umf9xlX3EObHH4b3JEACJEACJEACJEACJEACJEACJEACJEACJFAUCBSK4BUgVqx8WAYPHRaTSVvfqffffveddLypq7d7MygwDtcaPmSQHHbYoZ6zCl4vvvACeyCX5+C7gLAWQlu/ee/996VVm/Z+64j7s/95lgy69x4psdtuEfYPLl0mw0eOjrBzbyDIHDr4Pm8HqbpBYArBqWtcPbOJCDwhxO7QuYsXBXSqQrdqkPlj5065595BdndvkLvajRw2RE6v+lccieTj5VdelS7dbtEoZOSw+00cp3n3egE9s6PHjbe32A2LXbE0JEACJEACJEACJEACJEACJEACJEACJEACJJAPBDImeL38suoCfaKxzOo1a+1u0y+++DLC25FHHiFdO3cyn5v/tfNUPeAwrWnTZ0bs5IQbBHXVjB7VrmZH6v777afe7a8KXvEJ/eGHHSZ33tXPqjpQT9hV2rL5DVK/Xh21ivp98623ZNKUafLKq69FuCFsa6MOoLZRM+AXuqrH5StXyYxZc6yuWLWLlV/1s3LVwzZNlBmmXZvWct2119hrFXjG4gxh6rVNm5lP97+0u3WXLlkU8/N97G6dPnO2QN8tdvi6ptq550iXTh2lUqWKrrW34zVmPv74Q+o3usoyB6+wfEAvbvtOXSynG4yKidYtC9QfRCTIGxIgARIgARIgARIgARIgARIgARIgARIgARIoggTSFrwmW2YIB7du2Spff/ON7G50elYxn9OXDDg4yx8vdJhu2rRZthuhZMWKFaRC+fJ+L969K3itV6e2tf/ss89l67ZtUtaoGzi4UqUofbFeYN/F9u07ZPOWzfLHHzutEPKA/ff3+Qi+hd5WHNK1Zes2KVOmtBxy8MFRelSDQ4oNB07QAVsYek9/NaoQNhldqzt2fCv77fc3m1fVlxuWx1j2EOjWrt/ICnNb3NDMCLmbhXr/wwhpv//+e5NupPA8NAAdSIAESIAESIAESIAESIAESIAESIAESIAESKAIECh0wWthMAkSvBZGukyjgICrbmHurOlyaJUCnb3kQwIkQAIkQAIkQAIkQAIkQAIkQAIkQAIkQALFhQAFr8WlprNcTqhH+M7o5P14wycy8L7Bdrdr0CFiWc4GoycBEiABEiABEiABEiABEiABEiABEiABEiCBnCBAwWtOVEPRz8SESVNk7vwFEQXhbtcIHLwhARIgARIgARIgARIgARIgARIgARIgARIoRgTyWvDao/vNUrf2FcWoOnddUVu1aS/vvf++zcDxxx0rt/e4RY444u+7LkNMmQRIgARIgARIgARIgARIgARIgARIgARIgAR2IYG8FLx+8eWXstMcTnVg2bJSsmTJXYi3+CT9yy+/yLdG1cDfSpUi8+JT7SwpCZAACZAACZAACZAACZAACZAACZAACZBACIG8FLyGlJXWJEACJEACJEACJEACJEACJEACJEACJEACJEACJFAoBCh4LRTMTIQESIAESIAESIAESIAESIAESIAESIAESIAESKA4EaDgtTjVNstKAiRAAiRAAiRAAiRAAiRAAiRAAiRAAiRAAiRQKAQoeC0UzEyEBEiABEiABEiABEiABEiABEiABEiABEiABEigOBGg4LU41TbLSgIkQAIkQAIkQAIkQAIkQAIkQAIkQAIkQAIkUCgEKHgtFMxMhARIgARIgARIgARIgARIgARIgARIgARIgARIoDgRoOC1ONU2y0oCJEACJEACJEACJEACJEACJEACJEACJEACJFAoBCh4LRTMTIQESIAESIAESIAESIAESIAESIAESIAESIAESKA4Efh/mY99p/1Nu9AAAAAASUVORK5CYII=)"
      ],
      "metadata": {
        "id": "R1hWmJQV6tXq"
      }
    },
    {
      "cell_type": "code",
      "source": [
        "def MCRMSE(y_true, y_pred):\n",
        "  colwise_mse = tf.reduce_mean(tf.square(y_true - y_pred), axis=1)\n",
        "  return tf.reduce_mean(tf.sqrt(colwise_mse), axis=-1, keepdims=True)"
      ],
      "metadata": {
        "id": "fsK0z8u96rqS"
      },
      "execution_count": null,
      "outputs": []
    },
    {
      "cell_type": "markdown",
      "source": [
        "# **Load Input Files**"
      ],
      "metadata": {
        "id": "MdKA5le7FE3f"
      }
    },
    {
      "cell_type": "code",
      "source": [
        "train_path = '/content/gdrive/MyDrive/Kaggle/train.csv'\n",
        "test_path = '/content/gdrive/MyDrive/Kaggle/test.csv'\n",
        "\n",
        "input_train_df = pd.read_csv(train_path)\n",
        "input_test_df = pd.read_csv(test_path)\n",
        "\n",
        "# input_train_df = pd.read_csv('train.csv')\n",
        "# input_test_df = pd.read_csv('test.csv')\n",
        "\n",
        "float_labels, int_map_labels = np.arange(1, 5.5, 0.5), np.arange(9)\n",
        "label_map = dict(zip(float_labels, int_map_labels))\n",
        "\n",
        "float_scaled_labels, int_scaled_labels = np.arange(1, 6, 1), np.arange(6)\n",
        "label_scaled_map = dict(zip(float_scaled_labels, int_scaled_labels))\n",
        "\n",
        "orig_train_df = copy.deepcopy(input_train_df)\n",
        "orig_train_df.head()"
      ],
      "metadata": {
        "id": "Hyh8MQ_0DH_V"
      },
      "execution_count": null,
      "outputs": []
    },
    {
      "cell_type": "markdown",
      "source": [
        "\"Map\" columns are basically scaled columns of the original metric values. There are total 9 levels in map columns. Original mretric columns range from 1 to 5. Through map columns, they range from 0 to 8.\n",
        "\n",
        "\"Scaled\" columns map numbers .5, 1.5, 2.5, 3.5 and 4.5 to nearset integers. Thus it will have range from 1 to 5."
      ],
      "metadata": {
        "id": "BWvHPTt5UI7_"
      }
    },
    {
      "cell_type": "markdown",
      "source": [
        "# **Split Data** into **3 Dataframes**\n",
        "- df_train\n",
        "- df_val\n",
        "- df_test"
      ],
      "metadata": {
        "id": "NUMZkNvJcufY"
      }
    },
    {
      "cell_type": "code",
      "source": [
        "shuffle = np.random.permutation(np.arange(orig_train_df.shape[0]))\n",
        "orig_train_df = orig_train_df.iloc[shuffle]\n",
        "split=(0.8,0.1,0.1)\n",
        "splits = np.multiply(len(orig_train_df), split).astype(int)\n",
        "df_train, df_val, df_test = np.split(orig_train_df, [splits[0], splits[0] + splits[1]])\n",
        "df_train.head()"
      ],
      "metadata": {
        "id": "Z7ELuUWlcxAS"
      },
      "execution_count": null,
      "outputs": []
    },
    {
      "cell_type": "code",
      "source": [
        "label_cols = df_train.columns[2:]\n",
        "print(label_cols)\n",
        "label_rounded_cols = [col + '_rounded_val' for col in label_cols]\n",
        "label_map_cols = [col + '_map' for col in label_cols]\n",
        "cat_label_cols = get_cat_label_cols(label_cols)\n",
        "\n",
        "df_train = apply_label_map(df_train, label_map, label_cols)\n",
        "df_test = apply_label_map(df_test, label_map, label_cols)\n",
        "df_val = apply_label_map(df_val, label_map, label_cols)"
      ],
      "metadata": {
        "id": "iDAM32Xagb7S"
      },
      "execution_count": null,
      "outputs": []
    },
    {
      "cell_type": "code",
      "source": [
        "label_cols, label_rounded_cols, label_map_cols, cat_label_cols"
      ],
      "metadata": {
        "id": "O42263iZjHQI"
      },
      "execution_count": null,
      "outputs": []
    },
    {
      "cell_type": "markdown",
      "source": [
        "# **Addiung Other Feature Columns**"
      ],
      "metadata": {
        "id": "kndLU2phLRns"
      }
    },
    {
      "cell_type": "code",
      "source": [
        "df_train = add_feature(df_train)\n",
        "df_test = add_feature(df_test)\n",
        "df_val = add_feature(df_val)"
      ],
      "metadata": {
        "id": "qqe2GSfzLY1a"
      },
      "execution_count": null,
      "outputs": []
    },
    {
      "cell_type": "markdown",
      "source": [
        "# **EDA**"
      ],
      "metadata": {
        "id": "LbgDBdUTFIa7"
      }
    },
    {
      "cell_type": "code",
      "source": [
        "df_train.head()"
      ],
      "metadata": {
        "id": "01k0v_RODICu"
      },
      "execution_count": null,
      "outputs": []
    },
    {
      "cell_type": "code",
      "source": [
        "for col in label_cols:\n",
        "    print(df_train[col + '_rounded_val'].unique())"
      ],
      "metadata": {
        "id": "P0wTM1KR4IWQ"
      },
      "execution_count": null,
      "outputs": []
    },
    {
      "cell_type": "code",
      "source": [
        "df_train.iloc[0]"
      ],
      "metadata": {
        "id": "T3y2j7by33P2"
      },
      "execution_count": null,
      "outputs": []
    },
    {
      "cell_type": "code",
      "source": [
        "df_test.head()"
      ],
      "metadata": {
        "id": "2JBKHMhFDIGF"
      },
      "execution_count": null,
      "outputs": []
    },
    {
      "cell_type": "code",
      "source": [
        "df_val.head()"
      ],
      "metadata": {
        "id": "m_aKUdVEdf-i"
      },
      "execution_count": null,
      "outputs": []
    },
    {
      "cell_type": "code",
      "source": [
        "df_train.shape, df_test.shape, df_val.shape"
      ],
      "metadata": {
        "id": "pDxgsliNCR0b"
      },
      "execution_count": null,
      "outputs": []
    },
    {
      "cell_type": "code",
      "source": [
        "df_train.describe()"
      ],
      "metadata": {
        "id": "FtENTOWsCR66"
      },
      "execution_count": null,
      "outputs": []
    },
    {
      "cell_type": "code",
      "source": [
        "# df_train.columns"
      ],
      "metadata": {
        "id": "eO3UOIBgfvef"
      },
      "execution_count": null,
      "outputs": []
    },
    {
      "cell_type": "markdown",
      "source": [
        "## **Unique Values for Each Label**"
      ],
      "metadata": {
        "id": "hhWJgI2QONaS"
      }
    },
    {
      "cell_type": "code",
      "source": [
        "# get_unique_values_for_labels(df_train, label_cols)"
      ],
      "metadata": {
        "id": "iS7iZnEIHpOc"
      },
      "execution_count": null,
      "outputs": []
    },
    {
      "cell_type": "markdown",
      "source": [
        "## **Unique Values for Each Rounded Label**"
      ],
      "metadata": {
        "id": "A1TQQfdIPNn0"
      }
    },
    {
      "cell_type": "code",
      "source": [
        "# get_unique_values_for_labels(df_train, label_rounded_cols)"
      ],
      "metadata": {
        "id": "3DWAOVw49kZE"
      },
      "execution_count": null,
      "outputs": []
    },
    {
      "cell_type": "markdown",
      "source": [
        "## **Value Counts for Each Label**"
      ],
      "metadata": {
        "id": "FQzHk9gJTpGF"
      }
    },
    {
      "cell_type": "code",
      "source": [
        "# get_value_counts_for_labels(df_train, label_cols)"
      ],
      "metadata": {
        "id": "vEOP_FvYTtL2"
      },
      "execution_count": null,
      "outputs": []
    },
    {
      "cell_type": "code",
      "source": [
        "# plot_count(df_train, label_cols)"
      ],
      "metadata": {
        "id": "prGSzmkPZ3gn"
      },
      "execution_count": null,
      "outputs": []
    },
    {
      "cell_type": "markdown",
      "source": [
        "## **Value Counts for Each Rounded Label**"
      ],
      "metadata": {
        "id": "QTjC60_xP1gv"
      }
    },
    {
      "cell_type": "code",
      "source": [
        "# get_value_counts_for_labels(df_train, label_rounded_cols)"
      ],
      "metadata": {
        "id": "Pldhpwbx9o30"
      },
      "execution_count": null,
      "outputs": []
    },
    {
      "cell_type": "code",
      "source": [
        "# plot_count(df_train, label_rounded_cols)"
      ],
      "metadata": {
        "id": "KIaZwxVU9vqs"
      },
      "execution_count": null,
      "outputs": []
    },
    {
      "cell_type": "markdown",
      "source": [
        "## **Full Text Length Stats**"
      ],
      "metadata": {
        "id": "KXwT00dRHxGN"
      }
    },
    {
      "cell_type": "code",
      "source": [
        "# df_train.full_text.str.len().describe()"
      ],
      "metadata": {
        "id": "xmi1gFYbHsGb"
      },
      "execution_count": null,
      "outputs": []
    },
    {
      "cell_type": "markdown",
      "source": [
        "## **Word Count Stats**"
      ],
      "metadata": {
        "id": "R-EOY4qnIcUW"
      }
    },
    {
      "cell_type": "code",
      "source": [
        "# df_train.word_count.describe()"
      ],
      "metadata": {
        "id": "qvE2zoXjIfyB"
      },
      "execution_count": null,
      "outputs": []
    },
    {
      "cell_type": "markdown",
      "source": [
        "## **Sentence Count Stats**"
      ],
      "metadata": {
        "id": "FPKsmw8oIlLy"
      }
    },
    {
      "cell_type": "code",
      "source": [
        "# df_train.sentence_count.describe()"
      ],
      "metadata": {
        "id": "IDyYyghnIoW9"
      },
      "execution_count": null,
      "outputs": []
    },
    {
      "cell_type": "code",
      "source": [
        "# df_train[df_train.sentence_count == 1][['full_text']]"
      ],
      "metadata": {
        "id": "ZbPqbB4DIyEw"
      },
      "execution_count": null,
      "outputs": []
    },
    {
      "cell_type": "markdown",
      "source": [
        "# **Visualization**"
      ],
      "metadata": {
        "id": "oYdTWC6zAFzi"
      }
    },
    {
      "cell_type": "markdown",
      "source": [
        "## **Corelation Matrix of the Label Columns**"
      ],
      "metadata": {
        "id": "Lm57jeEsN-Vf"
      }
    },
    {
      "cell_type": "code",
      "source": [
        "# corr = df_train[label_cols].corr()\n",
        "\n",
        "# # Generate a mask for the upper triangle\n",
        "# mask = np.triu(np.ones_like(corr, dtype = bool))\n",
        "\n",
        "# sns.set(rc = {\"figure.figsize\": (10, 8)})\n",
        "\n",
        "# sns.heatmap(corr, \n",
        "#             annot = True, \n",
        "#             cmap = \"coolwarm\", \n",
        "#             mask = mask,\n",
        "#             fmt  = \".5f\")\n",
        "# plt.show()"
      ],
      "metadata": {
        "id": "OsNghRH8GBHb"
      },
      "execution_count": null,
      "outputs": []
    },
    {
      "cell_type": "markdown",
      "source": [
        "## **Essay Length, Word Count, Total Score, Sentence Count Distribution**\n",
        "\n",
        "Essay length, word count and sentence count diostributions have normal shape, though left skewed. Total score distribution looks bi-modal."
      ],
      "metadata": {
        "id": "v1l2yTGnKzsy"
      }
    },
    {
      "cell_type": "code",
      "source": [
        "# plt.figure(figsize=(20,5))\n",
        "\n",
        "# plt.subplot(1,4,1)\n",
        "# sns.histplot(data=df_train, x='word_count', kde=True)\n",
        "# plt.axvline(x=df_train['word_count'].mean(),color='red')\n",
        "# plt.axvline(x=df_train['word_count'].median(),color='black')\n",
        "# plt.xlabel('Word Count Distribution',fontsize=12)\n",
        "# plt.title('Word Count Distribution',fontsize=16)\n",
        "\n",
        "# plt.subplot(1,4,2)\n",
        "# sns.histplot(data=df_train, x='full_text_len', kde=True)\n",
        "# plt.axvline(x=df_train['full_text_len'].mean(),color='red')\n",
        "# plt.axvline(x=df_train['full_text_len'].median(),color='black')\n",
        "# plt.xlabel('Full Text Length Distribution',fontsize=12)\n",
        "# plt.title('Full Text Length Distribution',fontsize=16)\n",
        "\n",
        "# plt.subplot(1,4,3)\n",
        "# sns.histplot(data=df_train, x='total_score', kde=True)\n",
        "# plt.axvline(x=df_train['total_score'].mean(),color='red')\n",
        "# plt.axvline(x=df_train['total_score'].median(),color='black')\n",
        "# plt.xlabel('Total Score Distribution',fontsize=12)\n",
        "# plt.title('Total Score Distribution',fontsize=16)\n",
        "\n",
        "# plt.subplot(1,4,4)\n",
        "# sns.histplot(data=df_train, x='sentence_count', kde=True)\n",
        "# plt.axvline(x=df_train['sentence_count'].mean(),color='red')\n",
        "# plt.axvline(x=df_train['sentence_count'].median(),color='black')\n",
        "# plt.xlabel('Sentence Count Distribution',fontsize=12)\n",
        "# plt.title('Sentence Count Distribution',fontsize=16)"
      ],
      "metadata": {
        "id": "jMSfYQqLK3UW"
      },
      "execution_count": null,
      "outputs": []
    },
    {
      "cell_type": "markdown",
      "source": [
        "## **Word Count Vs Individual Label Scores**"
      ],
      "metadata": {
        "id": "wAW3Z-BxX9qi"
      }
    },
    {
      "cell_type": "code",
      "source": [
        "# get_histogram_for_col(df_train, label_cols, 'word_count')"
      ],
      "metadata": {
        "id": "uDO43g-fzqqD"
      },
      "execution_count": null,
      "outputs": []
    },
    {
      "cell_type": "markdown",
      "source": [
        "## **Word Count Vs Individual Rounded Label Scores**"
      ],
      "metadata": {
        "id": "kdda-LBvO-Qd"
      }
    },
    {
      "cell_type": "code",
      "source": [
        "# get_histogram_for_col(df_train, label_rounded_cols, 'word_count')"
      ],
      "metadata": {
        "id": "N4orWBDq0ERo"
      },
      "execution_count": null,
      "outputs": []
    },
    {
      "cell_type": "markdown",
      "source": [
        "## **Sentence Count Vs Individual Label Scores**"
      ],
      "metadata": {
        "id": "_AGO4SrlYcZQ"
      }
    },
    {
      "cell_type": "code",
      "source": [
        "# get_histogram_for_col(df_train, label_cols, 'sentence_count')"
      ],
      "metadata": {
        "id": "vWBjXi0R0MUv"
      },
      "execution_count": null,
      "outputs": []
    },
    {
      "cell_type": "markdown",
      "source": [
        "## **Sentence Count Vs Individual Rounded Label Scores**"
      ],
      "metadata": {
        "id": "Blag-pumPIgu"
      }
    },
    {
      "cell_type": "code",
      "source": [
        "# get_histogram_for_col(df_train, label_rounded_cols, 'sentence_count')"
      ],
      "metadata": {
        "id": "un2OywUX9Zkn"
      },
      "execution_count": null,
      "outputs": []
    },
    {
      "cell_type": "markdown",
      "source": [
        "## **Distribution of Labels Above and Below Average in the Respective Category**"
      ],
      "metadata": {
        "id": "gEfySDbNOTJN"
      }
    },
    {
      "cell_type": "code",
      "source": [
        "# get_count_plot_for_ind_col(df_train, '_above_or_below_avg_flag', label_cols)"
      ],
      "metadata": {
        "id": "J0ilIF_dE7-z"
      },
      "execution_count": null,
      "outputs": []
    },
    {
      "cell_type": "markdown",
      "source": [
        "## **Distribution of Labels Above and Below Median in the Respective Category**"
      ],
      "metadata": {
        "id": "4e-8H751RROi"
      }
    },
    {
      "cell_type": "code",
      "source": [
        "# get_count_plot_for_ind_col(df_train, '_above_or_below_median_flag', label_cols)"
      ],
      "metadata": {
        "id": "NWcHq1tTRUwE"
      },
      "execution_count": null,
      "outputs": []
    },
    {
      "cell_type": "markdown",
      "source": [
        "For all the labels we see that most of the label values are below average and median values."
      ],
      "metadata": {
        "id": "zOZHsj_VRlg-"
      }
    },
    {
      "cell_type": "markdown",
      "source": [
        "## **Distribution of Labels**"
      ],
      "metadata": {
        "id": "rcB_ojpNXh4r"
      }
    },
    {
      "cell_type": "code",
      "source": [
        "# fig, ax = plt.subplots(1, len(label_cols), figsize=(40,10))\n",
        "\n",
        "# for idx, label in enumerate(label_cols):\n",
        "#     sns.distplot(x = df_train[label],\n",
        "#                  ax = ax[idx]\n",
        "#                 )\n",
        "#     ax[idx].set_title(label)\n",
        "#     #plt.show(block = False)"
      ],
      "metadata": {
        "id": "qs86knBLIEOR"
      },
      "execution_count": null,
      "outputs": []
    },
    {
      "cell_type": "markdown",
      "source": [
        "## **Average Score Per Label**"
      ],
      "metadata": {
        "id": "x08cEWvzKdEF"
      }
    },
    {
      "cell_type": "code",
      "source": [
        "# get_barplot_for_each_label(df_train, label_cols, '_avg_score')"
      ],
      "metadata": {
        "id": "dO58Qh1VE8B8"
      },
      "execution_count": null,
      "outputs": []
    },
    {
      "cell_type": "markdown",
      "source": [
        "## **Median Score Per Label**"
      ],
      "metadata": {
        "id": "C-wgt-ouU3it"
      }
    },
    {
      "cell_type": "code",
      "source": [
        "# get_barplot_for_each_label(df_train, label_cols, '_median_score')"
      ],
      "metadata": {
        "id": "VsGe1C0bWUGE"
      },
      "execution_count": null,
      "outputs": []
    },
    {
      "cell_type": "markdown",
      "source": [
        "## **Most Frequent Words**"
      ],
      "metadata": {
        "id": "bILNga0wabjS"
      }
    },
    {
      "cell_type": "code",
      "source": [
        "# text = df_train[df_train[label_cols].sum(axis=1)==30]['full_text'].values[0]\n",
        "# word_cloud = WordCloud(stopwords=STOPWORDS, colormap='Pastel1', collocations=False, width=1200, height=700, background_color = \"black\").generate(text)\n",
        "# plt.figure(figsize=(20,8))\n",
        "# plt.imshow(word_cloud)\n",
        "# plt.axis(\"off\")\n",
        "# plt.show()\n",
        "     "
      ],
      "metadata": {
        "id": "gk6gXM4_E8E2"
      },
      "execution_count": null,
      "outputs": []
    },
    {
      "cell_type": "markdown",
      "source": [
        "# **Regression** Model with **BERT**\n",
        "\n"
      ],
      "metadata": {
        "id": "Tkyi4qkae3pt"
      }
    },
    {
      "cell_type": "markdown",
      "source": [
        "## Model Checkpoint and **Tokenization** from Pre-trained BERT"
      ],
      "metadata": {
        "id": "sZfveEfmubRr"
      }
    },
    {
      "cell_type": "code",
      "source": [
        "from transformers import BertTokenizer, TFBertModel\n",
        "\n",
        "#make it easier to use a variety of BERT subword models\n",
        "model_checkpoint = 'bert-base-cased'   # case sensitive (care about upper and lower case)\n",
        "bert_model = TFBertModel.from_pretrained(model_checkpoint)  \n",
        "bert_tokenizer = BertTokenizer.from_pretrained(model_checkpoint)"
      ],
      "metadata": {
        "id": "prqm6UhKE8H-"
      },
      "execution_count": null,
      "outputs": []
    },
    {
      "cell_type": "code",
      "source": [
        "bert_model.config"
      ],
      "metadata": {
        "id": "ARxp_Z9_UlCb"
      },
      "execution_count": null,
      "outputs": []
    },
    {
      "cell_type": "code",
      "source": [
        "# for layer in bert_model.weights:\n",
        "#     print(layer.name, layer.trainable)"
      ],
      "metadata": {
        "id": "5TC3uLX46ykI"
      },
      "execution_count": null,
      "outputs": []
    },
    {
      "cell_type": "markdown",
      "source": [
        "## **Split Data** into **X and Y**\n"
      ],
      "metadata": {
        "id": "0ekOzuscyefN"
      }
    },
    {
      "cell_type": "code",
      "source": [
        "X_train, X_val, X_test = df_train['full_text'], df_val['full_text'], df_test['full_text']\n",
        "y_train, y_val, y_test = np.array(df_train[label_cols]), np.array(df_val[label_cols]), np.array(df_test[label_cols])"
      ],
      "metadata": {
        "id": "bZSjgsFgfhNm"
      },
      "execution_count": null,
      "outputs": []
    },
    {
      "cell_type": "markdown",
      "source": [
        "## **Generate Input Embeddings** - Train/Validation/Test Set"
      ],
      "metadata": {
        "id": "IJCY3zRUydcB"
      }
    },
    {
      "cell_type": "code",
      "source": [
        "MAX_LENGTH = 512"
      ],
      "metadata": {
        "id": "ULNaCJQ9bz1x"
      },
      "execution_count": null,
      "outputs": []
    },
    {
      "cell_type": "code",
      "source": [
        "train_encodings = bert_tokenizer(X_train.tolist(), dtype=\"int32\", truncation=True, padding=True, max_length=MAX_LENGTH, return_tensors='tf')\n",
        "val_encodings = bert_tokenizer(X_val.tolist(), dtype=\"int32\", truncation=True, padding=True, max_length=MAX_LENGTH, return_tensors='tf')\n",
        "test_encodings = bert_tokenizer(X_test.tolist(), dtype=\"int32\", truncation=True, padding=True, max_length=MAX_LENGTH, return_tensors='tf')"
      ],
      "metadata": {
        "id": "pm1gV7bIE8Kx"
      },
      "execution_count": null,
      "outputs": []
    },
    {
      "cell_type": "markdown",
      "source": [
        "## **Run Experiments**"
      ],
      "metadata": {
        "id": "94djOdz8GWOO"
      }
    },
    {
      "cell_type": "code",
      "source": [
        "def run_regression_experiment(num_train_layers=0,\n",
        "                              num_hidden_layer=1,\n",
        "                              num_hidden_units=256,\n",
        "                              dropout=0.3,\n",
        "                              learning_rate=0.00005,\n",
        "                              batch_size=8,\n",
        "                              csv_filename='perf_summary_regression_w_BERT.csv',\n",
        "                              activation = 'relu',                                    # 'relu', 'leaky_relu', 'gelu'\n",
        "                              optimizer='adam',                                       # 'adam', 'sgd'\n",
        "                              epochs=10):\n",
        "\n",
        "  df_perf_summary = pd.DataFrame()\n",
        "  for layer in num_train_layers:  \n",
        "    print('\\n******************************************************')\n",
        "    print(f'Regression with BERT: Number of Unfrozen Layers = {layer}')\n",
        "    print('******************************************************\\n')\n",
        "\n",
        "\n",
        "    # build a regression model\n",
        "    regression_with_bert, num_trainable_params, num_non_trainable_params = regression_model_with_bert(num_classes = 9,                          # [1, 1.5, 2, 2.5....4.5, 5]: 9 classes\n",
        "                                                                                                      num_train_layers = layer,\n",
        "                                                                                                      num_hidden_layer = num_hidden_layer,\n",
        "                                                                                                      num_hidden_units = num_hidden_units,\n",
        "                                                                                                      dropout = dropout,\n",
        "                                                                                                      learning_rate = learning_rate,\n",
        "                                                                                                      activation = activation,\n",
        "                                                                                                      optimizer=optimizer)\n",
        "    # print(f'Parameter Values:\\n======================\\nnum_hidden_layer = {num_hidden_layer}\\nnum_hidden_units = {num_hidden_units}\\ndropout = {dropout}\\nlearning_rate = {learning_rate}\\nbatch_size = {batch_size}\\n')\n",
        "    \n",
        "    # model summary and plot model structure\n",
        "    display(regression_with_bert.summary())\n",
        "    display(keras.utils.plot_model(regression_with_bert, show_shapes=False, show_dtype=False, show_layer_names=True, dpi=90))\n",
        "\n",
        "    # train model\n",
        "    df_regression_model_history = train_regression(regression_with_bert, batch_size, epochs)\n",
        "    print(\"\\nPlotting loss and MCRMSE...\")\n",
        "    plot_loss_mcrmse(df_regression_model_history, 'MCRMSE')  \n",
        "    # print(\"\\nTensorBoard: Evolution of Loss and MCRMSE:\\n=============================================\")\n",
        "    # %tensorboard --logdir logs/fit\n",
        "\n",
        "    # Evaluate test set\n",
        "    score_regression = evaluate_test_labels(regression_with_bert)\n",
        "\n",
        "    # Predict test set\n",
        "    df_pred = predict_test_labels(regression_with_bert)\n",
        "    df_pred_scaled = scaled_pred(df_pred)\n",
        "    \n",
        "    # Create a final table with y_true, y_pred_raw, and y_pred_scaled\n",
        "    # display(generate_final_table(df_pred))\n",
        "\n",
        "    # ========== Performace metrics summary ===================================\n",
        "    perf_metrics = pd.DataFrame({'NLP Model':\"bert-base-cased\",\n",
        "                                'Num_Trainable_layers': layer,\n",
        "                                # 'Trainable_Params':  f'{num_trainable_params:,}',\n",
        "                                # 'Non-Trainable_Params':  f'{num_non_trainable_params:,}',\n",
        "                                'Epochs':epochs,                                                              \n",
        "                                'Test_MCRMSE':round(score_regression[1], 4), \n",
        "                                'Test_Loss':round(score_regression[0], 4), \n",
        "                                'Train_MCRMSE':round(df_regression_model_history.iloc[-1][1], 4), \n",
        "                                'Train_Loss':round(df_regression_model_history.iloc[-1][0], 4), \n",
        "                                'Val_MCRMSE':round(df_regression_model_history.iloc[-1][3], 4), \n",
        "                                'Val_Loss':round(df_regression_model_history.iloc[-1][2], 4),  \n",
        "                                'Optimizer': optimizer, \n",
        "                                'Activation': activation,  \n",
        "                                'Learning_Rate':learning_rate,                               \n",
        "                                'Num_Hidden_Layers':num_hidden_layer, \n",
        "                                'Num_hidden_Units':num_hidden_units,                                 \n",
        "                                'Dropout': dropout, \n",
        "                                'Batch_Size': batch_size}, index=[0])\n",
        "    df_perf_summary = df_perf_summary.append(perf_metrics)\n",
        "  df_perf_summary.to_csv(csv_filename, index=False)\n",
        "  display(df_perf_summary.reset_index(drop=True))\n"
      ],
      "metadata": {
        "id": "qQdfrVfztf_1"
      },
      "execution_count": null,
      "outputs": []
    },
    {
      "cell_type": "code",
      "source": [
        "def run_regression_experiment_1(num_train_layers=0,\n",
        "                              num_hidden_layer=1,\n",
        "                              num_hidden_units=256,\n",
        "                              dropout=0.3,\n",
        "                              learning_rate=0.00005,\n",
        "                              batch_size=8,\n",
        "                              csv_filename='perf_summary_regression_w_BERT.csv',\n",
        "                              activation = 'relu',                                    # 'relu', 'leaky_relu', 'gelu'\n",
        "                              optimizer='adam',                                       # 'adam', 'sgd'\n",
        "                              epochs=10):\n",
        "\n",
        "  # df_perf_summary = pd.DataFrame()\n",
        "  # for layer in num_train_layers:  \n",
        "  print('\\n******************************************************')\n",
        "  print(f'Regression with BERT: Number of Unfrozen Layers = {num_train_layers}')\n",
        "  print('******************************************************\\n')\n",
        "\n",
        "\n",
        "  # build a regression model\n",
        "  regression_with_bert, num_trainable_params, num_non_trainable_params = regression_model_with_bert(num_classes = 9,                          # [1, 1.5, 2, 2.5....4.5, 5]: 9 classes\n",
        "                                                                                                    num_train_layers = num_train_layers,\n",
        "                                                                                                    num_hidden_layer = num_hidden_layer,\n",
        "                                                                                                    num_hidden_units = num_hidden_units,\n",
        "                                                                                                    dropout = dropout,\n",
        "                                                                                                    learning_rate = learning_rate,\n",
        "                                                                                                    activation = activation,\n",
        "                                                                                                    optimizer=optimizer)\n",
        "  # print(f'Parameter Values:\\n======================\\nnum_hidden_layer = {num_hidden_layer}\\nnum_hidden_units = {num_hidden_units}\\ndropout = {dropout}\\nlearning_rate = {learning_rate}\\nbatch_size = {batch_size}\\n')\n",
        "  \n",
        "  # model summary and plot model structure\n",
        "  display(regression_with_bert.summary())\n",
        "  display(keras.utils.plot_model(regression_with_bert, show_shapes=False, show_dtype=False, show_layer_names=True, dpi=90))\n",
        "\n",
        "  # train model\n",
        "  df_regression_model_history = train_regression(regression_with_bert, batch_size, epochs)\n",
        "  print(\"\\nPlotting loss and MCRMSE...\")\n",
        "  plot_loss_mcrmse(df_regression_model_history, 'MCRMSE')  \n",
        "  # print(\"\\nTensorBoard: Evolution of Loss and MCRMSE:\\n=============================================\")\n",
        "  # %tensorboard --logdir logs/fit\n",
        "\n",
        "  # Evaluate test set\n",
        "  score_regression = evaluate_test_labels(regression_with_bert)\n",
        "\n",
        "  # Predict test set\n",
        "  df_pred = predict_test_labels(regression_with_bert)\n",
        "  df_pred_scaled = scaled_pred(df_pred)\n",
        "  df_pred.to_csv('df_pred.csv', index=False)\n",
        "  \n",
        "  # Create a final table with y_true, y_pred_raw, and y_pred_scaled\n",
        "  df_final = generate_final_table(df_pred)\n",
        "  display(generate_final_table(df_pred))\n",
        "  df_final.to_csv('df_final.csv', index=False)\n",
        "\n",
        "  # ========== Performace metrics summary ===================================\n",
        "  perf_metrics = pd.DataFrame({'NLP Model':\"bert-base-cased\",\n",
        "                              'Num_Trainable_layers': num_train_layers,\n",
        "                              # 'Trainable_Params':  f'{num_trainable_params:,}',\n",
        "                              # 'Non-Trainable_Params':  f'{num_non_trainable_params:,}',\n",
        "                              'Epochs':epochs,                                                              \n",
        "                              'Test_MCRMSE':round(score_regression[1], 4), \n",
        "                              'Test_Loss':round(score_regression[0], 4), \n",
        "                              'Train_MCRMSE':round(df_regression_model_history.iloc[-1][1], 4), \n",
        "                              'Train_Loss':round(df_regression_model_history.iloc[-1][0], 4), \n",
        "                              'Val_MCRMSE':round(df_regression_model_history.iloc[-1][3], 4), \n",
        "                              'Val_Loss':round(df_regression_model_history.iloc[-1][2], 4),  \n",
        "                              'Optimizer': optimizer, \n",
        "                              'Activation': activation,  \n",
        "                              'Learning_Rate':learning_rate,                               \n",
        "                              'Num_Hidden_Layers':num_hidden_layer, \n",
        "                              'Num_hidden_Units':num_hidden_units,                                 \n",
        "                              'Dropout': dropout, \n",
        "                              'Batch_Size': batch_size}, index=[0])\n",
        "    # df_perf_summary = df_perf_summary.append(perf_metrics)\n",
        "  perf_metrics.to_csv(csv_filename, index=False)\n",
        "  display(perf_metrics.reset_index(drop=True))\n"
      ],
      "metadata": {
        "id": "OS76ZKvJdW3t"
      },
      "execution_count": null,
      "outputs": []
    },
    {
      "cell_type": "markdown",
      "source": [
        "## **Build Regression Model with BERT**"
      ],
      "metadata": {
        "id": "VKFVHp0YtvnV"
      }
    },
    {
      "cell_type": "code",
      "source": [
        "def regression_model_with_bert(num_classes=9,                  # [1, 1.5, 2, 2.5....4.5, 5]: 9 classes\n",
        "                               num_train_layers=0,\n",
        "                               num_hidden_layer=1,\n",
        "                               num_hidden_units=256,\n",
        "                               dropout=0.3,\n",
        "                               learning_rate=0.00005,\n",
        "                               activation = 'relu',\n",
        "                               optimizer='adam'):\n",
        "    \"\"\"\n",
        "    Build a simple regression model with BERT. Use the CLS Output for regression purposes.\n",
        "    \"\"\"\n",
        "    # =========== BEGIN generate \"input features\" using pre-trained model tokenizer ==================================\n",
        "    if num_train_layers == 0:\n",
        "        bert_model.trainable = False                 # Freeze all layers of pre-trained BERT model\n",
        "\n",
        "    elif num_train_layers == 12:         \n",
        "        bert_model.trainable = True                  # Train all layers of the BERT model\n",
        "\n",
        "    else:                                            # Restrict training to the num_train_layers outer transformer layers\n",
        "        retrain_layers = []\n",
        "        for retrain_layer_number in range(num_train_layers):\n",
        "            layer_code = '_' + str(11 - retrain_layer_number)\n",
        "            retrain_layers.append(layer_code) \n",
        "        # print('retrain layers: ', retrain_layers)\n",
        "\n",
        "        for w in bert_model.weights:\n",
        "            if not any([x in w.name for x in retrain_layers]):\n",
        "                #print('freezing: ', w)\n",
        "                w._trainable = False\n",
        "    \n",
        "    # Input Layer\n",
        "    input_ids = tf.keras.layers.Input(shape=(MAX_LENGTH), dtype=tf.int32, name='input_ids_layer')\n",
        "    attention_mask = tf.keras.layers.Input(shape=(MAX_LENGTH), dtype=tf.int32, name='attention_mask_layer')\n",
        "\n",
        "    bert_inputs = {'input_ids': input_ids,\n",
        "                  'attention_mask': attention_mask\n",
        "                  }\n",
        "                      \n",
        "    # Bert output: being used as an input feature in the classification model below\n",
        "    bert_out = bert_model(bert_inputs)        # full features as an input to the following classification model\n",
        "    # pooler_output = bert_out[1]             # one vector for each\n",
        "    cls_token = bert_out[0][:, 0, :]          # give us a raw CLS tokens\n",
        "\n",
        "\n",
        "    layer_list = []\n",
        "    for hidden_layer_number in range(num_hidden_layer):\n",
        "        if hidden_layer_number == 0:\n",
        "            hidden_layer = tf.keras.layers.Dense(units = num_hidden_units\n",
        "                                        , activation = activation\n",
        "                                        , name = 'hidden_layer_' + str(hidden_layer_number + 1)\n",
        "                                        )(cls_token)\n",
        "        else:\n",
        "            hidden_layer = tf.keras.layers.Dense(units = num_hidden_units\n",
        "                                        , activation = activation\n",
        "                                        , name = 'hidden_layer_' + str(hidden_layer_number + 1)\n",
        "                                        )(layer_list[-1])\n",
        "        layer_list.append(hidden_layer)\n",
        "        dropout_layer = tf.keras.layers.Dropout(dropout, name = 'dropout_layer_' + str(hidden_layer_number + 1))(hidden_layer) \n",
        "        layer_list.append(dropout_layer)\n",
        "\n",
        "    output = tf.keras.layers.Dense(6,)(layer_list[-1])\n",
        "    regression_model = tf.keras.Model(inputs = [input_ids, attention_mask], outputs = output)    \n",
        "\n",
        "    def selected_optimizer(optimizer):\n",
        "      if optimizer.lower() == 'sgd':\n",
        "        return SGD(learning_rate=learning_rate)           \n",
        "      elif optimizer.lower() == 'adam':\n",
        "        return Adam(learning_rate=learning_rate)          \n",
        "\n",
        "    regression_model.compile(optimizer = selected_optimizer(optimizer),\n",
        "                             loss=MCRMSE,\n",
        "                             metrics=MCRMSE) \n",
        "\n",
        "    return regression_model, count_params(regression_model.trainable_weights), count_params(regression_model.non_trainable_weights)"
      ],
      "metadata": {
        "id": "Qdt1Vtl9RVnc"
      },
      "execution_count": null,
      "outputs": []
    },
    {
      "cell_type": "markdown",
      "source": [
        "## Set up a TensorBoard\n",
        "[Get started with TensorBoard](https://www.tensorflow.org/tensorboard/get_started#:~:text=TensorBoard%20is%20a%20tool%20for,dimensional%20space%2C%20and%20much%20more)"
      ],
      "metadata": {
        "id": "KW5UFWhmiJkJ"
      }
    },
    {
      "cell_type": "code",
      "source": [
        "# # Load the TensorBoard notebook extension\n",
        "# %load_ext tensorboard"
      ],
      "metadata": {
        "id": "l8bZDErgg1NE"
      },
      "execution_count": null,
      "outputs": []
    },
    {
      "cell_type": "code",
      "source": [
        "# # Clear any logs from previous runs\n",
        "# !rm -rf ./logs/"
      ],
      "metadata": {
        "id": "U0IdoA8og1Ei"
      },
      "execution_count": null,
      "outputs": []
    },
    {
      "cell_type": "code",
      "source": [
        "# log_dir = \"logs/fit/\" + datetime.datetime.now().strftime(\"%Y%m%d-%H%M%S\")\n",
        "# tensorboard_callback = tf.keras.callbacks.TensorBoard(log_dir=log_dir, histogram_freq=1)"
      ],
      "metadata": {
        "id": "c37lLIBMhgtz"
      },
      "execution_count": null,
      "outputs": []
    },
    {
      "cell_type": "markdown",
      "source": [
        "## Train the Regression Model with:\n",
        "- **Early Stopping callback** - Stop training when start overfitting\n",
        "- **Model Checkpoint callback** - Save the model output in the temp folder (Model_Checkpoint) created in Google Drive. Whenever you re-run your model, the existing logs will be replaced with the output of new run.\n",
        "- **Tensorboard callback** - Display the loss and MCRMSE evolution"
      ],
      "metadata": {
        "id": "Bb7jUXUFiTxy"
      }
    },
    {
      "cell_type": "markdown",
      "source": [
        "We want to run until val_loss started increasing and over passing the training loss (overfitting). That's where the right number of epochs we need to have to run the model. To control this, we set up the Early Stopping callback."
      ],
      "metadata": {
        "id": "QOsxqmOww8GX"
      }
    },
    {
      "cell_type": "code",
      "source": [
        "# batch_size = random.choice([8,16])\n",
        "def train_regression(model, batch_size, epochs):  \n",
        "  checkpoint_filepath = '/content/gdrive/MyDrive/Kaggle/Model_Checkpoint/'         #  Create a new directory, Model_Checkpoint, in my Google Drive first and navigate the path here\n",
        "  checkpoint_filepath = checkpoint_filepath + 'weights.{epoch:02d}-{val_MCRMSE:.2f}.hdf5'\n",
        "  model_checkpoint_callback = tf.keras.callbacks.ModelCheckpoint(filepath=checkpoint_filepath,\n",
        "                                                                  monitor='val_loss',\n",
        "                                                                  mode='min',\n",
        "                                                                  save_weights_only=True,\n",
        "                                                                  save_best_only=True)  \n",
        "  # The following parameters say: \"If there hasn't been at least an improvement of 0.001 in the validation loss over the previous 3 epochs, then stop the training and keep the best model you found.\"\n",
        "  early_stopping_callback = tf.keras.callbacks.EarlyStopping(monitor='loss', \n",
        "                                              min_delta=0.001, # minimium amount of change to count as an improvement\n",
        "                                              patience=3,      # how many epochs to wait before stopping\n",
        "                                              restore_best_weights=True)\n",
        "\n",
        "  print('Training Regression with BERT.....\\n====================================='  )\n",
        "  regression_model_history = model.fit([train_encodings.input_ids, \n",
        "                                        train_encodings.attention_mask\n",
        "                                        ], \n",
        "                                        y_train,   \n",
        "                                        validation_data =([val_encodings.input_ids, \n",
        "                                                            val_encodings.attention_mask], \n",
        "                                                          y_val\n",
        "                                                          ),    \n",
        "                                        batch_size = batch_size, \n",
        "                                        # callbacks=[callback, model_checkpoint_callback, tensorboard_callback],\n",
        "                                        callbacks=[early_stopping_callback, model_checkpoint_callback],\n",
        "                                        epochs = epochs \n",
        "                                        # verbose=0    # make output invisible\n",
        "                                        )    \n",
        "  df_regression_model_history = pd.DataFrame(regression_model_history.history)\n",
        "  display(df_regression_model_history.T)     \n",
        "  return df_regression_model_history                                       "
      ],
      "metadata": {
        "id": "SxfupcqtYVML"
      },
      "execution_count": null,
      "outputs": []
    },
    {
      "cell_type": "code",
      "source": [
        "def plot_loss_mcrmse(df, eval_metric):\n",
        "    x_arr = np.arange(len(df['loss'])) + 1\n",
        "    fig = plt.figure(figsize=(12, 4))\n",
        "    ax = fig.add_subplot(1, 2, 1)\n",
        "    ax.plot(x_arr, df['loss'], '-o', label = 'Train Loss')\n",
        "    ax.plot(x_arr, df['val_loss'], '--<', label = 'Validation Loss')\n",
        "    ax.legend(fontsize = 12)\n",
        "    ax.set_xlabel('Epoch', size = 12)\n",
        "    ax.set_ylabel('Loss', size = 12)\n",
        "\n",
        "    ax = fig.add_subplot(1, 2, 2)\n",
        "    ax.plot(x_arr, df[eval_metric], '-o', label = 'Train ' + eval_metric)\n",
        "    ax.plot(x_arr, df['val_' + eval_metric], '--<', label = 'Validation ' + eval_metric)\n",
        "    ax.legend(fontsize = 12)\n",
        "    ax.set_xlabel('Epoch', size = 12)\n",
        "    ax.set_ylabel('MCRMSE', size = 12)\n",
        "    #ax.set_ylim(0,1)\n",
        "    plt.show()"
      ],
      "metadata": {
        "id": "pryZ84H5mTm8"
      },
      "execution_count": null,
      "outputs": []
    },
    {
      "cell_type": "markdown",
      "source": [
        "## Evaluate Test Set"
      ],
      "metadata": {
        "id": "2VtKGJ_4la2Q"
      }
    },
    {
      "cell_type": "code",
      "source": [
        "def evaluate_test_labels(model):\n",
        "  score_regression = model.evaluate([test_encodings.input_ids, \n",
        "                                          test_encodings.attention_mask\n",
        "                                          ], \n",
        "                                          y_test\n",
        "                                          ) \n",
        "  print('\\nEvaluate Test Metrics:\\n=================================')\n",
        "  print('\\nTest loss: {:.4f}'.format(score_regression[0]))\n",
        "  print('\\nTest MCRMSE score: {:.4f}'.format(score_regression[1]),'\\n')\n",
        "  return score_regression"
      ],
      "metadata": {
        "id": "sVxTurgBNXh7"
      },
      "execution_count": null,
      "outputs": []
    },
    {
      "cell_type": "markdown",
      "source": [
        "## Predict Scores for 6 Metrics in Test Set"
      ],
      "metadata": {
        "id": "NW4pawEWleeb"
      }
    },
    {
      "cell_type": "code",
      "source": [
        "def predict_test_labels(model):\n",
        "  predictions = model.predict([test_encodings.input_ids, test_encodings.attention_mask])    # -1 in reshape function is used when you don't know or want to explicitly tell the dimension of that axis.\n",
        "  df_pred = pd.DataFrame(predictions, columns=['pred_'+ col for col in label_cols])\n",
        "  return df_pred"
      ],
      "metadata": {
        "id": "djJZFfnwHh54"
      },
      "execution_count": null,
      "outputs": []
    },
    {
      "cell_type": "markdown",
      "source": [
        "## Final Output Table:\n",
        "- True Scores of Test Set\n",
        "- Raw Predicted Scores of Test Set \n",
        "- Scaled Predicted Scores of Test Set "
      ],
      "metadata": {
        "id": "ygp2LO33o-VE"
      }
    },
    {
      "cell_type": "code",
      "source": [
        "def scaled_pred(df):\n",
        "  pred_scaled = []\n",
        "  for col in df:\n",
        "    df[col + '_scaled'] = df[col].apply(lambda val: round(val/0.5) * 0.5)  # Round up the raw prediction score to be comparable\n",
        "    pred_scaled.append(df[col + '_scaled'])\n",
        "  return pd.DataFrame(pred_scaled).T"
      ],
      "metadata": {
        "id": "kFENH_N5ozGI"
      },
      "execution_count": null,
      "outputs": []
    },
    {
      "cell_type": "code",
      "source": [
        "def generate_final_table(df_pred):\n",
        "  # print('\\nFinal Table: y_true vs. y_pred_raw vs. y_pred_scaled\\n======================================================')\n",
        "  df_final = pd.concat([df_test[['full_text']].reset_index(drop=True), df_test[label_cols].reset_index(drop=True), df_pred], axis=1)\n",
        "  # display(df_final)\n",
        "  return df_final"
      ],
      "metadata": {
        "id": "xq3L18WTIWIC"
      },
      "execution_count": null,
      "outputs": []
    },
    {
      "cell_type": "markdown",
      "source": [
        "## **Experiment** - Regression with BERT"
      ],
      "metadata": {
        "id": "9X9RmKEe6bh2"
      }
    },
    {
      "cell_type": "code",
      "source": [
        "run_regression_experiment(num_train_layers=np.arange(0,13,6),\n",
        "                          activation='relu',\n",
        "                          optimizer='adam',                          \n",
        "                          csv_filename='perf_summary_regression_w_BERT_1.csv')"
      ],
      "metadata": {
        "id": "c2mJZOrelrJx"
      },
      "execution_count": null,
      "outputs": []
    },
    {
      "cell_type": "code",
      "source": [
        "run_regression_experiment(num_train_layers=np.arange(0,13,2),\n",
        "                          num_hidden_layer=2,\n",
        "                          num_hidden_units=64,\n",
        "                          dropout=0.1,\n",
        "                          learning_rate=0.00001,\n",
        "                          batch_size=16,\n",
        "                          csv_filename='perf_summary_regression_w_BERT_2.csv',\n",
        "                          activation='relu',\n",
        "                          optimizer='adam',\n",
        "                          epochs=10)"
      ],
      "metadata": {
        "id": "6Z3V2v-vCsA_"
      },
      "execution_count": null,
      "outputs": []
    },
    {
      "cell_type": "code",
      "source": [
        "run_regression_experiment(num_train_layers=np.arange(0,13,2),\n",
        "                          csv_filename='perf_summary_regression_w_BERT_5.csv')"
      ],
      "metadata": {
        "id": "2G22SopdBDc-"
      },
      "execution_count": null,
      "outputs": []
    },
    {
      "cell_type": "code",
      "source": [
        "run_regression_experiment(num_train_layers=np.arange(0,13,6),\n",
        "                          batch_size=16,\n",
        "                          activation='relu',\n",
        "                          optimizer='adam',\n",
        "                          csv_filename='perf_summary_regression_w_BERT_4.csv')"
      ],
      "metadata": {
        "id": "LwCuxwrxB9K-"
      },
      "execution_count": null,
      "outputs": []
    },
    {
      "cell_type": "code",
      "source": [
        "run_regression_experiment(num_train_layers=np.arange(0,13,6),\n",
        "                          batch_size=16,\n",
        "                          activation='gelu',\n",
        "                          optimizer='adam',\n",
        "                          csv_filename='perf_summary_regression_w_BERT_batch16_gelu.csv')"
      ],
      "metadata": {
        "id": "-r7_F0wWQQnY"
      },
      "execution_count": null,
      "outputs": []
    },
    {
      "cell_type": "code",
      "source": [
        "run_regression_experiment(num_train_layers=np.arange(0,7,2),\n",
        "                          batch_size=16,\n",
        "                          activation='leaky_relu',\n",
        "                          optimizer='adam',\n",
        "                          csv_filename='perf_summary_regression_w_BERT_batch16_leakyRelu.csv')"
      ],
      "metadata": {
        "id": "lf7ZXqF-dmUs"
      },
      "execution_count": null,
      "outputs": []
    },
    {
      "cell_type": "code",
      "source": [
        "run_regression_experiment(num_train_layers=np.arange(2,5,2),\n",
        "                          dropout=0.1,\n",
        "                          batch_size=16,\n",
        "                          activation='relu',\n",
        "                          optimizer='adam',\n",
        "                          csv_filename='perf_summary_regression_w_BERT_batch16_leakyRelu.csv')"
      ],
      "metadata": {
        "id": "2wHfNrR0U7AC"
      },
      "execution_count": null,
      "outputs": []
    },
    {
      "cell_type": "code",
      "source": [
        "run_regression_experiment(num_train_layers=np.arange(0,7,2),\n",
        "                          dropout=0.2,\n",
        "                          batch_size=16,\n",
        "                          activation='leaky_relu',\n",
        "                          optimizer='adam',\n",
        "                          csv_filename='perf_summary_regression_w_BERT_batch16_leakyRelu_sgd.csv')"
      ],
      "metadata": {
        "id": "bmcwEPBM0d1i"
      },
      "execution_count": null,
      "outputs": []
    },
    {
      "cell_type": "code",
      "source": [
        " run_regression_experiment(num_train_layers=np.arange(0,7,2),\n",
        "                          # num_hidden_layer=1,\n",
        "                          # num_hidden_units=256,\n",
        "                          dropout=0.2,\n",
        "                          learning_rate=0.0001,\n",
        "                          batch_size=16,\n",
        "                          activation='leaky_relu',\n",
        "                          optimizer='adam',\n",
        "                          csv_filename='perf_summary_regression_w_BERT_batch16_leakyRelu_lowerLR.csv')"
      ],
      "metadata": {
        "id": "W5FUa8jsW2xo"
      },
      "execution_count": null,
      "outputs": []
    },
    {
      "cell_type": "code",
      "source": [
        "run_regression_experiment(num_train_layers=np.arange(0,13,4),\n",
        "                          # num_hidden_layer=1,\n",
        "                          num_hidden_units=128,\n",
        "                          dropout=0.2,\n",
        "                          learning_rate=0.0005,\n",
        "                          batch_size=16,\n",
        "                          activation='leaky_relu',\n",
        "                          optimizer='adam',\n",
        "                          csv_filename='perf_summary_regression_w_BERT_batch16_leakyRelu_lowerLR2.csv')"
      ],
      "metadata": {
        "id": "qMrzE6azMC8H"
      },
      "execution_count": null,
      "outputs": []
    },
    {
      "cell_type": "code",
      "source": [
        " run_regression_experiment(num_train_layers=np.arange(0,13,4),\n",
        "                          # num_hidden_layer=1,\n",
        "                          num_hidden_units=64,\n",
        "                          dropout=0.2,\n",
        "                          learning_rate=0.0005,\n",
        "                          batch_size=16,\n",
        "                          activation='leaky_relu',\n",
        "                          optimizer='adam',\n",
        "                          csv_filename='perf_summary_regression_w_BERT_batch16_leakyRelu_lowerLR128.csv')\n"
      ],
      "metadata": {
        "id": "YrTasf5mNbg_"
      },
      "execution_count": null,
      "outputs": []
    },
    {
      "cell_type": "code",
      "source": [
        "run_regression_experiment_1(num_train_layers=12,\n",
        "                          num_hidden_layer=2,\n",
        "                          num_hidden_units=64,\n",
        "                          dropout=0.1,\n",
        "                          learning_rate=0.00001,\n",
        "                          batch_size=8,               # from 16 to 8: no more OOM error\n",
        "                          csv_filename='perf_summary_regression_w_BERT_final1.csv',\n",
        "                          activation='relu',\n",
        "                          optimizer='adam',\n",
        "                          epochs=10)"
      ],
      "metadata": {
        "id": "Tqszj4f0johg"
      },
      "execution_count": null,
      "outputs": []
    },
    {
      "cell_type": "code",
      "source": [
        "run_regression_experiment_1(num_train_layers=12,\n",
        "                          num_hidden_layer=2,\n",
        "                          num_hidden_units=64,\n",
        "                          dropout=0.1,\n",
        "                          learning_rate=0.00001,\n",
        "                          batch_size=8,               # from 16 to 8: no more OOM error\n",
        "                          csv_filename='perf_summary_regression_w_BERT_final1.csv',\n",
        "                          activation='relu',\n",
        "                          optimizer='adam',\n",
        "                          epochs=10)"
      ],
      "metadata": {
        "id": "FdkqqH4SDpU4"
      },
      "execution_count": null,
      "outputs": []
    },
    {
      "cell_type": "code",
      "source": [
        "run_regression_experiment_1(num_train_layers=12,\n",
        "                          num_hidden_layer=2,\n",
        "                          num_hidden_units=64,\n",
        "                          dropout=0.1,\n",
        "                          learning_rate=0.00001,\n",
        "                          batch_size=8,               # from 16 to 8: no more OOM error\n",
        "                          csv_filename='perf_summary_regression_w_BERT_final2.csv',\n",
        "                          activation='leaky_relu',\n",
        "                          optimizer='adam',\n",
        "                          epochs=10)"
      ],
      "metadata": {
        "id": "jImj9P2ci8LK"
      },
      "execution_count": null,
      "outputs": []
    },
    {
      "cell_type": "code",
      "source": [
        "run_regression_experiment_1(num_train_layers=12,\n",
        "                          num_hidden_layer=2,\n",
        "                          num_hidden_units=64,\n",
        "                          dropout=0.1,\n",
        "                          learning_rate=0.00001,\n",
        "                          batch_size=8,               # from 16 to 8: no more OOM error\n",
        "                          csv_filename='perf_summary_regression_w_BERT_final3.csv',\n",
        "                          activation='gelu',\n",
        "                          optimizer='adam',\n",
        "                          epochs=10)"
      ],
      "metadata": {
        "id": "IxdXL1BhDzp4"
      },
      "execution_count": null,
      "outputs": []
    }
  ]
}