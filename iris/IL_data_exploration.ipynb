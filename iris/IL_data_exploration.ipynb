{
  "nbformat": 4,
  "nbformat_minor": 0,
  "metadata": {
    "colab": {
      "provenance": [],
      "authorship_tag": "ABX9TyNB5EQGl92bCxCGTfZiwIf7",
      "include_colab_link": true
    },
    "kernelspec": {
      "name": "python3",
      "display_name": "Python 3"
    },
    "language_info": {
      "name": "python"
    },
    "accelerator": "GPU",
    "gpuClass": "standard"
  },
  "cells": [
    {
      "cell_type": "markdown",
      "metadata": {
        "id": "view-in-github",
        "colab_type": "text"
      },
      "source": [
        "<a href=\"https://colab.research.google.com/github/srilamaiti/spring_2023_w266_final_project_heesuk_iris_srila/blob/main/iris/IL_data_exploration.ipynb\" target=\"_parent\"><img src=\"https://colab.research.google.com/assets/colab-badge.svg\" alt=\"Open In Colab\"/></a>"
      ]
    },
    {
      "cell_type": "markdown",
      "source": [
        "https://www.kaggle.com/competitions/feedback-prize-english-language-learning"
      ],
      "metadata": {
        "id": "MZ9w2FlGlNDV"
      }
    },
    {
      "cell_type": "code",
      "execution_count": 1,
      "metadata": {
        "id": "oUehh9Tfk8rA"
      },
      "outputs": [],
      "source": [
        "# # install\n",
        "# !pip install kaggle"
      ]
    },
    {
      "cell_type": "code",
      "source": [
        "import pandas as pd\n",
        "import numpy as np\n",
        "import pprint\n",
        "import matplotlib.pyplot as plt\n",
        "import seaborn as sns\n",
        "import copy\n",
        "import tensorflow as tf\n",
        "import os"
      ],
      "metadata": {
        "id": "qNmUd_vinst-"
      },
      "execution_count": 2,
      "outputs": []
    },
    {
      "cell_type": "code",
      "source": [
        "# data\n",
        "from google.colab import drive\n",
        "drive.mount('/content/gdrive', force_remount=True)\n",
        "\n",
        "%cd \"gdrive/MyDrive/Colab Notebooks/\""
      ],
      "metadata": {
        "colab": {
          "base_uri": "https://localhost:8080/"
        },
        "id": "lXFJZt1KlRIJ",
        "outputId": "30cb58e7-0cf6-4440-d428-fec6c68330ff"
      },
      "execution_count": 3,
      "outputs": [
        {
          "output_type": "stream",
          "name": "stdout",
          "text": [
            "Mounted at /content/gdrive\n",
            "/content/gdrive/MyDrive/Colab Notebooks\n"
          ]
        }
      ]
    },
    {
      "cell_type": "code",
      "source": [
        "## only needed to run it once to download\n",
        "\n",
        "# os.environ['KAGGLE_CONFIG_DIR'] = \"/content/gdrive/MyDrive/Colab Notebooks/\"\n",
        "\n",
        "# !kaggle competitions download -c feedback-prize-english-language-learning \n",
        "# !unzip -q feedback-prize-english-language-learning.zip -d ."
      ],
      "metadata": {
        "id": "sdaPcHmjmlFS"
      },
      "execution_count": 4,
      "outputs": []
    },
    {
      "cell_type": "code",
      "source": [
        "train = pd.read_csv(\"train.csv\")\n",
        "print(f\"train shape: {train.shape}\")\n",
        "train.head()"
      ],
      "metadata": {
        "id": "x3sZG8BKnUTx",
        "colab": {
          "base_uri": "https://localhost:8080/",
          "height": 224
        },
        "outputId": "c8a58777-598e-4b4f-bc12-1874b5717712"
      },
      "execution_count": 5,
      "outputs": [
        {
          "output_type": "stream",
          "name": "stdout",
          "text": [
            "train shape: (3911, 8)\n"
          ]
        },
        {
          "output_type": "execute_result",
          "data": {
            "text/plain": [
              "        text_id                                          full_text  cohesion  \\\n",
              "0  0016926B079C  I think that students would benefit from learn...       3.5   \n",
              "1  0022683E9EA5  When a problem is a change you have to let it ...       2.5   \n",
              "2  00299B378633  Dear, Principal\\n\\nIf u change the school poli...       3.0   \n",
              "3  003885A45F42  The best time in life is when you become yours...       4.5   \n",
              "4  0049B1DF5CCC  Small act of kindness can impact in other peop...       2.5   \n",
              "\n",
              "   syntax  vocabulary  phraseology  grammar  conventions  \n",
              "0     3.5         3.0          3.0      4.0          3.0  \n",
              "1     2.5         3.0          2.0      2.0          2.5  \n",
              "2     3.5         3.0          3.0      3.0          2.5  \n",
              "3     4.5         4.5          4.5      4.0          5.0  \n",
              "4     3.0         3.0          3.0      2.5          2.5  "
            ],
            "text/html": [
              "\n",
              "  <div id=\"df-c435db01-a62b-41e2-9b49-9f71033c2e3d\">\n",
              "    <div class=\"colab-df-container\">\n",
              "      <div>\n",
              "<style scoped>\n",
              "    .dataframe tbody tr th:only-of-type {\n",
              "        vertical-align: middle;\n",
              "    }\n",
              "\n",
              "    .dataframe tbody tr th {\n",
              "        vertical-align: top;\n",
              "    }\n",
              "\n",
              "    .dataframe thead th {\n",
              "        text-align: right;\n",
              "    }\n",
              "</style>\n",
              "<table border=\"1\" class=\"dataframe\">\n",
              "  <thead>\n",
              "    <tr style=\"text-align: right;\">\n",
              "      <th></th>\n",
              "      <th>text_id</th>\n",
              "      <th>full_text</th>\n",
              "      <th>cohesion</th>\n",
              "      <th>syntax</th>\n",
              "      <th>vocabulary</th>\n",
              "      <th>phraseology</th>\n",
              "      <th>grammar</th>\n",
              "      <th>conventions</th>\n",
              "    </tr>\n",
              "  </thead>\n",
              "  <tbody>\n",
              "    <tr>\n",
              "      <th>0</th>\n",
              "      <td>0016926B079C</td>\n",
              "      <td>I think that students would benefit from learn...</td>\n",
              "      <td>3.5</td>\n",
              "      <td>3.5</td>\n",
              "      <td>3.0</td>\n",
              "      <td>3.0</td>\n",
              "      <td>4.0</td>\n",
              "      <td>3.0</td>\n",
              "    </tr>\n",
              "    <tr>\n",
              "      <th>1</th>\n",
              "      <td>0022683E9EA5</td>\n",
              "      <td>When a problem is a change you have to let it ...</td>\n",
              "      <td>2.5</td>\n",
              "      <td>2.5</td>\n",
              "      <td>3.0</td>\n",
              "      <td>2.0</td>\n",
              "      <td>2.0</td>\n",
              "      <td>2.5</td>\n",
              "    </tr>\n",
              "    <tr>\n",
              "      <th>2</th>\n",
              "      <td>00299B378633</td>\n",
              "      <td>Dear, Principal\\n\\nIf u change the school poli...</td>\n",
              "      <td>3.0</td>\n",
              "      <td>3.5</td>\n",
              "      <td>3.0</td>\n",
              "      <td>3.0</td>\n",
              "      <td>3.0</td>\n",
              "      <td>2.5</td>\n",
              "    </tr>\n",
              "    <tr>\n",
              "      <th>3</th>\n",
              "      <td>003885A45F42</td>\n",
              "      <td>The best time in life is when you become yours...</td>\n",
              "      <td>4.5</td>\n",
              "      <td>4.5</td>\n",
              "      <td>4.5</td>\n",
              "      <td>4.5</td>\n",
              "      <td>4.0</td>\n",
              "      <td>5.0</td>\n",
              "    </tr>\n",
              "    <tr>\n",
              "      <th>4</th>\n",
              "      <td>0049B1DF5CCC</td>\n",
              "      <td>Small act of kindness can impact in other peop...</td>\n",
              "      <td>2.5</td>\n",
              "      <td>3.0</td>\n",
              "      <td>3.0</td>\n",
              "      <td>3.0</td>\n",
              "      <td>2.5</td>\n",
              "      <td>2.5</td>\n",
              "    </tr>\n",
              "  </tbody>\n",
              "</table>\n",
              "</div>\n",
              "      <button class=\"colab-df-convert\" onclick=\"convertToInteractive('df-c435db01-a62b-41e2-9b49-9f71033c2e3d')\"\n",
              "              title=\"Convert this dataframe to an interactive table.\"\n",
              "              style=\"display:none;\">\n",
              "        \n",
              "  <svg xmlns=\"http://www.w3.org/2000/svg\" height=\"24px\"viewBox=\"0 0 24 24\"\n",
              "       width=\"24px\">\n",
              "    <path d=\"M0 0h24v24H0V0z\" fill=\"none\"/>\n",
              "    <path d=\"M18.56 5.44l.94 2.06.94-2.06 2.06-.94-2.06-.94-.94-2.06-.94 2.06-2.06.94zm-11 1L8.5 8.5l.94-2.06 2.06-.94-2.06-.94L8.5 2.5l-.94 2.06-2.06.94zm10 10l.94 2.06.94-2.06 2.06-.94-2.06-.94-.94-2.06-.94 2.06-2.06.94z\"/><path d=\"M17.41 7.96l-1.37-1.37c-.4-.4-.92-.59-1.43-.59-.52 0-1.04.2-1.43.59L10.3 9.45l-7.72 7.72c-.78.78-.78 2.05 0 2.83L4 21.41c.39.39.9.59 1.41.59.51 0 1.02-.2 1.41-.59l7.78-7.78 2.81-2.81c.8-.78.8-2.07 0-2.86zM5.41 20L4 18.59l7.72-7.72 1.47 1.35L5.41 20z\"/>\n",
              "  </svg>\n",
              "      </button>\n",
              "      \n",
              "  <style>\n",
              "    .colab-df-container {\n",
              "      display:flex;\n",
              "      flex-wrap:wrap;\n",
              "      gap: 12px;\n",
              "    }\n",
              "\n",
              "    .colab-df-convert {\n",
              "      background-color: #E8F0FE;\n",
              "      border: none;\n",
              "      border-radius: 50%;\n",
              "      cursor: pointer;\n",
              "      display: none;\n",
              "      fill: #1967D2;\n",
              "      height: 32px;\n",
              "      padding: 0 0 0 0;\n",
              "      width: 32px;\n",
              "    }\n",
              "\n",
              "    .colab-df-convert:hover {\n",
              "      background-color: #E2EBFA;\n",
              "      box-shadow: 0px 1px 2px rgba(60, 64, 67, 0.3), 0px 1px 3px 1px rgba(60, 64, 67, 0.15);\n",
              "      fill: #174EA6;\n",
              "    }\n",
              "\n",
              "    [theme=dark] .colab-df-convert {\n",
              "      background-color: #3B4455;\n",
              "      fill: #D2E3FC;\n",
              "    }\n",
              "\n",
              "    [theme=dark] .colab-df-convert:hover {\n",
              "      background-color: #434B5C;\n",
              "      box-shadow: 0px 1px 3px 1px rgba(0, 0, 0, 0.15);\n",
              "      filter: drop-shadow(0px 1px 2px rgba(0, 0, 0, 0.3));\n",
              "      fill: #FFFFFF;\n",
              "    }\n",
              "  </style>\n",
              "\n",
              "      <script>\n",
              "        const buttonEl =\n",
              "          document.querySelector('#df-c435db01-a62b-41e2-9b49-9f71033c2e3d button.colab-df-convert');\n",
              "        buttonEl.style.display =\n",
              "          google.colab.kernel.accessAllowed ? 'block' : 'none';\n",
              "\n",
              "        async function convertToInteractive(key) {\n",
              "          const element = document.querySelector('#df-c435db01-a62b-41e2-9b49-9f71033c2e3d');\n",
              "          const dataTable =\n",
              "            await google.colab.kernel.invokeFunction('convertToInteractive',\n",
              "                                                     [key], {});\n",
              "          if (!dataTable) return;\n",
              "\n",
              "          const docLinkHtml = 'Like what you see? Visit the ' +\n",
              "            '<a target=\"_blank\" href=https://colab.research.google.com/notebooks/data_table.ipynb>data table notebook</a>'\n",
              "            + ' to learn more about interactive tables.';\n",
              "          element.innerHTML = '';\n",
              "          dataTable['output_type'] = 'display_data';\n",
              "          await google.colab.output.renderOutput(dataTable, element);\n",
              "          const docLink = document.createElement('div');\n",
              "          docLink.innerHTML = docLinkHtml;\n",
              "          element.appendChild(docLink);\n",
              "        }\n",
              "      </script>\n",
              "    </div>\n",
              "  </div>\n",
              "  "
            ]
          },
          "metadata": {},
          "execution_count": 5
        }
      ]
    },
    {
      "cell_type": "code",
      "source": [
        "test = pd.read_csv(\"test.csv\")\n",
        "print(f\"test shape: {test.shape}\")\n",
        "test.head()"
      ],
      "metadata": {
        "id": "Ncsa5RK4n2EC",
        "colab": {
          "base_uri": "https://localhost:8080/",
          "height": 161
        },
        "outputId": "ba09f571-9c93-41c8-fd1d-77253938f1e8"
      },
      "execution_count": 6,
      "outputs": [
        {
          "output_type": "stream",
          "name": "stdout",
          "text": [
            "test shape: (3, 2)\n"
          ]
        },
        {
          "output_type": "execute_result",
          "data": {
            "text/plain": [
              "        text_id                                          full_text\n",
              "0  0000C359D63E  when a person has no experience on a job their...\n",
              "1  000BAD50D026  Do you think students would benefit from being...\n",
              "2  00367BB2546B  Thomas Jefferson once states that \"it is wonde..."
            ],
            "text/html": [
              "\n",
              "  <div id=\"df-da1ff8fa-e882-45fe-8f04-03f3295402bf\">\n",
              "    <div class=\"colab-df-container\">\n",
              "      <div>\n",
              "<style scoped>\n",
              "    .dataframe tbody tr th:only-of-type {\n",
              "        vertical-align: middle;\n",
              "    }\n",
              "\n",
              "    .dataframe tbody tr th {\n",
              "        vertical-align: top;\n",
              "    }\n",
              "\n",
              "    .dataframe thead th {\n",
              "        text-align: right;\n",
              "    }\n",
              "</style>\n",
              "<table border=\"1\" class=\"dataframe\">\n",
              "  <thead>\n",
              "    <tr style=\"text-align: right;\">\n",
              "      <th></th>\n",
              "      <th>text_id</th>\n",
              "      <th>full_text</th>\n",
              "    </tr>\n",
              "  </thead>\n",
              "  <tbody>\n",
              "    <tr>\n",
              "      <th>0</th>\n",
              "      <td>0000C359D63E</td>\n",
              "      <td>when a person has no experience on a job their...</td>\n",
              "    </tr>\n",
              "    <tr>\n",
              "      <th>1</th>\n",
              "      <td>000BAD50D026</td>\n",
              "      <td>Do you think students would benefit from being...</td>\n",
              "    </tr>\n",
              "    <tr>\n",
              "      <th>2</th>\n",
              "      <td>00367BB2546B</td>\n",
              "      <td>Thomas Jefferson once states that \"it is wonde...</td>\n",
              "    </tr>\n",
              "  </tbody>\n",
              "</table>\n",
              "</div>\n",
              "      <button class=\"colab-df-convert\" onclick=\"convertToInteractive('df-da1ff8fa-e882-45fe-8f04-03f3295402bf')\"\n",
              "              title=\"Convert this dataframe to an interactive table.\"\n",
              "              style=\"display:none;\">\n",
              "        \n",
              "  <svg xmlns=\"http://www.w3.org/2000/svg\" height=\"24px\"viewBox=\"0 0 24 24\"\n",
              "       width=\"24px\">\n",
              "    <path d=\"M0 0h24v24H0V0z\" fill=\"none\"/>\n",
              "    <path d=\"M18.56 5.44l.94 2.06.94-2.06 2.06-.94-2.06-.94-.94-2.06-.94 2.06-2.06.94zm-11 1L8.5 8.5l.94-2.06 2.06-.94-2.06-.94L8.5 2.5l-.94 2.06-2.06.94zm10 10l.94 2.06.94-2.06 2.06-.94-2.06-.94-.94-2.06-.94 2.06-2.06.94z\"/><path d=\"M17.41 7.96l-1.37-1.37c-.4-.4-.92-.59-1.43-.59-.52 0-1.04.2-1.43.59L10.3 9.45l-7.72 7.72c-.78.78-.78 2.05 0 2.83L4 21.41c.39.39.9.59 1.41.59.51 0 1.02-.2 1.41-.59l7.78-7.78 2.81-2.81c.8-.78.8-2.07 0-2.86zM5.41 20L4 18.59l7.72-7.72 1.47 1.35L5.41 20z\"/>\n",
              "  </svg>\n",
              "      </button>\n",
              "      \n",
              "  <style>\n",
              "    .colab-df-container {\n",
              "      display:flex;\n",
              "      flex-wrap:wrap;\n",
              "      gap: 12px;\n",
              "    }\n",
              "\n",
              "    .colab-df-convert {\n",
              "      background-color: #E8F0FE;\n",
              "      border: none;\n",
              "      border-radius: 50%;\n",
              "      cursor: pointer;\n",
              "      display: none;\n",
              "      fill: #1967D2;\n",
              "      height: 32px;\n",
              "      padding: 0 0 0 0;\n",
              "      width: 32px;\n",
              "    }\n",
              "\n",
              "    .colab-df-convert:hover {\n",
              "      background-color: #E2EBFA;\n",
              "      box-shadow: 0px 1px 2px rgba(60, 64, 67, 0.3), 0px 1px 3px 1px rgba(60, 64, 67, 0.15);\n",
              "      fill: #174EA6;\n",
              "    }\n",
              "\n",
              "    [theme=dark] .colab-df-convert {\n",
              "      background-color: #3B4455;\n",
              "      fill: #D2E3FC;\n",
              "    }\n",
              "\n",
              "    [theme=dark] .colab-df-convert:hover {\n",
              "      background-color: #434B5C;\n",
              "      box-shadow: 0px 1px 3px 1px rgba(0, 0, 0, 0.15);\n",
              "      filter: drop-shadow(0px 1px 2px rgba(0, 0, 0, 0.3));\n",
              "      fill: #FFFFFF;\n",
              "    }\n",
              "  </style>\n",
              "\n",
              "      <script>\n",
              "        const buttonEl =\n",
              "          document.querySelector('#df-da1ff8fa-e882-45fe-8f04-03f3295402bf button.colab-df-convert');\n",
              "        buttonEl.style.display =\n",
              "          google.colab.kernel.accessAllowed ? 'block' : 'none';\n",
              "\n",
              "        async function convertToInteractive(key) {\n",
              "          const element = document.querySelector('#df-da1ff8fa-e882-45fe-8f04-03f3295402bf');\n",
              "          const dataTable =\n",
              "            await google.colab.kernel.invokeFunction('convertToInteractive',\n",
              "                                                     [key], {});\n",
              "          if (!dataTable) return;\n",
              "\n",
              "          const docLinkHtml = 'Like what you see? Visit the ' +\n",
              "            '<a target=\"_blank\" href=https://colab.research.google.com/notebooks/data_table.ipynb>data table notebook</a>'\n",
              "            + ' to learn more about interactive tables.';\n",
              "          element.innerHTML = '';\n",
              "          dataTable['output_type'] = 'display_data';\n",
              "          await google.colab.output.renderOutput(dataTable, element);\n",
              "          const docLink = document.createElement('div');\n",
              "          docLink.innerHTML = docLinkHtml;\n",
              "          element.appendChild(docLink);\n",
              "        }\n",
              "      </script>\n",
              "    </div>\n",
              "  </div>\n",
              "  "
            ]
          },
          "metadata": {},
          "execution_count": 6
        }
      ]
    },
    {
      "cell_type": "code",
      "source": [
        "train.info()"
      ],
      "metadata": {
        "colab": {
          "base_uri": "https://localhost:8080/"
        },
        "id": "MYT9I1iToJpr",
        "outputId": "83393459-fe38-4311-dd13-d36c5e4c217d"
      },
      "execution_count": 7,
      "outputs": [
        {
          "output_type": "stream",
          "name": "stdout",
          "text": [
            "<class 'pandas.core.frame.DataFrame'>\n",
            "RangeIndex: 3911 entries, 0 to 3910\n",
            "Data columns (total 8 columns):\n",
            " #   Column       Non-Null Count  Dtype  \n",
            "---  ------       --------------  -----  \n",
            " 0   text_id      3911 non-null   object \n",
            " 1   full_text    3911 non-null   object \n",
            " 2   cohesion     3911 non-null   float64\n",
            " 3   syntax       3911 non-null   float64\n",
            " 4   vocabulary   3911 non-null   float64\n",
            " 5   phraseology  3911 non-null   float64\n",
            " 6   grammar      3911 non-null   float64\n",
            " 7   conventions  3911 non-null   float64\n",
            "dtypes: float64(6), object(2)\n",
            "memory usage: 244.6+ KB\n"
          ]
        }
      ]
    },
    {
      "cell_type": "code",
      "source": [
        "# length of full_text\n",
        "pprint.pprint(train[\"full_text\"][0])"
      ],
      "metadata": {
        "id": "dgG43xnX8wkn",
        "colab": {
          "base_uri": "https://localhost:8080/"
        },
        "outputId": "fa6b6e09-cf6e-4f68-8d93-b2c01cf61922"
      },
      "execution_count": 8,
      "outputs": [
        {
          "output_type": "stream",
          "name": "stdout",
          "text": [
            "('I think that students would benefit from learning at home,because they wont '\n",
            " 'have to change and get up early in the morning to shower and do there hair. '\n",
            " \"taking only classes helps them because at there house they'll be pay more \"\n",
            " 'attention. they will be comfortable at home.\\n'\n",
            " '\\n'\n",
            " 'The hardest part of school is getting ready. you wake up go brush your teeth '\n",
            " 'and go to your closet and look at your cloths. after you think you picked a '\n",
            " 'outfit u go look in the mirror and youll either not like it or you look and '\n",
            " \"see a stain. Then you'll have to change. with the online classes you can \"\n",
            " 'wear anything and stay home and you wont need to stress about what to wear.\\n'\n",
            " '\\n'\n",
            " 'most students usually take showers before school. they either take it before '\n",
            " 'they sleep or when they wake up. some students do both to smell good. that '\n",
            " 'causes them do miss the bus and effects on there lesson time cause they come '\n",
            " 'late to school. when u have online classes u wont need to miss lessons cause '\n",
            " 'you can get everything set up and go take a shower and when u get out your '\n",
            " 'ready to go.\\n'\n",
            " '\\n'\n",
            " 'when your home your comfortable and you pay attention. it gives then an '\n",
            " 'advantage to be smarter and even pass there classmates on class work. public '\n",
            " 'schools are difficult even if you try. some teacher dont know how to teach '\n",
            " 'it in then way that students understand it. that causes students to fail and '\n",
            " 'they may repeat the class.              ')\n"
          ]
        }
      ]
    },
    {
      "cell_type": "code",
      "source": [
        "len(train[\"full_text\"][0])"
      ],
      "metadata": {
        "id": "mm-WKueoUYxB",
        "colab": {
          "base_uri": "https://localhost:8080/"
        },
        "outputId": "706f8783-6638-416d-9f12-55a1d966d0de"
      },
      "execution_count": 9,
      "outputs": [
        {
          "output_type": "execute_result",
          "data": {
            "text/plain": [
              "1387"
            ]
          },
          "metadata": {},
          "execution_count": 9
        }
      ]
    },
    {
      "cell_type": "code",
      "source": [
        "# histogram with cohesion, syntax, vocabulary, phraseology, grammar, conventions \n",
        "for y in [\"cohesion\",\"syntax\",\"vocabulary\", \"phraseology\",\"grammar\", \"conventions\"]:\n",
        "  print(train[y].value_counts().sort_index())\n",
        "  print()\n",
        "  train[y].hist()\n",
        "  plt.show()"
      ],
      "metadata": {
        "id": "TX_R3R7U8xQ4",
        "colab": {
          "base_uri": "https://localhost:8080/",
          "height": 1000
        },
        "outputId": "391bc113-747f-4794-954e-9dee4f4e38ff"
      },
      "execution_count": 10,
      "outputs": [
        {
          "output_type": "stream",
          "name": "stdout",
          "text": [
            "1.0      10\n",
            "1.5      27\n",
            "2.0     315\n",
            "2.5     790\n",
            "3.0    1096\n",
            "3.5     988\n",
            "4.0     534\n",
            "4.5     125\n",
            "5.0      26\n",
            "Name: cohesion, dtype: int64\n",
            "\n"
          ]
        },
        {
          "output_type": "display_data",
          "data": {
            "text/plain": [
              "<Figure size 432x288 with 1 Axes>"
            ],
            "image/png": "[encoded data removed]"
          },
          "metadata": {
            "needs_background": "light"
          }
        },
        {
          "output_type": "stream",
          "name": "stdout",
          "text": [
            "1.0      11\n",
            "1.5      29\n",
            "2.0     410\n",
            "2.5     839\n",
            "3.0    1250\n",
            "3.5     867\n",
            "4.0     388\n",
            "4.5     100\n",
            "5.0      17\n",
            "Name: syntax, dtype: int64\n",
            "\n"
          ]
        },
        {
          "output_type": "display_data",
          "data": {
            "text/plain": [
              "<Figure size 432x288 with 1 Axes>"
            ],
            "image/png": "[encoded data removed]"
          },
          "metadata": {
            "needs_background": "light"
          }
        },
        {
          "output_type": "stream",
          "name": "stdout",
          "text": [
            "1.0       2\n",
            "1.5      14\n",
            "2.0     124\n",
            "2.5     528\n",
            "3.0    1503\n",
            "3.5    1007\n",
            "4.0     577\n",
            "4.5     115\n",
            "5.0      41\n",
            "Name: vocabulary, dtype: int64\n",
            "\n"
          ]
        },
        {
          "output_type": "display_data",
          "data": {
            "text/plain": [
              "<Figure size 432x288 with 1 Axes>"
            ],
            "image/png": "[encoded data removed]"
          },
          "metadata": {
            "needs_background": "light"
          }
        },
        {
          "output_type": "stream",
          "name": "stdout",
          "text": [
            "1.0      10\n",
            "1.5      11\n",
            "2.0     350\n",
            "2.5     772\n",
            "3.0    1153\n",
            "3.5     929\n",
            "4.0     553\n",
            "4.5     108\n",
            "5.0      25\n",
            "Name: phraseology, dtype: int64\n",
            "\n"
          ]
        },
        {
          "output_type": "display_data",
          "data": {
            "text/plain": [
              "<Figure size 432x288 with 1 Axes>"
            ],
            "image/png": "[encoded data removed]"
          },
          "metadata": {
            "needs_background": "light"
          }
        },
        {
          "output_type": "stream",
          "name": "stdout",
          "text": [
            "1.0      8\n",
            "1.5     20\n",
            "2.0    544\n",
            "2.5    855\n",
            "3.0    994\n",
            "3.5    880\n",
            "4.0    447\n",
            "4.5    134\n",
            "5.0     29\n",
            "Name: grammar, dtype: int64\n",
            "\n"
          ]
        },
        {
          "output_type": "display_data",
          "data": {
            "text/plain": [
              "<Figure size 432x288 with 1 Axes>"
            ],
            "image/png": "[encoded data removed]"
          },
          "metadata": {
            "needs_background": "light"
          }
        },
        {
          "output_type": "stream",
          "name": "stdout",
          "text": [
            "1.0      15\n",
            "1.5      20\n",
            "2.0     402\n",
            "2.5     784\n",
            "3.0    1151\n",
            "3.5     908\n",
            "4.0     484\n",
            "4.5     122\n",
            "5.0      25\n",
            "Name: conventions, dtype: int64\n",
            "\n"
          ]
        },
        {
          "output_type": "display_data",
          "data": {
            "text/plain": [
              "<Figure size 432x288 with 1 Axes>"
            ],
            "image/png": "[encoded data removed]"
          },
          "metadata": {
            "needs_background": "light"
          }
        }
      ]
    },
    {
      "cell_type": "code",
      "source": [
        "# any collinearity?\n",
        "cm = train.corr()\n",
        "print(cm)\n",
        "cmap = sns.diverging_palette(230, 20, as_cmap=True)\n",
        "sns.heatmap(cm, cmap=cmap)\n",
        "plt.show()\n",
        "# high correlation for all of them, especially phraseology+vocabulary"
      ],
      "metadata": {
        "id": "YYjjR6n086-c",
        "colab": {
          "base_uri": "https://localhost:8080/",
          "height": 589
        },
        "outputId": "d20be00d-e329-4dcc-ed7f-1e93a7027b39"
      },
      "execution_count": 11,
      "outputs": [
        {
          "output_type": "stream",
          "name": "stdout",
          "text": [
            "             cohesion    syntax  vocabulary  phraseology   grammar  \\\n",
            "cohesion     1.000000  0.695459    0.666151     0.690058  0.638689   \n",
            "syntax       0.695459  1.000000    0.680562     0.725467  0.709525   \n",
            "vocabulary   0.666151  0.680562    1.000000     0.735261  0.654852   \n",
            "phraseology  0.690058  0.725467    0.735261     1.000000  0.719746   \n",
            "grammar      0.638689  0.709525    0.654852     0.719746  1.000000   \n",
            "conventions  0.666151  0.700025    0.664292     0.666842  0.673301   \n",
            "\n",
            "             conventions  \n",
            "cohesion        0.666151  \n",
            "syntax          0.700025  \n",
            "vocabulary      0.664292  \n",
            "phraseology     0.666842  \n",
            "grammar         0.673301  \n",
            "conventions     1.000000  \n"
          ]
        },
        {
          "output_type": "display_data",
          "data": {
            "text/plain": [
              "<Figure size 432x288 with 2 Axes>"
            ],
            "image/png": "[encoded data removed]"
          },
          "metadata": {
            "needs_background": "light"
          }
        }
      ]
    },
    {
      "cell_type": "code",
      "source": [
        "# Any patterns of text? Head & tail has same topics? # range of topics with multiple paragraphs. pprint?\n",
        "[print(train[\"full_text\"][i]) for i in range(5)]"
      ],
      "metadata": {
        "colab": {
          "base_uri": "https://localhost:8080/"
        },
        "id": "Rhf00V0E9AV8",
        "outputId": "55ff44cf-d2e1-4ee0-abfa-534441edd293"
      },
      "execution_count": 12,
      "outputs": [
        {
          "output_type": "stream",
          "name": "stdout",
          "text": [
            "I think that students would benefit from learning at home,because they wont have to change and get up early in the morning to shower and do there hair. taking only classes helps them because at there house they'll be pay more attention. they will be comfortable at home.\n",
            "\n",
            "The hardest part of school is getting ready. you wake up go brush your teeth and go to your closet and look at your cloths. after you think you picked a outfit u go look in the mirror and youll either not like it or you look and see a stain. Then you'll have to change. with the online classes you can wear anything and stay home and you wont need to stress about what to wear.\n",
            "\n",
            "most students usually take showers before school. they either take it before they sleep or when they wake up. some students do both to smell good. that causes them do miss the bus and effects on there lesson time cause they come late to school. when u have online classes u wont need to miss lessons cause you can get everything set up and go take a shower and when u get out your ready to go.\n",
            "\n",
            "when your home your comfortable and you pay attention. it gives then an advantage to be smarter and even pass there classmates on class work. public schools are difficult even if you try. some teacher dont know how to teach it in then way that students understand it. that causes students to fail and they may repeat the class.              \n",
            "When a problem is a change you have to let it do the best on you no matter what is happening it can change your mind. sometimes you need to wake up and look what is around you because problems are the best way to change what you want to change along time ago. A\n",
            "\n",
            "problem is a change for you because it can make you see different and help you to understand how tings wok.\n",
            "\n",
            "First of all it can make you see different then the others. For example i remember that when i came to the United States i think that nothing was going to change me because i think that nothing was going to change me because everything was different that my country and then i realist that wrong because a problem may change you but sometimes can not change the way it is, but i remember that i was really shy but i think that change a lot because sometimes my problems make me think that there is more thing that i never see in my life but i just need to see it from a different way and dont let nothing happened and ruing the change that i want to make because of just a problem. For example i think that nothing was going to change me and that i dont need to be shy anymore became i need to start seeing everything in a different ways because you can get mad at every one but you need to know what is going to happened after,\n",
            "\n",
            "people may see you different but the only way that you know how to change is to do the best and don't let nothing or not body to change nothing about you. The way you want to change not one have that and can't do nothing about it because is your choice and your problems and you can decide what to do with it.\n",
            "\n",
            "second of all can help you to understand how things work. For instance my mom have a lot of problems but she have faith when she is around people, my mom is scare of high and i'm not scare of high i did not understand why my mos is scare of high and in not scare of high and every time i see my mom in a airplane it make me laugh because she is scare and is funny, but i see it from a different way and i like the high but also she have to understand that hoe things work in other people because it can no be the same as you. For example i think that my mom and me are different because we are and i have to understand that she does not like high and i need to understand that. to help someone to understand how things work you need to start to see how things work in that persons life.\n",
            "\n",
            "A problem is a change for you and can make you a different and help you to understand. Everyone has a different opinion and a different was to understand then others. everyone can see the different opinion and what other people think.\n",
            "Dear, Principal\n",
            "\n",
            "If u change the school policy of having a grade b average that unfair. Because many students have a C average. So that means that they cant go out for sports or other activities they want to do bad. That's like taking everything they have. What if kids want to become good at something, but now they cant because of that school policy. If they have a C average they should still be able to go out for sports or activities. A C average isn't that bad, its higher then a D average. If the school police was if you have a D average of lower they shouldn't do sports or activities. If they have a D average in school for not working hard, that's means that they in ain't going to try hard. If they have a C average and there trying hard they should be able to out for sports or activities. What if all the good people in sports have a C average in school, that means that they cant play and were going to lose every game we have. That's a good policy to get grade's up but don't take away something they care about. Everyone should be able to go out for sports if they want to. If the school policy happens, schools going to be boarding now, because now students cant go out for sports or other activities. The students that are doing good in school should feel good about themselves but we shouldn't take the other students away from the others ones. If we do this policy student will try to raised their grade but if they cant what happens they them. Should they just be out of it and think that schools boarding. If they do this its like taking away their video games. All I'm saying is that they have the right to go out for sports or activities.\n",
            "The best time in life is when you become yourself. I agree that the greatest accomplishment, is when you be yourself in a world that constantly trying to make you something else. Because you make your own choices, you become more happy, and you respect others.\n",
            "\n",
            "First, you make your own choices by being yourself. Becoming yourself means that you should be able to make your own choices and not be shy or afraid of what you're doing. Because you're defining yourself by doing those things that you want. Some people follow others, therefore, they don't make their own choices. People are afraid to make their own choice because they don't want to get rejected or be wrong. In this world, most of the teenagers act and follow the people who are strong and bullies. The reason they follow them and make the same choices they make, is because they're afraid that they will get beaten up and be left out. Personally when I came to the United States I used to follow other, because I thought they were amazing. But one day, I knew I was walking in the wrong path and I left them. Making your own choices makes you happy because you get to do what you like and what you want to do. It's hard to make your own choices, but one day you're going to have to make your own choices. The more you mature the more it will become easier for you to not be afraid of what you're doing and how other people are looking at it, because at the end of the day It's your life and you do what you think is right.\n",
            "\n",
            "Second, You become more happy by being yourself because you make your own choices, You take responsibilities and you do whatever makes you happy. Also, some people act like they're happy while not being themselves, but matter of fact, they're depressed from the inside. Being yourself makes you more happy because you feel like you achieved something big. Also, Some religious kids who become themselves love everyone. In the bible it says \"Those who know God should love others, because God is love.\"\n",
            "\n",
            "Not being yourself will get you depressed because you don't do everything you want to do, but you do what others wanna do because you want to fit in. Some kids who come from a different country will do stuff they don't want to do just to fit in, because they don't want to be lonely. Some people are afraid they won't be happy because they would lose a lot of friends for being themselves, but they have to know that those people should be there for them and support them for what he's doing since it's his friends.\n",
            "\n",
            "Lastly, Respecting others will gain them to respect you. Some teenagers like to make fun of others, not listen to what they have to say, and they like to beat kids up. Also some kids don't like to not listen to their parents, and that is also disrespectful. The bible says \" Honor your father and mother.\"\n",
            "\n",
            "If you respect your parents and listen to them, then they would trust you and not ask you lots of questions. Respecting other should be really important, because you don't want others to not respect you. Also, Some people are disrespectful because they were never respected. Important things to do to be respectful is, Listen to what the other person has to say, Stand up for them, Being friends with them Doing all of that will gain you respect and you would have good friends. Also, if you see someone bullying a kid don't watch, and stand up for them, don't be afraid to stand up for someone because you're doing the right thing.\n",
            "\n",
            "Some may disagree with me and say that it's not that big of a deal, and it doesn't feel like a big accomplishment. But with all do respect, I agree that it's a big accomplishment because nowadays it's really hard to become yourself.\n",
            "\n",
            "In conclusion, It's hard to become yourself in this world, because others are holding that opportunity back from you and you're afraid to fight it back. That's why I agree that to be yourself in a world that is constantly trying to make you something else is the greatest accomplishment. \n",
            "Small act of kindness can impact in other people can change people to become better persons you can have an impact of kindess with a homeles that can change his life or with some who needed they are going to know you are a nice person if you are a nice person everywhere you go people is going to like your personality so you have to be a nice person with others like a old women triying to cross the road thats a impact of kindness when you do that you feel a greate person you can change people in the way they think by helping others treating nice other people give them some advice when you see someone need it help someone older then you give food and new clothes to a homeless person is a big act of kindess maybe you wount change his life but you would change one day of his life when you do thoose stuffs you feel emotional.\n",
            "\n",
            "Another example of an act of kindess is when you help your friends to study for a test or explain them or when they need money you give some money is an act of kindess because you are helping your friend.\n",
            "\n",
            "Another example is not trowing trash on the floor if you put the trash where belong that is an act of kindess because benefits the earth and the people.                                                                                                                                      \n"
          ]
        },
        {
          "output_type": "execute_result",
          "data": {
            "text/plain": [
              "[None, None, None, None, None]"
            ]
          },
          "metadata": {},
          "execution_count": 12
        }
      ]
    },
    {
      "cell_type": "code",
      "source": [
        "# [print(train[\"full_text\"][i]) for i in range(-5,-1,-1)]\n",
        "train[\"full_text\"][train.shape[1]]"
      ],
      "metadata": {
        "colab": {
          "base_uri": "https://localhost:8080/",
          "height": 107
        },
        "id": "q_OBhpdB9D4L",
        "outputId": "cecfc8b5-8667-4119-ef70-06201544924a"
      },
      "execution_count": 13,
      "outputs": [
        {
          "output_type": "execute_result",
          "data": {
            "text/plain": [
              "\"positive attitude is the key to success. I agree because you can do anything as long as you put your mind and soul into it and motivation you can accomplish it. Then so by doing it you feel good about yourself you'll feel unstable. But do what brings the best in you, what makes you yourself.\\n\\nOne way that importance of attitude is key to success is it motivates you to keep going forward. For example when you come across some difficulties you wont feel discouraged because your the limit and none other then you can or will change it. But the more discouraged you tend to feel at that moment you would wanna overcome it even if it makes whatever just as long as your mind is set to positive attitude you will accomplish it. Then so always remember what you put your mind to such as determination, positive attitude, willing you can its possible you will reach your goals. However you will with a positive mindset have a strong determination and you will build up self confidence in yourself.\\n\\nThen another reason is to grow individually with hard work. Positive attitude isen't quite the easiest for some people its really difficult for others to learn how to or even if they are willing to. But others tend to not always have positive attitude in anything they're just negative and havent tried to give their all they are stuck upon what others think. Then about what really is,you just have to not listen to what anyone thinks and focus on what you can accomplish because if you dont you will let them reflect on you but you dont want that for yourself. Then there's always going to be that one negative person to try to bring you down its up to you if you let it effect you. Just ignore them if you dont you will bet it affect you and you dont wanna fall back just because of others. With that being said in order to move forward you have to go though things individually but thats were you find yourself again and makes you stronger then before what your weaknesses were there not anymore because when facing things individually you blossom to a beatifull flower with of course hard work and it isen't in vane because hard work ends up having a good result for positive attitude.\\n\\nNext reason is to build selfcondifence. When having a positive mindset and most impotently willing we then build selfcondience our mind is a battlefield and we control it and its not about the selfcondicence its more about determination ourselves to it like we can or we will do it. After that its all depending on us weather we want to or not. Then after that the more we practice being positive in our battle fild the more selfcondidence we will have.\\n\\nSo then i hardly agree on positive attitude can guide you to succeed in life its all about three things determination willing and believing with those in mind you can tell all the negitive thoughts to go flying out the window because it has no door to let it in anymore. I truly incuage you to try it out if you want to see a big improvement to succeed in your life. Thank you for hearing me weather I agreed or disagreed,looking to hear back from you soon.\""
            ],
            "application/vnd.google.colaboratory.intrinsic+json": {
              "type": "string"
            }
          },
          "metadata": {},
          "execution_count": 13
        }
      ]
    },
    {
      "cell_type": "code",
      "source": [
        "# any pattern for those who are high scorers in all of them?\n",
        "# [\"cohesion\",\"syntax\",\"vocabulary\", \"phraseology\",\"grammar\", \"conventions\"]\n",
        "pd.set_option('display.max_colwidth', None)\n",
        "# high scorer for one is high scorer for the rest.\n",
        "train[(train[\"cohesion\"]==5) & (train[\"syntax\"]==5) & (train[\"vocabulary\"]==5) & (train[\"phraseology\"]==5) & (train[\"grammar\"]==5) & (train[\"conventions\"]==5)]\n"
      ],
      "metadata": {
        "colab": {
          "base_uri": "https://localhost:8080/",
          "height": 611
        },
        "id": "xfitgYXHib4D",
        "outputId": "26227859-99d5-4c4a-b0bc-d92c1e472649"
      },
      "execution_count": 14,
      "outputs": [
        {
          "output_type": "execute_result",
          "data": {
            "text/plain": [
              "           text_id  \\\n",
              "2389  B1AFACE6704E   \n",
              "\n",
              "                                                                                                                                                                                                                                                                                                                                                                                                                                                                                                                                                                                                                                                                                                                                                                                                                                                                                                                                                                                                                                                                                                                                                                                                                                                                                                                                                                                                                                                                                                                                                                                                                                                                                                                                                                                                                                                                                                                                                                                                                                                                                                                                                                                                                                                                                                                                                                                                                                                                                                                                                                                                                                                                                                                                                                                                                                                                                                                                                                                                                                                                                                                                                                                                                                                                                                                                                                                                                                                                                                                                                                                                                                                                                                                                                                                                                                                                                                                                                                                                                                                                                                                                                                                                                                                                                                                                                                                                                                                                                                                                                                                                                                                                                                                                                                                                                                                                                                                                                                                                                                                                                                                                                                                                                                                                                                                                   full_text  \\\n",
              "2389  I agree with Michelangelo's statement as I have found through experience that it benefits me more to set high expectations and not reach my goal, rather than settling on a low goal and achieving it. When setting high goals, I find that I learn more and progress my abilties further than I do with a lower goal. This is because setting high goals requires confidence, challenges, and pride.\\n\\nFirstly, hard work is required to achieve high goals, and requires confidence. Confidence involves having trust and believing that you are capable of accomplishing something. I have found that when I set high goals, I feel more confident in my abilities. With lower goals however, my confidence is lower as I settle for the easier path and do not trust myself to do better. With a higher aim, my confidence motivates me to not give up. I tend to try harder, and always believe in myself. For example, at school, I had to choose whether I wanted to try out for the varsity tennis team or remain in the club team. The varsity team was a higher reach, and required confidence in my abilities for me to try out. The club team was a lower reach, as I knew that I could simply continue with it. I decided to try out for the varsity team, and was confident in my abilities. I practiced hard and did not give up. Despite not making it onto the team, I found that I actually greatly improved my abilities through the confidence I had gained, and tried harder than I had ever before. I managed to progress my skills, and was able to play more confidently on the club team and excel. Therefore, setting high aims requires confidence, which is a very beneficial characteristic to have in life.\\n\\nSecondly, setting a high goal indicates a challenge. It will be more challenging to attempt to aim high rather than aiming low, yet this will also prove more benefits. With a challenge, I tend to be more motivated as I want to prove my capabilites. I try harder, and in return get further. Even if I fall short of my high aim, I tend to get further than I would have if I had settled with a lower aim. With lower goals, there is no challenge, and so once the aim is achieved any effort stops. Learning is limited to that low expectation, and will not be able to go beyond. For example, in my high school career, I have always struggled with picking between two types of courses: honors or academic. Honors is the more challenging course, which requires more work and effort and would pose as more of a challenge. Academic however, requires the bare minimum and is easy to succeed in. In the honors course, I would be setting my aim high yet might not get the grade I want; yet, in the academic course, my aim would be low and I would most likely get the grade I want. After hard consideration, I decided to opt for the honors course. This course may be a challenge, yet would allow me to learn more. I enjoyed the challenge, and found that it motivated me to try harder to try and accomplish my goal. Even if I fell short of my ideal grade, I was proud to have tried my best and felt that I learnt so much more. The course benefited me more than the academic course would have, despite not receiving the grade I hoped for. Therefore, challenging oneself with a high aim allows for more flourishing and encourages more learning. Overall, setting a high aim will pose more benefits.\\n\\nThirdly, pride accompanies setting high goals. When setting low aims, I feel that it is easy to achieve the goal. However, with high aims, it is more challenging to achieve the goal, and so I feel proud of myself for attempting it. Pride is a very important characteristic, as it increases self esteem. With a higher self-esteem, I tend to try harder and feel more powerful with my abilities. I am more likely to learn and improve upon my abilities, which overall allows me to succeed. For example, in high school I had the opportunity to write a poem and submit it into a writing competition. This was a high aim, as the goal was to win. I felt very proud of myself for taking the time to write and challenge myself with this competition, and ended up writing my favorite piece yet. I submitted my writing, and did not win. However, I felt very proud of myself for having tried so hard and was able to learn and flourish in my writing abilities. Now, I am more likely to sign up for competitions, even if I do not win, simply because I enjoy the challenge and feel that I am able to learn. I feel proud of myself for taking on these challenges. Therefore, setting high goals emmits pride, which can prove very beneficial in life.\\n\\nIn conclusion, I agree with Michelangelo's statement. Setting high aims and falling short can bring so many more positive effects than setting low aims and accomplishing them. This is because setting high aims requires confidence, challenges, and pride. These characteristics are very important in succeeding, and can encourage learning and progression in abilities. Through setting low goals, learning becomes stagnant. In order to flourish and continue learning, setting high goals is crucial, even when not achieving the goal.    \n",
              "\n",
              "      cohesion  syntax  vocabulary  phraseology  grammar  conventions  \n",
              "2389       5.0     5.0         5.0          5.0      5.0          5.0  "
            ],
            "text/html": [
              "\n",
              "  <div id=\"df-2a3cdc28-2120-4c81-afde-4ac243b7752a\">\n",
              "    <div class=\"colab-df-container\">\n",
              "      <div>\n",
              "<style scoped>\n",
              "    .dataframe tbody tr th:only-of-type {\n",
              "        vertical-align: middle;\n",
              "    }\n",
              "\n",
              "    .dataframe tbody tr th {\n",
              "        vertical-align: top;\n",
              "    }\n",
              "\n",
              "    .dataframe thead th {\n",
              "        text-align: right;\n",
              "    }\n",
              "</style>\n",
              "<table border=\"1\" class=\"dataframe\">\n",
              "  <thead>\n",
              "    <tr style=\"text-align: right;\">\n",
              "      <th></th>\n",
              "      <th>text_id</th>\n",
              "      <th>full_text</th>\n",
              "      <th>cohesion</th>\n",
              "      <th>syntax</th>\n",
              "      <th>vocabulary</th>\n",
              "      <th>phraseology</th>\n",
              "      <th>grammar</th>\n",
              "      <th>conventions</th>\n",
              "    </tr>\n",
              "  </thead>\n",
              "  <tbody>\n",
              "    <tr>\n",
              "      <th>2389</th>\n",
              "      <td>B1AFACE6704E</td>\n",
              "      <td>I agree with Michelangelo's statement as I have found through experience that it benefits me more to set high expectations and not reach my goal, rather than settling on a low goal and achieving it. When setting high goals, I find that I learn more and progress my abilties further than I do with a lower goal. This is because setting high goals requires confidence, challenges, and pride.\\n\\nFirstly, hard work is required to achieve high goals, and requires confidence. Confidence involves having trust and believing that you are capable of accomplishing something. I have found that when I set high goals, I feel more confident in my abilities. With lower goals however, my confidence is lower as I settle for the easier path and do not trust myself to do better. With a higher aim, my confidence motivates me to not give up. I tend to try harder, and always believe in myself. For example, at school, I had to choose whether I wanted to try out for the varsity tennis team or remain in the club team. The varsity team was a higher reach, and required confidence in my abilities for me to try out. The club team was a lower reach, as I knew that I could simply continue with it. I decided to try out for the varsity team, and was confident in my abilities. I practiced hard and did not give up. Despite not making it onto the team, I found that I actually greatly improved my abilities through the confidence I had gained, and tried harder than I had ever before. I managed to progress my skills, and was able to play more confidently on the club team and excel. Therefore, setting high aims requires confidence, which is a very beneficial characteristic to have in life.\\n\\nSecondly, setting a high goal indicates a challenge. It will be more challenging to attempt to aim high rather than aiming low, yet this will also prove more benefits. With a challenge, I tend to be more motivated as I want to prove my capabilites. I try harder, and in return get further. Even if I fall short of my high aim, I tend to get further than I would have if I had settled with a lower aim. With lower goals, there is no challenge, and so once the aim is achieved any effort stops. Learning is limited to that low expectation, and will not be able to go beyond. For example, in my high school career, I have always struggled with picking between two types of courses: honors or academic. Honors is the more challenging course, which requires more work and effort and would pose as more of a challenge. Academic however, requires the bare minimum and is easy to succeed in. In the honors course, I would be setting my aim high yet might not get the grade I want; yet, in the academic course, my aim would be low and I would most likely get the grade I want. After hard consideration, I decided to opt for the honors course. This course may be a challenge, yet would allow me to learn more. I enjoyed the challenge, and found that it motivated me to try harder to try and accomplish my goal. Even if I fell short of my ideal grade, I was proud to have tried my best and felt that I learnt so much more. The course benefited me more than the academic course would have, despite not receiving the grade I hoped for. Therefore, challenging oneself with a high aim allows for more flourishing and encourages more learning. Overall, setting a high aim will pose more benefits.\\n\\nThirdly, pride accompanies setting high goals. When setting low aims, I feel that it is easy to achieve the goal. However, with high aims, it is more challenging to achieve the goal, and so I feel proud of myself for attempting it. Pride is a very important characteristic, as it increases self esteem. With a higher self-esteem, I tend to try harder and feel more powerful with my abilities. I am more likely to learn and improve upon my abilities, which overall allows me to succeed. For example, in high school I had the opportunity to write a poem and submit it into a writing competition. This was a high aim, as the goal was to win. I felt very proud of myself for taking the time to write and challenge myself with this competition, and ended up writing my favorite piece yet. I submitted my writing, and did not win. However, I felt very proud of myself for having tried so hard and was able to learn and flourish in my writing abilities. Now, I am more likely to sign up for competitions, even if I do not win, simply because I enjoy the challenge and feel that I am able to learn. I feel proud of myself for taking on these challenges. Therefore, setting high goals emmits pride, which can prove very beneficial in life.\\n\\nIn conclusion, I agree with Michelangelo's statement. Setting high aims and falling short can bring so many more positive effects than setting low aims and accomplishing them. This is because setting high aims requires confidence, challenges, and pride. These characteristics are very important in succeeding, and can encourage learning and progression in abilities. Through setting low goals, learning becomes stagnant. In order to flourish and continue learning, setting high goals is crucial, even when not achieving the goal.</td>\n",
              "      <td>5.0</td>\n",
              "      <td>5.0</td>\n",
              "      <td>5.0</td>\n",
              "      <td>5.0</td>\n",
              "      <td>5.0</td>\n",
              "      <td>5.0</td>\n",
              "    </tr>\n",
              "  </tbody>\n",
              "</table>\n",
              "</div>\n",
              "      <button class=\"colab-df-convert\" onclick=\"convertToInteractive('df-2a3cdc28-2120-4c81-afde-4ac243b7752a')\"\n",
              "              title=\"Convert this dataframe to an interactive table.\"\n",
              "              style=\"display:none;\">\n",
              "        \n",
              "  <svg xmlns=\"http://www.w3.org/2000/svg\" height=\"24px\"viewBox=\"0 0 24 24\"\n",
              "       width=\"24px\">\n",
              "    <path d=\"M0 0h24v24H0V0z\" fill=\"none\"/>\n",
              "    <path d=\"M18.56 5.44l.94 2.06.94-2.06 2.06-.94-2.06-.94-.94-2.06-.94 2.06-2.06.94zm-11 1L8.5 8.5l.94-2.06 2.06-.94-2.06-.94L8.5 2.5l-.94 2.06-2.06.94zm10 10l.94 2.06.94-2.06 2.06-.94-2.06-.94-.94-2.06-.94 2.06-2.06.94z\"/><path d=\"M17.41 7.96l-1.37-1.37c-.4-.4-.92-.59-1.43-.59-.52 0-1.04.2-1.43.59L10.3 9.45l-7.72 7.72c-.78.78-.78 2.05 0 2.83L4 21.41c.39.39.9.59 1.41.59.51 0 1.02-.2 1.41-.59l7.78-7.78 2.81-2.81c.8-.78.8-2.07 0-2.86zM5.41 20L4 18.59l7.72-7.72 1.47 1.35L5.41 20z\"/>\n",
              "  </svg>\n",
              "      </button>\n",
              "      \n",
              "  <style>\n",
              "    .colab-df-container {\n",
              "      display:flex;\n",
              "      flex-wrap:wrap;\n",
              "      gap: 12px;\n",
              "    }\n",
              "\n",
              "    .colab-df-convert {\n",
              "      background-color: #E8F0FE;\n",
              "      border: none;\n",
              "      border-radius: 50%;\n",
              "      cursor: pointer;\n",
              "      display: none;\n",
              "      fill: #1967D2;\n",
              "      height: 32px;\n",
              "      padding: 0 0 0 0;\n",
              "      width: 32px;\n",
              "    }\n",
              "\n",
              "    .colab-df-convert:hover {\n",
              "      background-color: #E2EBFA;\n",
              "      box-shadow: 0px 1px 2px rgba(60, 64, 67, 0.3), 0px 1px 3px 1px rgba(60, 64, 67, 0.15);\n",
              "      fill: #174EA6;\n",
              "    }\n",
              "\n",
              "    [theme=dark] .colab-df-convert {\n",
              "      background-color: #3B4455;\n",
              "      fill: #D2E3FC;\n",
              "    }\n",
              "\n",
              "    [theme=dark] .colab-df-convert:hover {\n",
              "      background-color: #434B5C;\n",
              "      box-shadow: 0px 1px 3px 1px rgba(0, 0, 0, 0.15);\n",
              "      filter: drop-shadow(0px 1px 2px rgba(0, 0, 0, 0.3));\n",
              "      fill: #FFFFFF;\n",
              "    }\n",
              "  </style>\n",
              "\n",
              "      <script>\n",
              "        const buttonEl =\n",
              "          document.querySelector('#df-2a3cdc28-2120-4c81-afde-4ac243b7752a button.colab-df-convert');\n",
              "        buttonEl.style.display =\n",
              "          google.colab.kernel.accessAllowed ? 'block' : 'none';\n",
              "\n",
              "        async function convertToInteractive(key) {\n",
              "          const element = document.querySelector('#df-2a3cdc28-2120-4c81-afde-4ac243b7752a');\n",
              "          const dataTable =\n",
              "            await google.colab.kernel.invokeFunction('convertToInteractive',\n",
              "                                                     [key], {});\n",
              "          if (!dataTable) return;\n",
              "\n",
              "          const docLinkHtml = 'Like what you see? Visit the ' +\n",
              "            '<a target=\"_blank\" href=https://colab.research.google.com/notebooks/data_table.ipynb>data table notebook</a>'\n",
              "            + ' to learn more about interactive tables.';\n",
              "          element.innerHTML = '';\n",
              "          dataTable['output_type'] = 'display_data';\n",
              "          await google.colab.output.renderOutput(dataTable, element);\n",
              "          const docLink = document.createElement('div');\n",
              "          docLink.innerHTML = docLinkHtml;\n",
              "          element.appendChild(docLink);\n",
              "        }\n",
              "      </script>\n",
              "    </div>\n",
              "  </div>\n",
              "  "
            ]
          },
          "metadata": {},
          "execution_count": 14
        }
      ]
    },
    {
      "cell_type": "code",
      "source": [
        "# any pattern for those who are low scorers in all of them?\n",
        "# [\"cohesion\",\"syntax\",\"vocabulary\", \"phraseology\",\"grammar\", \"conventions\"]\n",
        "\n",
        "# low scorer for one is low scorer for the rest.\n",
        "train[(train[\"cohesion\"]==1) & (train[\"syntax\"]==1) & (train[\"vocabulary\"]==1) & (train[\"phraseology\"]==1) & (train[\"grammar\"]==1) & (train[\"conventions\"]==1)]\n"
      ],
      "metadata": {
        "colab": {
          "base_uri": "https://localhost:8080/",
          "height": 417
        },
        "id": "MEfXT6NfkUSH",
        "outputId": "88e35d1b-ef76-4726-fcbb-99e64ae0193a"
      },
      "execution_count": 15,
      "outputs": [
        {
          "output_type": "execute_result",
          "data": {
            "text/plain": [
              "           text_id  \\\n",
              "952   48EA282A4EAF   \n",
              "1540  767533E12569   \n",
              "\n",
              "                                                                                                                                                                                                                                                                                                                                                                                                                                                                                                                                                                                                                                                                                                                                                                                                                                                                                                                                                                                                                                                                                                                                                                                                                                                                                                                                                                                                                                                                                                                                                                                       full_text  \\\n",
              "952   some student offer distance learning as an option for student to attend classes from homr by wat of online pr video conferencing. i think student would benefit form being able to attend classesfrom home. you are authorized take the electronic version of this you will taking this promptsome student offer distance learning as an option for student to attend classes from homr by wat of online pr video conferencing. some student offer distance learning as an option for student to attend classes from homr by wat of online pr video conferencing. some student offer distance learning as an option.\\n\\nonline pr video conferencing. the right view the prompt and teh checklist for writers vvsome student offer distance learning as an option for student to attend classes from homr by wat of online pr video conferencing. some student offer distance learning as an option for student to attend classes from homr by wat of online pr video conferencing. some student offer distance learning as an option for student to attend classes from homr by wat of online pr video conferencing. some student offer distance learning as an option for student to attend classes from homr by wat of online pr video conferencing. some student offer distance learning as an option for student to attend classes from homr by wat of online pr video conferencing. some student offer distance learning as an option for student to attend classes from homr by wat of online pr video conferencing. some student offer distance learning as an option for student.   \n",
              "1540                                                                                                                                                                                                                                                    he is a good because they are the prescient and us. now the are more procession a other prescient and us. because and the more many education for student and school. the more school for one because he have a one women the have many education for a other because the good more the one is information for access because is not like the brazen giant of Greek fame with conquering one nation for is the imprison the eyes command the one book for people the us give more your lied your huddled Farmer with silent lips the more the one is for you because the are a one solution for you and a other people he have a more the one solution for you here ancient lands your storied pound Aries she with silent lips pledge of a in order people he have a education\\n\\nDo we accomplish more the if we are always doing something or does inactivity also serve a purpose take a position on this for you and specific examples. take a position for you because the are a never much may be a always how many I planned and my people he have the on the right to ported and the after type your response in the space. than new colossus for the more have a one they solution for is came one o two people the same time. because the more that in and here name norther of Exiles form her barmen the are one sous ion.    \n",
              "\n",
              "      cohesion  syntax  vocabulary  phraseology  grammar  conventions  \n",
              "952        1.0     1.0         1.0          1.0      1.0          1.0  \n",
              "1540       1.0     1.0         1.0          1.0      1.0          1.0  "
            ],
            "text/html": [
              "\n",
              "  <div id=\"df-083006c3-7eb6-4819-8cf1-3e891066a7b2\">\n",
              "    <div class=\"colab-df-container\">\n",
              "      <div>\n",
              "<style scoped>\n",
              "    .dataframe tbody tr th:only-of-type {\n",
              "        vertical-align: middle;\n",
              "    }\n",
              "\n",
              "    .dataframe tbody tr th {\n",
              "        vertical-align: top;\n",
              "    }\n",
              "\n",
              "    .dataframe thead th {\n",
              "        text-align: right;\n",
              "    }\n",
              "</style>\n",
              "<table border=\"1\" class=\"dataframe\">\n",
              "  <thead>\n",
              "    <tr style=\"text-align: right;\">\n",
              "      <th></th>\n",
              "      <th>text_id</th>\n",
              "      <th>full_text</th>\n",
              "      <th>cohesion</th>\n",
              "      <th>syntax</th>\n",
              "      <th>vocabulary</th>\n",
              "      <th>phraseology</th>\n",
              "      <th>grammar</th>\n",
              "      <th>conventions</th>\n",
              "    </tr>\n",
              "  </thead>\n",
              "  <tbody>\n",
              "    <tr>\n",
              "      <th>952</th>\n",
              "      <td>48EA282A4EAF</td>\n",
              "      <td>some student offer distance learning as an option for student to attend classes from homr by wat of online pr video conferencing. i think student would benefit form being able to attend classesfrom home. you are authorized take the electronic version of this you will taking this promptsome student offer distance learning as an option for student to attend classes from homr by wat of online pr video conferencing. some student offer distance learning as an option for student to attend classes from homr by wat of online pr video conferencing. some student offer distance learning as an option.\\n\\nonline pr video conferencing. the right view the prompt and teh checklist for writers vvsome student offer distance learning as an option for student to attend classes from homr by wat of online pr video conferencing. some student offer distance learning as an option for student to attend classes from homr by wat of online pr video conferencing. some student offer distance learning as an option for student to attend classes from homr by wat of online pr video conferencing. some student offer distance learning as an option for student to attend classes from homr by wat of online pr video conferencing. some student offer distance learning as an option for student to attend classes from homr by wat of online pr video conferencing. some student offer distance learning as an option for student to attend classes from homr by wat of online pr video conferencing. some student offer distance learning as an option for student.</td>\n",
              "      <td>1.0</td>\n",
              "      <td>1.0</td>\n",
              "      <td>1.0</td>\n",
              "      <td>1.0</td>\n",
              "      <td>1.0</td>\n",
              "      <td>1.0</td>\n",
              "    </tr>\n",
              "    <tr>\n",
              "      <th>1540</th>\n",
              "      <td>767533E12569</td>\n",
              "      <td>he is a good because they are the prescient and us. now the are more procession a other prescient and us. because and the more many education for student and school. the more school for one because he have a one women the have many education for a other because the good more the one is information for access because is not like the brazen giant of Greek fame with conquering one nation for is the imprison the eyes command the one book for people the us give more your lied your huddled Farmer with silent lips the more the one is for you because the are a one solution for you and a other people he have a more the one solution for you here ancient lands your storied pound Aries she with silent lips pledge of a in order people he have a education\\n\\nDo we accomplish more the if we are always doing something or does inactivity also serve a purpose take a position on this for you and specific examples. take a position for you because the are a never much may be a always how many I planned and my people he have the on the right to ported and the after type your response in the space. than new colossus for the more have a one they solution for is came one o two people the same time. because the more that in and here name norther of Exiles form her barmen the are one sous ion.</td>\n",
              "      <td>1.0</td>\n",
              "      <td>1.0</td>\n",
              "      <td>1.0</td>\n",
              "      <td>1.0</td>\n",
              "      <td>1.0</td>\n",
              "      <td>1.0</td>\n",
              "    </tr>\n",
              "  </tbody>\n",
              "</table>\n",
              "</div>\n",
              "      <button class=\"colab-df-convert\" onclick=\"convertToInteractive('df-083006c3-7eb6-4819-8cf1-3e891066a7b2')\"\n",
              "              title=\"Convert this dataframe to an interactive table.\"\n",
              "              style=\"display:none;\">\n",
              "        \n",
              "  <svg xmlns=\"http://www.w3.org/2000/svg\" height=\"24px\"viewBox=\"0 0 24 24\"\n",
              "       width=\"24px\">\n",
              "    <path d=\"M0 0h24v24H0V0z\" fill=\"none\"/>\n",
              "    <path d=\"M18.56 5.44l.94 2.06.94-2.06 2.06-.94-2.06-.94-.94-2.06-.94 2.06-2.06.94zm-11 1L8.5 8.5l.94-2.06 2.06-.94-2.06-.94L8.5 2.5l-.94 2.06-2.06.94zm10 10l.94 2.06.94-2.06 2.06-.94-2.06-.94-.94-2.06-.94 2.06-2.06.94z\"/><path d=\"M17.41 7.96l-1.37-1.37c-.4-.4-.92-.59-1.43-.59-.52 0-1.04.2-1.43.59L10.3 9.45l-7.72 7.72c-.78.78-.78 2.05 0 2.83L4 21.41c.39.39.9.59 1.41.59.51 0 1.02-.2 1.41-.59l7.78-7.78 2.81-2.81c.8-.78.8-2.07 0-2.86zM5.41 20L4 18.59l7.72-7.72 1.47 1.35L5.41 20z\"/>\n",
              "  </svg>\n",
              "      </button>\n",
              "      \n",
              "  <style>\n",
              "    .colab-df-container {\n",
              "      display:flex;\n",
              "      flex-wrap:wrap;\n",
              "      gap: 12px;\n",
              "    }\n",
              "\n",
              "    .colab-df-convert {\n",
              "      background-color: #E8F0FE;\n",
              "      border: none;\n",
              "      border-radius: 50%;\n",
              "      cursor: pointer;\n",
              "      display: none;\n",
              "      fill: #1967D2;\n",
              "      height: 32px;\n",
              "      padding: 0 0 0 0;\n",
              "      width: 32px;\n",
              "    }\n",
              "\n",
              "    .colab-df-convert:hover {\n",
              "      background-color: #E2EBFA;\n",
              "      box-shadow: 0px 1px 2px rgba(60, 64, 67, 0.3), 0px 1px 3px 1px rgba(60, 64, 67, 0.15);\n",
              "      fill: #174EA6;\n",
              "    }\n",
              "\n",
              "    [theme=dark] .colab-df-convert {\n",
              "      background-color: #3B4455;\n",
              "      fill: #D2E3FC;\n",
              "    }\n",
              "\n",
              "    [theme=dark] .colab-df-convert:hover {\n",
              "      background-color: #434B5C;\n",
              "      box-shadow: 0px 1px 3px 1px rgba(0, 0, 0, 0.15);\n",
              "      filter: drop-shadow(0px 1px 2px rgba(0, 0, 0, 0.3));\n",
              "      fill: #FFFFFF;\n",
              "    }\n",
              "  </style>\n",
              "\n",
              "      <script>\n",
              "        const buttonEl =\n",
              "          document.querySelector('#df-083006c3-7eb6-4819-8cf1-3e891066a7b2 button.colab-df-convert');\n",
              "        buttonEl.style.display =\n",
              "          google.colab.kernel.accessAllowed ? 'block' : 'none';\n",
              "\n",
              "        async function convertToInteractive(key) {\n",
              "          const element = document.querySelector('#df-083006c3-7eb6-4819-8cf1-3e891066a7b2');\n",
              "          const dataTable =\n",
              "            await google.colab.kernel.invokeFunction('convertToInteractive',\n",
              "                                                     [key], {});\n",
              "          if (!dataTable) return;\n",
              "\n",
              "          const docLinkHtml = 'Like what you see? Visit the ' +\n",
              "            '<a target=\"_blank\" href=https://colab.research.google.com/notebooks/data_table.ipynb>data table notebook</a>'\n",
              "            + ' to learn more about interactive tables.';\n",
              "          element.innerHTML = '';\n",
              "          dataTable['output_type'] = 'display_data';\n",
              "          await google.colab.output.renderOutput(dataTable, element);\n",
              "          const docLink = document.createElement('div');\n",
              "          docLink.innerHTML = docLinkHtml;\n",
              "          element.appendChild(docLink);\n",
              "        }\n",
              "      </script>\n",
              "    </div>\n",
              "  </div>\n",
              "  "
            ]
          },
          "metadata": {},
          "execution_count": 15
        }
      ]
    },
    {
      "cell_type": "markdown",
      "source": [
        "Notes:\n",
        "\n",
        "* test.csv only had 3 items. just discard and split by train.csv\n",
        "* high correlation, so high scorer in one is high scorer in rest and vice versa\n",
        "* hard to be any extreme\n",
        "* high scorers also tend to write more\n",
        "* low scorers have a lot of misspellings, suggesting a model with more casual language might be more appropriate\n",
        "* there are paragraphs so we need to take note of line separations\n"
      ],
      "metadata": {
        "id": "pxgzZ5_yorIg"
      }
    },
    {
      "cell_type": "markdown",
      "source": [
        "# RetriBERT"
      ],
      "metadata": {
        "id": "wzB82PhPxEqX"
      }
    },
    {
      "cell_type": "code",
      "source": [
        "# RetriBERT tokenizer\n",
        "# class transformers.RetriBertTokenizer\n"
      ],
      "metadata": {
        "id": "vLBV7TnUxCwv"
      },
      "execution_count": 16,
      "outputs": []
    },
    {
      "cell_type": "code",
      "source": [
        "!pip install transformers\n",
        "!pip install ktrain"
      ],
      "metadata": {
        "id": "Hr_JUf8J7jyj",
        "colab": {
          "base_uri": "https://localhost:8080/"
        },
        "outputId": "7d016af1-e772-4ec1-9316-ad5f4d4e6c3b"
      },
      "execution_count": 17,
      "outputs": [
        {
          "output_type": "stream",
          "name": "stdout",
          "text": [
            "Looking in indexes: https://pypi.org/simple, https://us-python.pkg.dev/colab-wheels/public/simple/\n",
            "Requirement already satisfied: transformers in /usr/local/lib/python3.9/dist-packages (4.27.3)\n",
            "Requirement already satisfied: regex!=2019.12.17 in /usr/local/lib/python3.9/dist-packages (from transformers) (2022.10.31)\n",
            "Requirement already satisfied: packaging>=20.0 in /usr/local/lib/python3.9/dist-packages (from transformers) (23.0)\n",
            "Requirement already satisfied: pyyaml>=5.1 in /usr/local/lib/python3.9/dist-packages (from transformers) (6.0)\n",
            "Requirement already satisfied: numpy>=1.17 in /usr/local/lib/python3.9/dist-packages (from transformers) (1.22.4)\n",
            "Requirement already satisfied: tokenizers!=0.11.3,<0.14,>=0.11.1 in /usr/local/lib/python3.9/dist-packages (from transformers) (0.13.2)\n",
            "Requirement already satisfied: requests in /usr/local/lib/python3.9/dist-packages (from transformers) (2.27.1)\n",
            "Requirement already satisfied: filelock in /usr/local/lib/python3.9/dist-packages (from transformers) (3.10.2)\n",
            "Requirement already satisfied: tqdm>=4.27 in /usr/local/lib/python3.9/dist-packages (from transformers) (4.65.0)\n",
            "Requirement already satisfied: huggingface-hub<1.0,>=0.11.0 in /usr/local/lib/python3.9/dist-packages (from transformers) (0.13.3)\n",
            "Requirement already satisfied: typing-extensions>=3.7.4.3 in /usr/local/lib/python3.9/dist-packages (from huggingface-hub<1.0,>=0.11.0->transformers) (4.5.0)\n",
            "Requirement already satisfied: certifi>=2017.4.17 in /usr/local/lib/python3.9/dist-packages (from requests->transformers) (2022.12.7)\n",
            "Requirement already satisfied: charset-normalizer~=2.0.0 in /usr/local/lib/python3.9/dist-packages (from requests->transformers) (2.0.12)\n",
            "Requirement already satisfied: idna<4,>=2.5 in /usr/local/lib/python3.9/dist-packages (from requests->transformers) (3.4)\n",
            "Requirement already satisfied: urllib3<1.27,>=1.21.1 in /usr/local/lib/python3.9/dist-packages (from requests->transformers) (1.26.15)\n",
            "Looking in indexes: https://pypi.org/simple, https://us-python.pkg.dev/colab-wheels/public/simple/\n",
            "Requirement already satisfied: ktrain in /usr/local/lib/python3.9/dist-packages (0.33.4)\n",
            "Requirement already satisfied: fastprogress>=0.1.21 in /usr/local/lib/python3.9/dist-packages (from ktrain) (1.0.3)\n",
            "Requirement already satisfied: joblib in /usr/local/lib/python3.9/dist-packages (from ktrain) (1.1.1)\n",
            "Requirement already satisfied: sentencepiece in /usr/local/lib/python3.9/dist-packages (from ktrain) (0.1.97)\n",
            "Requirement already satisfied: keras-bert>=0.86.0 in /usr/local/lib/python3.9/dist-packages (from ktrain) (0.89.0)\n",
            "Requirement already satisfied: requests in /usr/local/lib/python3.9/dist-packages (from ktrain) (2.27.1)\n",
            "Requirement already satisfied: cchardet in /usr/local/lib/python3.9/dist-packages (from ktrain) (2.1.7)\n",
            "Requirement already satisfied: langdetect in /usr/local/lib/python3.9/dist-packages (from ktrain) (1.0.9)\n",
            "Requirement already satisfied: matplotlib>=3.0.0 in /usr/local/lib/python3.9/dist-packages (from ktrain) (3.7.1)\n",
            "Requirement already satisfied: pandas>=1.0.1 in /usr/local/lib/python3.9/dist-packages (from ktrain) (1.4.4)\n",
            "Requirement already satisfied: chardet in /usr/local/lib/python3.9/dist-packages (from ktrain) (4.0.0)\n",
            "Requirement already satisfied: transformers>=4.17.0 in /usr/local/lib/python3.9/dist-packages (from ktrain) (4.27.3)\n",
            "Requirement already satisfied: whoosh in /usr/local/lib/python3.9/dist-packages (from ktrain) (2.7.4)\n",
            "Requirement already satisfied: scikit-learn in /usr/local/lib/python3.9/dist-packages (from ktrain) (1.2.2)\n",
            "Requirement already satisfied: syntok>1.3.3 in /usr/local/lib/python3.9/dist-packages (from ktrain) (1.4.4)\n",
            "Requirement already satisfied: jieba in /usr/local/lib/python3.9/dist-packages (from ktrain) (0.42.1)\n",
            "Requirement already satisfied: packaging in /usr/local/lib/python3.9/dist-packages (from ktrain) (23.0)\n",
            "Requirement already satisfied: numpy in /usr/local/lib/python3.9/dist-packages (from keras-bert>=0.86.0->ktrain) (1.22.4)\n",
            "Requirement already satisfied: keras-transformer==0.40.0 in /usr/local/lib/python3.9/dist-packages (from keras-bert>=0.86.0->ktrain) (0.40.0)\n",
            "Requirement already satisfied: keras-position-wise-feed-forward==0.8.0 in /usr/local/lib/python3.9/dist-packages (from keras-transformer==0.40.0->keras-bert>=0.86.0->ktrain) (0.8.0)\n",
            "Requirement already satisfied: keras-layer-normalization==0.16.0 in /usr/local/lib/python3.9/dist-packages (from keras-transformer==0.40.0->keras-bert>=0.86.0->ktrain) (0.16.0)\n",
            "Requirement already satisfied: keras-multi-head==0.29.0 in /usr/local/lib/python3.9/dist-packages (from keras-transformer==0.40.0->keras-bert>=0.86.0->ktrain) (0.29.0)\n",
            "Requirement already satisfied: keras-embed-sim==0.10.0 in /usr/local/lib/python3.9/dist-packages (from keras-transformer==0.40.0->keras-bert>=0.86.0->ktrain) (0.10.0)\n",
            "Requirement already satisfied: keras-pos-embd==0.13.0 in /usr/local/lib/python3.9/dist-packages (from keras-transformer==0.40.0->keras-bert>=0.86.0->ktrain) (0.13.0)\n",
            "Requirement already satisfied: keras-self-attention==0.51.0 in /usr/local/lib/python3.9/dist-packages (from keras-multi-head==0.29.0->keras-transformer==0.40.0->keras-bert>=0.86.0->ktrain) (0.51.0)\n",
            "Requirement already satisfied: pyparsing>=2.3.1 in /usr/local/lib/python3.9/dist-packages (from matplotlib>=3.0.0->ktrain) (3.0.9)\n",
            "Requirement already satisfied: contourpy>=1.0.1 in /usr/local/lib/python3.9/dist-packages (from matplotlib>=3.0.0->ktrain) (1.0.7)\n",
            "Requirement already satisfied: python-dateutil>=2.7 in /usr/local/lib/python3.9/dist-packages (from matplotlib>=3.0.0->ktrain) (2.8.2)\n",
            "Requirement already satisfied: importlib-resources>=3.2.0 in /usr/local/lib/python3.9/dist-packages (from matplotlib>=3.0.0->ktrain) (5.12.0)\n",
            "Requirement already satisfied: pillow>=6.2.0 in /usr/local/lib/python3.9/dist-packages (from matplotlib>=3.0.0->ktrain) (8.4.0)\n",
            "Requirement already satisfied: kiwisolver>=1.0.1 in /usr/local/lib/python3.9/dist-packages (from matplotlib>=3.0.0->ktrain) (1.4.4)\n",
            "Requirement already satisfied: cycler>=0.10 in /usr/local/lib/python3.9/dist-packages (from matplotlib>=3.0.0->ktrain) (0.11.0)\n",
            "Requirement already satisfied: fonttools>=4.22.0 in /usr/local/lib/python3.9/dist-packages (from matplotlib>=3.0.0->ktrain) (4.39.2)\n",
            "Requirement already satisfied: pytz>=2020.1 in /usr/local/lib/python3.9/dist-packages (from pandas>=1.0.1->ktrain) (2022.7.1)\n",
            "Requirement already satisfied: regex>2016 in /usr/local/lib/python3.9/dist-packages (from syntok>1.3.3->ktrain) (2022.10.31)\n",
            "Requirement already satisfied: tokenizers!=0.11.3,<0.14,>=0.11.1 in /usr/local/lib/python3.9/dist-packages (from transformers>=4.17.0->ktrain) (0.13.2)\n",
            "Requirement already satisfied: pyyaml>=5.1 in /usr/local/lib/python3.9/dist-packages (from transformers>=4.17.0->ktrain) (6.0)\n",
            "Requirement already satisfied: filelock in /usr/local/lib/python3.9/dist-packages (from transformers>=4.17.0->ktrain) (3.10.2)\n",
            "Requirement already satisfied: huggingface-hub<1.0,>=0.11.0 in /usr/local/lib/python3.9/dist-packages (from transformers>=4.17.0->ktrain) (0.13.3)\n",
            "Requirement already satisfied: tqdm>=4.27 in /usr/local/lib/python3.9/dist-packages (from transformers>=4.17.0->ktrain) (4.65.0)\n",
            "Requirement already satisfied: six in /usr/local/lib/python3.9/dist-packages (from langdetect->ktrain) (1.16.0)\n",
            "Requirement already satisfied: idna<4,>=2.5 in /usr/local/lib/python3.9/dist-packages (from requests->ktrain) (3.4)\n",
            "Requirement already satisfied: charset-normalizer~=2.0.0 in /usr/local/lib/python3.9/dist-packages (from requests->ktrain) (2.0.12)\n",
            "Requirement already satisfied: certifi>=2017.4.17 in /usr/local/lib/python3.9/dist-packages (from requests->ktrain) (2022.12.7)\n",
            "Requirement already satisfied: urllib3<1.27,>=1.21.1 in /usr/local/lib/python3.9/dist-packages (from requests->ktrain) (1.26.15)\n",
            "Requirement already satisfied: scipy>=1.3.2 in /usr/local/lib/python3.9/dist-packages (from scikit-learn->ktrain) (1.10.1)\n",
            "Requirement already satisfied: threadpoolctl>=2.0.0 in /usr/local/lib/python3.9/dist-packages (from scikit-learn->ktrain) (3.1.0)\n",
            "Requirement already satisfied: typing-extensions>=3.7.4.3 in /usr/local/lib/python3.9/dist-packages (from huggingface-hub<1.0,>=0.11.0->transformers>=4.17.0->ktrain) (4.5.0)\n",
            "Requirement already satisfied: zipp>=3.1.0 in /usr/local/lib/python3.9/dist-packages (from importlib-resources>=3.2.0->matplotlib>=3.0.0->ktrain) (3.15.0)\n"
          ]
        }
      ]
    },
    {
      "cell_type": "code",
      "source": [
        "import math\n",
        "from typing import Optional\n",
        "import transformers\n",
        "from ktrain import text\n",
        "\n",
        "import torch\n",
        "import torch.utils.checkpoint as checkpoint\n",
        "from torch import nn\n",
        "# from transformers import TFAutoModel, AutoTokenizer\n",
        "\n",
        "# from ...modeling_utils import PreTrainedModel\n",
        "# from ...utils import add_start_docstrings, logging\n",
        "# from ..bert.modeling_bert import BertModel\n",
        "# from .configuration_retribert import RetriBertConfig"
      ],
      "metadata": {
        "id": "LC-BH85qy3lg"
      },
      "execution_count": 18,
      "outputs": []
    },
    {
      "cell_type": "code",
      "source": [
        "# model_checkpoint = 'yjernite/retribert-base-uncased'\n",
        "# model = TFAutoModel.from_pretrained(model_checkpoint)"
      ],
      "metadata": {
        "id": "tUeVSs2z7Fhp"
      },
      "execution_count": 19,
      "outputs": []
    },
    {
      "cell_type": "code",
      "source": [
        "# # RetriBERT model\n",
        "# # class transformers.RetriBertModel\n",
        "# # coding=utf-8\n",
        "# # Copyright 2019-present, the HuggingFace Inc. team, The Google AI Language Team and Facebook, Inc.\n",
        "# #\n",
        "# # Licensed under the Apache License, Version 2.0 (the \"License\");\n",
        "# # you may not use this file except in compliance with the License.\n",
        "# # You may obtain a copy of the License at\n",
        "# #\n",
        "# #     http://www.apache.org/licenses/LICENSE-2.0\n",
        "# #\n",
        "# # Unless required by applicable law or agreed to in writing, software\n",
        "# # distributed under the License is distributed on an \"AS IS\" BASIS,\n",
        "# # WITHOUT WARRANTIES OR CONDITIONS OF ANY KIND, either express or implied.\n",
        "# # See the License for the specific language governing permissions and\n",
        "# # limitations under the License.\n",
        "# \"\"\"\n",
        "# RetriBERT model\n",
        "# \"\"\"\n",
        "\n",
        "# logger = transformers.logging.get_logger(__name__)\n",
        "\n",
        "# RETRIBERT_PRETRAINED_MODEL_ARCHIVE_LIST = [\n",
        "#     \"yjernite/retribert-base-uncased\",\n",
        "#     # See all RetriBert models at https://huggingface.co/models?filter=retribert\n",
        "# ]\n",
        "\n",
        "\n",
        "# # INTERFACE FOR ENCODER AND TASK SPECIFIC MODEL #\n",
        "# class RetriBertPreTrainedModel(PreTrainedModel):\n",
        "#     \"\"\"\n",
        "#     An abstract class to handle weights initialization and a simple interface for downloading and loading pretrained\n",
        "#     models.\n",
        "#     \"\"\"\n",
        "\n",
        "#     config_class = RetriBertConfig\n",
        "#     load_tf_weights = None\n",
        "#     base_model_prefix = \"retribert\"\n",
        "\n",
        "#     def _init_weights(self, module):\n",
        "#         \"\"\"Initialize the weights\"\"\"\n",
        "#         if isinstance(module, nn.Linear):\n",
        "#             module.weight.data.normal_(mean=0.0, std=self.config.initializer_range)\n",
        "#             if module.bias is not None:\n",
        "#                 module.bias.data.zero_()\n",
        "#         elif isinstance(module, nn.Embedding):\n",
        "#             module.weight.data.normal_(mean=0.0, std=self.config.initializer_range)\n",
        "#             if module.padding_idx is not None:\n",
        "#                 module.weight.data[module.padding_idx].zero_()\n",
        "#         elif isinstance(module, nn.LayerNorm):\n",
        "#             module.bias.data.zero_()\n",
        "#             module.weight.data.fill_(1.0)\n",
        "\n",
        "\n",
        "# RETRIBERT_START_DOCSTRING = r\"\"\"\n",
        "#     This model inherits from [`PreTrainedModel`]. Check the superclass documentation for the generic methods the\n",
        "#     library implements for all its model (such as downloading or saving, resizing the input embeddings, pruning heads\n",
        "#     etc.)\n",
        "#     This model is also a PyTorch [torch.nn.Module](https://pytorch.org/docs/stable/nn.html#torch.nn.Module) subclass.\n",
        "#     Use it as a regular PyTorch Module and refer to the PyTorch documentation for all matter related to general usage\n",
        "#     and behavior.\n",
        "#     Parameters:\n",
        "#         config ([`RetriBertConfig`]): Model configuration class with all the parameters of the model.\n",
        "#             Initializing with a config file does not load the weights associated with the model, only the\n",
        "#             configuration. Check out the [`~PreTrainedModel.from_pretrained`] method to load the model weights.\n",
        "# \"\"\"\n",
        "\n",
        "\n",
        "# @add_start_docstrings(\n",
        "#     \"\"\"Bert Based model to embed queries or document for document retrieval.\"\"\",\n",
        "#     RETRIBERT_START_DOCSTRING,\n",
        "# )\n",
        "# class RetriBertModel(RetriBertPreTrainedModel):\n",
        "#     def __init__(self, config: RetriBertConfig) -> None:\n",
        "#         super().__init__(config)\n",
        "#         self.projection_dim = config.projection_dim\n",
        "\n",
        "#         self.bert_query = BertModel(config)\n",
        "#         self.bert_doc = None if config.share_encoders else BertModel(config)\n",
        "#         self.dropout = nn.Dropout(config.hidden_dropout_prob)\n",
        "#         self.project_query = nn.Linear(config.hidden_size, config.projection_dim, bias=False)\n",
        "#         self.project_doc = nn.Linear(config.hidden_size, config.projection_dim, bias=False)\n",
        "\n",
        "#         self.ce_loss = nn.CrossEntropyLoss(reduction=\"mean\")\n",
        "\n",
        "#         # Initialize weights and apply final processing\n",
        "#         self.post_init()\n",
        "\n",
        "#     def embed_sentences_checkpointed(\n",
        "#         self,\n",
        "#         input_ids,\n",
        "#         attention_mask,\n",
        "#         sent_encoder,\n",
        "#         checkpoint_batch_size=-1,\n",
        "#     ):\n",
        "#         # reproduces BERT forward pass with checkpointing\n",
        "#         if checkpoint_batch_size < 0 or input_ids.shape[0] < checkpoint_batch_size:\n",
        "#             return sent_encoder(input_ids, attention_mask=attention_mask)[1]\n",
        "#         else:\n",
        "#             # prepare implicit variables\n",
        "#             device = input_ids.device\n",
        "#             input_shape = input_ids.size()\n",
        "#             token_type_ids = torch.zeros(input_shape, dtype=torch.long, device=device)\n",
        "#             head_mask = [None] * sent_encoder.config.num_hidden_layers\n",
        "#             extended_attention_mask: torch.Tensor = sent_encoder.get_extended_attention_mask(\n",
        "#                 attention_mask, input_shape\n",
        "#             )\n",
        "\n",
        "#             # define function for checkpointing\n",
        "#             def partial_encode(*inputs):\n",
        "#                 encoder_outputs = sent_encoder.encoder(\n",
        "#                     inputs[0],\n",
        "#                     attention_mask=inputs[1],\n",
        "#                     head_mask=head_mask,\n",
        "#                 )\n",
        "#                 sequence_output = encoder_outputs[0]\n",
        "#                 pooled_output = sent_encoder.pooler(sequence_output)\n",
        "#                 return pooled_output\n",
        "\n",
        "#             # run embedding layer on everything at once\n",
        "#             embedding_output = sent_encoder.embeddings(\n",
        "#                 input_ids=input_ids, position_ids=None, token_type_ids=token_type_ids, inputs_embeds=None\n",
        "#             )\n",
        "#             # run encoding and pooling on one mini-batch at a time\n",
        "#             pooled_output_list = []\n",
        "#             for b in range(math.ceil(input_ids.shape[0] / checkpoint_batch_size)):\n",
        "#                 b_embedding_output = embedding_output[b * checkpoint_batch_size : (b + 1) * checkpoint_batch_size]\n",
        "#                 b_attention_mask = extended_attention_mask[b * checkpoint_batch_size : (b + 1) * checkpoint_batch_size]\n",
        "#                 pooled_output = checkpoint.checkpoint(partial_encode, b_embedding_output, b_attention_mask)\n",
        "#                 pooled_output_list.append(pooled_output)\n",
        "#             return torch.cat(pooled_output_list, dim=0)\n",
        "\n",
        "#     def embed_questions(\n",
        "#         self,\n",
        "#         input_ids,\n",
        "#         attention_mask=None,\n",
        "#         checkpoint_batch_size=-1,\n",
        "#     ):\n",
        "#         q_reps = self.embed_sentences_checkpointed(\n",
        "#             input_ids,\n",
        "#             attention_mask,\n",
        "#             self.bert_query,\n",
        "#             checkpoint_batch_size,\n",
        "#         )\n",
        "#         return self.project_query(q_reps)\n",
        "\n",
        "#     def embed_answers(\n",
        "#         self,\n",
        "#         input_ids,\n",
        "#         attention_mask=None,\n",
        "#         checkpoint_batch_size=-1,\n",
        "#     ):\n",
        "#         a_reps = self.embed_sentences_checkpointed(\n",
        "#             input_ids,\n",
        "#             attention_mask,\n",
        "#             self.bert_query if self.bert_doc is None else self.bert_doc,\n",
        "#             checkpoint_batch_size,\n",
        "#         )\n",
        "#         return self.project_doc(a_reps)\n",
        "\n",
        "#     def forward(\n",
        "#         self,\n",
        "#         input_ids_query: torch.LongTensor,\n",
        "#         attention_mask_query: Optional[torch.FloatTensor],\n",
        "#         input_ids_doc: torch.LongTensor,\n",
        "#         attention_mask_doc: Optional[torch.FloatTensor],\n",
        "#         checkpoint_batch_size: int = -1,\n",
        "#     ) -> torch.FloatTensor:\n",
        "#         r\"\"\"\n",
        "#         Args:\n",
        "#             input_ids_query (`torch.LongTensor` of shape `(batch_size, sequence_length)`):\n",
        "#                 Indices of input sequence tokens in the vocabulary for the queries in a batch.\n",
        "#                 Indices can be obtained using [`AutoTokenizer`]. See [`PreTrainedTokenizer.encode`] and\n",
        "#                 [`PreTrainedTokenizer.__call__`] for details.\n",
        "#                 [What are input IDs?](../glossary#input-ids)\n",
        "#             attention_mask_query (`torch.FloatTensor` of shape `(batch_size, sequence_length)`, *optional*):\n",
        "#                 Mask to avoid performing attention on padding token indices. Mask values selected in `[0, 1]`:\n",
        "#                 - 1 for tokens that are **not masked**,\n",
        "#                 - 0 for tokens that are **masked**.\n",
        "#                 [What are attention masks?](../glossary#attention-mask)\n",
        "#             input_ids_doc (`torch.LongTensor` of shape `(batch_size, sequence_length)`):\n",
        "#                 Indices of input sequence tokens in the vocabulary for the documents in a batch.\n",
        "#             attention_mask_doc (`torch.FloatTensor` of shape `(batch_size, sequence_length)`, *optional*):\n",
        "#                 Mask to avoid performing attention on documents padding token indices.\n",
        "#             checkpoint_batch_size (`int`, *optional*, defaults to `-1`):\n",
        "#                 If greater than 0, uses gradient checkpointing to only compute sequence representation on\n",
        "#                 `checkpoint_batch_size` examples at a time on the GPU. All query representations are still compared to\n",
        "#                 all document representations in the batch.\n",
        "#         Return:\n",
        "#             `torch.FloatTensor``: The bidirectional cross-entropy loss obtained while trying to match each query to its\n",
        "#             corresponding document and each document to its corresponding query in the batch\n",
        "#         \"\"\"\n",
        "#         device = input_ids_query.device\n",
        "#         q_reps = self.embed_questions(input_ids_query, attention_mask_query, checkpoint_batch_size)\n",
        "#         a_reps = self.embed_answers(input_ids_doc, attention_mask_doc, checkpoint_batch_size)\n",
        "#         compare_scores = torch.mm(q_reps, a_reps.t())\n",
        "#         loss_qa = self.ce_loss(compare_scores, torch.arange(compare_scores.shape[1]).to(device))\n",
        "#         loss_aq = self.ce_loss(compare_scores.t(), torch.arange(compare_scores.shape[0]).to(device))\n",
        "#         loss = (loss_qa + loss_aq) / 2\n",
        "#         return loss"
      ],
      "metadata": {
        "id": "oiF9WJjLxtfa"
      },
      "execution_count": 20,
      "outputs": []
    },
    {
      "cell_type": "code",
      "source": [
        "# retribert_model = transformers.TFAutoModel.from_pretrained(\"yjernite/retribert-base-uncased\")\n",
        "# text.Transformer(\"yjernite/retribert-base-uncased/\")\n",
        "# transformers.AutoConfig.from_pretrained(\"yjernite/retribert-base-uncased/\")\n",
        "\n",
        "# retriconfig = transformers.RetriBertConfig(vocab_size=30522, \n",
        "#                              hidden_size=768, \n",
        "#                              num_hidden_layers=8, \n",
        "#                              num_attention_heads=12, \n",
        "#                              intermediate_size=3072, \n",
        "#                              hidden_act='gelu', \n",
        "#                              hidden_dropout_prob=0.1, \n",
        "#                              attention_probs_dropout_prob=0.1, \n",
        "#                              max_position_embeddings=512, \n",
        "#                              type_vocab_size=2, \n",
        "#                              initializer_range=0.02, \n",
        "#                              layer_norm_eps=1e-12, \n",
        "#                              share_encoders=True, \n",
        "#                              projection_dim=128, \n",
        "#                              pad_token_id=0)\n",
        "# # retribert_model = transformers.TFAutoModel.from_pretrained(retriconfig)\n",
        "# transformers.AutoConfig.from_pretrained(retriconfig) # tried using the config function\n",
        "\n",
        "retribert_model_checkpoints = \"yjernite/retribert-base-uncased\"\n",
        "retribert_model = transformers.BertModel.from_pretrained(retribert_model_checkpoints)\n",
        "# retribert_model\n",
        "# retribert_tokenizer = transformers.BertTokenizer.from_pretrained(retribert_model_checkpoints)\n",
        "retribert_tokenizer = transformers.AutoTokenizer.from_pretrained(retribert_model_checkpoints, use_fast=False, normalization = True)"
      ],
      "metadata": {
        "id": "saSRFRT_Vvqy"
      },
      "execution_count": 21,
      "outputs": []
    },
    {
      "cell_type": "code",
      "source": [
        "retri_cuda = retribert_model.cuda()\n",
        "retri_cuda"
      ],
      "metadata": {
        "colab": {
          "base_uri": "https://localhost:8080/"
        },
        "id": "osrK4zpiryVZ",
        "outputId": "60ea0eea-7a61-4e9d-b901-1e6e6500188a"
      },
      "execution_count": 22,
      "outputs": [
        {
          "output_type": "execute_result",
          "data": {
            "text/plain": [
              "BertModel(\n",
              "  (embeddings): BertEmbeddings(\n",
              "    (word_embeddings): Embedding(30522, 768, padding_idx=0)\n",
              "    (position_embeddings): Embedding(512, 768)\n",
              "    (token_type_embeddings): Embedding(2, 768)\n",
              "    (LayerNorm): LayerNorm((768,), eps=1e-12, elementwise_affine=True)\n",
              "    (dropout): Dropout(p=0.1, inplace=False)\n",
              "  )\n",
              "  (encoder): BertEncoder(\n",
              "    (layer): ModuleList(\n",
              "      (0): BertLayer(\n",
              "        (attention): BertAttention(\n",
              "          (self): BertSelfAttention(\n",
              "            (query): Linear(in_features=768, out_features=768, bias=True)\n",
              "            (key): Linear(in_features=768, out_features=768, bias=True)\n",
              "            (value): Linear(in_features=768, out_features=768, bias=True)\n",
              "            (dropout): Dropout(p=0.1, inplace=False)\n",
              "          )\n",
              "          (output): BertSelfOutput(\n",
              "            (dense): Linear(in_features=768, out_features=768, bias=True)\n",
              "            (LayerNorm): LayerNorm((768,), eps=1e-12, elementwise_affine=True)\n",
              "            (dropout): Dropout(p=0.1, inplace=False)\n",
              "          )\n",
              "        )\n",
              "        (intermediate): BertIntermediate(\n",
              "          (dense): Linear(in_features=768, out_features=3072, bias=True)\n",
              "          (intermediate_act_fn): GELUActivation()\n",
              "        )\n",
              "        (output): BertOutput(\n",
              "          (dense): Linear(in_features=3072, out_features=768, bias=True)\n",
              "          (LayerNorm): LayerNorm((768,), eps=1e-12, elementwise_affine=True)\n",
              "          (dropout): Dropout(p=0.1, inplace=False)\n",
              "        )\n",
              "      )\n",
              "      (1): BertLayer(\n",
              "        (attention): BertAttention(\n",
              "          (self): BertSelfAttention(\n",
              "            (query): Linear(in_features=768, out_features=768, bias=True)\n",
              "            (key): Linear(in_features=768, out_features=768, bias=True)\n",
              "            (value): Linear(in_features=768, out_features=768, bias=True)\n",
              "            (dropout): Dropout(p=0.1, inplace=False)\n",
              "          )\n",
              "          (output): BertSelfOutput(\n",
              "            (dense): Linear(in_features=768, out_features=768, bias=True)\n",
              "            (LayerNorm): LayerNorm((768,), eps=1e-12, elementwise_affine=True)\n",
              "            (dropout): Dropout(p=0.1, inplace=False)\n",
              "          )\n",
              "        )\n",
              "        (intermediate): BertIntermediate(\n",
              "          (dense): Linear(in_features=768, out_features=3072, bias=True)\n",
              "          (intermediate_act_fn): GELUActivation()\n",
              "        )\n",
              "        (output): BertOutput(\n",
              "          (dense): Linear(in_features=3072, out_features=768, bias=True)\n",
              "          (LayerNorm): LayerNorm((768,), eps=1e-12, elementwise_affine=True)\n",
              "          (dropout): Dropout(p=0.1, inplace=False)\n",
              "        )\n",
              "      )\n",
              "      (2): BertLayer(\n",
              "        (attention): BertAttention(\n",
              "          (self): BertSelfAttention(\n",
              "            (query): Linear(in_features=768, out_features=768, bias=True)\n",
              "            (key): Linear(in_features=768, out_features=768, bias=True)\n",
              "            (value): Linear(in_features=768, out_features=768, bias=True)\n",
              "            (dropout): Dropout(p=0.1, inplace=False)\n",
              "          )\n",
              "          (output): BertSelfOutput(\n",
              "            (dense): Linear(in_features=768, out_features=768, bias=True)\n",
              "            (LayerNorm): LayerNorm((768,), eps=1e-12, elementwise_affine=True)\n",
              "            (dropout): Dropout(p=0.1, inplace=False)\n",
              "          )\n",
              "        )\n",
              "        (intermediate): BertIntermediate(\n",
              "          (dense): Linear(in_features=768, out_features=3072, bias=True)\n",
              "          (intermediate_act_fn): GELUActivation()\n",
              "        )\n",
              "        (output): BertOutput(\n",
              "          (dense): Linear(in_features=3072, out_features=768, bias=True)\n",
              "          (LayerNorm): LayerNorm((768,), eps=1e-12, elementwise_affine=True)\n",
              "          (dropout): Dropout(p=0.1, inplace=False)\n",
              "        )\n",
              "      )\n",
              "      (3): BertLayer(\n",
              "        (attention): BertAttention(\n",
              "          (self): BertSelfAttention(\n",
              "            (query): Linear(in_features=768, out_features=768, bias=True)\n",
              "            (key): Linear(in_features=768, out_features=768, bias=True)\n",
              "            (value): Linear(in_features=768, out_features=768, bias=True)\n",
              "            (dropout): Dropout(p=0.1, inplace=False)\n",
              "          )\n",
              "          (output): BertSelfOutput(\n",
              "            (dense): Linear(in_features=768, out_features=768, bias=True)\n",
              "            (LayerNorm): LayerNorm((768,), eps=1e-12, elementwise_affine=True)\n",
              "            (dropout): Dropout(p=0.1, inplace=False)\n",
              "          )\n",
              "        )\n",
              "        (intermediate): BertIntermediate(\n",
              "          (dense): Linear(in_features=768, out_features=3072, bias=True)\n",
              "          (intermediate_act_fn): GELUActivation()\n",
              "        )\n",
              "        (output): BertOutput(\n",
              "          (dense): Linear(in_features=3072, out_features=768, bias=True)\n",
              "          (LayerNorm): LayerNorm((768,), eps=1e-12, elementwise_affine=True)\n",
              "          (dropout): Dropout(p=0.1, inplace=False)\n",
              "        )\n",
              "      )\n",
              "      (4): BertLayer(\n",
              "        (attention): BertAttention(\n",
              "          (self): BertSelfAttention(\n",
              "            (query): Linear(in_features=768, out_features=768, bias=True)\n",
              "            (key): Linear(in_features=768, out_features=768, bias=True)\n",
              "            (value): Linear(in_features=768, out_features=768, bias=True)\n",
              "            (dropout): Dropout(p=0.1, inplace=False)\n",
              "          )\n",
              "          (output): BertSelfOutput(\n",
              "            (dense): Linear(in_features=768, out_features=768, bias=True)\n",
              "            (LayerNorm): LayerNorm((768,), eps=1e-12, elementwise_affine=True)\n",
              "            (dropout): Dropout(p=0.1, inplace=False)\n",
              "          )\n",
              "        )\n",
              "        (intermediate): BertIntermediate(\n",
              "          (dense): Linear(in_features=768, out_features=3072, bias=True)\n",
              "          (intermediate_act_fn): GELUActivation()\n",
              "        )\n",
              "        (output): BertOutput(\n",
              "          (dense): Linear(in_features=3072, out_features=768, bias=True)\n",
              "          (LayerNorm): LayerNorm((768,), eps=1e-12, elementwise_affine=True)\n",
              "          (dropout): Dropout(p=0.1, inplace=False)\n",
              "        )\n",
              "      )\n",
              "      (5): BertLayer(\n",
              "        (attention): BertAttention(\n",
              "          (self): BertSelfAttention(\n",
              "            (query): Linear(in_features=768, out_features=768, bias=True)\n",
              "            (key): Linear(in_features=768, out_features=768, bias=True)\n",
              "            (value): Linear(in_features=768, out_features=768, bias=True)\n",
              "            (dropout): Dropout(p=0.1, inplace=False)\n",
              "          )\n",
              "          (output): BertSelfOutput(\n",
              "            (dense): Linear(in_features=768, out_features=768, bias=True)\n",
              "            (LayerNorm): LayerNorm((768,), eps=1e-12, elementwise_affine=True)\n",
              "            (dropout): Dropout(p=0.1, inplace=False)\n",
              "          )\n",
              "        )\n",
              "        (intermediate): BertIntermediate(\n",
              "          (dense): Linear(in_features=768, out_features=3072, bias=True)\n",
              "          (intermediate_act_fn): GELUActivation()\n",
              "        )\n",
              "        (output): BertOutput(\n",
              "          (dense): Linear(in_features=3072, out_features=768, bias=True)\n",
              "          (LayerNorm): LayerNorm((768,), eps=1e-12, elementwise_affine=True)\n",
              "          (dropout): Dropout(p=0.1, inplace=False)\n",
              "        )\n",
              "      )\n",
              "      (6): BertLayer(\n",
              "        (attention): BertAttention(\n",
              "          (self): BertSelfAttention(\n",
              "            (query): Linear(in_features=768, out_features=768, bias=True)\n",
              "            (key): Linear(in_features=768, out_features=768, bias=True)\n",
              "            (value): Linear(in_features=768, out_features=768, bias=True)\n",
              "            (dropout): Dropout(p=0.1, inplace=False)\n",
              "          )\n",
              "          (output): BertSelfOutput(\n",
              "            (dense): Linear(in_features=768, out_features=768, bias=True)\n",
              "            (LayerNorm): LayerNorm((768,), eps=1e-12, elementwise_affine=True)\n",
              "            (dropout): Dropout(p=0.1, inplace=False)\n",
              "          )\n",
              "        )\n",
              "        (intermediate): BertIntermediate(\n",
              "          (dense): Linear(in_features=768, out_features=3072, bias=True)\n",
              "          (intermediate_act_fn): GELUActivation()\n",
              "        )\n",
              "        (output): BertOutput(\n",
              "          (dense): Linear(in_features=3072, out_features=768, bias=True)\n",
              "          (LayerNorm): LayerNorm((768,), eps=1e-12, elementwise_affine=True)\n",
              "          (dropout): Dropout(p=0.1, inplace=False)\n",
              "        )\n",
              "      )\n",
              "      (7): BertLayer(\n",
              "        (attention): BertAttention(\n",
              "          (self): BertSelfAttention(\n",
              "            (query): Linear(in_features=768, out_features=768, bias=True)\n",
              "            (key): Linear(in_features=768, out_features=768, bias=True)\n",
              "            (value): Linear(in_features=768, out_features=768, bias=True)\n",
              "            (dropout): Dropout(p=0.1, inplace=False)\n",
              "          )\n",
              "          (output): BertSelfOutput(\n",
              "            (dense): Linear(in_features=768, out_features=768, bias=True)\n",
              "            (LayerNorm): LayerNorm((768,), eps=1e-12, elementwise_affine=True)\n",
              "            (dropout): Dropout(p=0.1, inplace=False)\n",
              "          )\n",
              "        )\n",
              "        (intermediate): BertIntermediate(\n",
              "          (dense): Linear(in_features=768, out_features=3072, bias=True)\n",
              "          (intermediate_act_fn): GELUActivation()\n",
              "        )\n",
              "        (output): BertOutput(\n",
              "          (dense): Linear(in_features=3072, out_features=768, bias=True)\n",
              "          (LayerNorm): LayerNorm((768,), eps=1e-12, elementwise_affine=True)\n",
              "          (dropout): Dropout(p=0.1, inplace=False)\n",
              "        )\n",
              "      )\n",
              "    )\n",
              "  )\n",
              "  (pooler): BertPooler(\n",
              "    (dense): Linear(in_features=768, out_features=768, bias=True)\n",
              "    (activation): Tanh()\n",
              "  )\n",
              ")"
            ]
          },
          "metadata": {},
          "execution_count": 22
        }
      ]
    },
    {
      "cell_type": "code",
      "source": [
        "input_train_df = train\n",
        "input_test_df = test\n",
        "label_cols = input_train_df.columns[2:]\n",
        "orig_train_df = copy.deepcopy(input_train_df)\n",
        "orig_train_df.head()\n",
        "     \n",
        "shuffle = np.random.permutation(np.arange(orig_train_df.shape[0]))\n",
        "orig_train_df = orig_train_df.iloc[shuffle]\n",
        "split=(0.8,0.1,0.1)\n",
        "splits = np.multiply(len(orig_train_df), split).astype(int)\n",
        "df_train, df_val, df_test = np.split(orig_train_df, [splits[0], splits[0] + splits[1]])\n",
        "\n",
        "X_train, X_val, X_test = df_train['full_text'], df_val['full_text'], df_test['full_text']\n",
        "y_train, y_val, y_test = np.array(df_train[label_cols]), np.array(df_val[label_cols]), np.array(df_test[label_cols])"
      ],
      "metadata": {
        "id": "QG6hNNysrmyU"
      },
      "execution_count": 23,
      "outputs": []
    },
    {
      "cell_type": "code",
      "source": [
        "def set_config_param(seed = 99):\n",
        "    np.random.seed(seed)\n",
        "    tf.random.set_seed(seed)\n",
        "    tf.keras.backend.clear_session()\n",
        "    os.environ['PYTHONHASHSEED'] = str(seed)\n",
        "    os.environ['KAGGLE_CONFIG_DIR'] = \"/content/gdrive/MyDrive/Kaggle\"\n",
        "    pd.set_option('display.max_columns', None)\n",
        "    pd.set_option('display.max_columns', None)\n",
        "    \n",
        "    \n",
        "# set_config_param(20230214)\n",
        "set_config_param()"
      ],
      "metadata": {
        "id": "j20twVVktlZY"
      },
      "execution_count": 24,
      "outputs": []
    },
    {
      "cell_type": "code",
      "source": [
        "MAX_LENGTH = 512\n",
        "epochs = 5\n",
        "batch_size = 8\n",
        "dropout = .1\n",
        "learning_rate = .00005\n",
        "number_of_hidden_layer = 1\n",
        "hidden_layer_node_count = 256\n",
        "trainable_flag = False\n",
        "retrain_layer_count = 0"
      ],
      "metadata": {
        "id": "k6dKVou5uMo5"
      },
      "execution_count": 25,
      "outputs": []
    },
    {
      "cell_type": "code",
      "source": [
        "def MCRMSE(y_true, y_pred):\n",
        "    colwise_mse = tf.reduce_mean(tf.square(y_true - y_pred), axis=1)\n",
        "    return tf.reduce_mean(tf.sqrt(colwise_mse), axis=-1, keepdims=True)\n",
        "\n",
        "def plot_loss_accuracy(history, col_list):\n",
        "    fig, ax = plt.subplots(2, 6, figsize=(16, 6), sharex='col', sharey='row')\n",
        "    fig.tight_layout(pad=5.0)\n",
        "    for idx, col in enumerate(col_list):\n",
        "\n",
        "        ax[0, idx].plot(history[col + '_loss'], lw=2, color='darkgoldenrod')\n",
        "        ax[0, idx].plot(history['val_' + col + '_loss'], lw=2, color='indianred')\n",
        "        #ax[0, idx].legend(loc='center left')\n",
        "        ax[0, idx].legend(['Train', 'Validation'], fontsize=5)\n",
        "        ax[0, idx].set_xlabel('Epochs', size=10)\n",
        "        ax[0, idx].set_title('Loss: ' + col)\n",
        "\n",
        "        ax[1, idx].plot(history[col + '_accuracy'], lw=2, color='darkgoldenrod')\n",
        "        ax[1, idx].plot(history['val_' + col + '_accuracy'], lw=2, color='indianred')\n",
        "        #ax[0, idx].legend(loc='center left')\n",
        "        ax[1, idx].legend(['Train', 'Validation'], fontsize=5)\n",
        "        ax[1, idx].set_xlabel('Epochs', size=10)\n",
        "        ax[1, idx].set_title('Accuracy: ' + col)\n",
        "\n",
        "def encode_text(text, tokenizer):\n",
        "    \n",
        "    encoded = tokenizer.batch_encode_plus(\n",
        "        text,\n",
        "        add_special_tokens=True,\n",
        "        max_length=MAX_LENGTH,\n",
        "        padding='max_length',\n",
        "        truncation=True,\n",
        "        return_attention_mask=True,\n",
        "        return_tensors=\"tf\",\n",
        "    )\n",
        "\n",
        "    input_ids = np.array(encoded[\"input_ids\"], dtype=\"int32\")\n",
        "    attention_masks = np.array(encoded[\"attention_mask\"], dtype=\"int32\")\n",
        "\n",
        "    return {\n",
        "        \"input_ids\": input_ids,\n",
        "        \"attention_masks\": attention_masks\n",
        "    }"
      ],
      "metadata": {
        "id": "DLosOxRss8B2"
      },
      "execution_count": 26,
      "outputs": []
    },
    {
      "cell_type": "code",
      "source": [
        "train_encodings = encode_text(df_train['full_text'].tolist(), retribert_tokenizer)\n",
        "val_encodings = encode_text(df_val['full_text'].tolist(), retribert_tokenizer)\n",
        "test_encodings = encode_text(df_test['full_text'].tolist(), retribert_tokenizer)"
      ],
      "metadata": {
        "id": "XKTyGEb7wRwo"
      },
      "execution_count": 27,
      "outputs": []
    },
    {
      "cell_type": "code",
      "source": [
        "# double check encodings and length=512"
      ],
      "metadata": {
        "id": "gwu_HuGqzvCG"
      },
      "execution_count": 28,
      "outputs": []
    },
    {
      "cell_type": "code",
      "source": [
        "#### from BERT TF\n",
        "# def create_retribert_classification_model(retribert_model,\n",
        "#                                           num_train_layers=0,\n",
        "#                                           hidden_size = 200,\n",
        "#                                           dropout=0.3,\n",
        "#                                           learning_rate=0.00005):\n",
        "#     \"\"\"\n",
        "#     Build a simple classification model with BERT. Use the CLS Output for classification purposes\n",
        "#     \"\"\"\n",
        "#     if num_train_layers == 0:\n",
        "#         # Freeze all layers of pre-trained BERT model\n",
        "#         retribert_model.trainable = False\n",
        "\n",
        "#     elif num_train_layers == 12: ##### NUMBER OF RETRIBERT MODELS. NEED TO UPDATE.\n",
        "#         # Train all layers of the BERT model\n",
        "#         retribert_model.trainable = True\n",
        "\n",
        "#     else:\n",
        "#         # Restrict training to the num_train_layers outer transformer layers\n",
        "#         retrain_layers = []\n",
        "\n",
        "#         for retrain_layer_number in range(num_train_layers):\n",
        "\n",
        "#             layer_code = '_' + str(11 - retrain_layer_number)\n",
        "#             retrain_layers.append(layer_code)\n",
        "          \n",
        "        \n",
        "#         print('retrain layers: ', retrain_layers)\n",
        "\n",
        "#         for w in retribert_model.weights:\n",
        "#             if not any([x in w.name for x in retrain_layers]):\n",
        "#                 #print('freezing: ', w)\n",
        "#                 w._trainable = False\n",
        "\n",
        "#     input_ids = tf.keras.layers.Input(shape=(MAX_LENGTH,), dtype=tf.int64, name='input_ids_layer')\n",
        "#     token_type_ids = tf.keras.layers.Input(shape=(MAX_LENGTH,), dtype=tf.int64, name='token_type_ids_layer')\n",
        "#     attention_mask = tf.keras.layers.Input(shape=(MAX_LENGTH,), dtype=tf.int64, name='attention_mask_layer')\n",
        "\n",
        "#     retribert_inputs = {'input_ids': input_ids,\n",
        "#                         'token_type_ids': token_type_ids,\n",
        "#                         'attention_mask': attention_mask}      \n",
        "\n",
        "#     retribert_out = retribert_model(retribert_inputs)\n",
        "\n",
        "#     cls_token = retribert_out[0][:, 0, :]\n",
        "\n",
        "#     hidden = tf.keras.layers.Dense(hidden_size, activation='relu', name='hidden_layer')(cls_token)\n",
        "\n",
        "\n",
        "#     hidden = tf.keras.layers.Dropout(dropout)(hidden)\n",
        "\n",
        "\n",
        "#     classification = tf.keras.layers.Dense(1, activation='sigmoid',name='classification_layer')(hidden)\n",
        "    \n",
        "#     classification_model = tf.keras.Model(inputs=[input_ids, token_type_ids, attention_mask], outputs=[classification])\n",
        "    \n",
        "#     classification_model.compile(optimizer=tf.keras.optimizers.Adam(learning_rate=learning_rate),\n",
        "#                                  loss=tf.keras.losses.BinaryCrossentropy(from_logits=False), \n",
        "#                                  metrics='accuracy')\n",
        "    \n",
        "#     return classification_model"
      ],
      "metadata": {
        "id": "Am8IcOsF0Y4s"
      },
      "execution_count": 29,
      "outputs": []
    },
    {
      "cell_type": "code",
      "source": [
        "# retribert_classification_model = create_retribert_classification_model(retribert_model, num_train_layers=0)\n",
        "# retribert_classification_model.summary()"
      ],
      "metadata": {
        "id": "Kiw3dT5U0rjI"
      },
      "execution_count": 30,
      "outputs": []
    },
    {
      "cell_type": "code",
      "source": [
        "# Import required libraries/code\n",
        "import torch\n",
        "import torchvision\n",
        "import numpy as np\n",
        "import matplotlib.pyplot as plt\n",
        "\n",
        "from torch import nn\n",
        "from torchvision import transforms, datasets\n",
        "\n",
        "# Try to get torchinfo, install it if it doesn't work\n",
        "try:\n",
        "    from torchinfo import summary\n",
        "except:\n",
        "    print(\"[INFO] Couldn't find torchinfo... installing it.\")\n",
        "    !pip install -q torchinfo\n",
        "    from torchinfo import summary\n",
        "\n",
        "# Try to import the going_modular directory, download it from GitHub if it doesn't work\n",
        "try:\n",
        "    from going_modular.going_modular import data_setup, engine\n",
        "except:\n",
        "    # Get the going_modular scripts\n",
        "    print(\"[INFO] Couldn't find going_modular scripts... downloading them from GitHub.\")\n",
        "    !git clone https://github.com/mrdbourke/pytorch-deep-learning\n",
        "    !mv pytorch-deep-learning/going_modular .\n",
        "    !rm -rf pytorch-deep-learning\n",
        "    from going_modular.going_modular import data_setup, engine\n",
        "     \n"
      ],
      "metadata": {
        "id": "eXEi1T5WBmpv"
      },
      "execution_count": 31,
      "outputs": []
    },
    {
      "cell_type": "code",
      "source": [
        "# from torch.utils.data import Dataset\n",
        "\n",
        "# class PandasDataset(Dataset):\n",
        "#     def __init__(self, dataframe):\n",
        "#         self.dataframe = dataframe\n",
        "\n",
        "#     def __len__(self):\n",
        "#         return len(self.dataframe)\n",
        "\n",
        "#     def __getitem__(self, index):\n",
        "#         return self.dataframe.iloc[index]\n",
        "\n",
        "# from torch.utils.data import DataLoader\n",
        "# from sklearn.model_selection import train_test_split\n",
        "# train, test = train_test_split(orig_train_df, test_size=0.2, random_state=0)\n",
        "# train_dataset = PandasDataset(train)\n",
        "# test_dataset = PandasDataset(test)\n",
        "# train_dataloader = torch.utils.data.DataLoader(train_dataset, batch_size=16)\n",
        "# test_dataloader = torch.utils.data.DataLoader(test_dataset, batch_size=16)\n",
        "\n",
        "# train_dataloader = torch.utils.data.DataLoader(X_train, batch_size=64, shuffle=True)\n",
        "# test_dataloader = torch.utils.data.DataLoader(X_test, batch_size=64, shuffle=True)"
      ],
      "metadata": {
        "id": "6_CpwOxtEIQ0"
      },
      "execution_count": 32,
      "outputs": []
    },
    {
      "cell_type": "code",
      "source": [
        "# Set the manual seeds\n",
        "torch.manual_seed(42)\n",
        "torch.cuda.manual_seed(42)\n",
        "class_names = [1.0,1.5,2.0,2.5,3.0,3.5,4.0,4.5,5.0]\n",
        "# Get the length of class_names (one output unit for each class)\n",
        "output_shape = len(class_names)\n",
        "\n",
        "device = \"cuda\" if torch.cuda.is_available() else \"cpu\"\n",
        "device\n",
        "\n",
        "# Recreate the classifier layer and seed it to the target device\n",
        "retribert_model.classifier = torch.nn.Sequential(\n",
        "    torch.nn.Dropout(p=0.2, inplace=True), \n",
        "    torch.nn.Linear(in_features=1280, \n",
        "                    out_features=output_shape, # same number of output units as our number of classes\n",
        "                    bias=True)).to(device)\n",
        "\n",
        "\n",
        "# Freeze all base layers in the \"features\" section of the model (the feature extractor) by setting requires_grad=False\n",
        "for param in retribert_model.parameters():\n",
        "    param.requires_grad = False\n",
        "\n",
        "# with torch.no_grad():\n",
        "\n",
        "# Define loss and optimizer\n",
        "loss_fn = nn.CrossEntropyLoss()\n",
        "optimizer = torch.optim.Adam(retribert_model.parameters(), lr=0.001)\n",
        "\n",
        "# retribert_model_results = engine.train(model=retribert_model,\n",
        "#                                        train_dataloader=train_dataloader,\n",
        "#                                        test_dataloader=test_dataloader,\n",
        "#                                        optimizer=optimizer,\n",
        "#                                        loss_fn=loss_fn,\n",
        "#                                        epochs=5,\n",
        "#                                        device=device)"
      ],
      "metadata": {
        "id": "um1mFaPz7shm"
      },
      "execution_count": 34,
      "outputs": []
    },
    {
      "cell_type": "code",
      "source": [
        "import tqdm"
      ],
      "metadata": {
        "id": "SsQiinBXmpPV"
      },
      "execution_count": 35,
      "outputs": []
    },
    {
      "cell_type": "code",
      "source": [
        "train_encodings"
      ],
      "metadata": {
        "colab": {
          "base_uri": "https://localhost:8080/"
        },
        "id": "d9TCblE5n5Ht",
        "outputId": "a8eae1d5-1013-4578-e655-4cf07e33d513"
      },
      "execution_count": 36,
      "outputs": [
        {
          "output_type": "execute_result",
          "data": {
            "text/plain": [
              "{'input_ids': array([[ 101, 2493, 2323, ...,    0,    0,    0],\n",
              "        [ 101, 5674, 1037, ..., 2020, 2183,  102],\n",
              "        [ 101, 2035, 3633, ...,    0,    0,    0],\n",
              "        ...,\n",
              "        [ 101, 2031, 2017, ..., 2037, 2155,  102],\n",
              "        [ 101, 2045, 2024, ...,    0,    0,    0],\n",
              "        [ 101, 9454, 2003, ..., 1996, 2154,  102]], dtype=int32),\n",
              " 'attention_masks': array([[1, 1, 1, ..., 0, 0, 0],\n",
              "        [1, 1, 1, ..., 1, 1, 1],\n",
              "        [1, 1, 1, ..., 0, 0, 0],\n",
              "        ...,\n",
              "        [1, 1, 1, ..., 1, 1, 1],\n",
              "        [1, 1, 1, ..., 0, 0, 0],\n",
              "        [1, 1, 1, ..., 1, 1, 1]], dtype=int32)}"
            ]
          },
          "metadata": {},
          "execution_count": 36
        }
      ]
    },
    {
      "cell_type": "code",
      "source": [
        "## copy of code above\n",
        "X_train, X_val, X_test = df_train['full_text'], df_val['full_text'], df_test['full_text']\n",
        "y_train, y_val, y_test = np.array(df_train[label_cols]), np.array(df_val[label_cols]), np.array(df_test[label_cols])\n",
        "\n",
        "#### from\n",
        "# https://stackoverflow.com/questions/55369821/how-to-train-a-neural-network-model-with-bert-embeddings-instead-of-static-embed\n",
        "retribert_tokenizer = transformers.BertTokenizer.from_pretrained(retribert_model_checkpoints)\n",
        "# retribert_tokenizer = transformers.AutoTokenizer.from_pretrained(retribert_model_checkpoints, use_fast=False, normalization = True)\n",
        "\n",
        "X_train = [retribert_tokenizer.tokenize('[CLS] ' + sent + ' [SEP]') for sent in X_train] \n",
        "X_train_tokens = [retribert_tokenizer.convert_tokens_to_ids(sent) for sent in X_train]\n",
        "# # X_train[0]\n",
        "# # X_train_tokens[0]\n",
        "X_test = [retribert_tokenizer.tokenize('[CLS] ' + sent + ' [SEP]') for sent in X_test] \n",
        "X_test_tokens = [retribert_tokenizer.convert_tokens_to_ids(sent) for sent in X_test]"
      ],
      "metadata": {
        "id": "O710Kp2ClQpP"
      },
      "execution_count": 37,
      "outputs": []
    },
    {
      "cell_type": "code",
      "source": [
        "### anothing thing\n",
        "### https://stackoverflow.com/questions/68115993/input-ids-torch-tensorinput-ids-valueerror-expected-sequence-of-length-133\n",
        "input_ids = []\n",
        "attention_masks = []\n",
        "# print(flaubert)\n",
        "for sent in X_train:\n",
        "    encoded_sent = retribert_tokenizer.encode_plus(sent, add_special_tokens=True, truncation=True, padding=True, return_attention_mask=True, return_tensors='pt', max_length=510)\n",
        "\n",
        "    # Add the outputs to the lists\n",
        "    # input_ids.append(encoded_sent.get('input_ids'))\n",
        "    # attention_masks.append(encoded_sent.get('attention_mask'))\n",
        "\n",
        "    # Convert lists to tensors\n",
        "\n",
        "# input_ids = torch.as_tensor(input_ids)\n",
        "# attention_masks = torch.as_tensor(attention_masks)\n",
        "\n",
        "hidden_state = retribert_model(input_ids=encoded_sent[\"input_ids\"].to(\"cuda\"), attention_mask=encoded_sent[\"attention_mask\"].to(\"cuda\"))\n",
        "hidden_state\n",
        "# # # Extract the last hidden state of the token `[CLS]` for classification task\n",
        "last_hidden_state_cls = hidden_state[0][:, 0, :]"
      ],
      "metadata": {
        "id": "RlP4F2WSXDLd"
      },
      "execution_count": 38,
      "outputs": []
    },
    {
      "cell_type": "code",
      "source": [
        "# results = torch.zeros((len(X_test_tokens), retri_cuda.config.hidden_size)).long()\n",
        "# results[0]\n",
        "# with torch.no_grad():\n",
        "#     for stidx in range(0, len(X_test_tokens), batch_size):\n",
        "#         X = X_test_tokens[stidx:stidx + batch_size]\n",
        "#         X = torch.LongTensor(X).cuda()\n",
        "#         embed, pooled_output = retri_cuda(X)\n",
        "#         results[stidx:stidx + batch_size,:] = embed.cpu()\n",
        "# torch.LongTensor(X)\n",
        "\n",
        "#### from https://machinelearningmastery.com/building-a-regression-model-in-pytorch/\n",
        "# X_train_torch = torch.tensor(X_train_tokens, dtype=torch.float32)\n",
        "# y_train_torch = torch.tensor(y_train, dtype=torch.float32).reshape(-1, 1)\n",
        "# X_test_torch = torch.tensor(X_test, dtype=torch.float32)\n",
        "# y_test_torch = torch.tensor(y_test, dtype=torch.float32).reshape(-1, 1)\n",
        " \n",
        "# # training parameters\n",
        "# n_epochs = 5   # number of epochs to run\n",
        "# batch_size = 8  # size of each batch\n",
        "# batch_start = torch.arange(0, len(X_train), batch_size)\n",
        " \n",
        "# # Hold the best model\n",
        "# best_mse = np.inf   # init to infinity\n",
        "# best_weights = None\n",
        "# history = []\n",
        " \n",
        "# # training loop\n",
        "# for epoch in range(n_epochs):\n",
        "#     retribert_model.train()\n",
        "#     with tqdm.tqdm(batch_start, unit=\"batch\", mininterval=0, disable=True) as bar:\n",
        "#         bar.set_description(f\"Epoch {epoch}\")\n",
        "#         for start in bar:\n",
        "#             # take a batch\n",
        "#             X_batch = X_train[start:start+batch_size]\n",
        "#             y_batch = y_train[start:start+batch_size]\n",
        "#             # forward pass\n",
        "#             y_pred = retribert_model(X_batch)\n",
        "#             loss = loss_fn(y_pred, y_batch)\n",
        "#             # backward pass\n",
        "#             optimizer.zero_grad()\n",
        "#             loss.backward()\n",
        "#             # update weights\n",
        "#             optimizer.step()\n",
        "#             # print progress\n",
        "#             bar.set_postfix(mse=float(loss))\n",
        "#     # evaluate accuracy at end of each epoch\n",
        "#     retribert_model.eval()\n",
        "#     y_pred = retribert_model(X_test)\n",
        "#     mse = loss_fn(y_pred, y_test)\n",
        "#     mse = float(mse)\n",
        "#     history.append(mse)\n",
        "#     if mse < best_mse:\n",
        "#         best_mse = mse\n",
        "#         best_weights = copy.deepcopy(retribert_model.state_dict())\n",
        " \n",
        "# # restore model and return best accuracy\n",
        "# retribert_model.load_state_dict(best_weights)"
      ],
      "metadata": {
        "id": "thhTWuFiV1VN"
      },
      "execution_count": 39,
      "outputs": []
    }
  ]
}