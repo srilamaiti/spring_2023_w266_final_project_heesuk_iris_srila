{
  "nbformat": 4,
  "nbformat_minor": 0,
  "metadata": {
    "colab": {
      "provenance": [],
      "authorship_tag": "ABX9TyOY4nlXScrxRxXQFKyHlW99",
      "include_colab_link": true
    },
    "kernelspec": {
      "name": "python3",
      "display_name": "Python 3"
    },
    "language_info": {
      "name": "python"
    }
  },
  "cells": [
    {
      "cell_type": "markdown",
      "metadata": {
        "id": "view-in-github",
        "colab_type": "text"
      },
      "source": [
        "<a href=\"https://colab.research.google.com/github/srilamaiti/spring_2023_w266_final_project_heesuk_iris_srila/blob/main/srila/concat_model.ipynb\" target=\"_parent\"><img src=\"https://colab.research.google.com/assets/colab-badge.svg\" alt=\"Open In Colab\"/></a>"
      ]
    },
    {
      "cell_type": "code",
      "execution_count": null,
      "metadata": {
        "id": "tmpLzls3LrxY",
        "outputId": "5a4c8d8b-7cbc-4194-97b1-ac6749bfa82b",
        "colab": {
          "base_uri": "https://localhost:8080/"
        }
      },
      "outputs": [
        {
          "output_type": "stream",
          "name": "stdout",
          "text": [
            "Looking in indexes: https://pypi.org/simple, https://us-python.pkg.dev/colab-wheels/public/simple/\n",
            "Collecting transformers\n",
            "  Downloading transformers-4.27.4-py3-none-any.whl (6.8 MB)\n",
            "\u001b[2K     \u001b[90m━━━━━━━━━━━━━━━━━━━━━━━━━━━━━━━━━━━━━━━━\u001b[0m \u001b[32m6.8/6.8 MB\u001b[0m \u001b[31m55.6 MB/s\u001b[0m eta \u001b[36m0:00:00\u001b[0m\n",
            "\u001b[?25h"
          ]
        }
      ],
      "source": [
        "!pip install transformers"
      ]
    },
    {
      "cell_type": "code",
      "source": [
        "import pandas as pd\n",
        "import numpy as np\n",
        "import pprint\n",
        "import matplotlib.pyplot as plt\n",
        "import seaborn as sns\n",
        "import copy\n",
        "import tensorflow as tf\n",
        "import os\n",
        "import re\n",
        "import copy\n",
        "\n",
        "import math\n",
        "from typing import Optional\n",
        "import transformers\n",
        "\n",
        "\n",
        "import torch\n",
        "import torch.utils.checkpoint as checkpoint\n",
        "from torch import nn\n",
        "import torch.nn.functional as F\n",
        "from torch.utils.data import Dataset, DataLoader\n",
        "from transformers import AutoModel, AutoTokenizer, AdamW, DataCollatorWithPadding\n",
        "from tensorflow.keras.layers import GlobalAveragePooling1D\n",
        "\n",
        "import pickle\n",
        "import re\n",
        "from transformers import TrainingArguments, AutoConfig, AutoModelForTokenClassification, DataCollatorForTokenClassification"
      ],
      "metadata": {
        "id": "DG9G0v8iLx9e"
      },
      "execution_count": null,
      "outputs": []
    },
    {
      "cell_type": "code",
      "source": [
        "df = pd.read_csv('train.csv')\n",
        "df['full_text'] = df[\"full_text\"].replace(re.compile(r'[\\n\\r\\t]'), ' ', regex = True)\n",
        "\n",
        "label_cols = df.columns[2:]\n",
        "pred_col_list = ['transformed_pred_' + col for col in label_cols]\n",
        "\n",
        "split = (0.8, 0.2)\n",
        "splits = np.multiply(len(orig_df), split).astype(int)\n",
        "df_train, df_test = orig_df[ : splits[0]], orig_df[splits[0] : ]\n",
        "y_test = np.array(df_test[label_cols], dtype = \"float32\")\n",
        "\n",
        "orig_df = copy.deepcopy(df)\n",
        "orig_df.head()"
      ],
      "metadata": {
        "colab": {
          "base_uri": "https://localhost:8080/",
          "height": 206
        },
        "id": "UHyJ_Z2oOrTV",
        "outputId": "ce9cfd55-837f-449a-ebf1-b090205e9a5c"
      },
      "execution_count": null,
      "outputs": [
        {
          "output_type": "execute_result",
          "data": {
            "text/plain": [
              "        text_id                                          full_text  cohesion  \\\n",
              "0  0016926B079C  I think that students would benefit from learn...       3.5   \n",
              "1  0022683E9EA5  When a problem is a change you have to let it ...       2.5   \n",
              "2  00299B378633  Dear, Principal  If u change the school policy...       3.0   \n",
              "3  003885A45F42  The best time in life is when you become yours...       4.5   \n",
              "4  0049B1DF5CCC  Small act of kindness can impact in other peop...       2.5   \n",
              "\n",
              "   syntax  vocabulary  phraseology  grammar  conventions  \n",
              "0     3.5         3.0          3.0      4.0          3.0  \n",
              "1     2.5         3.0          2.0      2.0          2.5  \n",
              "2     3.5         3.0          3.0      3.0          2.5  \n",
              "3     4.5         4.5          4.5      4.0          5.0  \n",
              "4     3.0         3.0          3.0      2.5          2.5  "
            ],
            "text/html": [
              "\n",
              "  <div id=\"df-06bed3ea-34e4-43b9-ba9b-022d9636b40a\">\n",
              "    <div class=\"colab-df-container\">\n",
              "      <div>\n",
              "<style scoped>\n",
              "    .dataframe tbody tr th:only-of-type {\n",
              "        vertical-align: middle;\n",
              "    }\n",
              "\n",
              "    .dataframe tbody tr th {\n",
              "        vertical-align: top;\n",
              "    }\n",
              "\n",
              "    .dataframe thead th {\n",
              "        text-align: right;\n",
              "    }\n",
              "</style>\n",
              "<table border=\"1\" class=\"dataframe\">\n",
              "  <thead>\n",
              "    <tr style=\"text-align: right;\">\n",
              "      <th></th>\n",
              "      <th>text_id</th>\n",
              "      <th>full_text</th>\n",
              "      <th>cohesion</th>\n",
              "      <th>syntax</th>\n",
              "      <th>vocabulary</th>\n",
              "      <th>phraseology</th>\n",
              "      <th>grammar</th>\n",
              "      <th>conventions</th>\n",
              "    </tr>\n",
              "  </thead>\n",
              "  <tbody>\n",
              "    <tr>\n",
              "      <th>0</th>\n",
              "      <td>0016926B079C</td>\n",
              "      <td>I think that students would benefit from learn...</td>\n",
              "      <td>3.5</td>\n",
              "      <td>3.5</td>\n",
              "      <td>3.0</td>\n",
              "      <td>3.0</td>\n",
              "      <td>4.0</td>\n",
              "      <td>3.0</td>\n",
              "    </tr>\n",
              "    <tr>\n",
              "      <th>1</th>\n",
              "      <td>0022683E9EA5</td>\n",
              "      <td>When a problem is a change you have to let it ...</td>\n",
              "      <td>2.5</td>\n",
              "      <td>2.5</td>\n",
              "      <td>3.0</td>\n",
              "      <td>2.0</td>\n",
              "      <td>2.0</td>\n",
              "      <td>2.5</td>\n",
              "    </tr>\n",
              "    <tr>\n",
              "      <th>2</th>\n",
              "      <td>00299B378633</td>\n",
              "      <td>Dear, Principal  If u change the school policy...</td>\n",
              "      <td>3.0</td>\n",
              "      <td>3.5</td>\n",
              "      <td>3.0</td>\n",
              "      <td>3.0</td>\n",
              "      <td>3.0</td>\n",
              "      <td>2.5</td>\n",
              "    </tr>\n",
              "    <tr>\n",
              "      <th>3</th>\n",
              "      <td>003885A45F42</td>\n",
              "      <td>The best time in life is when you become yours...</td>\n",
              "      <td>4.5</td>\n",
              "      <td>4.5</td>\n",
              "      <td>4.5</td>\n",
              "      <td>4.5</td>\n",
              "      <td>4.0</td>\n",
              "      <td>5.0</td>\n",
              "    </tr>\n",
              "    <tr>\n",
              "      <th>4</th>\n",
              "      <td>0049B1DF5CCC</td>\n",
              "      <td>Small act of kindness can impact in other peop...</td>\n",
              "      <td>2.5</td>\n",
              "      <td>3.0</td>\n",
              "      <td>3.0</td>\n",
              "      <td>3.0</td>\n",
              "      <td>2.5</td>\n",
              "      <td>2.5</td>\n",
              "    </tr>\n",
              "  </tbody>\n",
              "</table>\n",
              "</div>\n",
              "      <button class=\"colab-df-convert\" onclick=\"convertToInteractive('df-06bed3ea-34e4-43b9-ba9b-022d9636b40a')\"\n",
              "              title=\"Convert this dataframe to an interactive table.\"\n",
              "              style=\"display:none;\">\n",
              "        \n",
              "  <svg xmlns=\"http://www.w3.org/2000/svg\" height=\"24px\"viewBox=\"0 0 24 24\"\n",
              "       width=\"24px\">\n",
              "    <path d=\"M0 0h24v24H0V0z\" fill=\"none\"/>\n",
              "    <path d=\"M18.56 5.44l.94 2.06.94-2.06 2.06-.94-2.06-.94-.94-2.06-.94 2.06-2.06.94zm-11 1L8.5 8.5l.94-2.06 2.06-.94-2.06-.94L8.5 2.5l-.94 2.06-2.06.94zm10 10l.94 2.06.94-2.06 2.06-.94-2.06-.94-.94-2.06-.94 2.06-2.06.94z\"/><path d=\"M17.41 7.96l-1.37-1.37c-.4-.4-.92-.59-1.43-.59-.52 0-1.04.2-1.43.59L10.3 9.45l-7.72 7.72c-.78.78-.78 2.05 0 2.83L4 21.41c.39.39.9.59 1.41.59.51 0 1.02-.2 1.41-.59l7.78-7.78 2.81-2.81c.8-.78.8-2.07 0-2.86zM5.41 20L4 18.59l7.72-7.72 1.47 1.35L5.41 20z\"/>\n",
              "  </svg>\n",
              "      </button>\n",
              "      \n",
              "  <style>\n",
              "    .colab-df-container {\n",
              "      display:flex;\n",
              "      flex-wrap:wrap;\n",
              "      gap: 12px;\n",
              "    }\n",
              "\n",
              "    .colab-df-convert {\n",
              "      background-color: #E8F0FE;\n",
              "      border: none;\n",
              "      border-radius: 50%;\n",
              "      cursor: pointer;\n",
              "      display: none;\n",
              "      fill: #1967D2;\n",
              "      height: 32px;\n",
              "      padding: 0 0 0 0;\n",
              "      width: 32px;\n",
              "    }\n",
              "\n",
              "    .colab-df-convert:hover {\n",
              "      background-color: #E2EBFA;\n",
              "      box-shadow: 0px 1px 2px rgba(60, 64, 67, 0.3), 0px 1px 3px 1px rgba(60, 64, 67, 0.15);\n",
              "      fill: #174EA6;\n",
              "    }\n",
              "\n",
              "    [theme=dark] .colab-df-convert {\n",
              "      background-color: #3B4455;\n",
              "      fill: #D2E3FC;\n",
              "    }\n",
              "\n",
              "    [theme=dark] .colab-df-convert:hover {\n",
              "      background-color: #434B5C;\n",
              "      box-shadow: 0px 1px 3px 1px rgba(0, 0, 0, 0.15);\n",
              "      filter: drop-shadow(0px 1px 2px rgba(0, 0, 0, 0.3));\n",
              "      fill: #FFFFFF;\n",
              "    }\n",
              "  </style>\n",
              "\n",
              "      <script>\n",
              "        const buttonEl =\n",
              "          document.querySelector('#df-06bed3ea-34e4-43b9-ba9b-022d9636b40a button.colab-df-convert');\n",
              "        buttonEl.style.display =\n",
              "          google.colab.kernel.accessAllowed ? 'block' : 'none';\n",
              "\n",
              "        async function convertToInteractive(key) {\n",
              "          const element = document.querySelector('#df-06bed3ea-34e4-43b9-ba9b-022d9636b40a');\n",
              "          const dataTable =\n",
              "            await google.colab.kernel.invokeFunction('convertToInteractive',\n",
              "                                                     [key], {});\n",
              "          if (!dataTable) return;\n",
              "\n",
              "          const docLinkHtml = 'Like what you see? Visit the ' +\n",
              "            '<a target=\"_blank\" href=https://colab.research.google.com/notebooks/data_table.ipynb>data table notebook</a>'\n",
              "            + ' to learn more about interactive tables.';\n",
              "          element.innerHTML = '';\n",
              "          dataTable['output_type'] = 'display_data';\n",
              "          await google.colab.output.renderOutput(dataTable, element);\n",
              "          const docLink = document.createElement('div');\n",
              "          docLink.innerHTML = docLinkHtml;\n",
              "          element.appendChild(docLink);\n",
              "        }\n",
              "      </script>\n",
              "    </div>\n",
              "  </div>\n",
              "  "
            ]
          },
          "metadata": {},
          "execution_count": 6
        }
      ]
    },
    {
      "cell_type": "code",
      "source": [
        "MAX_LEN = 128\n",
        "\n",
        "learning_rate = 1e-5\n",
        "dropout = .1\n",
        "epochs = 1\n",
        "batch_size = 4"
      ],
      "metadata": {
        "id": "1rU1aHWfPGLX"
      },
      "execution_count": null,
      "outputs": []
    },
    {
      "cell_type": "code",
      "source": [
        "def MCRMSE(y_true, y_pred):\n",
        "    colwise_mse = tf.reduce_mean(tf.square(y_true - y_pred), axis = 1)\n",
        "    return tf.reduce_mean(tf.sqrt(colwise_mse), axis = -1, keepdims = True)"
      ],
      "metadata": {
        "id": "EQ9mxhhRPHgS"
      },
      "execution_count": null,
      "outputs": []
    },
    {
      "cell_type": "code",
      "source": [
        "from transformers import RobertaTokenizer, TFRobertaModel\n",
        "from transformers import TFBertModel, BertTokenizer\n",
        "from transformers import TFAutoModel, AutoModel, AutoTokenizer\n",
        "\n",
        "ROBERTA_MODEL_CHKPT = \"roberta-base\"\n",
        "BERT_MODEL_CHKPT = \"bert-base-cased\"\n",
        "BERTWEET_MODEL_CHKPT = \"vinai/bertweet-base\"\n",
        "\n",
        "bert_model = TFBertModel.from_pretrained(BERT_MODEL_CHKPT)  \n",
        "bert_tokenizer = BertTokenizer.from_pretrained(BERT_MODEL_CHKPT)\n",
        "\n",
        "#roberta_model = TFBertModel.from_pretrained(ROBERTA_MODEL_CHKPT)  \n",
        "#roberta_tokenizer = RobertaTokenizer.from_pretrained(ROBERTA_MODEL_CHKPT)\n",
        "\n",
        "bertweet_model = TFAutoModel.from_pretrained(BERTWEET_MODEL_CHKPT)\n",
        "bertweet_tokenizer = AutoTokenizer.from_pretrained(BERTWEET_MODEL_CHKPT)\n",
        "\n",
        "bert_input_ids = tf.keras.Input(shape = (MAX_LEN ,), dtype = 'int64', name = 'bert_input_ids')\n",
        "bert_attention_masks = tf.keras.Input(shape = (MAX_LEN ,), dtype = 'int64', name = 'bert_attention_masks')\n",
        "\n",
        "#roberta_input_ids = tf.keras.Input(shape = (MAX_LEN ,), dtype = 'int64', name = 'roberta_input_ids')\n",
        "#roberta_attention_masks = tf.keras.Input(shape = (MAX_LEN ,), dtype = 'int64', name = 'roberta_attention_masks')\n",
        "\n",
        "bertweet_input_ids = tf.keras.Input(shape = (MAX_LEN ,), dtype = 'int64', name = 'bertweet_input_ids')\n",
        "bertweet_attention_masks = tf.keras.Input(shape = (MAX_LEN ,), dtype = 'int64', name = 'bertweet_attention_masks')\n",
        "\n",
        "pretrained_bert_transformer = bert_model([bert_input_ids, bert_attention_masks])\n",
        "#pretrained_roberta_transformer = roberta_model([roberta_input_ids, roberta_attention_masks])\n",
        "pretrained_bertweet_transformer = bertweet_model([bertweet_input_ids, bertweet_attention_masks])\n",
        "\n",
        "cls_token_bert = pretrained_bert_transformer[0][:, 0, :]\n",
        "#cls_token_roberta = pretrained_roberta_transformer[0][:, 0, :]\n",
        "cls_token_bertweet = pretrained_bertweet_transformer[0][:, 0, :]\n",
        "\n",
        "cls_token_concatenated = tf.concat([cls_token_bert, \n",
        "                                    #cls_token_roberta, \n",
        "                                    cls_token_bertweet\n",
        "                                   ], \n",
        "                                   0\n",
        "                                  )\n",
        "\n",
        "output = tf.keras.layers.Dense(6)(cls_token_concatenated)\n",
        "concat_model = tf.keras.models.Model(inputs = [bert_input_ids, bert_attention_masks, \n",
        "                                               #roberta_input_ids, roberta_attention_masks, \n",
        "                                               bertweet_input_ids, bertweet_attention_masks,], outputs = output)\n",
        "concat_model.compile(tf.keras.optimizers.Adam(learning_rate), loss = MCRMSE, metrics = MCRMSE)\n",
        "\n",
        "tf.keras.utils.plot_model(concat_model, \n",
        "                              #to_file='model_structure.png', \n",
        "                              #show_shapes = True,\n",
        "                              show_layer_names = True)"
      ],
      "metadata": {
        "colab": {
          "base_uri": "https://localhost:8080/",
          "height": 679
        },
        "id": "deJqWzrKO-x7",
        "outputId": "07230505-9ddd-4958-f350-daef431c1cae"
      },
      "execution_count": null,
      "outputs": [
        {
          "output_type": "stream",
          "name": "stderr",
          "text": [
            "Some layers from the model checkpoint at bert-base-cased were not used when initializing TFBertModel: ['nsp___cls', 'mlm___cls']\n",
            "- This IS expected if you are initializing TFBertModel from the checkpoint of a model trained on another task or with another architecture (e.g. initializing a BertForSequenceClassification model from a BertForPreTraining model).\n",
            "- This IS NOT expected if you are initializing TFBertModel from the checkpoint of a model that you expect to be exactly identical (initializing a BertForSequenceClassification model from a BertForSequenceClassification model).\n",
            "All the layers of TFBertModel were initialized from the model checkpoint at bert-base-cased.\n",
            "If your task is similar to the task the model of the checkpoint was trained on, you can already use TFBertModel for predictions without further training.\n",
            "Some layers from the model checkpoint at vinai/bertweet-base were not used when initializing TFRobertaModel: ['lm_head']\n",
            "- This IS expected if you are initializing TFRobertaModel from the checkpoint of a model trained on another task or with another architecture (e.g. initializing a BertForSequenceClassification model from a BertForPreTraining model).\n",
            "- This IS NOT expected if you are initializing TFRobertaModel from the checkpoint of a model that you expect to be exactly identical (initializing a BertForSequenceClassification model from a BertForSequenceClassification model).\n",
            "All the layers of TFRobertaModel were initialized from the model checkpoint at vinai/bertweet-base.\n",
            "If your task is similar to the task the model of the checkpoint was trained on, you can already use TFRobertaModel for predictions without further training.\n",
            "emoji is not installed, thus not converting emoticons or emojis into text. Install emoji: pip3 install emoji==0.6.0\n",
            "Special tokens have been added in the vocabulary, make sure the associated word embeddings are fine-tuned or trained.\n"
          ]
        },
        {
          "output_type": "execute_result",
          "data": {
            "image/png": "[encoded data removed]",
            "text/plain": [
              "<IPython.core.display.Image object>"
            ]
          },
          "metadata": {},
          "execution_count": 12
        }
      ]
    },
    {
      "cell_type": "code",
      "source": [
        "def text_encode(texts, tokenizer_list, max_len):\n",
        "    \n",
        "    bert_input_ids = []\n",
        "    bert_attention_masks = []\n",
        "\n",
        "    bertweet_input_ids = []\n",
        "    bertweet_attention_masks = []\n",
        "\n",
        "    bert_tokenizer = tokenizer_list[0]\n",
        "    bertweet_tokenizer = tokenizer_list[1]\n",
        "\n",
        "    for text in texts:\n",
        "        bert_tokens = bert_tokenizer.batch_encode_plus(text,\n",
        "                                                  padding='max_length',\n",
        "                                                  max_length=max_len, \n",
        "                                                  add_special_tokens = True,\n",
        "                                                  return_attention_mask=True,\n",
        "                                                  return_tensors=\"tf\",\n",
        "                                                  truncation=True)\n",
        "        bert_input_ids.append(bert_tokens['input_ids'])\n",
        "        bert_attention_masks.append(bert_tokens['attention_mask'])\n",
        "\n",
        "        bertweet_tokens = bertweet_tokenizer.batch_encode_plus(text,\n",
        "                                                  padding='max_length',\n",
        "                                                  max_length=max_len, \n",
        "                                                  add_special_tokens = True,\n",
        "                                                  return_attention_mask=True,\n",
        "                                                  return_tensors=\"tf\",\n",
        "                                                  truncation=True)\n",
        "        bertweet_input_ids.append(bertweet_tokens['input_ids'])\n",
        "        bertweet_attention_masks.append(bertweet_tokens['attention_mask'])\n",
        "\n",
        "    print(len(bert_input_ids), len(bertweet_input_ids), len(bert_attention_masks), len(bertweet_attention_masks))\n",
        "    return [bert_input_ids, bert_attention_masks, bertweet_input_ids, bertweet_attention_masks]\n"
      ],
      "metadata": {
        "id": "ll7EryqTOrWL"
      },
      "execution_count": null,
      "outputs": []
    },
    {
      "cell_type": "code",
      "source": [
        "class EssayDataGeneratorFromFile(tf.keras.utils.Sequence):\n",
        "    \n",
        "    def __init__(self,\n",
        "                 tokenizer_list,\n",
        "                 df,\n",
        "                 max_len,\n",
        "                 batch_size=8,\n",
        "                 shuffle=True):\n",
        "        \n",
        "        self.tokenizer_list = tokenizer_list\n",
        "        self.bert_tokenizer = self.tokenizer_list[0]\n",
        "        self.bertweet_tokenizer = self.tokenizer_list[1]\n",
        "        self.df = df\n",
        "        self.n_examples = len(df)\n",
        "        self.batch_size = batch_size\n",
        "        self.shuffle = shuffle\n",
        "        self.max_len = max_len\n",
        "        \n",
        "        # Initialize row order, call on_epoch_end to shuffle row indices\n",
        "        self.row_order = np.arange(1, self.n_examples+1)\n",
        "        self.on_epoch_end()\n",
        "    \n",
        "    def __len__(self):\n",
        "        # Return the number of batches in the full dataset\n",
        "        return (np.ceil(len(self.df) / float(self.batch_size))).astype(np.int)\n",
        "    \n",
        "    def __getitem__(self, idx):\n",
        "        batch_x = self.df[idx * self.batch_size : (idx+1) * self.batch_size]['full_text'].values.astype(str).tolist()\n",
        "        batch_y = self.df[idx * self.batch_size : (idx+1) * self.batch_size][label_cols].values\n",
        "        print(batch_x)\n",
        "        #full_text = batch_x[['full_text']].values.astype(str).tolist()\n",
        "        #labels = batch_y[label_cols].values\n",
        "        \n",
        "        batch_encoded_data = text_encode(\n",
        "            batch_x,\n",
        "            self.tokenizer_list,\n",
        "            self.max_len\n",
        "        )\n",
        "        print(batch_y)\n",
        "        return batch_encoded_data, batch_y\n",
        "    \n",
        "    def on_epoch_end(self):\n",
        "        if self.shuffle:\n",
        "            self.row_order = list(np.random.permutation(self.row_order))\n",
        "\n",
        "train_data_generator = EssayDataGeneratorFromFile([bert_tokenizer,bertweet_tokenizer],df_train, 128)"
      ],
      "metadata": {
        "id": "zmh1ePMkOrZR"
      },
      "execution_count": 45,
      "outputs": []
    },
    {
      "cell_type": "code",
      "source": [
        "!mkdir model_checkpoints"
      ],
      "metadata": {
        "id": "YEg-C-SJZz4B"
      },
      "execution_count": null,
      "outputs": []
    },
    {
      "cell_type": "code",
      "source": [
        "checkpoint_dir = '/content/model_checkpoints/'\n",
        "checkpoint_filepath = checkpoint_dir + 'weights.{epoch:02d}-{val_accuracy:.2f}.hdf5'\n",
        "model_checkpoint_callback = tf.keras.callbacks.ModelCheckpoint(\n",
        "    filepath=checkpoint_filepath,\n",
        "    save_weights_only=True)"
      ],
      "metadata": {
        "id": "jDvRApnGOrfS"
      },
      "execution_count": null,
      "outputs": []
    },
    {
      "cell_type": "code",
      "source": [
        "hist = concat_model.fit(train_data_generator[0], train_data_generator[1], epochs=5,\n",
        "                        steps_per_epoch = int(df_train.shape[0] // batch_size),\n",
        "          callbacks=[model_checkpoint_callback])"
      ],
      "metadata": {
        "id": "b5uOJqBLLyAC",
        "colab": {
          "base_uri": "https://localhost:8080/",
          "height": 800
        },
        "outputId": "69f3e1e0-a470-4a3a-8313-61753d4fd073"
      },
      "execution_count": 46,
      "outputs": [
        {
          "output_type": "stream",
          "name": "stdout",
          "text": [
            "[\"I think that students would benefit from learning at home,because they wont have to change and get up early in the morning to shower and do there hair. taking only classes helps them because at there house they'll be pay more attention. they will be comfortable at home.  The hardest part of school is getting ready. you wake up go brush your teeth and go to your closet and look at your cloths. after you think you picked a outfit u go look in the mirror and youll either not like it or you look and see a stain. Then you'll have to change. with the online classes you can wear anything and stay home and you wont need to stress about what to wear.  most students usually take showers before school. they either take it before they sleep or when they wake up. some students do both to smell good. that causes them do miss the bus and effects on there lesson time cause they come late to school. when u have online classes u wont need to miss lessons cause you can get everything set up and go take a shower and when u get out your ready to go.  when your home your comfortable and you pay attention. it gives then an advantage to be smarter and even pass there classmates on class work. public schools are difficult even if you try. some teacher dont know how to teach it in then way that students understand it. that causes students to fail and they may repeat the class.              \", \"When a problem is a change you have to let it do the best on you no matter what is happening it can change your mind. sometimes you need to wake up and look what is around you because problems are the best way to change what you want to change along time ago. A  problem is a change for you because it can make you see different and help you to understand how tings wok.  First of all it can make you see different then the others. For example i remember that when i came to the United States i think that nothing was going to change me because i think that nothing was going to change me because everything was different that my country and then i realist that wrong because a problem may change you but sometimes can not change the way it is, but i remember that i was really shy but i think that change a lot because sometimes my problems make me think that there is more thing that i never see in my life but i just need to see it from a different way and dont let nothing happened and ruing the change that i want to make because of just a problem. For example i think that nothing was going to change me and that i dont need to be shy anymore became i need to start seeing everything in a different ways because you can get mad at every one but you need to know what is going to happened after,  people may see you different but the only way that you know how to change is to do the best and don't let nothing or not body to change nothing about you. The way you want to change not one have that and can't do nothing about it because is your choice and your problems and you can decide what to do with it.  second of all can help you to understand how things work. For instance my mom have a lot of problems but she have faith when she is around people, my mom is scare of high and i'm not scare of high i did not understand why my mos is scare of high and in not scare of high and every time i see my mom in a airplane it make me laugh because she is scare and is funny, but i see it from a different way and i like the high but also she have to understand that hoe things work in other people because it can no be the same as you. For example i think that my mom and me are different because we are and i have to understand that she does not like high and i need to understand that. to help someone to understand how things work you need to start to see how things work in that persons life.  A problem is a change for you and can make you a different and help you to understand. Everyone has a different opinion and a different was to understand then others. everyone can see the different opinion and what other people think.\", \"Dear, Principal  If u change the school policy of having a grade b average that unfair. Because many students have a C average. So that means that they cant go out for sports or other activities they want to do bad. That's like taking everything they have. What if kids want to become good at something, but now they cant because of that school policy. If they have a C average they should still be able to go out for sports or activities. A C average isn't that bad, its higher then a D average. If the school police was if you have a D average of lower they shouldn't do sports or activities. If they have a D average in school for not working hard, that's means that they in ain't going to try hard. If they have a C average and there trying hard they should be able to out for sports or activities. What if all the good people in sports have a C average in school, that means that they cant play and were going to lose every game we have. That's a good policy to get grade's up but don't take away something they care about. Everyone should be able to go out for sports if they want to. If the school policy happens, schools going to be boarding now, because now students cant go out for sports or other activities. The students that are doing good in school should feel good about themselves but we shouldn't take the other students away from the others ones. If we do this policy student will try to raised their grade but if they cant what happens they them. Should they just be out of it and think that schools boarding. If they do this its like taking away their video games. All I'm saying is that they have the right to go out for sports or activities.\", 'The best time in life is when you become yourself. I agree that the greatest accomplishment, is when you be yourself in a world that constantly trying to make you something else. Because you make your own choices, you become more happy, and you respect others.  First, you make your own choices by being yourself. Becoming yourself means that you should be able to make your own choices and not be shy or afraid of what you\\'re doing. Because you\\'re defining yourself by doing those things that you want. Some people follow others, therefore, they don\\'t make their own choices. People are afraid to make their own choice because they don\\'t want to get rejected or be wrong. In this world, most of the teenagers act and follow the people who are strong and bullies. The reason they follow them and make the same choices they make, is because they\\'re afraid that they will get beaten up and be left out. Personally when I came to the United States I used to follow other, because I thought they were amazing. But one day, I knew I was walking in the wrong path and I left them. Making your own choices makes you happy because you get to do what you like and what you want to do. It\\'s hard to make your own choices, but one day you\\'re going to have to make your own choices. The more you mature the more it will become easier for you to not be afraid of what you\\'re doing and how other people are looking at it, because at the end of the day It\\'s your life and you do what you think is right.  Second, You become more happy by being yourself because you make your own choices, You take responsibilities and you do whatever makes you happy. Also, some people act like they\\'re happy while not being themselves, but matter of fact, they\\'re depressed from the inside. Being yourself makes you more happy because you feel like you achieved something big. Also, Some religious kids who become themselves love everyone. In the bible it says \"Those who know God should love others, because God is love.\"  Not being yourself will get you depressed because you don\\'t do everything you want to do, but you do what others wanna do because you want to fit in. Some kids who come from a different country will do stuff they don\\'t want to do just to fit in, because they don\\'t want to be lonely. Some people are afraid they won\\'t be happy because they would lose a lot of friends for being themselves, but they have to know that those people should be there for them and support them for what he\\'s doing since it\\'s his friends.  Lastly, Respecting others will gain them to respect you. Some teenagers like to make fun of others, not listen to what they have to say, and they like to beat kids up. Also some kids don\\'t like to not listen to their parents, and that is also disrespectful. The bible says \" Honor your father and mother.\"  If you respect your parents and listen to them, then they would trust you and not ask you lots of questions. Respecting other should be really important, because you don\\'t want others to not respect you. Also, Some people are disrespectful because they were never respected. Important things to do to be respectful is, Listen to what the other person has to say, Stand up for them, Being friends with them Doing all of that will gain you respect and you would have good friends. Also, if you see someone bullying a kid don\\'t watch, and stand up for them, don\\'t be afraid to stand up for someone because you\\'re doing the right thing.  Some may disagree with me and say that it\\'s not that big of a deal, and it doesn\\'t feel like a big accomplishment. But with all do respect, I agree that it\\'s a big accomplishment because nowadays it\\'s really hard to become yourself.  In conclusion, It\\'s hard to become yourself in this world, because others are holding that opportunity back from you and you\\'re afraid to fight it back. That\\'s why I agree that to be yourself in a world that is constantly trying to make you something else is the greatest accomplishment. ', 'Small act of kindness can impact in other people can change people to become better persons you can have an impact of kindess with a homeles that can change his life or with some who needed they are going to know you are a nice person if you are a nice person everywhere you go people is going to like your personality so you have to be a nice person with others like a old women triying to cross the road thats a impact of kindness when you do that you feel a greate person you can change people in the way they think by helping others treating nice other people give them some advice when you see someone need it help someone older then you give food and new clothes to a homeless person is a big act of kindess maybe you wount change his life but you would change one day of his life when you do thoose stuffs you feel emotional.  Another example of an act of kindess is when you help your friends to study for a test or explain them or when they need money you give some money is an act of kindess because you are helping your friend.  Another example is not trowing trash on the floor if you put the trash where belong that is an act of kindess because benefits the earth and the people.                                                                                                                                      ', \"Dear Principal,    Our school should have a community center. The reasons why, are so students can learn what our community needs, how to make our community better place, and why is community important for students to know. Its a great to have a community center to know how we can make things better.    Students think community center takes their time away. but they have to learn what our community needs. students will participate in a group of students making a list what our community needs, therefore students will learn what our community needs! students will present their list of things our community needs! due to that students will be giving extra credit for the ones who have low grades!    Some students don't participate because their friends say its waste of time. it would not be waste of time when you get to know how our community can be a better place for us. students should know that the program is about our own lives, because if our community is bad well our lives are going to be bad. due to that students will want to participate and will want to make our community a better place for us.    some student might say why is the community important anyways, were fine nothing is wrong. but when get to know what our community is, they would want to know about and would want to participate and know why is our community important. students will receive a good grade if they participate in this community because is like an extra credit. due to that their friends would want to enjoy the program because their friend told them about it.    so principal the community center will be a great place for students to learn lots of things. so i guess this will be a good idea for our school. students will learn what our community needs, how to make our community a better place, and why is our community important!    Sincerely, STUDENT_NAME\", 'Imagine if you could prove other people that you are a good problem solver. Imagine that a problem is a good chance to do your best because youre a good problem solver, and you can learn something from that problem. I think that problems are a good chance to show people that youre good at something, and that they can seek your help if they need to. I agree that a problem is a good chance to do your best because you can learn from that problem, and prove yourself that you can do it.  You can learn from your problems, and that it enhances your skills. Learning from your problems can help enhance your techniques for problem solving. Learning from your problems can help you on other problems you might have on future occasions. Getting good at problem solving can lead you to helping other is they need the help from or they dont really know what to do. When you are good at problem solving and you seek to get better problem solving becomes easy for you because you have been doing it for a long time.  Proving yourself and others that you can be a good problem solver is an accomplishment. Being better at problem solving really comes in handy when youre trying to solve a problem or trying to figure something out. Proving yourself and other that you can be a good problem solver is an accomplishment. Whenever you help other people with a hard questions you feel accomplish because it was a hard question and you understood it while helping someone. Problem solving makes you smarter and you have to less work since you know what do and how to work out a hard problem.  I agree that a problem is a good chance to do your best and learn from problems that you struggled on the past to use the steps that you took to solve that problem and apply it to other problems that might come in the future. Learning from your problems can make you have better techniques, apply the steps that you took to solve problems, help other if they need it, and it makes work easy. Proving yourself that you can be a a good problem solver makes you be a good proving solver, prove that you can do any problem with out any help, and you can feel accomplished about it. Proving solving can make help you learn from problems and apply that to other problems and you can prove yourself and other that you are a good problem solver. ', \"I think it's a good idea for the estudnets to commit to a career at a young age. In addiction, the students are expected to identify a career they want and use the best for them. So the students can study in higt school and select to guide them to career in specific they want.  Fisrt, In high school all the students have diffents dream on the world. Some students dream to be a Doctor, arctecture, teacher, and nurse, ect. Is a good oportunity to have a good education and a make a good person and helpfull. Then, the students can have a better life and good jobs.  Sometimes the students in young age estared to think about what carrer is better for them. Others think what career is usefull to make a good money and have a better class social. But all the students think diferent the others and we have to respet they decicion about they future.  secondly, In my opinion is is good to think or dream in biger. In my potition my family do not have all lot of money to go to the university and pay for it. For example, some of my friends are a good Doctor and arquicteture, but the thing is when they want to be a good person a get better futures on their lifes. Usually, when we think about it , but is so dificul to do it.  Thirt, students in the school have special classes to go with a career. all the people have the oportunity to think about, which want to study and where they go too. But some students cann't go to study the career they want ,because some of them have to work and pay bill in their hause. usually some of them have everything in the house and the only thing they have to do is study and make sure they work to complite all of the school and can go to study that set.  In conclution,  is a good idea to know what you want to study in young age. Also to be responsable all the things and have a great time of the life to think what is make you happy when you grew up. One day a want to be doctor of the animals. that will be make me happy.                          \"]\n",
            "8 8 8 8\n",
            "[[3.5 3.5 3.  3.  4.  3. ]\n",
            " [2.5 2.5 3.  2.  2.  2.5]\n",
            " [3.  3.5 3.  3.  3.  2.5]\n",
            " [4.5 4.5 4.5 4.5 4.  5. ]\n",
            " [2.5 3.  3.  3.  2.5 2.5]\n",
            " [3.5 4.  4.  3.5 3.5 4. ]\n",
            " [3.5 4.  3.5 3.5 4.  4. ]\n",
            " [2.5 2.5 2.5 2.5 2.5 2. ]]\n",
            "[\"positive attitude is the key to success. I agree because you can do anything as long as you put your mind and soul into it and motivation you can accomplish it. Then so by doing it you feel good about yourself you'll feel unstable. But do what brings the best in you, what makes you yourself.  One way that importance of attitude is key to success is it motivates you to keep going forward. For example when you come across some difficulties you wont feel discouraged because your the limit and none other then you can or will change it. But the more discouraged you tend to feel at that moment you would wanna overcome it even if it makes whatever just as long as your mind is set to positive attitude you will accomplish it. Then so always remember what you put your mind to such as determination, positive attitude, willing you can its possible you will reach your goals. However you will with a positive mindset have a strong determination and you will build up self confidence in yourself.  Then another reason is to grow individually with hard work. Positive attitude isen't quite the easiest for some people its really difficult for others to learn how to or even if they are willing to. But others tend to not always have positive attitude in anything they're just negative and havent tried to give their all they are stuck upon what others think. Then about what really is,you just have to not listen to what anyone thinks and focus on what you can accomplish because if you dont you will let them reflect on you but you dont want that for yourself. Then there's always going to be that one negative person to try to bring you down its up to you if you let it effect you. Just ignore them if you dont you will bet it affect you and you dont wanna fall back just because of others. With that being said in order to move forward you have to go though things individually but thats were you find yourself again and makes you stronger then before what your weaknesses were there not anymore because when facing things individually you blossom to a beatifull flower with of course hard work and it isen't in vane because hard work ends up having a good result for positive attitude.  Next reason is to build selfcondifence. When having a positive mindset and most impotently willing we then build selfcondience our mind is a battlefield and we control it and its not about the selfcondicence its more about determination ourselves to it like we can or we will do it. After that its all depending on us weather we want to or not. Then after that the more we practice being positive in our battle fild the more selfcondidence we will have.  So then i hardly agree on positive attitude can guide you to succeed in life its all about three things determination willing and believing with those in mind you can tell all the negitive thoughts to go flying out the window because it has no door to let it in anymore. I truly incuage you to try it out if you want to see a big improvement to succeed in your life. Thank you for hearing me weather I agreed or disagreed,looking to hear back from you soon.\", 'Asking more than one person for and advice help you take a strong choice? seeking for multiple opinions can help someone make a better choice. Example presidential election,requires someone opinion and choosing a restaurant to eat at and place to visit. Theres good and bad opinion but pick one or two or more but choose one the help you make a great decision.  First many us citizen are required to vote. Many of them would have different opinion about who is the best candidates. Positive and negative opinions would be circulating about the candidates but you can ask more than person what they think about the candidates there be interesting opinion and some not so interesting think about what the many opinion you hear and think about the one the got you thinking the most.  on the other hand lots of people love going out to eat. Many people try new places to eat at some may hear good or bad opinion about a place but until you try it you can\\'t tell your self is great or bad. Sometimes Google lets you see other people opinion the other people leaved about a certain place. to be honest my dad does this sometimes he goes online and search is up the place and then looks at the rate the place have and the comment as a result of the deadly corovirus (Covid-19) lots of people have decide not to travel. But theres certain people that just love to travel many of the occasion people travel to a place because they hear good thing about a place. for example thats how me and my family hear of Lego land my aunt tell my dad that this place was so amazing me and my family we have been a big fan o Lego and we really dint know this place existed.  finally sometimes people have positive and negative opinion about something or someone but is you job to find out the one the makes you fell like \"this is the one\" many people there own believed thats why you may hear different opinion. Have you ever ask for more than one opinions? i actually have that was went i was\\'t sure which suit to put in a red or black suit so ask my mom dad ans sister they tell me the best suit was the black one.    ', \"Do you think its a good idea for students to commit to a career at a young age? In some societies, students are expected to identity a career by the time they enter high school. Yes it is a good idea to start young because your already step ahead, you will have background knowledge about the career classes you choose and once you get older you won't have time to choose an career. Also taking courses in high school will help you choose your career like for an example academy classes.  As a students taking a career course, will help them learn more about that career and you will have background knowledge about that career. for an example I'm taking auto technology in highschol becuase I want to learn more about cars and how to fix them. after high school I will be going to a community college so I can learn an advance auto technology class and move on and thats I'm going to succeed in life.  Another reason why its a good idea for students to commit to a career at young age is becuase it will help students choose a good career that pays good money and the students will be a one step ahead. by doing this they will accomplish their goals.  others may say that its not a good idea for students to commit a career at a young age becuase they think its waste of time however, its not waste of their time, becuase once your getting older you wont have time to choose an career that will last.  In conclusion, I think its a good a idea for students to commit to a career at a young age becuase you will have some background knowledge to that specific career, you will be one step ahead, and once you get older you won't have time to choose a career.                                                                                                                                                      \", \"A positive attitude is the key to success for so many people because when you have a positive mind everything can be possible and you know that you are capable of what you put your mind into. To encourage others to have a more positive way of thinking about their life can bring them success. People should have a positive attitude because it brings new opportunities, a healthier and happy life, and success.  People with good personalities attracts successful people and thats the reason why they get too many opportunities from others. New opportunities are not easy to find and once we get them we need to use them wisely and do something productive with them. Its extraordinary impressive how much benefits a person can have if they put effort with being positive every time they can towards others.  A healthier and happy life comes ahead once you add just positive vibes in your life. This doesn't mean you are not going to have problems in your life but the way you response to it is the main point. People can go through a lot of problems and can still make like nothing happen to them. The negativity that others brings shouldn't affect people even thought they might get hurt; what you should care the most is to be in peace with yourselves.  Success is important for everyone, people should make smart choices and learn from others to become professionals themselves in the future. You need to focus on yourselves first and be smart but at the same time treat others with kindness and respect to gain respect from them either. Sometimes life its going to get hard but it will be worth it hard work always pay off with good results although success doesn't seem easy.  In conclusion people will success if they have a positive attitude towards others because they will get more new opportunities. They will attract more successful people into their lives that will give them support , help and dedicate their time to give advice. The positive people always have a better happy and healthier life because they don't let the negative comments affects them or their progress. To become successful you should be consistent every day and work for what you want. Focus on yourself and realize that the importance of your attitude plays a big roll in your life the more positive you are is going to be the more positive opportunities to your future.\", \"Technology allows people to do many things such as order things online, play games, and contact other people in a faster way, and if your family members live far away they be able to contact them.  I belive that it has a positive effect because everybody needs to stay in contact with there family that lives far away, and be able to order online is a real help because if people oder there grocerys online thenthey want have to wait in the long lines at the store to checkout intead of waiting they can also get more items that the store dont have the food or items people.  Others may aruge that techbology is a negative out come because lots of people let it take over there lives and act like they cant go anywhere without it and lots of people try to be on there technology when there driving which is a bad thing to do because they will end up getting into a accident. And if the older generations won't know how to use the technology.  In conclusion, having technology is a postive thing because it helps lots of people out and it makes getting thngs done way faster. \", 'Philosopher, physician, and humanitarian Albert Schweitzer once said \" Example is not the main thing in influencing others; it is the only thing\". I strongly agree, imagine you being the reason why a person decided to make a remarkable change in there life just by following your footsteps, imagine how that would make you feel. Setting a good example everyday is one of the most important things you can do in life; you dont know who is watching you, and you dont know who is getting an impact from your good ways. People watch others every move and learn new and better things as time goes so they can also turn out to influence others. Consider yourself as a leader being able to influence people is a leadership movement, everyone needs someone to help them and guide them through things they may not tell you, but they\\'ll watch your examples and learn.  Many may think that there are better ways unlike setting an example by your behavior is the best way to influence others; but little do they know that setting an example by your behavior is the best way to influence others. Setting good examples is helpful in so many ways however; there are other ways to influence others. People get influenced on anything these days, just sitting around and watching TV can influence you to do something. But think about it would you rather have someone set examples for you, and have someone you can watch to motivate you and guide you; or would you rather sit around and procrastinate on time?. As the influencer having people look up to you and following the way you move is a big deal. For example when surgical interns first go to a hospital to work they look up to their head surgeons. The head surgeons set examples for the interns because they want them to be successful, the intern watching the head surgeon during operations and check ups influences and motivates them to do better and be better. Even for school students thats how they all learn from examples the teachers show them, it influences the students to try so they can also be good at what their teaching is teaching them.  Some people may prefer to get influenced in another way because they may not want someone by them step by step they may be more independent and like to be on there own. Having good behavior benefits you in a lot of ways, you will get a lot of opportunities, help and inspire a lot of people and gain a lot. For example parents have a good influence on there kids. They are the reason why there kids wake up and try every day, seeing your parents have a good and positive behavior will motivate and influence you to do better. As you go on with good behavior people will see you and begin to know that there is something your doing to be happy. You will have people come around you because of your vibe and good energy. Once they start talking to you you automatically begin to influence them to be a better person. Knowing that you are a motivator and an influence onto others is a good feeling. You will know that your good work and good behavior has a good effect strong enough to influence others in the best way possible.  Overall setting a good example by your behavior is the best way to influence others, they learn better, feel comfortable and get to experience a lot. Having someone look up to you as a good influence will help you both because it will make you both feel great and you both will benefit from it in the long run. We have people around us for a reason, if you have someone that is willing to help you and influence you to be better in life take the chance because it will be a great experience and you will change as a person once you get influenced in the right way by the right people in life.', \"Have you ever solved a math problem in less than 30 seconds? Math is important to many people. Even president Trump uses math to buy food or pay back to important people. He might be paying people to find a cure for the Coronavirus. However did you know that we use math every single day in our life?  How do people use math every single day you may ask. When you go to the super market to buy food, the register has to add all the food that you bought and they even have to add taxes. How about when you go shopping in the mall with some friends. When some is looking for a job they even have to find out how much is the salary. When your parents pay water bills and taxes, they have to pay the perfect amount of money. If your doing a party you have to find how much money your wasting. In your school you have to use math in mostly all your subject. In science you have find out how much of a mass is in a cup of water then subtract it from the cup to find the mass of water. For history the president has to find out about expensive's and the taxes that each citizens is paying. If you have a hobby or have talents to do an activity you even use math. In theater arts you have to measure and subtract where the lights are hitting and you have to find the perfect angel. In baking you have to add your ingredients and weight it to find it's mass.  When you cook don't tell me you just put random stuff in your pot. You have to find the perfect amount to feed the people you are feeding. In soccer you have to find the angle you are going to kick the soccer ball. Basketball is the same, you have to see from which angel you are going to throw the ball to make a point for your team. Here are some school activity's that you use math in your school.  Science  History  Art  Theater Art  Sports  Cooking Class  Home  After school programs  However several kid's don't like math but they could try it in a fun way. Many children complain about math being to hard or just being boring. I have found a way to make it exciting for kids. They could be playing games or just pretending to buy stuff, like doing a little play that won't cost money. If a student likes painting give them a coloring book that has math in it. Dancing and music is the same thing like coloring. In music you can count how many strings a violin has and compare it to another instrument that is in the violin family. You can watch a funny video that is related to math, you can watch it in your home or in school. Go on a field trip that will be free or that won't cost that much money.  If a student is struggling in math help or show them a way to do it. A kid's classmates or friend could help them in math. They can use math websites like racing cars for boys and coloring games for girls. If they are still struggling then ask there parents if they can stay or to get them a tutor after school. Find them a easier and understandable way to teach them math. The child's teacher can even play fun games with her students like Kahoot,Quizlet live, or even Pear Deck. You can give out prizes like candy or sticker's, that will probably get them more exciting.  Many scientist say that math is helpful to your brain and makes it healthy for you and your brain. You will acknowledge many ways to solve several math problems from years to years until you graduate from collage or high school. The reason why I choose to do my lesson about math is that I want kids to be independent and to get responsible when they grow up to be adults. \", \"When, the people decide to have a good posture, in they live of thing was be better. Even though some people have a negative attitude in their live, all the thing was bad and not want doing noting for fair to make mistakes,nevertheless people has a good attitude always, have a good attitude see the live of the other way,for example when give you a so bad news but you take a good posture and said is okay everything was good,and take a good attitude in the school.  If the people will have a good posture in all position of their live, not have so much preocupation they was be more happy. when you have a big text in the school although,  you never can pass this text but you have a positive attitude, of one you console will call you, and said you pass the text. This is important because the people believe in will pass and when they pass was feel so good, because they this text was so hart, but never to surrender.  when one person go to the hospital and the doctor said to catch an illness, instead of think in all the negative thing like i never been the same person, i will been died, they take a decision of okay is a little illness, will pass end some days, my lives will be a little different, but everything will be good.  See the live in a positive way is think the all thing are possible, always don't care the big was the problem be happy, watch the most terror situation like the best wait possible and don't be worry for all the thing that happen in your like be the most happy you can and see the most bigger problem like the most little \"]\n",
            "8 8 8 8\n",
            "[[3.  3.  3.5 3.5 3.  3. ]\n",
            " [3.  3.  3.5 2.5 3.  2.5]\n",
            " [3.  3.5 3.5 3.5 3.5 3. ]\n",
            " [3.5 3.  4.  3.5 3.  3. ]\n",
            " [3.5 2.5 3.5 3.  3.  3. ]\n",
            " [3.5 3.  3.5 3.5 3.5 4. ]\n",
            " [4.  3.5 3.  4.  3.5 4. ]\n",
            " [2.  2.  2.  2.  2.  2. ]]\n"
          ]
        },
        {
          "output_type": "error",
          "ename": "ValueError",
          "evalue": "ignored",
          "traceback": [
            "\u001b[0;31m---------------------------------------------------------------------------\u001b[0m",
            "\u001b[0;31mValueError\u001b[0m                                Traceback (most recent call last)",
            "\u001b[0;32m<ipython-input-46-e164b9effc74>\u001b[0m in \u001b[0;36m<cell line: 1>\u001b[0;34m()\u001b[0m\n\u001b[0;32m----> 1\u001b[0;31m hist = concat_model.fit(train_data_generator[0], train_data_generator[1], epochs=5,\n\u001b[0m\u001b[1;32m      2\u001b[0m                         \u001b[0msteps_per_epoch\u001b[0m \u001b[0;34m=\u001b[0m \u001b[0mint\u001b[0m\u001b[0;34m(\u001b[0m\u001b[0mdf_train\u001b[0m\u001b[0;34m.\u001b[0m\u001b[0mshape\u001b[0m\u001b[0;34m[\u001b[0m\u001b[0;36m0\u001b[0m\u001b[0;34m]\u001b[0m \u001b[0;34m//\u001b[0m \u001b[0mbatch_size\u001b[0m\u001b[0;34m)\u001b[0m\u001b[0;34m,\u001b[0m\u001b[0;34m\u001b[0m\u001b[0;34m\u001b[0m\u001b[0m\n\u001b[1;32m      3\u001b[0m           callbacks=[model_checkpoint_callback])\n",
            "\u001b[0;32m/usr/local/lib/python3.9/dist-packages/keras/utils/traceback_utils.py\u001b[0m in \u001b[0;36merror_handler\u001b[0;34m(*args, **kwargs)\u001b[0m\n\u001b[1;32m     68\u001b[0m             \u001b[0;31m# To get the full stack trace, call:\u001b[0m\u001b[0;34m\u001b[0m\u001b[0;34m\u001b[0m\u001b[0m\n\u001b[1;32m     69\u001b[0m             \u001b[0;31m# `tf.debugging.disable_traceback_filtering()`\u001b[0m\u001b[0;34m\u001b[0m\u001b[0;34m\u001b[0m\u001b[0m\n\u001b[0;32m---> 70\u001b[0;31m             \u001b[0;32mraise\u001b[0m \u001b[0me\u001b[0m\u001b[0;34m.\u001b[0m\u001b[0mwith_traceback\u001b[0m\u001b[0;34m(\u001b[0m\u001b[0mfiltered_tb\u001b[0m\u001b[0;34m)\u001b[0m \u001b[0;32mfrom\u001b[0m \u001b[0;32mNone\u001b[0m\u001b[0;34m\u001b[0m\u001b[0;34m\u001b[0m\u001b[0m\n\u001b[0m\u001b[1;32m     71\u001b[0m         \u001b[0;32mfinally\u001b[0m\u001b[0;34m:\u001b[0m\u001b[0;34m\u001b[0m\u001b[0;34m\u001b[0m\u001b[0m\n\u001b[1;32m     72\u001b[0m             \u001b[0;32mdel\u001b[0m \u001b[0mfiltered_tb\u001b[0m\u001b[0;34m\u001b[0m\u001b[0;34m\u001b[0m\u001b[0m\n",
            "\u001b[0;32m/usr/local/lib/python3.9/dist-packages/keras/engine/data_adapter.py\u001b[0m in \u001b[0;36m_check_data_cardinality\u001b[0;34m(data)\u001b[0m\n\u001b[1;32m   1850\u001b[0m             )\n\u001b[1;32m   1851\u001b[0m         \u001b[0mmsg\u001b[0m \u001b[0;34m+=\u001b[0m \u001b[0;34m\"Make sure all arrays contain the same number of samples.\"\u001b[0m\u001b[0;34m\u001b[0m\u001b[0;34m\u001b[0m\u001b[0m\n\u001b[0;32m-> 1852\u001b[0;31m         \u001b[0;32mraise\u001b[0m \u001b[0mValueError\u001b[0m\u001b[0;34m(\u001b[0m\u001b[0mmsg\u001b[0m\u001b[0;34m)\u001b[0m\u001b[0;34m\u001b[0m\u001b[0;34m\u001b[0m\u001b[0m\n\u001b[0m\u001b[1;32m   1853\u001b[0m \u001b[0;34m\u001b[0m\u001b[0m\n\u001b[1;32m   1854\u001b[0m \u001b[0;34m\u001b[0m\u001b[0m\n",
            "\u001b[0;31mValueError\u001b[0m: Data cardinality is ambiguous:\n  x sizes: 1387, 2635, 1663, 3973, 1326, 1858, 2317, 1990, 1387, 2635, 1663, 3973, 1326, 1858, 2317, 1990, 1387, 2635, 1663, 3973, 1326, 1858, 2317, 1990, 1387, 2635, 1663, 3973, 1326, 1858, 2317, 1990, 8\n  y sizes: 3100, 2098, 1807, 2353, 1075, 3710, 3507, 1558, 3100, 2098, 1807, 2353, 1075, 3710, 3507, 1558, 3100, 2098, 1807, 2353, 1075, 3710, 3507, 1558, 3100, 2098, 1807, 2353, 1075, 3710, 3507, 1558, 8\nMake sure all arrays contain the same number of samples."
          ]
        }
      ]
    },
    {
      "cell_type": "code",
      "source": [
        "hist"
      ],
      "metadata": {
        "id": "ecQNrYNwLyCp"
      },
      "execution_count": null,
      "outputs": []
    },
    {
      "cell_type": "code",
      "source": [],
      "metadata": {
        "id": "2gRxR-qULyFm"
      },
      "execution_count": null,
      "outputs": []
    },
    {
      "cell_type": "code",
      "source": [],
      "metadata": {
        "id": "eYCTcKs6LyIZ"
      },
      "execution_count": null,
      "outputs": []
    },
    {
      "cell_type": "code",
      "source": [],
      "metadata": {
        "id": "40T_P35aLyLh"
      },
      "execution_count": null,
      "outputs": []
    },
    {
      "cell_type": "code",
      "source": [],
      "metadata": {
        "id": "lyY32TkmLyOf"
      },
      "execution_count": null,
      "outputs": []
    },
    {
      "cell_type": "code",
      "source": [],
      "metadata": {
        "id": "nlQAd2RcLyRP"
      },
      "execution_count": null,
      "outputs": []
    },
    {
      "cell_type": "code",
      "source": [],
      "metadata": {
        "id": "JnpvjZmoLyUY"
      },
      "execution_count": null,
      "outputs": []
    },
    {
      "cell_type": "code",
      "source": [],
      "metadata": {
        "id": "WlzYXeLfLyXg"
      },
      "execution_count": null,
      "outputs": []
    },
    {
      "cell_type": "code",
      "source": [],
      "metadata": {
        "id": "i38o74CmLybJ"
      },
      "execution_count": null,
      "outputs": []
    },
    {
      "cell_type": "code",
      "source": [],
      "metadata": {
        "id": "022xQwJdLydw"
      },
      "execution_count": null,
      "outputs": []
    },
    {
      "cell_type": "code",
      "source": [],
      "metadata": {
        "id": "6hGWRHYALyhI"
      },
      "execution_count": null,
      "outputs": []
    },
    {
      "cell_type": "code",
      "source": [],
      "metadata": {
        "id": "ZhJDrLrXLykx"
      },
      "execution_count": null,
      "outputs": []
    },
    {
      "cell_type": "code",
      "source": [],
      "metadata": {
        "id": "N6-7wZXyLyoJ"
      },
      "execution_count": null,
      "outputs": []
    }
  ]
}